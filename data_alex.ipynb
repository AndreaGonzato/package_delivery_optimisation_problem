{
 "cells": [
  {
   "cell_type": "code",
   "execution_count": 2,
   "metadata": {
    "pycharm": {
     "name": "#%%\n"
    }
   },
   "outputs": [
    {
     "name": "stdout",
     "output_type": "stream",
     "text": [
      "Using the Community license in this session. If you have a full Xpress license, first set the XPAUTH_PATH environment variable to the full path to your license file, xpauth.xpr, and then restart Python. If you want to use the FICO Community license and no longer want to see this message, set the XPAUTH_PATH environment variable to: /home/alex/.local/lib/python3.9/site-packages/xpress/license/community-xpauth.xpr\n",
      "NB: setting XPAUTH_PATH will also affect any other Xpress products installed on your system.\n"
     ]
    }
   ],
   "source": [
    "import numpy as np\n",
    "import matplotlib.pyplot as plt\n",
    "import pandas as pd\n",
    "from scipy.spatial import distance_matrix\n",
    "import random\n",
    "import xpress  as xp"
   ]
  },
  {
   "cell_type": "code",
   "execution_count": 3,
   "outputs": [],
   "source": [
    "# input\n",
    "C = 8\n",
    "L = 2\n",
    "\n",
    "custom_setup = True\n",
    "ratio_locker_customers = 0.3\n",
    "ratio_prime_door_to_door_customer = 0.4"
   ],
   "metadata": {
    "collapsed": false,
    "pycharm": {
     "name": "#%%\n"
    }
   }
  },
  {
   "cell_type": "code",
   "execution_count": 4,
   "outputs": [],
   "source": [
    "# define the locations of customers and lockers\n",
    "C_location = np.array([[0.1 ,0.1], [0.2 ,0.3],[0.15 ,0.7], [0.3 ,0.7],[0.8 ,0.6],\n",
    "                       [0.9 ,0.5],[0.7 ,0.3], [0.4, 0.15]])\n",
    "W_location = np.array([[0.6 ,0.5]])\n",
    "L_location = np.array([[0.3 ,0.5],[0.5,0.2]])"
   ],
   "metadata": {
    "collapsed": false,
    "pycharm": {
     "name": "#%%\n"
    }
   }
  },
  {
   "cell_type": "code",
   "execution_count": 5,
   "outputs": [],
   "source": [
    "# Customers’ demand and preferences\n",
    "q = np.ones(C)\n",
    "\n",
    "# define all the stores: eg. stores = [W, L0, L1, .... , Lx]\n",
    "warehouse = [\"W\"]\n",
    "lockers = []\n",
    "for l in range(L):\n",
    "    lockers.append(\"L\"+str(l))\n",
    "stores = warehouse+lockers\n",
    "\n",
    "if custom_setup:\n",
    "    C_L = [0, 5, 7]\n",
    "    C_D = [1, 2, 3, 4, 6]\n",
    "    S_k =[1, 2, 6]\n",
    "    a_k = [\"L0\", \"W\", \"L1\"]\n",
    "else:\n",
    "    C_L = []\n",
    "    C_D = []\n",
    "    S_k = []\n",
    "    a_k = []\n",
    "    for client in C:\n",
    "        if random.random()  <= ratio_locker_customers :\n",
    "            # locker customer\n",
    "            C_L.append(client)\n",
    "            a_k.append(random.choice(stores)) # TODO assign not a random store but the one that in most case is the nearest to the customer\n",
    "        else:\n",
    "            # door to door customer\n",
    "            C_D.append(client)\n",
    "            if random.random() >= ratio_prime_door_to_door_customer:\n",
    "                S_k.append(client)\n"
   ],
   "metadata": {
    "collapsed": false,
    "pycharm": {
     "name": "#%%\n"
    }
   }
  },
  {
   "cell_type": "code",
   "execution_count": 6,
   "outputs": [
    {
     "data": {
      "text/plain": "<matplotlib.collections.PathCollection at 0x7f3eb3377220>"
     },
     "execution_count": 6,
     "metadata": {},
     "output_type": "execute_result"
    },
    {
     "data": {
      "text/plain": "<Figure size 432x288 with 1 Axes>",
      "image/png": "[encoded data removed]"
     },
     "metadata": {
      "needs_background": "light"
     },
     "output_type": "display_data"
    }
   ],
   "source": [
    "CD_location = np.array([[0,0]])\n",
    "CL_location = np.array([[0,0]])\n",
    "S_k_location = np.array([[0,0]])\n",
    "for i in range(C):\n",
    "    if i in  C_D:\n",
    "        CD_location=np.vstack([CD_location, C_location[i]])\n",
    "    else:\n",
    "        CL_location = np.vstack([CL_location, C_location[i]])\n",
    "for i in range(C):\n",
    "    if i in S_k:\n",
    "        S_k_location=np.vstack([S_k_location,C_location[i]])\n",
    "\n",
    "S_k_location=np.delete(S_k_location,0,0)\n",
    "CD_location = np.delete(CD_location, 0, 0)\n",
    "CL_location = np.delete(CL_location, 0, 0)\n",
    "\n",
    "#define indexes for the subset S_k\n",
    "S_k_indexes = []\n",
    "for s in range(len(S_k_location)):\n",
    "    S_k_indexes.append(\"Sk\"+str(s))\n",
    "\n",
    "\n",
    "#define all customers\n",
    "Customers = []\n",
    "Customers_door = []\n",
    "Customers_locker = []\n",
    "for c in range(len(C_D)):\n",
    "    Customers_door.append(\"Cd\"+str(c))\n",
    "for c in range(len(C_L)):\n",
    "    Customers_locker.append(\"Cl\"+str(c))\n",
    "\n",
    "Customers = Customers_door+Customers_locker\n",
    "\n",
    "\n",
    "plt.scatter(CD_location[:,0],CD_location[:,1],color='b')\n",
    "plt.scatter(CL_location[:,0],CL_location[:,1],color='m')\n",
    "plt.scatter(W_location[:,0],W_location[:,1],color='g',marker='D')\n",
    "plt.scatter(L_location[:,0],L_location[:,1],color ='y',marker='s')\n",
    "\n",
    "#piccola nota\n",
    "#come nel paper in verde è la warehouse, in giallo i locker, mentre in blu in customer door to door e in magenta i customer locker"
   ],
   "metadata": {
    "collapsed": false,
    "pycharm": {
     "name": "#%%\n"
    }
   }
  },
  {
   "cell_type": "code",
   "execution_count": 7,
   "outputs": [
    {
     "name": "stdout",
     "output_type": "stream",
     "text": [
      "            W        L0        L1       Cd0       Cd1       Cd2       Cd3  \\\n",
      "W    0.000000  0.300000  0.316228  0.447214  0.492443  0.360555  0.223607   \n",
      "L0   0.300000  0.000000  0.360555  0.223607  0.250000  0.200000  0.509902   \n",
      "L1   0.316228  0.360555  0.000000  0.316228  0.610328  0.538516  0.500000   \n",
      "Cd0  0.447214  0.223607  0.316228  0.000000  0.403113  0.412311  0.670820   \n",
      "Cd1  0.492443  0.250000  0.610328  0.403113  0.000000  0.150000  0.657647   \n",
      "Cd2  0.360555  0.200000  0.538516  0.412311  0.150000  0.000000  0.509902   \n",
      "Cd3  0.223607  0.509902  0.500000  0.670820  0.657647  0.509902  0.000000   \n",
      "Cd4  0.223607  0.447214  0.223607  0.500000  0.680074  0.565685  0.316228   \n",
      "Cl0  0.640312  0.447214  0.412311  0.223607  0.602080  0.632456  0.860233   \n",
      "Cl1  0.300000  0.600000  0.500000  0.728011  0.776209  0.632456  0.141421   \n",
      "Cl2  0.403113  0.364005  0.111803  0.250000  0.604152  0.559017  0.602080   \n",
      "\n",
      "          Cd4       Cl0       Cl1       Cl2  \n",
      "W    0.223607  0.640312  0.300000  0.403113  \n",
      "L0   0.447214  0.447214  0.600000  0.364005  \n",
      "L1   0.223607  0.412311  0.500000  0.111803  \n",
      "Cd0  0.500000  0.223607  0.728011  0.250000  \n",
      "Cd1  0.680074  0.602080  0.776209  0.604152  \n",
      "Cd2  0.565685  0.632456  0.632456  0.559017  \n",
      "Cd3  0.316228  0.860233  0.141421  0.602080  \n",
      "Cd4  0.000000  0.632456  0.282843  0.335410  \n",
      "Cl0  0.632456  0.000000  0.894427  0.304138  \n",
      "Cl1  0.282843  0.894427  0.000000  0.610328  \n",
      "Cl2  0.335410  0.304138  0.610328  0.000000  \n"
     ]
    }
   ],
   "source": [
    "#calcolo la matrice delle distanze:\n",
    "all_locations = np.array([])\n",
    "all_locations = np.append(all_locations,W_location)\n",
    "all_locations = np.vstack([all_locations,L_location])\n",
    "all_locations = np.vstack([all_locations,CD_location])\n",
    "all_locations = np.vstack([all_locations,CL_location])\n",
    "\n",
    "all_buildings = stores + Customers\n",
    "\n",
    "df = pd.DataFrame(all_locations, columns=['xcord', 'ycord'], index=all_buildings)\n",
    "dist_matrix = pd.DataFrame(distance_matrix(df.values, df.values), index=df.index, columns=df.index)\n",
    "matrix_distance_converted_in_numpy =dist_matrix.to_numpy()\n",
    "print(dist_matrix)"
   ],
   "metadata": {
    "collapsed": false,
    "pycharm": {
     "name": "#%%\n"
    }
   }
  },
  {
   "cell_type": "code",
   "execution_count": 8,
   "outputs": [
    {
     "name": "stdout",
     "output_type": "stream",
     "text": [
      "           W        L0        L1\n",
      "W   0.000000  0.300000  0.316228\n",
      "L0  0.300000  0.000000  0.360555\n",
      "L1  0.316228  0.360555  0.000000\n",
      "            W       Cd0       Cd1       Cd2       Cd3       Cd4\n",
      "W    0.000000  0.447214  0.492443  0.360555  0.223607  0.223607\n",
      "Cd0  0.447214  0.000000  0.403113  0.412311  0.670820  0.500000\n",
      "Cd1  0.492443  0.403113  0.000000  0.150000  0.657647  0.680074\n",
      "Cd2  0.360555  0.412311  0.150000  0.000000  0.509902  0.565685\n",
      "Cd3  0.223607  0.670820  0.657647  0.509902  0.000000  0.316228\n",
      "Cd4  0.223607  0.500000  0.680074  0.565685  0.316228  0.000000\n",
      "          Cd0       Cd1       Cd2       Cd3       Cd4\n",
      "L0   0.223607  0.250000  0.200000  0.509902  0.447214\n",
      "L1   0.316228  0.610328  0.538516  0.500000  0.223607\n",
      "Cd0  0.000000  0.403113  0.412311  0.670820  0.500000\n",
      "Cd1  0.403113  0.000000  0.150000  0.657647  0.680074\n",
      "Cd2  0.412311  0.150000  0.000000  0.509902  0.565685\n",
      "Cd3  0.670820  0.657647  0.509902  0.000000  0.316228\n",
      "Cd4  0.500000  0.680074  0.565685  0.316228  0.000000\n"
     ]
    }
   ],
   "source": [
    "#filtro i dati\n",
    "\n",
    "supply_distances_matrix = dist_matrix.filter(items=stores,axis=1)\n",
    "supply_distances_matrix  = supply_distances_matrix.filter(items=stores,axis=0)\n",
    "print(supply_distances_matrix)\n",
    "\n",
    "PF_distances_matrix = dist_matrix.filter(items=['W']+Customers_door,axis=1)\n",
    "PF_distances_matrix = PF_distances_matrix.filter(items=['W']+Customers_door,axis=0)\n",
    "print(PF_distances_matrix)\n",
    "\n",
    "LF_distances_matrix = dist_matrix.filter(items=Customers_door,axis=1)\n",
    "LF_distances_matrix = LF_distances_matrix.filter(items=lockers+Customers_door,axis=0)\n",
    "print(LF_distances_matrix)"
   ],
   "metadata": {
    "collapsed": false,
    "pycharm": {
     "name": "#%%\n"
    }
   }
  },
  {
   "cell_type": "code",
   "execution_count": 9,
   "outputs": [
    {
     "name": "stdout",
     "output_type": "stream",
     "text": [
      "           W        L0        L1\n",
      "W   0.000000  0.225000  0.237171\n",
      "L0  0.225000  0.000000  0.270416\n",
      "L1  0.237171  0.270416  0.000000\n",
      "            W       Cd0       Cd1       Cd2       Cd3       Cd4\n",
      "W    0.000000  0.447214  0.492443  0.360555  0.223607  0.223607\n",
      "Cd0  0.447214  0.000000  0.403113  0.412311  0.670820  0.500000\n",
      "Cd1  0.492443  0.403113  0.000000  0.150000  0.657647  0.680074\n",
      "Cd2  0.360555  0.412311  0.150000  0.000000  0.509902  0.565685\n",
      "Cd3  0.223607  0.670820  0.657647  0.509902  0.000000  0.316228\n",
      "Cd4  0.223607  0.500000  0.680074  0.565685  0.316228  0.000000\n",
      "          Cd0       Cd1       Cd2       Cd3       Cd4\n",
      "L0   0.190066  0.212500  0.170000  0.433417  0.380132\n",
      "L1   0.268794  0.518779  0.457739  0.425000  0.190066\n",
      "Cd0  0.000000  0.342646  0.350464  0.570197  0.425000\n",
      "Cd1  0.342646  0.000000  0.127500  0.559000  0.578062\n",
      "Cd2  0.350464  0.127500  0.000000  0.433417  0.480833\n",
      "Cd3  0.570197  0.559000  0.433417  0.000000  0.268794\n",
      "Cd4  0.425000  0.578062  0.480833  0.268794  0.000000\n"
     ]
    }
   ],
   "source": [
    "# Delivery Cost\n",
    "pi = 1\n",
    "pi_l = 0.85\n",
    "pi_L = 0.75\n",
    "\n",
    "PF_delivery_cost = pi*PF_distances_matrix\n",
    "LF_delivery_cost = pi_l*LF_distances_matrix\n",
    "supply_cost = pi_L*supply_distances_matrix\n",
    "print(supply_cost)\n",
    "print(PF_delivery_cost)\n",
    "print(LF_delivery_cost)"
   ],
   "metadata": {
    "collapsed": false,
    "pycharm": {
     "name": "#%%\n"
    }
   }
  },
  {
   "cell_type": "code",
   "execution_count": 98,
   "outputs": [
    {
     "name": "stdout",
     "output_type": "stream",
     "text": [
      "            W        L0        L1       Sk0       Sk1       Sk2\n",
      "W    0.000000  0.300000  0.316228  0.447214  0.492443  0.223607\n",
      "L0   0.300000  0.000000  0.360555  0.223607  0.250000  0.447214\n",
      "L1   0.316228  0.360555  0.000000  0.316228  0.610328  0.223607\n",
      "Sk0  0.447214  0.223607  0.316228  0.000000  0.403113  0.500000\n",
      "Sk1  0.492443  0.250000  0.610328  0.403113  0.000000  0.680074\n",
      "Sk2  0.223607  0.447214  0.223607  0.500000  0.680074  0.000000\n",
      "         Cl0  Cl1       Cl2\n",
      "W   0.640312  0.3  0.403113\n",
      "L0  0.447214  0.6  0.364005\n",
      "L1  0.412311  0.5  0.111803\n",
      "Cl0    L1\n",
      "Cl1     W\n",
      "Cl2    L1\n",
      "dtype: object\n",
      "['L1', 'W', 'L1']\n",
      "         Sk0       Sk1       Sk2\n",
      "L1  0.316228  0.610328  0.223607\n",
      "W   0.447214  0.492443  0.223607\n",
      "L1  0.316228  0.610328  0.223607\n",
      "         Sk0       Sk1       Sk2\n",
      "L1  0.158114  0.305164  0.111803\n",
      "W   0.223607  0.246221  0.111803\n",
      "L1  0.158114  0.305164  0.111803\n",
      "0.22360679774997896\n"
     ]
    }
   ],
   "source": [
    "#compensation\n",
    "compensation_locations = np.array([])\n",
    "compensation_locations = np.append(compensation_locations,W_location)\n",
    "compensation_locations = np.vstack([compensation_locations,L_location])\n",
    "compensation_locations = np.vstack([compensation_locations,S_k_location])\n",
    "\n",
    "df_compensation = pd.DataFrame(compensation_locations, columns=['xcord', 'ycord'], index=stores+S_k_indexes)\n",
    "compensation_matrix= pd.DataFrame(distance_matrix(df_compensation.values, df_compensation.values), index=df_compensation.index, columns=df_compensation.index)\n",
    "\n",
    "print(compensation_matrix)\n",
    "\n",
    "\n",
    "comp = dist_matrix.filter(items=Customers_locker,axis=1)\n",
    "comp = comp.filter(items=stores,axis=0)\n",
    "print(comp)\n",
    "\n",
    "\n",
    "min_of_each_column_index = comp.idxmin()\n",
    "print(min_of_each_column_index)\n",
    "\n",
    "index_close_locker = []\n",
    "for i in range(len(min_of_each_column_index)):\n",
    "    index_close_locker.append(min_of_each_column_index[i])\n",
    "print(index_close_locker)\n",
    "\n",
    "\n",
    "d_ak_c = compensation_matrix.filter(items = S_k_indexes,axis=1)\n",
    "d_ak_c=d_ak_c.filter(items=index_close_locker,axis=0)\n",
    "print(d_ak_c)\n",
    "\n",
    "ro = 0.5\n",
    "compensation_matrix_cost = ro*d_ak_c\n",
    "print(compensation_matrix_cost)\n",
    "print(compensation_matrix_cost.values[1][0])\n"
   ],
   "metadata": {
    "collapsed": false,
    "pycharm": {
     "name": "#%%\n"
    }
   }
  },
  {
   "cell_type": "code",
   "execution_count": 101,
   "outputs": [
    {
     "name": "stdout",
     "output_type": "stream",
     "text": [
      "\n",
      "=================================================================\n",
      "0\n",
      "-----------------------------------------------------------------\n",
      "           L0       Cd0       Cd1       Cd2       Cd3       Cd4\n",
      "L0   0.000000  0.223607  0.250000  0.200000  0.509902  0.447214\n",
      "Cd0  0.223607  0.000000  0.403113  0.412311  0.670820  0.500000\n",
      "Cd1  0.250000  0.403113  0.000000  0.150000  0.657647  0.680074\n",
      "Cd2  0.200000  0.412311  0.150000  0.000000  0.509902  0.565685\n",
      "Cd3  0.509902  0.670820  0.657647  0.509902  0.000000  0.316228\n",
      "Cd4  0.447214  0.500000  0.680074  0.565685  0.316228  0.000000\n",
      "\n",
      "=================================================================\n",
      "1\n",
      "-----------------------------------------------------------------\n",
      "           L1       Cd0       Cd1       Cd2       Cd3       Cd4\n",
      "L1   0.000000  0.316228  0.610328  0.538516  0.500000  0.223607\n",
      "Cd0  0.316228  0.000000  0.403113  0.412311  0.670820  0.500000\n",
      "Cd1  0.610328  0.403113  0.000000  0.150000  0.657647  0.680074\n",
      "Cd2  0.538516  0.412311  0.150000  0.000000  0.509902  0.565685\n",
      "Cd3  0.500000  0.670820  0.657647  0.509902  0.000000  0.316228\n",
      "Cd4  0.223607  0.500000  0.680074  0.565685  0.316228  0.000000\n"
     ]
    }
   ],
   "source": [
    "LF_distances_matrix_collection= {}\n",
    "for i in range(L):\n",
    "    l = [0]\n",
    "    l[0]=lockers[i]\n",
    "    local_matrix = dist_matrix.filter(items=l+Customers_door,axis=1)\n",
    "    local_matrix = local_matrix.filter(items=l+Customers_door,axis=0)\n",
    "    LF_distances_matrix_collection[i]=pd.DataFrame(local_matrix)\n",
    "\n",
    "for key in LF_distances_matrix_collection.keys():\n",
    "    print(\"\\n\" +\"=\"*65)\n",
    "    print(key)\n",
    "    print(\"-\"*65)\n",
    "    print(LF_distances_matrix_collection[key])\n",
    "\n"
   ],
   "metadata": {
    "collapsed": false,
    "pycharm": {
     "name": "#%%\n"
    }
   }
  },
  {
   "cell_type": "code",
   "execution_count": 89,
   "outputs": [
    {
     "name": "stdout",
     "output_type": "stream",
     "text": [
      "            W        L0        L1       Sk0       Sk1       Sk2\n",
      "W    0.000000  0.300000  0.316228  0.447214  0.492443  0.223607\n",
      "L0   0.300000  0.000000  0.360555  0.223607  0.250000  0.447214\n",
      "L1   0.316228  0.360555  0.000000  0.316228  0.610328  0.223607\n",
      "Sk0  0.447214  0.223607  0.316228  0.000000  0.403113  0.500000\n",
      "Sk1  0.492443  0.250000  0.610328  0.403113  0.000000  0.680074\n",
      "Sk2  0.223607  0.447214  0.223607  0.500000  0.680074  0.000000\n",
      "         Cl0  Cl1       Cl2\n",
      "W   0.640312  0.3  0.403113\n",
      "L0  0.447214  0.6  0.364005\n",
      "L1  0.412311  0.5  0.111803\n",
      "\n",
      "===================================\n",
      "0\n",
      "-----------------------------------\n",
      "         Sk0       Sk1       Sk2\n",
      "L1  0.316228  0.610328  0.223607\n",
      "\n",
      "===================================\n",
      "1\n",
      "-----------------------------------\n",
      "        Sk0       Sk1       Sk2\n",
      "W  0.447214  0.492443  0.223607\n",
      "\n",
      "===================================\n",
      "2\n",
      "-----------------------------------\n",
      "         Sk0       Sk1       Sk2\n",
      "L1  0.316228  0.610328  0.223607\n",
      "----------------------------------------\n",
      "\n",
      "===================================\n",
      "0\n",
      "-----------------------------------\n",
      "         Sk0       Sk1       Sk2\n",
      "L1  0.158114  0.305164  0.111803\n",
      "\n",
      "===================================\n",
      "1\n",
      "-----------------------------------\n",
      "        Sk0       Sk1       Sk2\n",
      "W  0.223607  0.246221  0.111803\n",
      "\n",
      "===================================\n",
      "2\n",
      "-----------------------------------\n",
      "         Sk0       Sk1       Sk2\n",
      "L1  0.158114  0.305164  0.111803\n"
     ]
    }
   ],
   "source": [
    "#compensation\n",
    "compensation_locations = np.array([])\n",
    "compensation_locations = np.append(compensation_locations,W_location)\n",
    "compensation_locations = np.vstack([compensation_locations,L_location])\n",
    "compensation_locations = np.vstack([compensation_locations,S_k_location])\n",
    "\n",
    "df_compensation = pd.DataFrame(compensation_locations, columns=['xcord', 'ycord'], index=stores+S_k_indexes)\n",
    "compensation_matrix= pd.DataFrame(distance_matrix(df_compensation.values, df_compensation.values), index=df_compensation.index, columns=df_compensation.index)\n",
    "\n",
    "print(compensation_matrix)\n",
    "\n",
    "\n",
    "comp = dist_matrix.filter(items=Customers_locker,axis=1)\n",
    "comp = comp.filter(items=stores,axis=0)\n",
    "print(comp)\n",
    "\n",
    "index_close_locker = ['']\n",
    "\n",
    "d_ak_c = {}\n",
    "for i in range(len(comp)):\n",
    "    closest_locker =comp[Customers_locker[i]].idxmin()\n",
    "    index_close_locker[0] = closest_locker\n",
    "    local_comp_matrix = compensation_matrix.filter(items = S_k_indexes,axis=1)\n",
    "    local_comp_matrix=local_comp_matrix.filter(items=index_close_locker,axis=0)\n",
    "    d_ak_c[i]=pd.DataFrame(local_comp_matrix)\n",
    "\n",
    "for key in d_ak_c.keys():\n",
    "    print(\"\\n\" +\"=\"*35)\n",
    "    print(key)\n",
    "    print(\"-\"*35)\n",
    "    print(d_ak_c[key])\n",
    "\n",
    "ro = 0.5\n",
    "compensation_matrix_cost = {}\n",
    "\n",
    "for i in range(len(comp)):\n",
    "    cost = ro*d_ak_c[i]\n",
    "    compensation_matrix_cost[i] = pd.DataFrame(cost)\n",
    "print(\"----------------------------------------\")\n",
    "for key in compensation_matrix_cost.keys():\n",
    "    print(\"\\n\" +\"=\"*35)\n",
    "    print(key)\n",
    "    print(\"-\"*35)\n",
    "    print(compensation_matrix_cost[key])\n"
   ],
   "metadata": {
    "collapsed": false,
    "pycharm": {
     "name": "#%%\n"
    }
   }
  }
 ],
 "metadata": {
  "language_info": {
   "name": "python",
   "pygments_lexer": "ipython3"
  },
  "kernelspec": {
   "name": "python3",
   "language": "python",
   "display_name": "Python 3 (ipykernel)"
  }
 },
 "nbformat": 4,
 "nbformat_minor": 0
}