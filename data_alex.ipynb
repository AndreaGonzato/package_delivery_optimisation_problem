{
 "cells": [
  {
   "cell_type": "code",
   "execution_count": 2,
   "metadata": {
    "collapsed": true,
    "pycharm": {
     "name": "#%%\n"
    }
   },
   "outputs": [
    {
     "name": "stdout",
     "output_type": "stream",
     "text": [
      "Using the Community license in this session. If you have a full Xpress license, first set the XPAUTH_PATH environment variable to the full path to your license file, xpauth.xpr, and then restart Python. If you want to use the FICO Community license and no longer want to see this message, set the XPAUTH_PATH environment variable to: /home/alex/.local/lib/python3.9/site-packages/xpress/license/community-xpauth.xpr\n",
      "NB: setting XPAUTH_PATH will also affect any other Xpress products installed on your system.\n"
     ]
    }
   ],
   "source": [
    "import numpy as np\n",
    "import matplotlib.pyplot as plt\n",
    "import pandas as pd\n",
    "from scipy.spatial import distance_matrix\n",
    "import random\n",
    "import xpress  as xp"
   ]
  },
  {
   "cell_type": "code",
   "execution_count": 46,
   "outputs": [],
   "source": [
    "# input\n",
    "N = 7\n",
    "L = 1\n",
    "\n",
    "custom_setup = True\n",
    "ratio_locker_customers = 0.3\n",
    "ratio_prime_door_to_door_customer = 0.4"
   ],
   "metadata": {
    "collapsed": false,
    "pycharm": {
     "name": "#%%\n"
    }
   }
  },
  {
   "cell_type": "code",
   "execution_count": 47,
   "outputs": [],
   "source": [
    "# Customers’ demand and preferences\n",
    "q = np.ones(N)\n",
    "C = np.arange(N)\n",
    "\n",
    "# define all the stores: eg. stores = [W, L0, L1, .... , Lx]\n",
    "stores = [\"W\"]\n",
    "for l in range(L):\n",
    "    stores.append(\"L\"+str(l))\n",
    "\n",
    "if custom_setup:\n",
    "    C_L = [0, 5]\n",
    "    C_D = [1, 2, 3, 4, 6]\n",
    "    S_k =[1, 2, 6]\n",
    "    a_k = [\"L0\", \"W\"]\n",
    "else:\n",
    "    C_L = []\n",
    "    C_D = []\n",
    "    S_k = []\n",
    "    a_k = []\n",
    "    for client in C:\n",
    "        if random.random()  <= ratio_locker_customers :\n",
    "            # locker customer\n",
    "            C_L.append(client)\n",
    "            a_k.append(random.choice(stores))\n",
    "        else:\n",
    "            # door to door customer\n",
    "            C_D.append(client)\n",
    "            if random.random() >= ratio_prime_door_to_door_customer:\n",
    "                S_k.append(client)"
   ],
   "metadata": {
    "collapsed": false,
    "pycharm": {
     "name": "#%%\n"
    }
   }
  },
  {
   "cell_type": "code",
   "execution_count": 36,
   "outputs": [
    {
     "name": "stdout",
     "output_type": "stream",
     "text": [
      "[0, 1, 2, 3, 4]\n"
     ]
    }
   ],
   "source": [],
   "metadata": {
    "collapsed": false,
    "pycharm": {
     "name": "#%%\n"
    }
   }
  },
  {
   "cell_type": "code",
   "execution_count": 57,
   "outputs": [
    {
     "name": "stdout",
     "output_type": "stream",
     "text": [
      "[]\n",
      "------\n",
      "[[0.1]\n",
      " [0.3]\n",
      " [0.7]\n",
      " [0.7]]\n"
     ]
    },
    {
     "data": {
      "text/plain": "<matplotlib.collections.PathCollection at 0x7fd4fcb2cc10>"
     },
     "execution_count": 57,
     "metadata": {},
     "output_type": "execute_result"
    },
    {
     "data": {
      "text/plain": "<Figure size 432x288 with 1 Axes>",
      "image/png": "[encoded data removed]"
     },
     "metadata": {
      "needs_background": "light"
     },
     "output_type": "display_data"
    }
   ],
   "source": [
    "C_location = np.array([[0.1 ,0.1], [0.2 ,0.3],[0.15 ,0.7], [0.3 ,0.7],[0.8 ,0.6],\n",
    "              [0.9 ,0.5],[0.7 ,0.3]])\n",
    "CD_location = np.array([])\n",
    "CL_location = np.array([])\n",
    "\n",
    "for i in range(len(C_D)-1):\n",
    "    if i == C_D[i]:\n",
    "        if i == 0:\n",
    "            CD_location = np.append(CD_location,C_location[i][1])\n",
    "        else:CD_location = np.vstack([CD_location,C_location[i][1]])\n",
    "    else:\n",
    "        if i == 0:\n",
    "            CL_location = np.append(CL_location,C_location[i][1])\n",
    "        else:CL_location = np.vstack([CL_location,C_location[i][1]])\n",
    "print(CD_location)\n",
    "print('------')\n",
    "print(CL_location)\n",
    "\n",
    "\n",
    "\n",
    "\n",
    "plt.scatter(C_location[:,0],C_location[:,1],color='b')\n",
    "W_location = np.array([[0.6 ,0.5]])\n",
    "plt.scatter(W_location[:,0],W_location[:,1],color='g',marker='D')\n",
    "L_location = np.array([[0.3 ,0.5]])\n",
    "plt.scatter(L_location[:,0],L_location[:,1],color ='y',marker='s')"
   ],
   "metadata": {
    "collapsed": false,
    "pycharm": {
     "name": "#%%\n"
    }
   }
  },
  {
   "cell_type": "code",
   "execution_count": 48,
   "outputs": [
    {
     "ename": "NameError",
     "evalue": "name 'CD' is not defined",
     "output_type": "error",
     "traceback": [
      "\u001B[0;31m---------------------------------------------------------------------------\u001B[0m",
      "\u001B[0;31mNameError\u001B[0m                                 Traceback (most recent call last)",
      "Input \u001B[0;32mIn [48]\u001B[0m, in \u001B[0;36m<cell line: 4>\u001B[0;34m()\u001B[0m\n\u001B[1;32m      2\u001B[0m WCd_matric \u001B[38;5;241m=\u001B[39m np\u001B[38;5;241m.\u001B[39marray([])\n\u001B[1;32m      3\u001B[0m WCd_matric \u001B[38;5;241m=\u001B[39m np\u001B[38;5;241m.\u001B[39mappend(WCd_matric,W)\n\u001B[0;32m----> 4\u001B[0m WCd_matric \u001B[38;5;241m=\u001B[39m np\u001B[38;5;241m.\u001B[39mvstack([WCd_matric,\u001B[43mCD\u001B[49m])\n\u001B[1;32m      6\u001B[0m WL_matrix \u001B[38;5;241m=\u001B[39m np\u001B[38;5;241m.\u001B[39marray([])\n\u001B[1;32m      7\u001B[0m WL_matrix \u001B[38;5;241m=\u001B[39m np\u001B[38;5;241m.\u001B[39mappend(WL_matrix,W)\n",
      "\u001B[0;31mNameError\u001B[0m: name 'CD' is not defined"
     ]
    }
   ],
   "source": [
    "#calcolo la matrice delle distanze:\n",
    "WCd_matric = np.array([])\n",
    "WCd_matric = np.append(WCd_matric,W)\n",
    "WCd_matric = np.vstack([WCd_matric,CD])\n",
    "\n",
    "WL_matrix = np.array([])\n",
    "WL_matrix = np.append(WL_matrix,W)\n",
    "WL_matrix = np.vstack([WL_matrix,L])\n",
    "\n",
    "buildings =['W','L0','C0','C1','C2','C3','C4','C5','C6']\n",
    "store = ['Warehouse','Locker']\n",
    "\n",
    "df_data = pd.DataFrame(data, columns=['xcord', 'ycord'], index=buildings)\n",
    "df_store = pd.DataFrame(WL_matrix, columns=['xcord', 'ycord'], index=store)\n",
    "\n",
    "dist_matrix_data = pd.DataFrame(distance_matrix(df_data.values, df_data.values), index=df_data.index, columns=df_data.index)\n",
    "dist_matrix_store = pd.DataFrame(distance_matrix(df_store.values, df_store.values), index=df_store.index, columns=df_store.index)\n",
    "\n",
    "matrix_distance_converted_in_numpy =dist_matrix_data.to_numpy()\n",
    "print(dist_matrix_data)\n",
    "print(dist_matrix_store)"
   ],
   "metadata": {
    "collapsed": false,
    "pycharm": {
     "name": "#%%\n"
    }
   }
  },
  {
   "cell_type": "code",
   "execution_count": 16,
   "outputs": [
    {
     "name": "stdout",
     "output_type": "stream",
     "text": [
      "           Warehouse  Locker\n",
      "Warehouse      0.000   0.225\n",
      "Locker         0.225   0.000\n"
     ]
    }
   ],
   "source": [
    "# Delivery Cost\n",
    "pi = 1\n",
    "pi_l = 0.85\n",
    "pi_L = 0.75\n",
    "ro = 0.5\n",
    "PF_delivery_cost = pi*dist_matrix_data\n",
    "LF_delivery_cost = pi_l*dist_matrix_data\n",
    "Supply_cost = pi_L*dist_matrix_store\n",
    "print(Supply_cost)"
   ],
   "metadata": {
    "collapsed": false,
    "pycharm": {
     "name": "#%%\n"
    }
   }
  },
  {
   "cell_type": "code",
   "execution_count": null,
   "outputs": [],
   "source": [],
   "metadata": {
    "collapsed": false,
    "pycharm": {
     "name": "#%%\n"
    }
   }
  }
 ],
 "metadata": {
  "kernelspec": {
   "display_name": "Python 3",
   "language": "python",
   "name": "python3"
  },
  "language_info": {
   "codemirror_mode": {
    "name": "ipython",
    "version": 2
   },
   "file_extension": ".py",
   "mimetype": "text/x-python",
   "name": "python",
   "nbconvert_exporter": "python",
   "pygments_lexer": "ipython2",
   "version": "2.7.6"
  }
 },
 "nbformat": 4,
 "nbformat_minor": 0
}