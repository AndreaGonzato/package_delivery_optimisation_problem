{
 "cells": [
  {
   "cell_type": "code",
   "execution_count": 1,
   "metadata": {
    "collapsed": true,
    "pycharm": {
     "name": "#%%\n"
    }
   },
   "outputs": [],
   "source": [
    "import numpy as np\n",
    "import matplotlib.pyplot as plt\n",
    "import pandas as pd\n",
    "from scipy.spatial import distance_matrix\n",
    "import random\n",
    "import math\n",
    "from operator import attrgetter\n",
    "from ordered_set import OrderedSet\n",
    "# if you use conda run this in your terminal: conda install -c conda-forge ordered-set\n",
    "import gurobipy as gb"
   ]
  },
  {
   "cell_type": "code",
   "execution_count": 2,
   "outputs": [],
   "source": [
    "# local files\n",
    "from customer import Customer\n",
    "from locker_customer import LockerCustomer\n",
    "from door_to_door_customer import DoorToDoorCustomer\n",
    "from location import Location\n",
    "from store import *\n",
    "from vehicle import Vehicle\n",
    "from vehicle_type import VehicleType\n",
    "from executor_multi_period import solve_period"
   ],
   "metadata": {
    "collapsed": false,
    "pycharm": {
     "name": "#%%\n"
    }
   }
  },
  {
   "cell_type": "code",
   "execution_count": 3,
   "outputs": [],
   "source": [
    "# input\n",
    "custom_setup = True\n",
    "C = 20\n",
    "L = 3\n",
    "periods = 3\n",
    "\n",
    "map_size = 100\n",
    "ratio_locker_customers = 0.3"
   ],
   "metadata": {
    "collapsed": false,
    "pycharm": {
     "name": "#%%\n"
    }
   }
  },
  {
   "cell_type": "code",
   "execution_count": 4,
   "outputs": [],
   "source": [
    "def get_nearest_store(stores, location):\n",
    "    min_distance = float(\"inf\")\n",
    "    nearest_store = stores[0]\n",
    "    for store in stores:\n",
    "        distance = location.euclidean_distance(store.location)\n",
    "        if distance < min_distance:\n",
    "            min_distance = distance\n",
    "            nearest_store = store\n",
    "    return nearest_store"
   ],
   "metadata": {
    "collapsed": false,
    "pycharm": {
     "name": "#%%\n"
    }
   }
  },
  {
   "cell_type": "code",
   "execution_count": 5,
   "outputs": [],
   "source": [
    "# generates initial data\n",
    "if custom_setup:\n",
    "    C = 8\n",
    "    L = 2\n",
    "    stores = []\n",
    "    stores.append(Store(0, Location(60, 50), capacity=float(\"inf\"), is_warehouse=True))\n",
    "    stores.append(Store(1, Location(30, 50), capacity=math.ceil(0.8 * C / L)))\n",
    "    stores.append(Store(2, Location(50, 20), capacity=math.ceil(0.8 * C / L)))\n",
    "\n",
    "    customers = []\n",
    "    customers.append(LockerCustomer(0, 0, Location(10, 28), stores[1]))\n",
    "    customers.append(DoorToDoorCustomer(1, 0, Location(20, 40)))\n",
    "    customers.append(DoorToDoorCustomer(2, 1, Location(15, 70)))\n",
    "    customers.append(DoorToDoorCustomer(3, 2, Location(30, 70)))\n",
    "    customers.append(DoorToDoorCustomer(4, 3, Location(80, 60)))\n",
    "    customers.append(LockerCustomer(5, 1, Location(70, 40), stores[0]))\n",
    "    customers.append(DoorToDoorCustomer(6, 4, Location(90, 50)))\n",
    "    customers.append(LockerCustomer(7, 2, Location(40, 15), stores[2]))\n",
    "else:\n",
    "    stores = []\n",
    "    stores.append(Store(0, Location(random.randint(0, map_size), random.randint(0, map_size)), capacity=float(\"inf\"), is_warehouse=True))\n",
    "    for l in range(L):\n",
    "        stores.append(Store(l+1, Location(random.randint(0, map_size), random.randint(0, map_size)), capacity=math.ceil(0.8 * C / L)))\n",
    "\n",
    "    customers = []\n",
    "    counter_locker_customer = 0\n",
    "    counter_door_to_door_customer = 0\n",
    "    for c in range(C):\n",
    "        location = Location(random.randint(0, map_size), random.randint(0, map_size))\n",
    "        if random.random() < ratio_locker_customers:\n",
    "            # customer locker\n",
    "            customers.append(LockerCustomer(c, counter_locker_customer, location, get_nearest_store(stores, location)))\n",
    "            counter_locker_customer += 1\n",
    "        else:\n",
    "            # door to door customer\n",
    "            customers.append(DoorToDoorCustomer(c, counter_door_to_door_customer, location))\n",
    "            counter_door_to_door_customer += 1"
   ],
   "metadata": {
    "collapsed": false,
    "pycharm": {
     "name": "#%%\n"
    }
   }
  },
  {
   "cell_type": "code",
   "execution_count": 6,
   "outputs": [],
   "source": [
    "# create sets\n",
    "C_L = list(filter(lambda customer: type(customer) == LockerCustomer, customers))\n",
    "C_D = list(filter(lambda customer: type(customer) == DoorToDoorCustomer, customers))\n",
    "lockers = list(filter(lambda store: not store.is_warehouse, stores))\n",
    "\n",
    "# define all the vehicles\n",
    "sum_W_l = 0\n",
    "for store in stores:\n",
    "    if not store.is_warehouse:\n",
    "        sum_W_l += store.capacity\n",
    "\n",
    "# define all the vehicles\n",
    "if custom_setup:\n",
    "    vehicles = []\n",
    "    vehicles.append(Vehicle(0, VehicleType.LOCKER_SUPPLY, stores[0], math.ceil(0.8 * sum_W_l)))\n",
    "    vehicles.append(Vehicle(1, VehicleType.PF, stores[0], math.ceil(0.5 * len(C_D))))\n",
    "    vehicles.append(Vehicle(2, VehicleType.LF, stores[1], math.ceil(0.6 * stores[1].capacity)))\n",
    "    vehicles.append(Vehicle(3, VehicleType.LF, stores[2], math.ceil(0.6 * stores[2].capacity)))\n",
    "else:\n",
    "    vehicles = []\n",
    "    for store in stores:\n",
    "        if store.is_warehouse:\n",
    "            vehicles.append(Vehicle(0, VehicleType.LOCKER_SUPPLY, store, math.ceil(0.8 * sum_W_l)))\n",
    "            vehicles.append(Vehicle(1, VehicleType.PF, store, math.ceil(0.5 * len(C_D))))\n",
    "        else:\n",
    "            vehicles.append(Vehicle(store.index+1, VehicleType.LF, store, math.ceil(0.6 * store.capacity)))"
   ],
   "metadata": {
    "collapsed": false,
    "pycharm": {
     "name": "#%%\n"
    }
   }
  },
  {
   "cell_type": "code",
   "execution_count": 7,
   "outputs": [
    {
     "name": "stdout",
     "output_type": "stream",
     "text": [
      "Set parameter Username\n",
      "Academic license - for non-commercial use only - expires 2023-06-11\n"
     ]
    }
   ],
   "source": [
    "status, Runtime, ObjVal, OC, w_c_k_variables = solve_period(stores, vehicles, customers)\n"
   ],
   "metadata": {
    "collapsed": false,
    "pycharm": {
     "name": "#%%\n"
    }
   }
  },
  {
   "cell_type": "code",
   "execution_count": 8,
   "outputs": [
    {
     "name": "stdout",
     "output_type": "stream",
     "text": [
      "[CL0]\n",
      "{CL0: CD0}\n"
     ]
    }
   ],
   "source": [
    "if status != 2:\n",
    "    raise Exception(\"Gurobi did not find the optimal solution for the model\")\n",
    "\n",
    "print(OC)\n",
    "print(w_c_k_variables)"
   ],
   "metadata": {
    "collapsed": false,
    "pycharm": {
     "name": "#%%\n"
    }
   }
  },
  {
   "cell_type": "code",
   "execution_count": null,
   "outputs": [],
   "source": [],
   "metadata": {
    "collapsed": false,
    "pycharm": {
     "name": "#%%\n"
    }
   }
  }
 ],
 "metadata": {
  "kernelspec": {
   "display_name": "Python 3",
   "language": "python",
   "name": "python3"
  },
  "language_info": {
   "codemirror_mode": {
    "name": "ipython",
    "version": 2
   },
   "file_extension": ".py",
   "mimetype": "text/x-python",
   "name": "python",
   "nbconvert_exporter": "python",
   "pygments_lexer": "ipython2",
   "version": "2.7.6"
  }
 },
 "nbformat": 4,
 "nbformat_minor": 0
}