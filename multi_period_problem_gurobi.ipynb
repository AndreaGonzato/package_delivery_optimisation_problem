{
 "cells": [
  {
   "cell_type": "code",
   "execution_count": 1,
   "metadata": {
    "collapsed": true,
    "pycharm": {
     "name": "#%%\n"
    }
   },
   "outputs": [],
   "source": [
    "import numpy as np\n",
    "import matplotlib.pyplot as plt\n",
    "import pandas as pd\n",
    "from scipy.spatial import distance_matrix\n",
    "import random\n",
    "import math\n",
    "from operator import attrgetter\n",
    "from ordered_set import OrderedSet\n",
    "# if you use conda run this in your terminal: conda install -c conda-forge ordered-set\n",
    "import gurobipy as gb"
   ]
  },
  {
   "cell_type": "code",
   "execution_count": 2,
   "outputs": [],
   "source": [
    "# local files\n",
    "from customer import Customer\n",
    "from locker_customer import LockerCustomer\n",
    "from door_to_door_customer import DoorToDoorCustomer\n",
    "from location import Location\n",
    "from store import *\n",
    "from vehicle import Vehicle\n",
    "from vehicle_type import VehicleType\n",
    "from executor_multi_period import solve_period"
   ],
   "metadata": {
    "collapsed": false,
    "pycharm": {
     "name": "#%%\n"
    }
   }
  },
  {
   "cell_type": "code",
   "execution_count": 3,
   "outputs": [],
   "source": [
    "# input\n",
    "custom_setup = False\n",
    "C = 53\n",
    "L = 2\n",
    "periods = 5\n",
    "\n",
    "map_size = 100\n",
    "ratio_locker_customers = 0.3"
   ],
   "metadata": {
    "collapsed": false,
    "pycharm": {
     "name": "#%%\n"
    }
   }
  },
  {
   "cell_type": "code",
   "execution_count": 4,
   "outputs": [
    {
     "name": "stdout",
     "output_type": "stream",
     "text": [
      "gamma:  [0.5, 0.625, 0.6666666666666667, 0.75, 1]\n",
      "C_per_period:  [10, 10, 10, 10, 13]\n"
     ]
    }
   ],
   "source": [
    "# define gamma and current_day\n",
    "gamma = []\n",
    "gamma.append(0.5)\n",
    "\n",
    "for day in range(1, periods-1):\n",
    "    gamma.append((50 + (100-50)/(periods-day))/100)\n",
    "gamma.append(1)\n",
    "print(\"gamma: \", gamma)\n",
    "current_day = 0\n",
    "\n",
    "C_per_period = []\n",
    "for p in range(periods-1):\n",
    "    C_per_period.append(C // periods)\n",
    "\n",
    "C_per_period.append(C-sum(C_per_period))\n",
    "\n",
    "print(\"C_per_period: \", C_per_period)\n"
   ],
   "metadata": {
    "collapsed": false,
    "pycharm": {
     "name": "#%%\n"
    }
   }
  },
  {
   "cell_type": "code",
   "execution_count": 5,
   "outputs": [],
   "source": [
    "def get_nearest_store(stores, location):\n",
    "    min_distance = float(\"inf\")\n",
    "    nearest_store = stores[0]\n",
    "    for store in stores:\n",
    "        distance = location.euclidean_distance(store.location)\n",
    "        if distance < min_distance:\n",
    "            min_distance = distance\n",
    "            nearest_store = store\n",
    "    return nearest_store"
   ],
   "metadata": {
    "collapsed": false,
    "pycharm": {
     "name": "#%%\n"
    }
   }
  },
  {
   "cell_type": "code",
   "execution_count": 6,
   "outputs": [],
   "source": [
    "def generate_C_customers(C, stores):\n",
    "    customers = []\n",
    "    counter_locker_customer = 0\n",
    "    counter_door_to_door_customer = 0\n",
    "    for c in range(C):\n",
    "        location = Location(random.randint(0, map_size), random.randint(0, map_size))\n",
    "        if random.random() < ratio_locker_customers:\n",
    "            # customer locker\n",
    "            customers.append(LockerCustomer(c, counter_locker_customer, location, get_nearest_store(stores, location)))\n",
    "            counter_locker_customer += 1\n",
    "        else:\n",
    "            # door to door customer\n",
    "            customers.append(DoorToDoorCustomer(c, counter_door_to_door_customer, location))\n",
    "            counter_door_to_door_customer += 1\n",
    "    return customers"
   ],
   "metadata": {
    "collapsed": false,
    "pycharm": {
     "name": "#%%\n"
    }
   }
  },
  {
   "cell_type": "code",
   "execution_count": 7,
   "outputs": [],
   "source": [
    "# generates stores\n",
    "if custom_setup:\n",
    "    L = 2\n",
    "    stores = []\n",
    "    stores.append(Store(0, Location(60, 50), capacity=float(\"inf\"), is_warehouse=True))\n",
    "    stores.append(Store(1, Location(30, 50), capacity=math.ceil(0.8 * C / L)))\n",
    "    stores.append(Store(2, Location(50, 20), capacity=math.ceil(0.8 * C / L)))\n",
    "\n",
    "else:\n",
    "    stores = []\n",
    "    stores.append(Store(0, Location(random.randint(0, map_size), random.randint(0, map_size)), capacity=float(\"inf\"), is_warehouse=True))\n",
    "    for l in range(L):\n",
    "        stores.append(Store(l+1, Location(random.randint(0, map_size), random.randint(0, map_size)), capacity=math.ceil(0.8 * C / L)))"
   ],
   "metadata": {
    "collapsed": false,
    "pycharm": {
     "name": "#%%\n"
    }
   }
  },
  {
   "cell_type": "code",
   "execution_count": 8,
   "outputs": [],
   "source": [
    "# generate all_customer for all the periods and put them in the right period to be served\n",
    "all_customers = generate_C_customers(C, stores)\n",
    "customers_per_period = []\n",
    "counter_customer = 0\n",
    "for day in range(periods):\n",
    "    customers_per_period.append(all_customers[0+counter_customer:counter_customer+C_per_period[day]])\n",
    "    counter_customer += C_per_period[day]\n"
   ],
   "metadata": {
    "collapsed": false,
    "pycharm": {
     "name": "#%%\n"
    }
   }
  },
  {
   "cell_type": "code",
   "execution_count": 9,
   "outputs": [],
   "source": [
    "customers = customers_per_period[current_day]\n",
    "# create sets\n",
    "C_L = list(filter(lambda customer: type(customer) == LockerCustomer, customers))\n",
    "C_D = list(filter(lambda customer: type(customer) == DoorToDoorCustomer, customers))\n",
    "lockers = list(filter(lambda store: not store.is_warehouse, stores))\n",
    "\n",
    "# define all the vehicles\n",
    "sum_W_l = 0\n",
    "for store in stores:\n",
    "    if not store.is_warehouse:\n",
    "        sum_W_l += store.capacity\n",
    "\n",
    "# define all the vehicles\n",
    "if custom_setup:\n",
    "    vehicles = []\n",
    "    vehicles.append(Vehicle(0, VehicleType.LOCKER_SUPPLY, stores[0], math.ceil(0.8 * sum_W_l)))\n",
    "    vehicles.append(Vehicle(1, VehicleType.PF, stores[0], math.ceil(0.5 * len(C_D))))\n",
    "    vehicles.append(Vehicle(2, VehicleType.LF, stores[1], math.ceil(0.6 * stores[1].capacity)))\n",
    "    vehicles.append(Vehicle(3, VehicleType.LF, stores[2], math.ceil(0.6 * stores[2].capacity)))\n",
    "else:\n",
    "    vehicles = []\n",
    "    for store in stores:\n",
    "        if store.is_warehouse:\n",
    "            vehicles.append(Vehicle(0, VehicleType.LOCKER_SUPPLY, store, math.ceil(0.8 * sum_W_l)))\n",
    "            vehicles.append(Vehicle(1, VehicleType.PF, store, math.ceil(0.5 * len(C_D))))\n",
    "        else:\n",
    "            vehicles.append(Vehicle(store.index+1, VehicleType.LF, store, math.ceil(0.6 * store.capacity)))"
   ],
   "metadata": {
    "collapsed": false,
    "pycharm": {
     "name": "#%%\n"
    }
   }
  },
  {
   "cell_type": "code",
   "execution_count": 10,
   "outputs": [
    {
     "name": "stdout",
     "output_type": "stream",
     "text": [
      "DAY:  0\n",
      "OC:  [CL0, CL1, CL3]\n",
      "d_cd_oc:            CL0        CL1        CL3\n",
      "CD0  7.211103   7.211103   7.211103\n",
      "CD1  0.000000   0.000000   0.000000\n",
      "CD2  0.000000  45.177428  45.177428\n",
      "CD3  0.000000   0.000000  51.429563\n",
      "CD4  0.000000   0.000000  74.726167\n",
      "CD5  0.000000  15.231546  15.231546\n",
      "index_of_cl_associated_to_closest_locker:  ['Cl0->L2', 'Cl1->L2', 'Cl3->L2']\n",
      "Sk:  ['CD0', 'CD2', 'CD3', 'CD4', 'CD5']\n",
      "OC_unique:  ['Cl0', 'Cl1', 'Cl3']\n",
      "pck:  [[ 3.60555128  3.60555128  3.60555128]\n",
      " [ 0.         22.588714   22.588714  ]\n",
      " [ 0.          0.         25.71478174]\n",
      " [ 0.          0.         37.36308338]\n",
      " [ 0.          7.61577311  7.61577311]]\n",
      "Set parameter Username\n",
      "Academic license - for non-commercial use only - expires 2023-06-11\n",
      "day:  0 status:  2\n",
      "[CL0, CD0, CL3, CD5]\n",
      "\n",
      "DAY:  1\n",
      "OC:  []\n",
      "d_cd_oc:  Empty DataFrame\n",
      "Columns: []\n",
      "Index: [CD6, CD7, CD8, CD9, CD10, CD11, CD12, CD13, CD14]\n",
      "index_of_cl_associated_to_closest_locker:  []\n",
      "Sk:  []\n",
      "OC_unique:  []\n",
      "pck:  []\n",
      "day:  1 status:  2\n",
      "[]\n",
      "\n",
      "DAY:  2\n",
      "OC:  [CL5]\n",
      "d_cd_oc:              CL5\n",
      "CD15   0.000000\n",
      "CD16   0.000000\n",
      "CD17   0.000000\n",
      "CD18   0.000000\n",
      "CD19  24.515301\n",
      "CD20   0.000000\n",
      "CD21   0.000000\n",
      "CD22   0.000000\n",
      "CD23  34.655447\n",
      "index_of_cl_associated_to_closest_locker:  ['Cl0->L1']\n",
      "Sk:  ['CD4', 'CD8']\n",
      "OC_unique:  ['Cl0']\n",
      "pck:  []\n"
     ]
    },
    {
     "ename": "IndexError",
     "evalue": "index 0 is out of bounds for axis 0 with size 0",
     "output_type": "error",
     "traceback": [
      "\u001B[0;31m---------------------------------------------------------------------------\u001B[0m",
      "\u001B[0;31mIndexError\u001B[0m                                Traceback (most recent call last)",
      "\u001B[0;32m/tmp/ipykernel_50183/618526611.py\u001B[0m in \u001B[0;36m<module>\u001B[0;34m\u001B[0m\n\u001B[1;32m      6\u001B[0m     \u001B[0mC_D\u001B[0m \u001B[0;34m=\u001B[0m \u001B[0mlist\u001B[0m\u001B[0;34m(\u001B[0m\u001B[0mfilter\u001B[0m\u001B[0;34m(\u001B[0m\u001B[0;32mlambda\u001B[0m \u001B[0mcustomer\u001B[0m\u001B[0;34m:\u001B[0m \u001B[0mtype\u001B[0m\u001B[0;34m(\u001B[0m\u001B[0mcustomer\u001B[0m\u001B[0;34m)\u001B[0m \u001B[0;34m==\u001B[0m \u001B[0mDoorToDoorCustomer\u001B[0m\u001B[0;34m,\u001B[0m \u001B[0mcustomers\u001B[0m\u001B[0;34m)\u001B[0m\u001B[0;34m)\u001B[0m\u001B[0;34m\u001B[0m\u001B[0;34m\u001B[0m\u001B[0m\n\u001B[1;32m      7\u001B[0m \u001B[0;34m\u001B[0m\u001B[0m\n\u001B[0;32m----> 8\u001B[0;31m     \u001B[0mstatus\u001B[0m\u001B[0;34m,\u001B[0m \u001B[0mRuntime\u001B[0m\u001B[0;34m,\u001B[0m \u001B[0mObjVal\u001B[0m\u001B[0;34m,\u001B[0m \u001B[0mOC\u001B[0m\u001B[0;34m,\u001B[0m \u001B[0mw_c_k_variables\u001B[0m \u001B[0;34m=\u001B[0m \u001B[0msolve_period\u001B[0m\u001B[0;34m(\u001B[0m\u001B[0mstores\u001B[0m\u001B[0;34m,\u001B[0m \u001B[0mvehicles\u001B[0m\u001B[0;34m,\u001B[0m \u001B[0mcustomers_per_period\u001B[0m\u001B[0;34m[\u001B[0m\u001B[0mcurrent_day\u001B[0m\u001B[0;34m]\u001B[0m\u001B[0;34m)\u001B[0m\u001B[0;34m\u001B[0m\u001B[0;34m\u001B[0m\u001B[0m\n\u001B[0m\u001B[1;32m      9\u001B[0m     \u001B[0;32mif\u001B[0m \u001B[0mstatus\u001B[0m \u001B[0;34m!=\u001B[0m \u001B[0;36m2\u001B[0m\u001B[0;34m:\u001B[0m\u001B[0;34m\u001B[0m\u001B[0;34m\u001B[0m\u001B[0m\n\u001B[1;32m     10\u001B[0m         \u001B[0;32mraise\u001B[0m \u001B[0mException\u001B[0m\u001B[0;34m(\u001B[0m\u001B[0;34m\"Gurobi did not find the optimal solution for the model\"\u001B[0m\u001B[0;34m)\u001B[0m\u001B[0;34m\u001B[0m\u001B[0;34m\u001B[0m\u001B[0m\n",
      "\u001B[0;32m~/code/python/DataSpell/package_delivery_optimisation_problem/executor_multi_period.py\u001B[0m in \u001B[0;36msolve_period\u001B[0;34m(stores, vehicles, customers)\u001B[0m\n\u001B[1;32m    231\u001B[0m     \u001B[0;32mfor\u001B[0m \u001B[0mc\u001B[0m \u001B[0;32min\u001B[0m \u001B[0mrange\u001B[0m\u001B[0;34m(\u001B[0m\u001B[0mlen\u001B[0m\u001B[0;34m(\u001B[0m\u001B[0mSk\u001B[0m\u001B[0;34m)\u001B[0m\u001B[0;34m)\u001B[0m\u001B[0;34m:\u001B[0m\u001B[0;34m\u001B[0m\u001B[0;34m\u001B[0m\u001B[0m\n\u001B[1;32m    232\u001B[0m         \u001B[0;32mfor\u001B[0m \u001B[0mk\u001B[0m \u001B[0;32min\u001B[0m \u001B[0mrange\u001B[0m\u001B[0;34m(\u001B[0m\u001B[0mlen\u001B[0m\u001B[0;34m(\u001B[0m\u001B[0mOC\u001B[0m\u001B[0;34m)\u001B[0m\u001B[0;34m)\u001B[0m\u001B[0;34m:\u001B[0m\u001B[0;34m\u001B[0m\u001B[0;34m\u001B[0m\u001B[0m\n\u001B[0;32m--> 233\u001B[0;31m             \u001B[0;32mif\u001B[0m \u001B[0mpck\u001B[0m\u001B[0;34m[\u001B[0m\u001B[0mc\u001B[0m\u001B[0;34m]\u001B[0m\u001B[0;34m[\u001B[0m\u001B[0mk\u001B[0m\u001B[0;34m]\u001B[0m \u001B[0;34m==\u001B[0m \u001B[0;36m0\u001B[0m\u001B[0;34m:\u001B[0m\u001B[0;34m\u001B[0m\u001B[0;34m\u001B[0m\u001B[0m\n\u001B[0m\u001B[1;32m    234\u001B[0m                 \u001B[0mpck\u001B[0m\u001B[0;34m[\u001B[0m\u001B[0mc\u001B[0m\u001B[0;34m]\u001B[0m\u001B[0;34m[\u001B[0m\u001B[0mk\u001B[0m\u001B[0;34m]\u001B[0m \u001B[0;34m=\u001B[0m \u001B[0;36m100000\u001B[0m\u001B[0;34m\u001B[0m\u001B[0;34m\u001B[0m\u001B[0m\n\u001B[1;32m    235\u001B[0m \u001B[0;34m\u001B[0m\u001B[0m\n",
      "\u001B[0;31mIndexError\u001B[0m: index 0 is out of bounds for axis 0 with size 0"
     ]
    }
   ],
   "source": [
    "for day in range(periods):\n",
    "    print(\"DAY: \", day)\n",
    "    if day == 0:\n",
    "        customers = customers_per_period[current_day]\n",
    "    C_L = list(filter(lambda customer: type(customer) == LockerCustomer, customers))\n",
    "    C_D = list(filter(lambda customer: type(customer) == DoorToDoorCustomer, customers))\n",
    "\n",
    "    status, Runtime, ObjVal, OC, w_c_k_variables = solve_period(stores, vehicles, customers_per_period[current_day])\n",
    "    if status != 2:\n",
    "        raise Exception(\"Gurobi did not find the optimal solution for the model\")\n",
    "\n",
    "    print(\"day: \", day, \"status: \", status)\n",
    "\n",
    "    # discover the customers that did not get the package\n",
    "    customer_next_period = []\n",
    "    customers_did_not_get_the_package = []\n",
    "    for oc in OC:\n",
    "        if random.random() > gamma[current_day]:\n",
    "            customers_did_not_get_the_package.append(oc)\n",
    "            if oc in w_c_k_variables:\n",
    "                customers_did_not_get_the_package.append(w_c_k_variables[oc])\n",
    "\n",
    "    # make all the CD of the previous period prime\n",
    "    for c in customers_did_not_get_the_package:\n",
    "        if type(c) == DoorToDoorCustomer:\n",
    "            c.set_prime(True)\n",
    "\n",
    "    # add the new customer of the next period\n",
    "    print(customers_did_not_get_the_package)\n",
    "\n",
    "    customer_next_period =  customers_per_period[current_day+1]\n",
    "    customers = customers_did_not_get_the_package + customer_next_period\n",
    "\n",
    "    current_day +=1\n",
    "    print()"
   ],
   "metadata": {
    "collapsed": false,
    "pycharm": {
     "name": "#%%\n"
    }
   }
  },
  {
   "cell_type": "code",
   "execution_count": 30,
   "outputs": [],
   "source": [
    "status, Runtime, ObjVal, OC, w_c_k_variables = solve_period(stores, vehicles, customers_per_period[current_day])"
   ],
   "metadata": {
    "collapsed": false,
    "pycharm": {
     "name": "#%%\n"
    }
   }
  },
  {
   "cell_type": "code",
   "execution_count": 31,
   "outputs": [
    {
     "name": "stdout",
     "output_type": "stream",
     "text": [
      "[CL0]\n",
      "{CL0: CD2}\n"
     ]
    }
   ],
   "source": [
    "if status != 2:\n",
    "    raise Exception(\"Gurobi did not find the optimal solution for the model\")\n",
    "\n",
    "print(OC)\n",
    "print(w_c_k_variables)"
   ],
   "metadata": {
    "collapsed": false,
    "pycharm": {
     "name": "#%%\n"
    }
   }
  },
  {
   "cell_type": "code",
   "execution_count": 32,
   "outputs": [
    {
     "name": "stdout",
     "output_type": "stream",
     "text": [
      "[CL0, CD2]\n"
     ]
    }
   ],
   "source": [
    "# discover the customers that did not show up\n",
    "customer_next_period = []\n",
    "customers_did_not_get_the_package = []\n",
    "for oc in OC:\n",
    "    if random.random() > gamma[current_day]:\n",
    "        customers_did_not_get_the_package.append(oc)\n",
    "        if oc in w_c_k_variables:\n",
    "            customers_did_not_get_the_package.append(w_c_k_variables[oc])\n",
    "\n",
    "for c in customers_did_not_get_the_package:\n",
    "    if type(c) == DoorToDoorCustomer:\n",
    "        c.set_prime(True)\n",
    "\n",
    "# add the new customer of the next period\n",
    "\n",
    "print(customers_did_not_get_the_package)\n"
   ],
   "metadata": {
    "collapsed": false,
    "pycharm": {
     "name": "#%%\n"
    }
   }
  },
  {
   "cell_type": "code",
   "execution_count": 33,
   "outputs": [
    {
     "name": "stdout",
     "output_type": "stream",
     "text": [
      "[CD7, CD8, CD9, CL3, CD10, CD11, CL4, CD12, CD13, CL5]\n",
      "[CL0, CD2, CD7, CD8, CD9, CL3, CD10, CD11, CL4, CD12, CD13, CL5]\n"
     ]
    }
   ],
   "source": [
    "customer_next_period =  customers_per_period[current_day+1]\n",
    "print(customer_next_period)\n",
    "customers = customers_did_not_get_the_package + customer_next_period\n",
    "print(customers)"
   ],
   "metadata": {
    "collapsed": false,
    "pycharm": {
     "name": "#%%\n"
    }
   }
  },
  {
   "cell_type": "code",
   "execution_count": null,
   "outputs": [],
   "source": [],
   "metadata": {
    "collapsed": false,
    "pycharm": {
     "name": "#%%\n"
    }
   }
  }
 ],
 "metadata": {
  "kernelspec": {
   "display_name": "Python 3",
   "language": "python",
   "name": "python3"
  },
  "language_info": {
   "codemirror_mode": {
    "name": "ipython",
    "version": 2
   },
   "file_extension": ".py",
   "mimetype": "text/x-python",
   "name": "python",
   "nbconvert_exporter": "python",
   "pygments_lexer": "ipython2",
   "version": "2.7.6"
  }
 },
 "nbformat": 4,
 "nbformat_minor": 0
}