{
 "cells": [
  {
   "cell_type": "code",
   "execution_count": 1,
   "metadata": {
    "collapsed": true,
    "pycharm": {
     "name": "#%%\n"
    }
   },
   "outputs": [],
   "source": [
    "import numpy as np\n",
    "import matplotlib.pyplot as plt\n",
    "import pandas as pd\n",
    "from scipy.spatial import distance_matrix\n",
    "import random\n",
    "import math\n",
    "from operator import attrgetter\n",
    "from ordered_set import OrderedSet\n",
    "# if you use conda run this in your terminal: conda install -c conda-forge ordered-set\n",
    "import gurobipy as gb"
   ]
  },
  {
   "cell_type": "code",
   "execution_count": 2,
   "outputs": [],
   "source": [
    "# local files\n",
    "from customer import Customer\n",
    "from locker_customer import LockerCustomer\n",
    "from door_to_door_customer import DoorToDoorCustomer\n",
    "from location import Location\n",
    "from store import *\n",
    "from vehicle import Vehicle\n",
    "from vehicle_type import VehicleType\n",
    "from executor_multi_period import solve_period"
   ],
   "metadata": {
    "collapsed": false,
    "pycharm": {
     "name": "#%%\n"
    }
   }
  },
  {
   "cell_type": "code",
   "execution_count": 3,
   "outputs": [],
   "source": [
    "# input\n",
    "custom_setup = False\n",
    "C = 150\n",
    "L = 2\n",
    "periods = 5\n",
    "\n",
    "map_size = 100\n",
    "ratio_locker_customers = 0.3"
   ],
   "metadata": {
    "collapsed": false,
    "pycharm": {
     "name": "#%%\n"
    }
   }
  },
  {
   "cell_type": "code",
   "execution_count": 4,
   "outputs": [
    {
     "name": "stdout",
     "output_type": "stream",
     "text": [
      "gamma:  [0.5, 0.625, 0.6666666666666667, 0.75, 1]\n",
      "C_per_period:  [30, 30, 30, 30, 30]\n"
     ]
    }
   ],
   "source": [
    "# define gamma and current_day\n",
    "gamma = []\n",
    "gamma.append(0.5)\n",
    "\n",
    "for day in range(1, periods-1):\n",
    "    gamma.append((50 + (100-50)/(periods-day))/100)\n",
    "gamma.append(1)\n",
    "print(\"gamma: \", gamma)\n",
    "current_day = 0\n",
    "\n",
    "C_per_period = []\n",
    "for p in range(periods-1):\n",
    "    C_per_period.append(C // periods)\n",
    "\n",
    "C_per_period.append(C-sum(C_per_period))\n",
    "\n",
    "print(\"C_per_period: \", C_per_period)\n"
   ],
   "metadata": {
    "collapsed": false,
    "pycharm": {
     "name": "#%%\n"
    }
   }
  },
  {
   "cell_type": "code",
   "execution_count": 5,
   "outputs": [],
   "source": [
    "def get_nearest_store(stores, location):\n",
    "    min_distance = float(\"inf\")\n",
    "    nearest_store = stores[0]\n",
    "    for store in stores:\n",
    "        distance = location.euclidean_distance(store.location)\n",
    "        if distance < min_distance:\n",
    "            min_distance = distance\n",
    "            nearest_store = store\n",
    "    return nearest_store"
   ],
   "metadata": {
    "collapsed": false,
    "pycharm": {
     "name": "#%%\n"
    }
   }
  },
  {
   "cell_type": "code",
   "execution_count": 6,
   "outputs": [],
   "source": [
    "def generate_C_customers(C, stores):\n",
    "    customers = []\n",
    "    counter_locker_customer = 0\n",
    "    counter_door_to_door_customer = 0\n",
    "    for c in range(C):\n",
    "        location = Location(random.randint(0, map_size), random.randint(0, map_size))\n",
    "        if random.random() < ratio_locker_customers:\n",
    "            # customer locker\n",
    "            customers.append(LockerCustomer(c, counter_locker_customer, location, get_nearest_store(stores, location)))\n",
    "            counter_locker_customer += 1\n",
    "        else:\n",
    "            # door to door customer\n",
    "            customers.append(DoorToDoorCustomer(c, counter_door_to_door_customer, location))\n",
    "            counter_door_to_door_customer += 1\n",
    "    return customers"
   ],
   "metadata": {
    "collapsed": false,
    "pycharm": {
     "name": "#%%\n"
    }
   }
  },
  {
   "cell_type": "code",
   "execution_count": 7,
   "outputs": [],
   "source": [
    "# generates stores\n",
    "if custom_setup:\n",
    "    L = 2\n",
    "    stores = []\n",
    "    stores.append(Store(0, Location(60, 50), capacity=float(\"inf\"), is_warehouse=True))\n",
    "    stores.append(Store(1, Location(30, 50), capacity=math.ceil(0.8 * C / L)))\n",
    "    stores.append(Store(2, Location(50, 20), capacity=math.ceil(0.8 * C / L)))\n",
    "\n",
    "else:\n",
    "    stores = []\n",
    "    stores.append(Store(0, Location(random.randint(0, map_size), random.randint(0, map_size)), capacity=float(\"inf\"), is_warehouse=True))\n",
    "    for l in range(L):\n",
    "        stores.append(Store(l+1, Location(random.randint(0, map_size), random.randint(0, map_size)), capacity=math.ceil(0.8 * C / L)))"
   ],
   "metadata": {
    "collapsed": false,
    "pycharm": {
     "name": "#%%\n"
    }
   }
  },
  {
   "cell_type": "code",
   "execution_count": 8,
   "outputs": [],
   "source": [
    "# generate all_customer for all the periods and put them in the right period to be served\n",
    "all_customers = generate_C_customers(C, stores)\n",
    "customers_per_period = []\n",
    "counter_customer = 0\n",
    "for day in range(periods):\n",
    "    customers_per_period.append(all_customers[0+counter_customer:counter_customer+C_per_period[day]])\n",
    "    counter_customer += C_per_period[day]\n"
   ],
   "metadata": {
    "collapsed": false,
    "pycharm": {
     "name": "#%%\n"
    }
   }
  },
  {
   "cell_type": "code",
   "execution_count": 9,
   "outputs": [],
   "source": [
    "customers = customers_per_period[current_day]\n",
    "# create sets\n",
    "C_L = list(filter(lambda customer: type(customer) == LockerCustomer, customers))\n",
    "C_D = list(filter(lambda customer: type(customer) == DoorToDoorCustomer, customers))\n",
    "lockers = list(filter(lambda store: not store.is_warehouse, stores))\n",
    "\n",
    "# define all the vehicles\n",
    "sum_W_l = 0\n",
    "for store in stores:\n",
    "    if not store.is_warehouse:\n",
    "        sum_W_l += store.capacity\n",
    "\n",
    "# define all the vehicles\n",
    "if custom_setup:\n",
    "    vehicles = []\n",
    "    vehicles.append(Vehicle(0, VehicleType.LOCKER_SUPPLY, stores[0], math.ceil(0.8 * sum_W_l)))\n",
    "    vehicles.append(Vehicle(1, VehicleType.PF, stores[0], math.ceil(0.5 * len(C_D))))\n",
    "    vehicles.append(Vehicle(2, VehicleType.LF, stores[1], math.ceil(0.6 * stores[1].capacity)))\n",
    "    vehicles.append(Vehicle(3, VehicleType.LF, stores[2], math.ceil(0.6 * stores[2].capacity)))\n",
    "else:\n",
    "    vehicles = []\n",
    "    for store in stores:\n",
    "        if store.is_warehouse:\n",
    "            vehicles.append(Vehicle(0, VehicleType.LOCKER_SUPPLY, store, math.ceil(0.8 * sum_W_l)))\n",
    "            vehicles.append(Vehicle(1, VehicleType.PF, store, math.ceil(0.5 * len(C_D))))\n",
    "        else:\n",
    "            vehicles.append(Vehicle(store.index+1, VehicleType.LF, store, math.ceil(0.6 * store.capacity)))"
   ],
   "metadata": {
    "collapsed": false,
    "pycharm": {
     "name": "#%%\n"
    }
   }
  },
  {
   "cell_type": "code",
   "execution_count": null,
   "outputs": [
    {
     "name": "stdout",
     "output_type": "stream",
     "text": [
      "DAY:  0\n",
      "----------C_D_prime-----------\n",
      "[]\n",
      "Set parameter Username\n",
      "Academic license - for non-commercial use only - expires 2023-06-11\n",
      "-------w_c_k_variables-----------\n",
      "{CL3: CD9, CL4: CD3}\n",
      "----OC-------\n",
      "[CL1, CL2, CL3, CL4, CL5, CL6]\n",
      "L2\n",
      "L2\n",
      "day:  0 status:  2\n",
      "set c to prime:  CD9\n",
      "set c to prime:  CD3\n",
      "---------customers_did_not_get_the_package----------\n",
      "[CL1, CL2, CL3, CD9, CL4, CD3, CL5]\n",
      "--------customer_next_period-----------\n",
      "[CD23, CD24, CL7, CD25, CD26, CL8, CL9, CD27, CL10, CL11, CD28, CD29, CD30, CD31, CL12, CD32, CD33, CL13, CL14, CD34, CD35, CL15, CD36, CD37, CL16, CD38, CD39, CD40, CL17, CD41]\n",
      "--------customers-----------\n",
      "[CL1, CL2, CL3, CD9, CL4, CD3, CL5, CD23, CD24, CL7, CD25, CD26, CL8, CL9, CD27, CL10, CL11, CD28, CD29, CD30, CD31, CL12, CD32, CD33, CL13, CL14, CD34, CD35, CL15, CD36, CD37, CL16, CD38, CD39, CD40, CL17, CD41]\n",
      "\n",
      "DAY:  1\n",
      "----------C_D_prime-----------\n",
      "[CD9, CD3]\n",
      "-------w_c_k_variables-----------\n",
      "{CL17: CD36}\n",
      "----OC-------\n",
      "[CL1, CL3, CL4, CL5, CL8, CL10, CL11, CL12, CL13, CL16, CL17]\n",
      "W\n",
      "day:  1 status:  2\n",
      "set c to prime:  CD36\n",
      "---------customers_did_not_get_the_package----------\n",
      "[CL1, CL3, CL4, CL12, CL16, CL17, CD36]\n",
      "--------customer_next_period-----------\n",
      "[CD42, CD43, CD44, CD45, CD46, CD47, CD48, CD49, CL18, CD50, CD51, CD52, CD53, CD54, CD55, CD56, CD57, CL19, CD58, CD59, CD60, CD61, CL20, CD62, CD63, CD64, CD65, CD66, CL21, CD67]\n",
      "--------customers-----------\n",
      "[CL1, CL3, CL4, CL12, CL16, CL17, CD36, CD42, CD43, CD44, CD45, CD46, CD47, CD48, CD49, CL18, CD50, CD51, CD52, CD53, CD54, CD55, CD56, CD57, CL19, CD58, CD59, CD60, CD61, CL20, CD62, CD63, CD64, CD65, CD66, CL21, CD67]\n",
      "\n",
      "DAY:  2\n",
      "----------C_D_prime-----------\n",
      "[CD36]\n",
      "-------w_c_k_variables-----------\n",
      "{CL3: CD49, CL12: CD67, CL19: CD65}\n",
      "----OC-------\n",
      "[CL1, CL3, CL4, CL12, CL16, CL17, CL19, CL21]\n",
      "L2\n",
      "L2\n",
      "L1\n",
      "day:  2 status:  2\n",
      "set c to prime:  CD67\n",
      "set c to prime:  CD65\n",
      "---------customers_did_not_get_the_package----------\n",
      "[CL12, CD67, CL19, CD65]\n",
      "--------customer_next_period-----------\n",
      "[CD68, CD69, CD70, CD71, CL22, CD72, CD73, CD74, CL23, CD75, CL24, CD76, CD77, CD78, CD79, CL25, CD80, CD81, CD82, CD83, CD84, CL26, CD85, CD86, CL27, CL28, CD87, CD88, CD89, CL29]\n",
      "--------customers-----------\n",
      "[CL12, CD67, CL19, CD65, CD68, CD69, CD70, CD71, CL22, CD72, CD73, CD74, CL23, CD75, CL24, CD76, CD77, CD78, CD79, CL25, CD80, CD81, CD82, CD83, CD84, CL26, CD85, CD86, CL27, CL28, CD87, CD88, CD89, CL29]\n",
      "\n",
      "DAY:  3\n",
      "----------C_D_prime-----------\n",
      "[CD67, CD65]\n",
      "-------w_c_k_variables-----------\n",
      "{CL12: CD86, CL19: CD81, CL25: CD80, CL29: CD65}\n",
      "----OC-------\n",
      "[CL12, CL19, CL22, CL23, CL25, CL27, CL29]\n",
      "L2\n",
      "L1\n",
      "W\n",
      "L1\n",
      "day:  3 status:  2\n",
      "set c to prime:  CD86\n",
      "set c to prime:  CD81\n",
      "---------customers_did_not_get_the_package----------\n",
      "[CL12, CD86, CL19, CD81, CL27]\n",
      "--------customer_next_period-----------\n",
      "[CL30, CD90, CL31, CD91, CD92, CD93, CD94, CL32, CD95, CD96, CL33, CD97, CD98, CD99, CD100, CD101, CL34, CL35, CD102, CL36, CD103, CD104, CD105, CD106, CD107, CD108, CD109, CL37, CD110, CD111]\n",
      "--------customers-----------\n",
      "[CL12, CD86, CL19, CD81, CL27, CL30, CD90, CL31, CD91, CD92, CD93, CD94, CL32, CD95, CD96, CL33, CD97, CD98, CD99, CD100, CD101, CL34, CL35, CD102, CL36, CD103, CD104, CD105, CD106, CD107, CD108, CD109, CL37, CD110, CD111]\n",
      "\n",
      "DAY:  4\n",
      "----------C_D_prime-----------\n",
      "[CD86, CD81]\n"
     ]
    }
   ],
   "source": [
    "for day in range(periods):\n",
    "    print(\"DAY: \", day)\n",
    "    if day == 0:\n",
    "        customers = customers_per_period[current_day]\n",
    "    C_L = list(filter(lambda customer: type(customer) == LockerCustomer, customers))\n",
    "    C_D = list(filter(lambda customer: type(customer) == DoorToDoorCustomer, customers))\n",
    "\n",
    "    status, Runtime, ObjVal, OC, w_c_k_variables = solve_period(stores, vehicles, customers)\n",
    "\n",
    "    print(\"-------w_c_k_variables-----------\")\n",
    "    print(w_c_k_variables)\n",
    "\n",
    "    print(\"----OC-------\")\n",
    "    print(OC)\n",
    "\n",
    "    for wck in w_c_k_variables:\n",
    "        print(wck.store)\n",
    "\n",
    "    if status != 2:\n",
    "        raise Exception(\"Gurobi did not find the optimal solution for the model\")\n",
    "\n",
    "    print(\"day: \", day, \"status: \", status)\n",
    "\n",
    "    # discover the customers that did not get the package\n",
    "    customer_next_period = []\n",
    "    customers_did_not_get_the_package = []\n",
    "    for oc in OC:\n",
    "        if random.random() > gamma[current_day]:\n",
    "            customers_did_not_get_the_package.append(oc)\n",
    "            if oc in w_c_k_variables:\n",
    "                customers_did_not_get_the_package.append(w_c_k_variables[oc])\n",
    "\n",
    "    # make all the CD of the previous period prime\n",
    "    for c in customers_did_not_get_the_package:\n",
    "        if type(c) == DoorToDoorCustomer:\n",
    "            print(\"set c to prime: \", c)\n",
    "            c.set_prime(True)\n",
    "\n",
    "    # add the new customer of the next period\n",
    "    print(\"---------customers_did_not_get_the_package----------\")\n",
    "    print(customers_did_not_get_the_package)\n",
    "\n",
    "    if current_day+1 < periods:\n",
    "        customer_next_period =  customers_per_period[current_day+1]\n",
    "        customers = customers_did_not_get_the_package + customer_next_period\n",
    "\n",
    "    print(\"--------customer_next_period-----------\")\n",
    "    print(customer_next_period)\n",
    "    print(\"--------customers-----------\")\n",
    "    print(customers)\n",
    "\n",
    "    current_day +=1\n",
    "    print()"
   ],
   "metadata": {
    "collapsed": false,
    "pycharm": {
     "name": "#%%\n",
     "is_executing": true
    }
   }
  },
  {
   "cell_type": "code",
   "execution_count": 11,
   "outputs": [
    {
     "ename": "IndexError",
     "evalue": "list index out of range",
     "output_type": "error",
     "traceback": [
      "\u001B[0;31m---------------------------------------------------------------------------\u001B[0m",
      "\u001B[0;31mIndexError\u001B[0m                                Traceback (most recent call last)",
      "\u001B[0;32m/tmp/ipykernel_19619/3570497939.py\u001B[0m in \u001B[0;36m<module>\u001B[0;34m\u001B[0m\n\u001B[0;32m----> 1\u001B[0;31m \u001B[0mstatus\u001B[0m\u001B[0;34m,\u001B[0m \u001B[0mRuntime\u001B[0m\u001B[0;34m,\u001B[0m \u001B[0mObjVal\u001B[0m\u001B[0;34m,\u001B[0m \u001B[0mOC\u001B[0m\u001B[0;34m,\u001B[0m \u001B[0mw_c_k_variables\u001B[0m \u001B[0;34m=\u001B[0m \u001B[0msolve_period\u001B[0m\u001B[0;34m(\u001B[0m\u001B[0mstores\u001B[0m\u001B[0;34m,\u001B[0m \u001B[0mvehicles\u001B[0m\u001B[0;34m,\u001B[0m \u001B[0mcustomers_per_period\u001B[0m\u001B[0;34m[\u001B[0m\u001B[0mcurrent_day\u001B[0m\u001B[0;34m]\u001B[0m\u001B[0;34m)\u001B[0m\u001B[0;34m\u001B[0m\u001B[0;34m\u001B[0m\u001B[0m\n\u001B[0m",
      "\u001B[0;31mIndexError\u001B[0m: list index out of range"
     ]
    }
   ],
   "source": [
    "status, Runtime, ObjVal, OC, w_c_k_variables = solve_period(stores, vehicles, customers_per_period[current_day])"
   ],
   "metadata": {
    "collapsed": false,
    "pycharm": {
     "name": "#%%\n"
    }
   }
  },
  {
   "cell_type": "code",
   "execution_count": null,
   "outputs": [],
   "source": [
    "if status != 2:\n",
    "    raise Exception(\"Gurobi did not find the optimal solution for the model\")\n",
    "\n",
    "print(OC)\n",
    "print(w_c_k_variables)"
   ],
   "metadata": {
    "collapsed": false,
    "pycharm": {
     "name": "#%%\n"
    }
   }
  },
  {
   "cell_type": "code",
   "execution_count": null,
   "outputs": [],
   "source": [
    "# discover the customers that did not show up\n",
    "customer_next_period = []\n",
    "customers_did_not_get_the_package = []\n",
    "for oc in OC:\n",
    "    if random.random() > gamma[current_day]:\n",
    "        customers_did_not_get_the_package.append(oc)\n",
    "        if oc in w_c_k_variables:\n",
    "            customers_did_not_get_the_package.append(w_c_k_variables[oc])\n",
    "\n",
    "for c in customers_did_not_get_the_package:\n",
    "    if type(c) == DoorToDoorCustomer:\n",
    "        c.set_prime(True)\n",
    "\n",
    "# add the new customer of the next period\n",
    "\n",
    "print(customers_did_not_get_the_package)\n"
   ],
   "metadata": {
    "collapsed": false,
    "pycharm": {
     "name": "#%%\n"
    }
   }
  },
  {
   "cell_type": "code",
   "execution_count": null,
   "outputs": [],
   "source": [
    "customer_next_period =  customers_per_period[current_day+1]\n",
    "print(customer_next_period)\n",
    "customers = customers_did_not_get_the_package + customer_next_period\n",
    "print(customers)"
   ],
   "metadata": {
    "collapsed": false,
    "pycharm": {
     "name": "#%%\n"
    }
   }
  },
  {
   "cell_type": "code",
   "execution_count": null,
   "outputs": [],
   "source": [],
   "metadata": {
    "collapsed": false,
    "pycharm": {
     "name": "#%%\n"
    }
   }
  }
 ],
 "metadata": {
  "kernelspec": {
   "display_name": "Python 3",
   "language": "python",
   "name": "python3"
  },
  "language_info": {
   "codemirror_mode": {
    "name": "ipython",
    "version": 2
   },
   "file_extension": ".py",
   "mimetype": "text/x-python",
   "name": "python",
   "nbconvert_exporter": "python",
   "pygments_lexer": "ipython2",
   "version": "2.7.6"
  }
 },
 "nbformat": 4,
 "nbformat_minor": 0
}