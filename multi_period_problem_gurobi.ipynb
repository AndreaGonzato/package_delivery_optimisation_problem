{
 "cells": [
  {
   "cell_type": "code",
   "execution_count": 1,
   "metadata": {
    "collapsed": true,
    "pycharm": {
     "name": "#%%\n"
    }
   },
   "outputs": [],
   "source": [
    "import numpy as np\n",
    "import matplotlib.pyplot as plt\n",
    "import pandas as pd\n",
    "from scipy.spatial import distance_matrix\n",
    "import random\n",
    "import math\n",
    "from operator import attrgetter\n",
    "from ordered_set import OrderedSet\n",
    "# if you use conda run this in your terminal: conda install -c conda-forge ordered-set\n",
    "import gurobipy as gb"
   ]
  },
  {
   "cell_type": "code",
   "execution_count": 2,
   "outputs": [],
   "source": [
    "# local files\n",
    "from customer import Customer\n",
    "from locker_customer import LockerCustomer\n",
    "from door_to_door_customer import DoorToDoorCustomer\n",
    "from location import Location\n",
    "from store import *\n",
    "from vehicle import Vehicle\n",
    "from vehicle_type import VehicleType\n",
    "from executor_multi_period import solve_period"
   ],
   "metadata": {
    "collapsed": false,
    "pycharm": {
     "name": "#%%\n"
    }
   }
  },
  {
   "cell_type": "code",
   "execution_count": 3,
   "outputs": [],
   "source": [
    "# input\n",
    "custom_setup = False\n",
    "C = 150\n",
    "L = 2\n",
    "periods = 5\n",
    "\n",
    "map_size = 100\n",
    "ratio_locker_customers = 0.3"
   ],
   "metadata": {
    "collapsed": false,
    "pycharm": {
     "name": "#%%\n"
    }
   }
  },
  {
   "cell_type": "code",
   "execution_count": 4,
   "outputs": [
    {
     "name": "stdout",
     "output_type": "stream",
     "text": [
      "gamma:  [0.5, 0.625, 0.6666666666666667, 0.75, 1]\n",
      "C_per_period:  [30, 30, 30, 30, 30]\n"
     ]
    }
   ],
   "source": [
    "# define gamma and current_day\n",
    "gamma = []\n",
    "gamma.append(0.5)\n",
    "\n",
    "for day in range(1, periods-1):\n",
    "    gamma.append((50 + (100-50)/(periods-day))/100)\n",
    "gamma.append(1)\n",
    "print(\"gamma: \", gamma)\n",
    "current_day = 0\n",
    "\n",
    "C_per_period = []\n",
    "for p in range(periods-1):\n",
    "    C_per_period.append(C // periods)\n",
    "\n",
    "C_per_period.append(C-sum(C_per_period))\n",
    "\n",
    "print(\"C_per_period: \", C_per_period)\n"
   ],
   "metadata": {
    "collapsed": false,
    "pycharm": {
     "name": "#%%\n"
    }
   }
  },
  {
   "cell_type": "code",
   "execution_count": 5,
   "outputs": [],
   "source": [
    "def get_nearest_store(stores, location):\n",
    "    min_distance = float(\"inf\")\n",
    "    nearest_store = stores[0]\n",
    "    for store in stores:\n",
    "        distance = location.euclidean_distance(store.location)\n",
    "        if distance < min_distance:\n",
    "            min_distance = distance\n",
    "            nearest_store = store\n",
    "    return nearest_store"
   ],
   "metadata": {
    "collapsed": false,
    "pycharm": {
     "name": "#%%\n"
    }
   }
  },
  {
   "cell_type": "code",
   "execution_count": 6,
   "outputs": [],
   "source": [
    "def generate_C_customers(C, stores):\n",
    "    customers = []\n",
    "    counter_locker_customer = 0\n",
    "    counter_door_to_door_customer = 0\n",
    "    for c in range(C):\n",
    "        location = Location(random.randint(0, map_size), random.randint(0, map_size))\n",
    "        if random.random() < ratio_locker_customers:\n",
    "            # customer locker\n",
    "            customers.append(LockerCustomer(c, counter_locker_customer, location, get_nearest_store(stores, location)))\n",
    "            counter_locker_customer += 1\n",
    "        else:\n",
    "            # door to door customer\n",
    "            customers.append(DoorToDoorCustomer(c, counter_door_to_door_customer, location))\n",
    "            counter_door_to_door_customer += 1\n",
    "    return customers"
   ],
   "metadata": {
    "collapsed": false,
    "pycharm": {
     "name": "#%%\n"
    }
   }
  },
  {
   "cell_type": "code",
   "execution_count": 7,
   "outputs": [],
   "source": [
    "# generates stores\n",
    "capacity_constant = 0.8 + gamma[0]\n",
    "if custom_setup:\n",
    "    L = 2\n",
    "    stores = []\n",
    "    stores.append(Store(0, Location(60, 50), capacity=float(\"inf\"), is_warehouse=True))\n",
    "    stores.append(Store(1, Location(30, 50), capacity=math.ceil(capacity_constant * C_per_period[0] / L)))\n",
    "    stores.append(Store(2, Location(50, 20), capacity=math.ceil(capacity_constant * C_per_period[0] / L)))\n",
    "\n",
    "else:\n",
    "    stores = []\n",
    "    stores.append(Store(0, Location(random.randint(0, map_size), random.randint(0, map_size)), capacity=float(\"inf\"), is_warehouse=True))\n",
    "    for l in range(L):\n",
    "        stores.append(Store(l+1, Location(random.randint(0, map_size), random.randint(0, map_size)), capacity=math.ceil(capacity_constant * C_per_period[0] / L)))"
   ],
   "metadata": {
    "collapsed": false,
    "pycharm": {
     "name": "#%%\n"
    }
   }
  },
  {
   "cell_type": "code",
   "execution_count": 8,
   "outputs": [
    {
     "name": "stdout",
     "output_type": "stream",
     "text": [
      "20\n",
      "[30, 30, 30, 30, 30]\n"
     ]
    }
   ],
   "source": [
    "print(stores[1].capacity)\n",
    "print(C_per_period)"
   ],
   "metadata": {
    "collapsed": false,
    "pycharm": {
     "name": "#%%\n"
    }
   }
  },
  {
   "cell_type": "code",
   "execution_count": 9,
   "outputs": [],
   "source": [
    "# generate all_customer for all the periods and put them in the right period to be served\n",
    "all_customers = generate_C_customers(C, stores)\n",
    "customers_per_period = []\n",
    "counter_customer = 0\n",
    "for day in range(periods):\n",
    "    customers_per_period.append(all_customers[0+counter_customer:counter_customer+C_per_period[day]])\n",
    "    counter_customer += C_per_period[day]\n"
   ],
   "metadata": {
    "collapsed": false,
    "pycharm": {
     "name": "#%%\n"
    }
   }
  },
  {
   "cell_type": "code",
   "execution_count": 10,
   "outputs": [],
   "source": [
    "customers = customers_per_period[current_day]\n",
    "# create sets\n",
    "C_L = list(filter(lambda customer: type(customer) == LockerCustomer, customers))\n",
    "C_D = list(filter(lambda customer: type(customer) == DoorToDoorCustomer, customers))\n",
    "lockers = list(filter(lambda store: not store.is_warehouse, stores))\n",
    "\n",
    "# define all the vehicles\n",
    "sum_W_l = 0\n",
    "for store in stores:\n",
    "    if not store.is_warehouse:\n",
    "        sum_W_l += store.capacity\n",
    "\n",
    "# define all the vehicles\n",
    "if custom_setup:\n",
    "    vehicles = []\n",
    "    vehicles.append(Vehicle(0, VehicleType.LOCKER_SUPPLY, stores[0], math.ceil(0.8 * sum_W_l)))\n",
    "    vehicles.append(Vehicle(1, VehicleType.PF, stores[0], math.ceil(0.5 * len(C_D))))\n",
    "    vehicles.append(Vehicle(2, VehicleType.LF, stores[1], math.ceil(0.6 * stores[1].capacity)))\n",
    "    vehicles.append(Vehicle(3, VehicleType.LF, stores[2], math.ceil(0.6 * stores[2].capacity)))\n",
    "else:\n",
    "    vehicles = []\n",
    "    for store in stores:\n",
    "        if store.is_warehouse:\n",
    "            vehicles.append(Vehicle(0, VehicleType.LOCKER_SUPPLY, store, math.ceil(0.8 * sum_W_l)))\n",
    "            vehicles.append(Vehicle(1, VehicleType.PF, store, math.ceil(0.5 * len(C_D))))\n",
    "        else:\n",
    "            vehicles.append(Vehicle(store.index+1, VehicleType.LF, store, math.ceil(0.6 * store.capacity)))"
   ],
   "metadata": {
    "collapsed": false,
    "pycharm": {
     "name": "#%%\n"
    }
   }
  },
  {
   "cell_type": "code",
   "execution_count": 11,
   "outputs": [
    {
     "name": "stdout",
     "output_type": "stream",
     "text": [
      "DAY:  0\n",
      "----------customers_did_not_get_the_package_CL-----------\n",
      "[]\n",
      "-------Sk-----------\n",
      "[CD1, CD3, CD4, CD5, CD7, CD8, CD9, CD10, CD11, CD12, CD14, CD16]\n",
      "Set parameter Username\n",
      "Academic license - for non-commercial use only - expires 2023-06-11\n",
      "-------w_c_k_variables-----------\n",
      "{CL0: CD10, CL2: CD8, CL3: CD5, CL4: CD12, CL6: CD7, CL8: CD9, CL9: CD11}\n",
      "----OC-------\n",
      "[CL0, CL2, CL3, CL4, CL6, CL7, CL8, CL9]\n",
      "day:  0 status:  2\n",
      "set c to prime:  CD8\n",
      "set c to prime:  CD5\n",
      "set c to prime:  CD9\n",
      "set c to prime:  CD11\n",
      "---------customers_did_not_get_the_package----------\n",
      "[CL2, CD8, CL3, CD5, CL8, CD9, CL9, CD11]\n",
      "\n",
      "DAY:  1\n",
      "----------customers_did_not_get_the_package_CL-----------\n",
      "[CL2, CL3, CL8, CL9]\n",
      "-------Sk-----------\n",
      "[CD19, CD20, CD21, CD22, CD23, CD24, CD25, CD26, CD27, CD28, CD29, CD30, CD32, CD33, CD34, CD35, CD36, CD37]\n",
      "-------w_c_k_variables-----------\n",
      "{CL13: CD30, CL14: CD37, CL15: CD29, CL16: CD25, CL19: CD36}\n",
      "----OC-------\n",
      "[CL2, CL3, CL8, CL9, CL11, CL13, CL14, CL15, CL16, CL17, CL18, CL19]\n",
      "day:  1 status:  2\n",
      "---------customers_did_not_get_the_package----------\n",
      "[CL2, CL3, CL8, CL18]\n",
      "\n",
      "DAY:  2\n",
      "----------customers_did_not_get_the_package_CL-----------\n",
      "[CL2, CL3, CL8, CL18]\n",
      "-------Sk-----------\n",
      "[CD38, CD40, CD41, CD42, CD43, CD44, CD45, CD46, CD47, CD48, CD49, CD50, CD51, CD52, CD53, CD54, CD55, CD56, CD57]\n",
      "-------w_c_k_variables-----------\n",
      "{CL3: CD51, CL8: CD54, CL22: CD50, CL23: CD48, CL26: CD42, CL27: CD41, CL28: CD56, CL30: CD44}\n",
      "----OC-------\n",
      "[CL2, CL3, CL8, CL22, CL23, CL26, CL27, CL28, CL29, CL30]\n",
      "day:  2 status:  2\n",
      "set c to prime:  CD54\n",
      "set c to prime:  CD50\n",
      "set c to prime:  CD56\n",
      "---------customers_did_not_get_the_package----------\n",
      "[CL8, CD54, CL22, CD50, CL28, CD56, CL29]\n",
      "\n",
      "DAY:  3\n",
      "----------customers_did_not_get_the_package_CL-----------\n",
      "[CL8, CL22, CL28, CL29]\n",
      "-------Sk-----------\n",
      "[CD58, CD59, CD60, CD61, CD62, CD63, CD64, CD66, CD67, CD69, CD70, CD72, CD73, CD74, CD78, CD79]\n",
      "-------w_c_k_variables-----------\n",
      "{CL28: CD69, CL32: CD59, CL38: CD78}\n",
      "----OC-------\n",
      "[CL8, CL22, CL28, CL32, CL34, CL35, CL36, CL38, CL39]\n",
      "day:  3 status:  2\n",
      "set c to prime:  CD69\n",
      "set c to prime:  CD78\n",
      "---------customers_did_not_get_the_package----------\n",
      "[CL28, CD69, CL38, CD78]\n",
      "\n",
      "DAY:  4\n",
      "----------customers_did_not_get_the_package_CL-----------\n",
      "[CL28, CL38]\n",
      "-------Sk-----------\n",
      "[CD80, CD81, CD82, CD84, CD85, CD86, CD87, CD89, CD90, CD91, CD92, CD93, CD95, CD96, CD97, CD98, CD99, CD100, CD101]\n",
      "-------w_c_k_variables-----------\n",
      "{CL40: CD91, CL43: CD93, CL45: CD99, CL46: CD90}\n",
      "----OC-------\n",
      "[CL28, CL40, CL41, CL42, CL43, CL44, CL45, CL46]\n",
      "day:  4 status:  2\n",
      "---------customers_did_not_get_the_package----------\n",
      "[]\n",
      "\n"
     ]
    }
   ],
   "source": [
    "for day in range(periods):\n",
    "    print(\"DAY: \", day)\n",
    "    if day == 0:\n",
    "        customers = customers_per_period[current_day]\n",
    "    C_L = list(filter(lambda customer: type(customer) == LockerCustomer, customers))\n",
    "    C_D = list(filter(lambda customer: type(customer) == DoorToDoorCustomer, customers))\n",
    "\n",
    "    status, Runtime, ObjVal, OC, w_c_k_variables = solve_period(stores, vehicles, customers)\n",
    "\n",
    "    print(\"-------w_c_k_variables-----------\")\n",
    "    print(w_c_k_variables)\n",
    "\n",
    "    print(\"----OC-------\")\n",
    "    print(OC)\n",
    "\n",
    "    if status != 2:\n",
    "        raise Exception(\"Gurobi did not find the optimal solution for the model\")\n",
    "\n",
    "    print(\"day: \", day, \"status: \", status)\n",
    "\n",
    "    # discover the customers that did not get the package\n",
    "    customer_next_period = []\n",
    "    customers_did_not_get_the_package = []\n",
    "    for oc in OC:\n",
    "        if random.random() > gamma[current_day]:\n",
    "            customers_did_not_get_the_package.append(oc)\n",
    "            if oc in w_c_k_variables:\n",
    "                customers_did_not_get_the_package.append(w_c_k_variables[oc])\n",
    "\n",
    "    # make all the CD of the previous period prime\n",
    "    for c in customers_did_not_get_the_package:\n",
    "        if type(c) == DoorToDoorCustomer:\n",
    "            print(\"set c to prime: \", c)\n",
    "            c.set_prime(True)\n",
    "\n",
    "    # add the new customer of the next period\n",
    "    print(\"---------customers_did_not_get_the_package----------\")\n",
    "    print(customers_did_not_get_the_package)\n",
    "\n",
    "    customers_did_not_get_the_package_CL = list(filter(lambda customer: type(customer) == LockerCustomer, customers_did_not_get_the_package))\n",
    "    for c in customers_did_not_get_the_package_CL:\n",
    "        c.set_did_not_show_up(True)\n",
    "\n",
    "    '''\n",
    "    # reduce the capacity of store for the customer that did not show up and left the packege in the store\n",
    "    key_list_w_c_k = list(w_c_k_variables.keys())\n",
    "    val_list_w_c_k = list(w_c_k_variables.values())\n",
    "    for c in customers_did_not_get_the_package:\n",
    "        if type(c) == LockerCustomer:\n",
    "            c.store.set_capacity(c.store.capacity-1)\n",
    "        if type(c) == DoorToDoorCustomer:\n",
    "            position = val_list_w_c_k.index(c)\n",
    "            key_list_w_c_k[position].store.set_capacity(key_list_w_c_k[position].store.capacity-1)\n",
    "    '''\n",
    "\n",
    "    if current_day+1 < periods:\n",
    "        customer_next_period =  customers_per_period[current_day+1]\n",
    "        customers = customers_did_not_get_the_package + customer_next_period\n",
    "\n",
    "\n",
    "    current_day +=1\n",
    "    print()"
   ],
   "metadata": {
    "collapsed": false,
    "pycharm": {
     "name": "#%%\n"
    }
   }
  },
  {
   "cell_type": "code",
   "execution_count": 11,
   "outputs": [
    {
     "name": "stdout",
     "output_type": "stream",
     "text": [
      "inf\n"
     ]
    }
   ],
   "source": [],
   "metadata": {
    "collapsed": false,
    "pycharm": {
     "name": "#%%\n"
    }
   }
  },
  {
   "cell_type": "code",
   "execution_count": null,
   "outputs": [],
   "source": [],
   "metadata": {
    "collapsed": false,
    "pycharm": {
     "name": "#%%\n"
    }
   }
  }
 ],
 "metadata": {
  "kernelspec": {
   "display_name": "Python 3",
   "language": "python",
   "name": "python3"
  },
  "language_info": {
   "codemirror_mode": {
    "name": "ipython",
    "version": 2
   },
   "file_extension": ".py",
   "mimetype": "text/x-python",
   "name": "python",
   "nbconvert_exporter": "python",
   "pygments_lexer": "ipython2",
   "version": "2.7.6"
  }
 },
 "nbformat": 4,
 "nbformat_minor": 0
}