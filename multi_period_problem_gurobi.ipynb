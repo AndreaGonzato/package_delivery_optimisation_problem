{
 "cells": [
  {
   "cell_type": "code",
   "execution_count": 1,
   "metadata": {
    "collapsed": true,
    "pycharm": {
     "name": "#%%\n"
    }
   },
   "outputs": [],
   "source": [
    "import numpy as np\n",
    "import matplotlib.pyplot as plt\n",
    "import pandas as pd\n",
    "from scipy.spatial import distance_matrix\n",
    "import random\n",
    "import math\n",
    "from operator import attrgetter\n",
    "from ordered_set import OrderedSet\n",
    "# if you use conda run this in your terminal: conda install -c conda-forge ordered-set\n",
    "import gurobipy as gb"
   ]
  },
  {
   "cell_type": "code",
   "execution_count": 2,
   "outputs": [],
   "source": [
    "# local files\n",
    "from customer import Customer\n",
    "from locker_customer import LockerCustomer\n",
    "from door_to_door_customer import DoorToDoorCustomer\n",
    "from location import Location\n",
    "from store import *\n",
    "from vehicle import Vehicle\n",
    "from vehicle_type import VehicleType\n",
    "from executor_multi_period import solve_period"
   ],
   "metadata": {
    "collapsed": false,
    "pycharm": {
     "name": "#%%\n"
    }
   }
  },
  {
   "cell_type": "code",
   "execution_count": 3,
   "outputs": [],
   "source": [
    "# input\n",
    "custom_setup = False\n",
    "C = 53\n",
    "L = 2\n",
    "periods = 5\n",
    "\n",
    "map_size = 100\n",
    "ratio_locker_customers = 0.3"
   ],
   "metadata": {
    "collapsed": false,
    "pycharm": {
     "name": "#%%\n"
    }
   }
  },
  {
   "cell_type": "code",
   "execution_count": 4,
   "outputs": [
    {
     "name": "stdout",
     "output_type": "stream",
     "text": [
      "gamma:  [0.5, 0.625, 0.6666666666666667, 0.75, 1]\n",
      "C_per_period:  [10, 10, 10, 10, 13]\n"
     ]
    }
   ],
   "source": [
    "# define gamma and current_day\n",
    "gamma = []\n",
    "gamma.append(0.5)\n",
    "\n",
    "for day in range(1, periods-1):\n",
    "    gamma.append((50 + (100-50)/(periods-day))/100)\n",
    "gamma.append(1)\n",
    "print(\"gamma: \", gamma)\n",
    "current_day = 0\n",
    "\n",
    "C_per_period = []\n",
    "for p in range(periods-1):\n",
    "    C_per_period.append(C // periods)\n",
    "\n",
    "C_per_period.append(C-sum(C_per_period))\n",
    "\n",
    "print(\"C_per_period: \", C_per_period)\n"
   ],
   "metadata": {
    "collapsed": false,
    "pycharm": {
     "name": "#%%\n"
    }
   }
  },
  {
   "cell_type": "code",
   "execution_count": 5,
   "outputs": [],
   "source": [
    "def get_nearest_store(stores, location):\n",
    "    min_distance = float(\"inf\")\n",
    "    nearest_store = stores[0]\n",
    "    for store in stores:\n",
    "        distance = location.euclidean_distance(store.location)\n",
    "        if distance < min_distance:\n",
    "            min_distance = distance\n",
    "            nearest_store = store\n",
    "    return nearest_store"
   ],
   "metadata": {
    "collapsed": false,
    "pycharm": {
     "name": "#%%\n"
    }
   }
  },
  {
   "cell_type": "code",
   "execution_count": 6,
   "outputs": [],
   "source": [
    "def generate_C_customers(C, stores):\n",
    "    customers = []\n",
    "    counter_locker_customer = 0\n",
    "    counter_door_to_door_customer = 0\n",
    "    for c in range(C):\n",
    "        location = Location(random.randint(0, map_size), random.randint(0, map_size))\n",
    "        if random.random() < ratio_locker_customers:\n",
    "            # customer locker\n",
    "            customers.append(LockerCustomer(c, counter_locker_customer, location, get_nearest_store(stores, location)))\n",
    "            counter_locker_customer += 1\n",
    "        else:\n",
    "            # door to door customer\n",
    "            customers.append(DoorToDoorCustomer(c, counter_door_to_door_customer, location))\n",
    "            counter_door_to_door_customer += 1\n",
    "    return customers"
   ],
   "metadata": {
    "collapsed": false,
    "pycharm": {
     "name": "#%%\n"
    }
   }
  },
  {
   "cell_type": "code",
   "execution_count": 7,
   "outputs": [],
   "source": [
    "# generates stores\n",
    "if custom_setup:\n",
    "    L = 2\n",
    "    stores = []\n",
    "    stores.append(Store(0, Location(60, 50), capacity=float(\"inf\"), is_warehouse=True))\n",
    "    stores.append(Store(1, Location(30, 50), capacity=math.ceil(0.8 * C / L)))\n",
    "    stores.append(Store(2, Location(50, 20), capacity=math.ceil(0.8 * C / L)))\n",
    "\n",
    "else:\n",
    "    stores = []\n",
    "    stores.append(Store(0, Location(random.randint(0, map_size), random.randint(0, map_size)), capacity=float(\"inf\"), is_warehouse=True))\n",
    "    for l in range(L):\n",
    "        stores.append(Store(l+1, Location(random.randint(0, map_size), random.randint(0, map_size)), capacity=math.ceil(0.8 * C / L)))"
   ],
   "metadata": {
    "collapsed": false,
    "pycharm": {
     "name": "#%%\n"
    }
   }
  },
  {
   "cell_type": "code",
   "execution_count": 13,
   "outputs": [],
   "source": [
    "# generate all_customer for all the periods and put them in the right period to be served\n",
    "all_customers = generate_C_customers(C, stores)\n",
    "customers_per_period = []\n",
    "counter_customer = 0\n",
    "for day in range(periods):\n",
    "    customers_per_period.append(all_customers[0+counter_customer:counter_customer+C_per_period[day]])\n",
    "    counter_customer += C_per_period[day]\n"
   ],
   "metadata": {
    "collapsed": false,
    "pycharm": {
     "name": "#%%\n"
    }
   }
  },
  {
   "cell_type": "code",
   "execution_count": 14,
   "outputs": [],
   "source": [
    "customers = customers_per_period[current_day]\n",
    "# create sets\n",
    "C_L = list(filter(lambda customer: type(customer) == LockerCustomer, customers))\n",
    "C_D = list(filter(lambda customer: type(customer) == DoorToDoorCustomer, customers))\n",
    "lockers = list(filter(lambda store: not store.is_warehouse, stores))\n",
    "\n",
    "# define all the vehicles\n",
    "sum_W_l = 0\n",
    "for store in stores:\n",
    "    if not store.is_warehouse:\n",
    "        sum_W_l += store.capacity\n",
    "\n",
    "# define all the vehicles\n",
    "if custom_setup:\n",
    "    vehicles = []\n",
    "    vehicles.append(Vehicle(0, VehicleType.LOCKER_SUPPLY, stores[0], math.ceil(0.8 * sum_W_l)))\n",
    "    vehicles.append(Vehicle(1, VehicleType.PF, stores[0], math.ceil(0.5 * len(C_D))))\n",
    "    vehicles.append(Vehicle(2, VehicleType.LF, stores[1], math.ceil(0.6 * stores[1].capacity)))\n",
    "    vehicles.append(Vehicle(3, VehicleType.LF, stores[2], math.ceil(0.6 * stores[2].capacity)))\n",
    "else:\n",
    "    vehicles = []\n",
    "    for store in stores:\n",
    "        if store.is_warehouse:\n",
    "            vehicles.append(Vehicle(0, VehicleType.LOCKER_SUPPLY, store, math.ceil(0.8 * sum_W_l)))\n",
    "            vehicles.append(Vehicle(1, VehicleType.PF, store, math.ceil(0.5 * len(C_D))))\n",
    "        else:\n",
    "            vehicles.append(Vehicle(store.index+1, VehicleType.LF, store, math.ceil(0.6 * store.capacity)))"
   ],
   "metadata": {
    "collapsed": false,
    "pycharm": {
     "name": "#%%\n"
    }
   }
  },
  {
   "cell_type": "code",
   "execution_count": 15,
   "outputs": [],
   "source": [
    "status, Runtime, ObjVal, OC, w_c_k_variables = solve_period(stores, vehicles, customers)"
   ],
   "metadata": {
    "collapsed": false,
    "pycharm": {
     "name": "#%%\n"
    }
   }
  },
  {
   "cell_type": "code",
   "execution_count": 16,
   "outputs": [
    {
     "name": "stdout",
     "output_type": "stream",
     "text": [
      "[CL0, CL1]\n",
      "{CL1: CD0}\n"
     ]
    }
   ],
   "source": [
    "if status != 2:\n",
    "    raise Exception(\"Gurobi did not find the optimal solution for the model\")\n",
    "\n",
    "print(OC)\n",
    "print(w_c_k_variables)"
   ],
   "metadata": {
    "collapsed": false,
    "pycharm": {
     "name": "#%%\n"
    }
   }
  },
  {
   "cell_type": "code",
   "execution_count": 17,
   "outputs": [
    {
     "name": "stdout",
     "output_type": "stream",
     "text": [
      "[CL1, CD0]\n",
      "[CD0, CD1, CD2, CD3, CD4, CD5, CL0, CL1, CL2, CD6, CL3, CD7, CL4, CD8, CD9, CD10, CD11, CD12, CD13, CD14, CD15, CL5, CL6, CD16, CD17, CL7, CD18, CL8, CD19, CD20, CL9, CD21, CD22, CD23, CL10, CL11, CL12, CL13, CL14, CD24, CD25, CD26, CL15, CD27, CD28, CL16, CD29, CL17, CD30, CD31, CL18, CD32, CD33]\n",
      "[CL1, CD0, CD0, CD1, CD2, CD3, CD4, CD5, CL0, CL1, CL2, CD6, CL3, CD7, CL4, CD8, CD9, CD10, CD11, CD12, CD13, CD14, CD15, CL5, CL6, CD16, CD17, CL7, CD18, CL8, CD19, CD20, CL9, CD21, CD22, CD23, CL10, CL11, CL12, CL13, CL14, CD24, CD25, CD26, CL15, CD27, CD28, CL16, CD29, CL17, CD30, CD31, CL18, CD32, CD33]\n"
     ]
    }
   ],
   "source": [
    "# discover the customers that did not show up\n",
    "customer_next_period = []\n",
    "customers_did_not_get_the_package = []\n",
    "for oc in OC:\n",
    "    if random.random() > gamma[current_day]:\n",
    "        customers_did_not_get_the_package.append(oc)\n",
    "        if oc in w_c_k_variables:\n",
    "            customers_did_not_get_the_package.append(w_c_k_variables[oc])\n",
    "\n",
    "\n",
    "# add the new customer of the next period\n",
    "\n",
    "print(customers_did_not_get_the_package)\n"
   ],
   "metadata": {
    "collapsed": false,
    "pycharm": {
     "name": "#%%\n"
    }
   }
  },
  {
   "cell_type": "code",
   "execution_count": 20,
   "outputs": [
    {
     "name": "stdout",
     "output_type": "stream",
     "text": [
      "[CD6, CD7, CD8, CD9, CD10, CD11, CL4, CL5, CD12, CL6]\n",
      "[CL1, CD0, CD6, CD7, CD8, CD9, CD10, CD11, CL4, CL5, CD12, CL6]\n"
     ]
    }
   ],
   "source": [
    "customer_next_period =  customers_per_period[current_day+1]\n",
    "print(customer_next_period)\n",
    "customers = customers_did_not_get_the_package + customer_next_period\n",
    "print(customers)"
   ],
   "metadata": {
    "collapsed": false,
    "pycharm": {
     "name": "#%%\n"
    }
   }
  },
  {
   "cell_type": "code",
   "execution_count": null,
   "outputs": [],
   "source": [],
   "metadata": {
    "collapsed": false,
    "pycharm": {
     "name": "#%%\n"
    }
   }
  }
 ],
 "metadata": {
  "kernelspec": {
   "display_name": "Python 3",
   "language": "python",
   "name": "python3"
  },
  "language_info": {
   "codemirror_mode": {
    "name": "ipython",
    "version": 2
   },
   "file_extension": ".py",
   "mimetype": "text/x-python",
   "name": "python",
   "nbconvert_exporter": "python",
   "pygments_lexer": "ipython2",
   "version": "2.7.6"
  }
 },
 "nbformat": 4,
 "nbformat_minor": 0
}