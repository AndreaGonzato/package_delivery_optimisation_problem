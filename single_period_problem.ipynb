{
 "cells": [
  {
   "cell_type": "code",
   "execution_count": 1,
   "outputs": [
    {
     "name": "stdout",
     "output_type": "stream",
     "text": [
      "Using the Community license in this session. If you have a full Xpress license, first set the XPAUTH_PATH environment variable to the full path to your license file, xpauth.xpr, and then restart Python. If you want to use the FICO Community license and no longer want to see this message, set the XPAUTH_PATH environment variable to: /home/andrea/anaconda3/lib/python3.9/site-packages/xpress/license/community-xpauth.xpr\n",
      "NB: setting XPAUTH_PATH will also affect any other Xpress products installed on your system.\n"
     ]
    }
   ],
   "source": [
    "import numpy as np\n",
    "import matplotlib.pyplot as plt\n",
    "import pandas as pd\n",
    "from scipy.spatial import distance_matrix\n",
    "import random\n",
    "import math\n",
    "import xpress  as xp\n",
    "import random"
   ],
   "metadata": {
    "collapsed": false,
    "pycharm": {
     "name": "#%%\n"
    }
   }
  },
  {
   "cell_type": "code",
   "execution_count": 2,
   "outputs": [],
   "source": [
    "from customer import Customer\n",
    "from locker_customer import LockerCustomer\n",
    "from door_to_door_customer import DoorToDoorCustomer\n",
    "from location import Location\n",
    "from store import Store\n",
    "from vehicle import Vehicle\n",
    "from vehicle_type import VehicleType"
   ],
   "metadata": {
    "collapsed": false,
    "pycharm": {
     "name": "#%%\n"
    }
   }
  },
  {
   "cell_type": "code",
   "execution_count": 3,
   "outputs": [],
   "source": [
    "# input\n",
    "custom_setup = True\n",
    "C = 15\n",
    "L = 3\n",
    "\n",
    "map_size = 100\n",
    "ratio_locker_customers = 0.3\n",
    "ratio_prime_door_to_door_customer = 0.4"
   ],
   "metadata": {
    "collapsed": false,
    "pycharm": {
     "name": "#%%\n"
    }
   }
  },
  {
   "cell_type": "code",
   "execution_count": 4,
   "outputs": [],
   "source": [
    "# generate data\n",
    "if custom_setup:\n",
    "    C = 8\n",
    "    L = 2\n",
    "    stores = []\n",
    "    stores.append(Store(Location(60, 50), capacity=float(\"inf\"), is_warehouse=True))\n",
    "    stores.append(Store(Location(30, 50), capacity=math.ceil(0.8 * C / L)))\n",
    "    stores.append(Store(Location(50, 20), capacity=math.ceil(0.8 * C / L)))\n",
    "\n",
    "    customers = []\n",
    "    customers.append(LockerCustomer(Location(10, 28), stores[1]))\n",
    "    customers.append(DoorToDoorCustomer(Location(20, 40), prime=False))\n",
    "    customers.append(DoorToDoorCustomer(Location(15, 70), prime=False))\n",
    "    customers.append(DoorToDoorCustomer(Location(30, 70), prime=True))\n",
    "    customers.append(DoorToDoorCustomer(Location(80, 60), prime=True))\n",
    "    customers.append(LockerCustomer(Location(70, 40), stores[0]))\n",
    "    customers.append(DoorToDoorCustomer(Location(90, 50), prime=False))\n",
    "    customers.append(LockerCustomer(Location(40, 15), stores[2]))\n",
    "else:\n",
    "    stores = []\n",
    "    stores.append(Store(Location(random.randint(0, map_size), random.randint(0, map_size)), capacity=float(\"inf\")))\n",
    "    for l in range(L):\n",
    "        stores.append(Store(Location(random.randint(0, map_size), random.randint(0, map_size)), capacity=math.ceil(0.8 * C / L)))\n",
    "\n",
    "    customers = []\n",
    "    for c in range(C):\n",
    "        if random.random() < ratio_locker_customers:\n",
    "            customers.append(LockerCustomer(Location(random.randint(0, map_size), random.randint(0, map_size)), Customer.get_nearest_store(stores)))\n",
    "        else:\n",
    "            if random.random() < ratio_prime_door_to_door_customer:\n",
    "                customers.append(DoorToDoorCustomer(Location(random.randint(0, map_size), random.randint(0, map_size)), prime=True))\n",
    "            else:\n",
    "                customers.append(DoorToDoorCustomer(Location(random.randint(0, map_size), random.randint(0, map_size)), prime=False))\n"
   ],
   "metadata": {
    "collapsed": false,
    "pycharm": {
     "name": "#%%\n"
    }
   }
  },
  {
   "cell_type": "code",
   "execution_count": 5,
   "outputs": [],
   "source": [
    "# create sets\n",
    "C_L = list(filter(lambda customer: type(customer) == LockerCustomer, customers))\n",
    "C_D = list(filter(lambda customer: type(customer) == DoorToDoorCustomer, customers))\n",
    "S_k = list(filter(lambda customer: type(customer) == DoorToDoorCustomer and customer.prime == False, customers))\n",
    "lockers = list(filter(lambda store: not store.is_warehouse, stores))\n",
    "\n",
    "sum_W_l = 0\n",
    "for store in stores:\n",
    "    if not store.is_warehouse:\n",
    "        sum_W_l += store.capacity\n",
    "\n",
    "# define all the vehicles\n",
    "if custom_setup:\n",
    "    vehicles = []\n",
    "    vehicles.append(Vehicle(VehicleType.LOCKER_SUPPLY, stores[0], math.ceil(0.8 * sum_W_l)))\n",
    "    vehicles.append(Vehicle(VehicleType.PF, stores[0], math.ceil(0.5 * len(C_D))))\n",
    "    vehicles.append(Vehicle(VehicleType.LF, stores[1], math.ceil(0.6 * stores[1].capacity)))\n",
    "    vehicles.append(Vehicle(VehicleType.LF, stores[2], math.ceil(0.6 * stores[2].capacity)))\n",
    "else:\n",
    "    vehicles = []\n",
    "    for store in stores:\n",
    "        if store.is_warehouse:\n",
    "            vehicles.append(Vehicle(VehicleType.LOCKER_SUPPLY, store, math.ceil(0.8 * sum_W_l)))\n",
    "            vehicles.append(Vehicle(VehicleType.PF, store, math.ceil(0.5 * len(C_D))))\n",
    "        else:\n",
    "            vehicles.append(Vehicle(VehicleType.LF, store, math.ceil(0.6 * store.capacity)))\n"
   ],
   "metadata": {
    "collapsed": false,
    "pycharm": {
     "name": "#%%\n"
    }
   }
  },
  {
   "cell_type": "code",
   "execution_count": 6,
   "outputs": [],
   "source": [
    "# define some np.array to plot the map\n",
    "CD_location = np.array([[0,0]])\n",
    "CL_location = np.array([[0,0]])\n",
    "S_k_location = np.array([[0,0]])\n",
    "L_location = np.array([[0,0]])\n",
    "W_location = np.array([[0,0]])\n",
    "\n",
    "for store in stores:\n",
    "    if store.is_warehouse:\n",
    "        W_location = np.vstack([W_location, [store.location.x, store.location.y]])\n",
    "    else:\n",
    "        L_location = np.vstack([L_location, [store.location.x, store.location.y]])\n",
    "for cd in C_D:\n",
    "    CD_location = np.vstack([CD_location, [cd.location.x, cd.location.y]])\n",
    "for cl in C_L:\n",
    "    CL_location = np.vstack([CL_location, [cl.location.x, cl.location.y]])\n",
    "for sk in S_k:\n",
    "    S_k_location = np.vstack([S_k_location, [sk.location.x, sk.location.y]])\n",
    "\n",
    "S_k_location = np.delete(S_k_location,0,0)\n",
    "CD_location = np.delete(CD_location, 0, 0)\n",
    "CL_location = np.delete(CL_location, 0, 0)\n",
    "L_location = np.delete(L_location, 0, 0)\n",
    "W_location = np.delete(W_location, 0, 0)"
   ],
   "metadata": {
    "collapsed": false,
    "pycharm": {
     "name": "#%%\n"
    }
   }
  },
  {
   "cell_type": "code",
   "execution_count": 7,
   "outputs": [
    {
     "data": {
      "text/plain": "<matplotlib.collections.PathCollection at 0x7fb6d65c02e0>"
     },
     "execution_count": 7,
     "metadata": {},
     "output_type": "execute_result"
    },
    {
     "data": {
      "text/plain": "<Figure size 432x288 with 1 Axes>",
      "image/png": "[encoded data removed]"
     },
     "metadata": {
      "needs_background": "light"
     },
     "output_type": "display_data"
    }
   ],
   "source": [
    "# plot the map\n",
    "plt.scatter(CD_location[:,0],CD_location[:,1],color='b')\n",
    "plt.scatter(CL_location[:,0],CL_location[:,1],color='m')\n",
    "plt.scatter(W_location[:,0],W_location[:,1],color='g',marker='D')\n",
    "plt.scatter(L_location[:,0],L_location[:,1],color ='y',marker='s')"
   ],
   "metadata": {
    "collapsed": false,
    "pycharm": {
     "name": "#%%\n"
    }
   }
  },
  {
   "cell_type": "code",
   "execution_count": 8,
   "outputs": [
    {
     "name": "stdout",
     "output_type": "stream",
     "text": [
      "             W         L1         L2        CD0        CD1        CD2  \\\n",
      "W     0.000000  30.000000  31.622777  41.231056  49.244289  36.055513   \n",
      "L1   30.000000   0.000000  36.055513  14.142136  25.000000  20.000000   \n",
      "L2   31.622777  36.055513   0.000000  36.055513  61.032778  53.851648   \n",
      "CD0  41.231056  14.142136  36.055513   0.000000  30.413813  31.622777   \n",
      "CD1  49.244289  25.000000  61.032778  30.413813   0.000000  15.000000   \n",
      "CD2  36.055513  20.000000  53.851648  31.622777  15.000000   0.000000   \n",
      "CD3  22.360680  50.990195  50.000000  63.245553  65.764732  50.990195   \n",
      "CD4  30.000000  60.000000  50.000000  70.710678  77.620873  63.245553   \n",
      "CL0  54.626001  29.732137  40.792156  15.620499  42.296572  46.518813   \n",
      "CL1  14.142136  41.231056  28.284271  50.000000  62.649820  50.000000   \n",
      "CL2  40.311289  36.400549  11.180340  32.015621  60.415230  55.901699   \n",
      "\n",
      "           CD3        CD4        CL0        CL1        CL2  \n",
      "W    22.360680  30.000000  54.626001  14.142136  40.311289  \n",
      "L1   50.990195  60.000000  29.732137  41.231056  36.400549  \n",
      "L2   50.000000  50.000000  40.792156  28.284271  11.180340  \n",
      "CD0  63.245553  70.710678  15.620499  50.000000  32.015621  \n",
      "CD1  65.764732  77.620873  42.296572  62.649820  60.415230  \n",
      "CD2  50.990195  63.245553  46.518813  50.000000  55.901699  \n",
      "CD3   0.000000  14.142136  76.967526  22.360680  60.207973  \n",
      "CD4  14.142136   0.000000  82.969874  22.360680  61.032778  \n",
      "CL0  76.967526  82.969874   0.000000  61.188234  32.695565  \n",
      "CL1  22.360680  22.360680  61.188234   0.000000  39.051248  \n",
      "CL2  60.207973  61.032778  32.695565  39.051248   0.000000  \n"
     ]
    }
   ],
   "source": [
    "#calcolo la matrice delle distanze:\n",
    "\n",
    "all_locations = np.array([])\n",
    "all_locations = np.append(all_locations,W_location)\n",
    "all_locations = np.vstack([all_locations,L_location])\n",
    "all_locations = np.vstack([all_locations,CD_location])\n",
    "all_locations = np.vstack([all_locations,CL_location])\n",
    "\n",
    "all_buildings = stores + C_D + C_L\n",
    "\n",
    "df = pd.DataFrame(all_locations, columns=['xcord', 'ycord'], index=all_buildings)\n",
    "dist_matrix = pd.DataFrame(distance_matrix(df.values, df.values), index=df.index, columns=df.index)\n",
    "matrix_distance_converted_in_numpy =dist_matrix.to_numpy()\n",
    "print(dist_matrix)\n"
   ],
   "metadata": {
    "collapsed": false,
    "pycharm": {
     "name": "#%%\n"
    }
   }
  },
  {
   "cell_type": "code",
   "execution_count": 9,
   "outputs": [
    {
     "name": "stdout",
     "output_type": "stream",
     "text": [
      "            W         L1         L2\n",
      "W    0.000000  30.000000  31.622777\n",
      "L1  30.000000   0.000000  36.055513\n",
      "L2  31.622777  36.055513   0.000000\n",
      "             W        CD0        CD1        CD2        CD3        CD4\n",
      "W     0.000000  41.231056  49.244289  36.055513  22.360680  30.000000\n",
      "CD0  41.231056   0.000000  30.413813  31.622777  63.245553  70.710678\n",
      "CD1  49.244289  30.413813   0.000000  15.000000  65.764732  77.620873\n",
      "CD2  36.055513  31.622777  15.000000   0.000000  50.990195  63.245553\n",
      "CD3  22.360680  63.245553  65.764732  50.990195   0.000000  14.142136\n",
      "CD4  30.000000  70.710678  77.620873  63.245553  14.142136   0.000000\n",
      "            L1         L2        CD0        CD1        CD2        CD3  \\\n",
      "L1    0.000000  36.055513  14.142136  25.000000  20.000000  50.990195   \n",
      "L2   36.055513   0.000000  36.055513  61.032778  53.851648  50.000000   \n",
      "CD0  14.142136  36.055513   0.000000  30.413813  31.622777  63.245553   \n",
      "CD1  25.000000  61.032778  30.413813   0.000000  15.000000  65.764732   \n",
      "CD2  20.000000  53.851648  31.622777  15.000000   0.000000  50.990195   \n",
      "CD3  50.990195  50.000000  63.245553  65.764732  50.990195   0.000000   \n",
      "CD4  60.000000  50.000000  70.710678  77.620873  63.245553  14.142136   \n",
      "\n",
      "           CD4  \n",
      "L1   60.000000  \n",
      "L2   50.000000  \n",
      "CD0  70.710678  \n",
      "CD1  77.620873  \n",
      "CD2  63.245553  \n",
      "CD3  14.142136  \n",
      "CD4   0.000000  \n"
     ]
    }
   ],
   "source": [
    "#filter data\n",
    "\n",
    "supply_distances_matrix = dist_matrix.filter(items=stores, axis=1)\n",
    "supply_distances_matrix = supply_distances_matrix.filter(items=stores, axis=0)\n",
    "print(supply_distances_matrix)\n",
    "\n",
    "PF_distances_matrix = dist_matrix.filter(items=[stores[0]] + C_D, axis=1)\n",
    "PF_distances_matrix = PF_distances_matrix.filter(items=[stores[0]] + C_D, axis=0)\n",
    "print(PF_distances_matrix)\n",
    "\n",
    "LF_distances_matrix = dist_matrix.filter(items=lockers+C_D, axis=1)\n",
    "LF_distances_matrix = LF_distances_matrix.filter(items=lockers + C_D, axis=0)\n",
    "print(LF_distances_matrix)\n"
   ],
   "metadata": {
    "collapsed": false,
    "pycharm": {
     "name": "#%%\n"
    }
   }
  },
  {
   "cell_type": "code",
   "execution_count": 10,
   "outputs": [
    {
     "name": "stdout",
     "output_type": "stream",
     "text": [
      "<class 'list'>\n",
      "<class 'list'>\n"
     ]
    }
   ],
   "source": [
    "print(type(stores))\n",
    "print(type(C_D))"
   ],
   "metadata": {
    "collapsed": false,
    "pycharm": {
     "name": "#%%\n"
    }
   }
  },
  {
   "cell_type": "code",
   "execution_count": 11,
   "outputs": [
    {
     "name": "stdout",
     "output_type": "stream",
     "text": [
      "            W         L1         L2\n",
      "W    0.000000  22.500000  23.717082\n",
      "L1  22.500000   0.000000  27.041635\n",
      "L2  23.717082  27.041635   0.000000\n",
      "             W        CD0        CD1        CD2        CD3        CD4\n",
      "W     0.000000  41.231056  49.244289  36.055513  22.360680  30.000000\n",
      "CD0  41.231056   0.000000  30.413813  31.622777  63.245553  70.710678\n",
      "CD1  49.244289  30.413813   0.000000  15.000000  65.764732  77.620873\n",
      "CD2  36.055513  31.622777  15.000000   0.000000  50.990195  63.245553\n",
      "CD3  22.360680  63.245553  65.764732  50.990195   0.000000  14.142136\n",
      "CD4  30.000000  70.710678  77.620873  63.245553  14.142136   0.000000\n",
      "            L1         L2        CD0        CD1        CD2        CD3  \\\n",
      "L1    0.000000  30.647186  12.020815  21.250000  17.000000  43.341666   \n",
      "L2   30.647186   0.000000  30.647186  51.877861  45.773901  42.500000   \n",
      "CD0  12.020815  30.647186   0.000000  25.851741  26.879360  53.758720   \n",
      "CD1  21.250000  51.877861  25.851741   0.000000  12.750000  55.900022   \n",
      "CD2  17.000000  45.773901  26.879360  12.750000   0.000000  43.341666   \n",
      "CD3  43.341666  42.500000  53.758720  55.900022  43.341666   0.000000   \n",
      "CD4  51.000000  42.500000  60.104076  65.977742  53.758720  12.020815   \n",
      "\n",
      "           CD4  \n",
      "L1   51.000000  \n",
      "L2   42.500000  \n",
      "CD0  60.104076  \n",
      "CD1  65.977742  \n",
      "CD2  53.758720  \n",
      "CD3  12.020815  \n",
      "CD4   0.000000  \n"
     ]
    }
   ],
   "source": [
    "# Delivery Cost\n",
    "\n",
    "pi = 1\n",
    "pi_l = 0.85\n",
    "pi_L = 0.75\n",
    "\n",
    "PF_delivery_cost = pi*PF_distances_matrix\n",
    "LF_delivery_cost = pi_l*LF_distances_matrix\n",
    "supply_cost = pi_L*supply_distances_matrix\n",
    "print(supply_cost)\n",
    "print(PF_delivery_cost)\n",
    "print(LF_delivery_cost)\n"
   ],
   "metadata": {
    "collapsed": false,
    "pycharm": {
     "name": "#%%\n"
    }
   }
  },
  {
   "cell_type": "code",
   "execution_count": 12,
   "outputs": [
    {
     "name": "stdout",
     "output_type": "stream",
     "text": [
      "            L1        CD0        CD1        CD2        CD3        CD4\n",
      "L1    0.000000  12.020815  21.250000  17.000000  43.341666  51.000000\n",
      "CD0  12.020815   0.000000  25.851741  26.879360  53.758720  60.104076\n",
      "CD1  21.250000  25.851741   0.000000  12.750000  55.900022  65.977742\n",
      "CD2  17.000000  26.879360  12.750000   0.000000  43.341666  53.758720\n",
      "CD3  43.341666  53.758720  55.900022  43.341666   0.000000  12.020815\n",
      "CD4  51.000000  60.104076  65.977742  53.758720  12.020815   0.000000\n",
      "            L2        CD0        CD1        CD2        CD3        CD4\n",
      "L2    0.000000  30.647186  51.877861  45.773901  42.500000  42.500000\n",
      "CD0  30.647186   0.000000  25.851741  26.879360  53.758720  60.104076\n",
      "CD1  51.877861  25.851741   0.000000  12.750000  55.900022  65.977742\n",
      "CD2  45.773901  26.879360  12.750000   0.000000  43.341666  53.758720\n",
      "CD3  42.500000  53.758720  55.900022  43.341666   0.000000  12.020815\n",
      "CD4  42.500000  60.104076  65.977742  53.758720  12.020815   0.000000\n"
     ]
    }
   ],
   "source": [
    "\n",
    "LF_delivery_cost_multidim = np.zeros((L,len(C_D)+1,len(C_D)+1))\n",
    "\n",
    "for i in range(L):\n",
    "    l = [0]\n",
    "    l[0]=lockers[i]\n",
    "    ls = LF_delivery_cost.filter(items=l+C_D,axis=1)\n",
    "    ls = ls.filter(items=l+C_D,axis=0)\n",
    "    print(ls)\n",
    "    lt = ls.to_numpy()\n",
    "    for j in range(1+len(C_D)):\n",
    "        for k in range(1+len(C_D)):\n",
    "            LF_delivery_cost_multidim[i][j][k]=lt[j][k]\n"
   ],
   "metadata": {
    "collapsed": false,
    "pycharm": {
     "name": "#%%\n"
    }
   }
  },
  {
   "cell_type": "code",
   "execution_count": 13,
   "outputs": [
    {
     "name": "stdout",
     "output_type": "stream",
     "text": [
      "             W         L1         L2        Sk0        Sk1        Sk2\n",
      "W     0.000000  30.000000  31.622777  41.231056  49.244289  30.000000\n",
      "L1   30.000000   0.000000  36.055513  14.142136  25.000000  60.000000\n",
      "L2   31.622777  36.055513   0.000000  36.055513  61.032778  50.000000\n",
      "Sk0  41.231056  14.142136  36.055513   0.000000  30.413813  70.710678\n",
      "Sk1  49.244289  25.000000  61.032778  30.413813   0.000000  77.620873\n",
      "Sk2  30.000000  60.000000  50.000000  70.710678  77.620873   0.000000\n",
      "          CL0        CL1        CL2\n",
      "W   54.626001  14.142136  40.311289\n",
      "L1  29.732137  41.231056  36.400549\n",
      "L2  40.792156  28.284271  11.180340\n",
      "CL0    L1\n",
      "CL1     W\n",
      "CL2    L2\n",
      "dtype: object\n",
      "[L1, W, L2]\n",
      "          Sk0        Sk1   Sk2\n",
      "L1  14.142136  25.000000  60.0\n",
      "W   41.231056  49.244289  30.0\n",
      "L2  36.055513  61.032778  50.0\n",
      "          Sk0        Sk1   Sk2\n",
      "L1   7.071068  12.500000  30.0\n",
      "W   20.615528  24.622145  15.0\n",
      "L2  18.027756  30.516389  25.0\n",
      "[[ 7.07106781 12.5        30.        ]\n",
      " [20.61552813 24.6221445  15.        ]\n",
      " [18.02775638 30.51638904 25.        ]]\n"
     ]
    }
   ],
   "source": [
    "#compensation\n",
    "\n",
    "compensation_locations = np.array([])\n",
    "compensation_locations = np.append(compensation_locations,W_location)\n",
    "compensation_locations = np.vstack([compensation_locations,L_location])\n",
    "compensation_locations = np.vstack([compensation_locations,S_k_location])\n",
    "\n",
    "#define indexes for the subset S_k\n",
    "S_k_indexes = []\n",
    "for s in range(len(S_k_location)):\n",
    "    S_k_indexes.append(\"Sk\"+str(s))\n",
    "\n",
    "df_compensation = pd.DataFrame(compensation_locations, columns=['xcord', 'ycord'], index=stores+S_k_indexes)\n",
    "compensation_matrix= pd.DataFrame(distance_matrix(df_compensation.values, df_compensation.values), index=df_compensation.index, columns=df_compensation.index)\n",
    "\n",
    "print(compensation_matrix)\n",
    "\n",
    "\n",
    "distance_matrix_customer_locker_store = dist_matrix.filter(items=C_L,axis=1)\n",
    "distance_matrix_customer_locker_store = distance_matrix_customer_locker_store.filter(items=stores,axis=0)\n",
    "print(distance_matrix_customer_locker_store)\n",
    "\n",
    "\n",
    "closest_store_to_CL = distance_matrix_customer_locker_store.idxmin()\n",
    "print(closest_store_to_CL)\n",
    "\n",
    "index_close_locker = []\n",
    "for i in range(len(closest_store_to_CL)):\n",
    "    index_close_locker.append(closest_store_to_CL[i])\n",
    "print(index_close_locker)\n",
    "\n",
    "\n",
    "# TODO matrix layout to reformat\n",
    "d_ak_c = compensation_matrix.filter(items = S_k_indexes,axis=1)\n",
    "d_ak_c=d_ak_c.filter(items=index_close_locker,axis=0)\n",
    "print(d_ak_c)\n",
    "\n",
    "ro = 0.5\n",
    "compensation_matrix_cost = ro*d_ak_c\n",
    "print(compensation_matrix_cost)\n",
    "compensation_matrix_cost_multidim = compensation_matrix_cost.to_numpy()\n",
    "print(compensation_matrix_cost_multidim)\n"
   ],
   "metadata": {
    "collapsed": false,
    "pycharm": {
     "name": "#%%\n"
    }
   }
  },
  {
   "cell_type": "code",
   "execution_count": 14,
   "outputs": [],
   "source": [
    "# Xpress formulation\n",
    "single_period_problem = xp.problem()"
   ],
   "metadata": {
    "collapsed": false,
    "pycharm": {
     "name": "#%%\n"
    }
   }
  },
  {
   "cell_type": "code",
   "execution_count": 15,
   "outputs": [
    {
     "data": {
      "text/plain": "'\\nI_PF = 1 + len(C_D)\\nJ_PF = 1 + len(C_D)\\nx_i_j = np.array([[xp.var(name=\"x_\"+str(i)+\"_\"+str(j), vartype=xp.binary) for j in range(J_PF)]for i in range(I_PF)], dtype=xp.npvar)\\ny_i_j = np.array([[xp.var(name=\"y_\"+str(i)+\"_\"+str(j), vartype=xp.integer, lb=0) for j in range(J_PF)]for i in range(I_PF)], dtype=xp.npvar)\\n\\nI_L = 1 + L\\nJ_L = 1 + L\\nx_i_j_L = np.array([[xp.var(name=\"x_L_\"+str(i)+\"_\"+str(j), vartype=xp.binary) for j in range(J_L)]for i in range(I_L)], dtype=xp.npvar)\\ny_i_j_L = np.array([[xp.var(name=\"y_L_\"+str(i)+\"_\"+str(j), vartype=xp.integer, lb=0) for j in range(J_L)]for i in range(I_L)], dtype=xp.npvar)\\n\\nI_LF = 1 + len(C_D)\\nJ_LF = 1 + len(C_D)\\nx_l_i_j = np.array([[[xp.var(name=\"x_l\"+str(l)+\"_\"+str(i)+\"_\"+str(j), vartype=xp.binary) for j in range(J_LF)]for i in range(I_LF)] for l in range(L)], dtype=xp.npvar)\\ny_l_i_j = np.array([[[xp.var(name=\"y_l\"+str(l)+\"_\"+str(i)+\"_\"+str(j), vartype=xp.integer, lb=0) for j in range(J_LF)]for i in range(I_LF)] for l in range(L)], dtype=xp.npvar)\\n\\nz_c = np.array([xp.var(name=\"z_c\"+str(c), vartype=xp.binary) for c in range(len(C_D))], dtype=xp.npvar)\\nz_c_l = np.array([[xp.var(name=\"z_c\"+str(c)+\"_l\"+str(l), vartype=xp.binary) for l in range(L)]for c in range(len(C_D))], dtype=xp.npvar)\\nz_l_L = np.array([[xp.var(name=\"z_l_L_\"+str(l), vartype=xp.binary) for l in range(L)]], dtype=xp.npvar)\\n\\nw_c_k = np.array([[xp.var(name=\"w_c\"+str(c)+\"_k\"+str(k), vartype=xp.binary) for k in range(len(C_L))]for c in range(len(S_k))], dtype=xp.npvar)\\n\\n# add var to the problem\\nsingle_period_problem.addVariable(x_i_j)\\nsingle_period_problem.addVariable(x_i_j_L)\\nsingle_period_problem.addVariable(x_l_i_j)\\n\\nsingle_period_problem.addVariable(y_i_j)\\nsingle_period_problem.addVariable(y_i_j_L)\\nsingle_period_problem.addVariable(y_l_i_j)\\n\\nsingle_period_problem.addVariable(z_c)\\nsingle_period_problem.addVariable(z_c_l)\\nsingle_period_problem.addVariable(z_l_L)\\n\\nsingle_period_problem.addVariable(w_c_k)\\n'"
     },
     "execution_count": 15,
     "metadata": {},
     "output_type": "execute_result"
    }
   ],
   "source": [
    "# var definition with the right notation\n",
    "'''\n",
    "I_PF = 1 + len(C_D)\n",
    "J_PF = 1 + len(C_D)\n",
    "x_i_j = np.array([[xp.var(name=\"x_\"+str(i)+\"_\"+str(j), vartype=xp.binary) for j in range(J_PF)]for i in range(I_PF)], dtype=xp.npvar)\n",
    "y_i_j = np.array([[xp.var(name=\"y_\"+str(i)+\"_\"+str(j), vartype=xp.integer, lb=0) for j in range(J_PF)]for i in range(I_PF)], dtype=xp.npvar)\n",
    "\n",
    "I_L = 1 + L\n",
    "J_L = 1 + L\n",
    "x_i_j_L = np.array([[xp.var(name=\"x_L_\"+str(i)+\"_\"+str(j), vartype=xp.binary) for j in range(J_L)]for i in range(I_L)], dtype=xp.npvar)\n",
    "y_i_j_L = np.array([[xp.var(name=\"y_L_\"+str(i)+\"_\"+str(j), vartype=xp.integer, lb=0) for j in range(J_L)]for i in range(I_L)], dtype=xp.npvar)\n",
    "\n",
    "I_LF = 1 + len(C_D)\n",
    "J_LF = 1 + len(C_D)\n",
    "x_l_i_j = np.array([[[xp.var(name=\"x_l\"+str(l)+\"_\"+str(i)+\"_\"+str(j), vartype=xp.binary) for j in range(J_LF)]for i in range(I_LF)] for l in range(L)], dtype=xp.npvar)\n",
    "y_l_i_j = np.array([[[xp.var(name=\"y_l\"+str(l)+\"_\"+str(i)+\"_\"+str(j), vartype=xp.integer, lb=0) for j in range(J_LF)]for i in range(I_LF)] for l in range(L)], dtype=xp.npvar)\n",
    "\n",
    "z_c = np.array([xp.var(name=\"z_c\"+str(c), vartype=xp.binary) for c in range(len(C_D))], dtype=xp.npvar)\n",
    "z_c_l = np.array([[xp.var(name=\"z_c\"+str(c)+\"_l\"+str(l), vartype=xp.binary) for l in range(L)]for c in range(len(C_D))], dtype=xp.npvar)\n",
    "z_l_L = np.array([[xp.var(name=\"z_l_L_\"+str(l), vartype=xp.binary) for l in range(L)]], dtype=xp.npvar)\n",
    "\n",
    "w_c_k = np.array([[xp.var(name=\"w_c\"+str(c)+\"_k\"+str(k), vartype=xp.binary) for k in range(len(C_L))]for c in range(len(S_k))], dtype=xp.npvar)\n",
    "\n",
    "# add var to the problem\n",
    "single_period_problem.addVariable(x_i_j)\n",
    "single_period_problem.addVariable(x_i_j_L)\n",
    "single_period_problem.addVariable(x_l_i_j)\n",
    "\n",
    "single_period_problem.addVariable(y_i_j)\n",
    "single_period_problem.addVariable(y_i_j_L)\n",
    "single_period_problem.addVariable(y_l_i_j)\n",
    "\n",
    "single_period_problem.addVariable(z_c)\n",
    "single_period_problem.addVariable(z_c_l)\n",
    "single_period_problem.addVariable(z_l_L)\n",
    "\n",
    "single_period_problem.addVariable(w_c_k)\n",
    "'''"
   ],
   "metadata": {
    "collapsed": false,
    "pycharm": {
     "name": "#%%\n"
    }
   }
  },
  {
   "cell_type": "code",
   "execution_count": 16,
   "outputs": [
    {
     "name": "stdout",
     "output_type": "stream",
     "text": [
      "\n"
     ]
    }
   ],
   "source": [
    "# Xpress formulation\n",
    "single_period_problem = xp.problem()"
   ],
   "metadata": {
    "collapsed": false,
    "pycharm": {
     "name": "#%%\n"
    }
   }
  },
  {
   "cell_type": "code",
   "execution_count": 17,
   "outputs": [],
   "source": [
    "# var definition\n",
    "I_PF = 1 + len(C_D)\n",
    "J_PF = 1 + len(C_D)\n",
    "x_i_j = np.array([[xp.var(name=\"x_\"+str(i)+\"_\"+str(j), vartype=xp.binary) for i in range(I_PF)]for j in range(J_PF)], dtype=xp.npvar)\n",
    "y_i_j = np.array([[xp.var(name=\"y_\"+str(i)+\"_\"+str(j), vartype=xp.integer, lb=0) for i in range(I_PF)]for j in range(J_PF)], dtype=xp.npvar)\n",
    "\n",
    "I_L = 1 + L\n",
    "J_L = 1 + L\n",
    "x_i_j_L = np.array([[xp.var(name=\"x_L_\"+str(i)+\"_\"+str(j), vartype=xp.binary) for i in range(I_L)]for j in range(J_L)], dtype=xp.npvar)\n",
    "y_i_j_L = np.array([[xp.var(name=\"y_L_\"+str(i)+\"_\"+str(j), vartype=xp.integer, lb=0) for i in range(I_L)]for j in range(J_L)], dtype=xp.npvar)\n",
    "\n",
    "I_LF = 1 + len(C_D)\n",
    "J_LF = 1 + len(C_D)\n",
    "x_l_i_j = np.array([[[xp.var(name=\"x_l\"+str(l)+\"_\"+str(i)+\"_\"+str(j), vartype=xp.binary) for i in range(I_LF)]for j in range(J_LF)] for l in range(L)], dtype=xp.npvar)\n",
    "y_l_i_j = np.array([[[xp.var(name=\"y_l\"+str(l)+\"_\"+str(i)+\"_\"+str(j), vartype=xp.integer, lb=0) for i in range(I_LF)]for j in range(J_LF)] for l in range(L)], dtype=xp.npvar)\n",
    "\n",
    "z_c = np.array([xp.var(name=\"z_c\"+str(c), vartype=xp.binary) for c in range(len(C_D))], dtype=xp.npvar)\n",
    "z_c_l = np.array([[xp.var(name=\"z_c\"+str(c)+\"_l\"+str(l), vartype=xp.binary) for c in range(len(C_D))]for l in range(L)], dtype=xp.npvar)\n",
    "z_l_L = np.array([[xp.var(name=\"z_l_L_\"+str(l), vartype=xp.binary) for l in range(L)]], dtype=xp.npvar)\n",
    "\n",
    "w_c_k = np.array([[xp.var(name=\"w_c\"+str(c)+\"_k\"+str(k), vartype=xp.binary) for c in range(len(S_k))]for k in range(len(C_L))], dtype=xp.npvar)\n",
    "\n",
    "# add var to the problem\n",
    "single_period_problem.addVariable(x_i_j)\n",
    "single_period_problem.addVariable(x_i_j_L)\n",
    "single_period_problem.addVariable(x_l_i_j)\n",
    "\n",
    "single_period_problem.addVariable(y_i_j)\n",
    "single_period_problem.addVariable(y_i_j_L)\n",
    "single_period_problem.addVariable(y_l_i_j)\n",
    "\n",
    "single_period_problem.addVariable(z_c)\n",
    "single_period_problem.addVariable(z_c_l)\n",
    "single_period_problem.addVariable(z_l_L)\n",
    "\n",
    "single_period_problem.addVariable(w_c_k)"
   ],
   "metadata": {
    "collapsed": false,
    "pycharm": {
     "name": "#%%\n"
    }
   }
  },
  {
   "cell_type": "code",
   "execution_count": 18,
   "outputs": [],
   "source": [
    "# define constraints Customers’ service\n",
    "\n",
    "# constraint eq. 2\n",
    "for c in range(len(C_D)):\n",
    "    single_period_problem.addConstraint( z_c[c] + xp.Sum(w_c_k[s][k] for s in range(len(S_k)) for k in range(len(C_L))) + xp.Sum(z_c_l[l][c] for l in range(L)) == 1)\n",
    "\n",
    "# constraint eq. 3\n",
    "for c_l in range(len(C_L)):\n",
    "    single_period_problem.addConstraint( xp.Sum(w_c_k[c_l][s_k] for s_k in range(len(S_k))) <= 1)\n",
    "\n",
    "\n",
    "# constraint eq. 4\n",
    "for l in lockers:\n",
    "    single_period_problem.addConstraint(\n",
    "        xp.Sum(C_L[cl].package_demand + xp.Sum(S_k[sk].package_demand*w_c_k[cl][sk] for sk in range(len(S_k))) for cl in range(len(C_L)) if C_L[cl].store == l)\n",
    "        + xp.Sum(C_D[cd].package_demand*z_c_l[l.index-1][cd] for cd in range(len(C_D)))\n",
    "        <= l.capacity * z_l_L[0][l.index-1]\n",
    "    )\n",
    "\n",
    "# Professional fleet constraint\n",
    "\n",
    "# constraint eq. 5.1 A == C\n",
    "for i in range(len(C_D)):\n",
    "    single_period_problem.addConstraint(\n",
    "        xp.Sum( x_i_j[i+1][j] for j in range(len(C_D)+1))\n",
    "        == z_c[i]\n",
    "    )\n",
    "\n",
    "\n",
    "# constraint eq. 5.2 B == C\n",
    "for i in range(len(C_D)):\n",
    "    single_period_problem.addConstraint(\n",
    "        xp.Sum( x_i_j[j][i+1] for j in range(len(C_D)+1))\n",
    "        == z_c[i]\n",
    "    )\n",
    "\n",
    "# constraint eq. 6\n",
    "single_period_problem.addConstraint(\n",
    "    xp.Sum( x_i_j[0][j+1] for j in range(len(C_D)))\n",
    "    - xp.Sum( x_i_j[j+1][0] for j in range(len(C_D)))\n",
    "    == 0\n",
    ")\n",
    "\n",
    "# constraint eq. 7\n",
    "for i in range(len(C_D)):\n",
    "    single_period_problem.addConstraint(\n",
    "        xp.Sum( y_i_j[j][i+1] for j in range(1+len(C_D)))\n",
    "        - xp.Sum( y_i_j[i+1][j] for j in range(1+len(C_D)))\n",
    "        == C_D[i].package_demand*z_c[i]\n",
    "    )\n",
    "\n",
    "# constraint eq. 8\n",
    "single_period_problem.addConstraint(\n",
    "    xp.Sum( y_i_j[j+1][0] for j in range(len(C_D)))\n",
    "    - xp.Sum( y_i_j[0][j+1] for j in range(len(C_D)))\n",
    "    == - xp.Sum( C_D[i].package_demand*z_c[i] for i in range(len(C_D)))\n",
    ")\n",
    "\n",
    "# constraint eq. 9\n",
    "for i in range(1 + len(C_D)):\n",
    "    for j in range(1 + len(C_D)):\n",
    "        single_period_problem.addConstraint(\n",
    "            y_i_j[i][j]\n",
    "            <= vehicles[1].capacity * x_i_j[i][j]\n",
    "        )\n",
    "\n",
    "# constraint eq. 10\n",
    "for i in range(len(C_D)):\n",
    "    single_period_problem.addConstraint(\n",
    "        y_i_j[i+1][0]\n",
    "        == 0\n",
    "    )\n",
    "\n",
    "\n",
    "\n",
    "# Supply routes constraints\n",
    "\n",
    "# constraint eq. 11.1 A == C\n",
    "for i in range(L):\n",
    "    single_period_problem.addConstraint(\n",
    "        xp.Sum( x_i_j_L[i+1][j] for j in range(1 + L))\n",
    "        == z_l_L[0][i]\n",
    "    )\n",
    "\n",
    "# constraint eq. 11.2 B == C\n",
    "for i in range(L):\n",
    "    single_period_problem.addConstraint(\n",
    "        xp.Sum( x_i_j_L[j][i+1] for j in range(1 + L))\n",
    "        == z_l_L[0][i]\n",
    "    )\n",
    "\n",
    "\n",
    "# constraint eq. 12\n",
    "single_period_problem.addConstraint(\n",
    "    xp.Sum( x_i_j_L[0][j+1] for j in range(L))\n",
    "    - xp.Sum( x_i_j_L[j+1][0] for j in range(L))\n",
    "    == 0\n",
    ")\n",
    "\n",
    "# constraint eq. 13\n",
    "for i in range(L):\n",
    "    single_period_problem.addConstraint(\n",
    "        xp.Sum( y_i_j_L[j][i+1] for j in range(1+L))\n",
    "        - xp.Sum( y_i_j_L[i+1][j] for j in range(1+L))\n",
    "        ==\n",
    "        xp.Sum(C_L[cl].package_demand + xp.Sum(S_k[sk].package_demand*w_c_k[cl][sk] for sk in range(len(S_k))) for cl in range(len(C_L)))\n",
    "        + xp.Sum(C_D[c].package_demand*z_c_l[i][c] for c in range(len(C_D)))\n",
    "    )\n",
    "\n",
    "# constraint eq. 14\n",
    "single_period_problem.addConstraint(\n",
    "    xp.Sum( y_i_j_L[j+1][0] for j in range(L))\n",
    "    - xp.Sum( y_i_j_L[0][j+1] for j in range(L))\n",
    "    == - xp.Sum(\n",
    "        xp.Sum(C_L[cl].package_demand + xp.Sum(S_k[sk].package_demand*w_c_k[cl][sk] for sk in range(len(S_k))) for cl in range(len(C_L)))\n",
    "        + xp.Sum(C_D[c].package_demand*z_c_l[i][c] for c in range(len(C_D)))\n",
    "        for i in range(L)\n",
    "    )\n",
    ")\n",
    "\n",
    "# constraint eq. 15\n",
    "for i in range(1 + L):\n",
    "    for j in range(1 + L):\n",
    "        single_period_problem.addConstraint(\n",
    "            y_i_j_L[i][j]\n",
    "            <= vehicles[0].capacity * x_i_j_L[i][j]\n",
    "        )\n",
    "\n",
    "# constraint eq. 16\n",
    "for i in range(L):\n",
    "    single_period_problem.addConstraint(\n",
    "        y_i_j_L[i+1][0]\n",
    "        == 0\n",
    "    )\n",
    "\n",
    "\n",
    "# Local fleet constraints\n",
    "\n",
    "for l in range(L):\n",
    "    # constraint eq. 17.1 A == C\n",
    "    for i in range(len(C_D)):\n",
    "        single_period_problem.addConstraint(\n",
    "            xp.Sum( x_l_i_j[l][i+1][j] for j in range(len(C_D)+1))\n",
    "            == z_c_l[l][i]\n",
    "        )\n",
    "\n",
    "\n",
    "    # constraint eq. 17.2 B == C\n",
    "    for i in range(len(C_D)):\n",
    "        single_period_problem.addConstraint(\n",
    "            xp.Sum( x_l_i_j[l][j][i+1] for j in range(len(C_D)+1))\n",
    "            == z_c_l[l][i]\n",
    "        )\n",
    "\n",
    "    # constraint eq. 18\n",
    "    single_period_problem.addConstraint(\n",
    "        xp.Sum( x_l_i_j[l][0][j+1] for j in range(len(C_D)))\n",
    "        - xp.Sum( x_l_i_j[l][j+1][0] for j in range(len(C_D)))\n",
    "        == 0\n",
    "    )\n",
    "\n",
    "    # constraint eq. 19\n",
    "    for i in range(len(C_D)):\n",
    "        single_period_problem.addConstraint(\n",
    "            xp.Sum( y_l_i_j[l][j][i+1] for j in range(1+len(C_D)))\n",
    "            - xp.Sum( y_l_i_j[l][i+1][j] for j in range(1+len(C_D)))\n",
    "            == C_D[i].package_demand*z_c_l[l][i]\n",
    "        )\n",
    "\n",
    "    # constraint eq. 20\n",
    "    single_period_problem.addConstraint(\n",
    "        xp.Sum( y_l_i_j[l][j+1][0] for j in range(len(C_D)))\n",
    "        - xp.Sum( y_l_i_j[l][0][j+1] for j in range(len(C_D)))\n",
    "        == - xp.Sum( C_D[i].package_demand*z_c_l[l][i] for i in range(len(C_D)))\n",
    "    )\n",
    "\n",
    "    # constraint eq. 21\n",
    "    for i in range(1 + len(C_D)):\n",
    "        for j in range(1 + len(C_D)):\n",
    "            single_period_problem.addConstraint(\n",
    "                y_l_i_j[l][i][j]\n",
    "                <= lockers[l].capacity * x_l_i_j[l][i][j]\n",
    "            )\n",
    "\n",
    "    # constraint eq. 22\n",
    "    for i in range(len(C_D)):\n",
    "        single_period_problem.addConstraint(\n",
    "            y_l_i_j[l][i+1][0]\n",
    "            == 0\n",
    "        )\n"
   ],
   "metadata": {
    "collapsed": false,
    "pycharm": {
     "name": "#%%\n"
    }
   }
  },
  {
   "cell_type": "code",
   "execution_count": 19,
   "outputs": [
    {
     "name": "stdout",
     "output_type": "stream",
     "text": [
      "             W        CD0        CD1        CD2        CD3        CD4\n",
      "W     0.000000  41.231056  49.244289  36.055513  22.360680  30.000000\n",
      "CD0  41.231056   0.000000  30.413813  31.622777  63.245553  70.710678\n",
      "CD1  49.244289  30.413813   0.000000  15.000000  65.764732  77.620873\n",
      "CD2  36.055513  31.622777  15.000000   0.000000  50.990195  63.245553\n",
      "CD3  22.360680  63.245553  65.764732  50.990195   0.000000  14.142136\n",
      "CD4  30.000000  70.710678  77.620873  63.245553  14.142136   0.000000\n"
     ]
    }
   ],
   "source": [
    "print(PF_delivery_cost)"
   ],
   "metadata": {
    "collapsed": false,
    "pycharm": {
     "name": "#%%\n"
    }
   }
  },
  {
   "cell_type": "code",
   "execution_count": 20,
   "outputs": [],
   "source": [
    "single_period_problem.setObjective(\n",
    "    xp.Sum( xp.Sum(supply_cost.values[i][j]*x_i_j_L[i][j]   for j in range(1+L) )  for i in range(1+L))+\n",
    "    xp.Sum( xp.Sum(compensation_matrix_cost_multidim[k][c] *w_c_k[c][k]  for c in range(len(S_k)))for k in range(len(C_L)))+\n",
    "    xp.Sum( xp.Sum(PF_delivery_cost.values[i][j]*x_i_j[i][j] for j in range(1+len(C_D) ) )for i in range(1+len(C_D))) +\n",
    "    xp.Sum( xp.Sum(xp.Sum(LF_delivery_cost_multidim[l][i][j]*x_l_i_j[l][i][j] for j in range(1+len(C_D)))for i in range(1+len(C_D)))for l in range(L))\n",
    "    ,sense=xp.minimize\n",
    ")   #sense=minimise is the default value"
   ],
   "metadata": {
    "collapsed": false,
    "pycharm": {
     "name": "#%%\n"
    }
   }
  },
  {
   "cell_type": "code",
   "execution_count": 21,
   "outputs": [
    {
     "name": "stdout",
     "output_type": "stream",
     "text": [
      "FICO Xpress v8.13.5, Community, solve started 16:53:19, Jun 9, 2022\n",
      "Heap usage: 438KB (peak 438KB, 359KB system)\n",
      "Minimizing MILP noname using up to 4 threads, with these control settings:\n",
      "OUTPUTLOG = 1\n",
      "Original problem has:\n",
      "       203 rows          260 cols          867 elements       260 globals\n",
      "Presolved problem has:\n",
      "       103 rows          154 cols          612 elements       154 globals\n",
      "LP relaxation tightened\n",
      "Presolve finished in 0 seconds\n",
      "Heap usage: 525KB (peak 647KB, 359KB system)\n",
      "\n",
      "Coefficient range                    original                 solved        \n",
      "  Coefficients   [min,max] : [ 1.00e+00,  7.00e+00] / [ 1.25e-01,  1.75e+00]\n",
      "  RHS and bounds [min,max] : [ 1.00e+00,  6.00e+00] / [ 1.00e+00,  7.00e+00]\n",
      "  Objective      [min,max] : [ 7.07e+00,  7.76e+01] / [ 3.46e-01,  1.62e+02]\n",
      "Autoscaling applied standard scaling\n",
      "\n",
      "Will try to keep branch and bound tree memory usage below 5.8GB\n",
      " *** Solution found:   450.217240   Time:   0    Heuristic: e ***\n",
      " *** Solution found:   104.934165   Time:   0    Heuristic: k ***\n",
      "Starting concurrent solve with dual (1 thread)\n",
      "\n",
      " Concurrent-Solve,   0s\n",
      "            Dual        \n",
      "    objective   dual inf\n",
      " D  83.069135   .0000000\n",
      "------- optimal --------\n",
      "Concurrent statistics:\n",
      "      Dual: 24 simplex iterations, 0.00s\n",
      "Optimal solution found\n",
      " \n",
      "   Its         Obj Value      S   Ninf  Nneg   Sum Dual Inf  Time\n",
      "    24         83.069135      D      0     0        .000000     0\n",
      "Dual solved problem\n",
      "  24 simplex iterations in 0.00 seconds at time 0\n",
      "\n",
      "Final objective                       : 8.306913452700576e+01\n",
      "  Max primal violation      (abs/rel) :       0.0 /       0.0\n",
      "  Max dual violation        (abs/rel) :       0.0 /       0.0\n",
      "  Max complementarity viol. (abs/rel) :       0.0 /       0.0\n",
      "\n",
      "Starting root cutting & heuristics\n",
      " \n",
      " Its Type    BestSoln    BestBound   Sols    Add    Del     Gap     GInf   Time\n",
      "k           99.505233    83.069135      3                 16.52%       0      0\n",
      "\n",
      "Performing root presolve...\n",
      "\n",
      "Reduced problem has:       0 rows       0 columns         0 elements\n",
      "Presolve dropped   :     103 rows     154 columns       612 elements\n",
      "Presolve tightened :        33 elements\n",
      "Will try to keep branch and bound tree memory usage below 5.8GB\n",
      "STOPPING - MIPRELSTOP target reached (MIPRELSTOP=0.0001  gap=8.34822e-07).\n",
      " *** Search completed ***\n",
      "Uncrunching matrix\n",
      "Final MIP objective                   : 9.950523271439113e+01\n",
      "Final MIP bound                       : 9.950514964525659e+01\n",
      "  Solution time / primaldual integral :         0s/ 86.901142%\n",
      "  Number of solutions found / nodes   :         3 /         0\n",
      "  Max primal violation      (abs/rel) :       0.0 /       0.0\n",
      "  Max integer violation     (abs    ) :       0.0\n"
     ]
    }
   ],
   "source": [
    "single_period_problem.solve()"
   ],
   "metadata": {
    "collapsed": false,
    "pycharm": {
     "name": "#%%\n"
    }
   }
  },
  {
   "cell_type": "code",
   "execution_count": null,
   "outputs": [],
   "source": [],
   "metadata": {
    "collapsed": false,
    "pycharm": {
     "name": "#%%\n"
    }
   }
  }
 ],
 "metadata": {
  "kernelspec": {
   "display_name": "Python 3",
   "language": "python",
   "name": "python3"
  },
  "language_info": {
   "codemirror_mode": {
    "name": "ipython",
    "version": 2
   },
   "file_extension": ".py",
   "mimetype": "text/x-python",
   "name": "python",
   "nbconvert_exporter": "python",
   "pygments_lexer": "ipython2",
   "version": "2.7.6"
  }
 },
 "nbformat": 4,
 "nbformat_minor": 0
}