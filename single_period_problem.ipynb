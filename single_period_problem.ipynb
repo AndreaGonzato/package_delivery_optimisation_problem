{
 "cells": [
  {
   "cell_type": "code",
   "execution_count": 1,
   "outputs": [
    {
     "name": "stdout",
     "output_type": "stream",
     "text": [
      "Using the Community license in this session. If you have a full Xpress license, first set the XPAUTH_PATH environment variable to the full path to your license file, xpauth.xpr, and then restart Python. If you want to use the FICO Community license and no longer want to see this message, set the XPAUTH_PATH environment variable to: /home/andrea/anaconda3/lib/python3.9/site-packages/xpress/license/community-xpauth.xpr\n",
      "NB: setting XPAUTH_PATH will also affect any other Xpress products installed on your system.\n"
     ]
    }
   ],
   "source": [
    "import numpy as np\n",
    "import matplotlib.pyplot as plt\n",
    "import pandas as pd\n",
    "from scipy.spatial import distance_matrix\n",
    "import random\n",
    "import math\n",
    "import xpress  as xp\n",
    "import random"
   ],
   "metadata": {
    "collapsed": false,
    "pycharm": {
     "name": "#%%\n"
    }
   }
  },
  {
   "cell_type": "code",
   "execution_count": 2,
   "outputs": [],
   "source": [
    "from customer import Customer\n",
    "from locker_customer import LockerCustomer\n",
    "from door_to_door_customer import DoorToDoorCustomer\n",
    "from location import Location\n",
    "from store import Store\n",
    "from vehicle import Vehicle\n",
    "from vehicle_type import VehicleType"
   ],
   "metadata": {
    "collapsed": false,
    "pycharm": {
     "name": "#%%\n"
    }
   }
  },
  {
   "cell_type": "code",
   "execution_count": 3,
   "outputs": [],
   "source": [
    "# input\n",
    "custom_setup = True\n",
    "C = 15\n",
    "L = 3\n",
    "\n",
    "map_size = 100\n",
    "ratio_locker_customers = 0.3\n",
    "ratio_prime_door_to_door_customer = 0.4"
   ],
   "metadata": {
    "collapsed": false,
    "pycharm": {
     "name": "#%%\n"
    }
   }
  },
  {
   "cell_type": "code",
   "execution_count": 4,
   "outputs": [],
   "source": [
    "# generate data\n",
    "if custom_setup:\n",
    "    C = 8\n",
    "    L = 2\n",
    "    stores = []\n",
    "    stores.append(Store(Location(60, 50), capacity=float(\"inf\"), is_warehouse=True))\n",
    "    stores.append(Store(Location(30, 50), capacity=math.ceil(0.8 * C / L)))\n",
    "    stores.append(Store(Location(50, 20), capacity=math.ceil(0.8 * C / L)))\n",
    "\n",
    "    customers = []\n",
    "    customers.append(LockerCustomer(Location(10, 28), stores[1]))\n",
    "    customers.append(DoorToDoorCustomer(Location(20, 40), prime=False))\n",
    "    customers.append(DoorToDoorCustomer(Location(15, 70), prime=False))\n",
    "    customers.append(DoorToDoorCustomer(Location(30, 70), prime=True))\n",
    "    customers.append(DoorToDoorCustomer(Location(80, 60), prime=True))\n",
    "    customers.append(LockerCustomer(Location(70, 40), stores[0]))\n",
    "    customers.append(DoorToDoorCustomer(Location(90, 50), prime=False))\n",
    "    customers.append(LockerCustomer(Location(40, 15), stores[2]))\n",
    "else:\n",
    "    stores = []\n",
    "    stores.append(Store(Location(random.randint(0, map_size), random.randint(0, map_size)), capacity=float(\"inf\")))\n",
    "    for l in range(L):\n",
    "        stores.append(Store(Location(random.randint(0, map_size), random.randint(0, map_size)), capacity=math.ceil(0.8 * C / L)))\n",
    "\n",
    "    customers = []\n",
    "    for c in range(C):\n",
    "        if random.random() < ratio_locker_customers:\n",
    "            customers.append(LockerCustomer(Location(random.randint(0, map_size), random.randint(0, map_size)), Customer.get_nearest_store(stores)))\n",
    "        else:\n",
    "            if random.random() < ratio_prime_door_to_door_customer:\n",
    "                customers.append(DoorToDoorCustomer(Location(random.randint(0, map_size), random.randint(0, map_size)), prime=True))\n",
    "            else:\n",
    "                customers.append(DoorToDoorCustomer(Location(random.randint(0, map_size), random.randint(0, map_size)), prime=False))\n"
   ],
   "metadata": {
    "collapsed": false,
    "pycharm": {
     "name": "#%%\n"
    }
   }
  },
  {
   "cell_type": "code",
   "execution_count": 5,
   "outputs": [],
   "source": [
    "# create sets\n",
    "C_L = list(filter(lambda customer: type(customer) == LockerCustomer, customers))\n",
    "C_D = list(filter(lambda customer: type(customer) == DoorToDoorCustomer, customers))\n",
    "s_k = list(filter(lambda customer: type(customer) == DoorToDoorCustomer and customer.prime == False, customers))\n",
    "\n",
    "sum_W_l = 0\n",
    "for store in stores:\n",
    "    if not store.is_warehouse:\n",
    "        sum_W_l += store.capacity\n",
    "\n",
    "# define all the vehicles\n",
    "if custom_setup:\n",
    "    vehicles = []\n",
    "    vehicles.append(Vehicle(VehicleType.LOCKER_SUPPLY, stores[0], math.ceil(0.8 * sum_W_l)))\n",
    "    vehicles.append(Vehicle(VehicleType.PF, stores[0], math.ceil(0.5 * len(C_D))))\n",
    "    vehicles.append(Vehicle(VehicleType.LF, stores[1], math.ceil(0.6 * stores[1].capacity)))\n",
    "    vehicles.append(Vehicle(VehicleType.LF, stores[2], math.ceil(0.6 * stores[2].capacity)))\n",
    "else:\n",
    "    vehicles = []\n",
    "    for store in stores:\n",
    "        if store.is_warehouse:\n",
    "            vehicles.append(Vehicle(VehicleType.LOCKER_SUPPLY, store, math.ceil(0.8 * sum_W_l)))\n",
    "            vehicles.append(Vehicle(VehicleType.PF, store, math.ceil(0.5 * len(C_D))))\n",
    "        else:\n",
    "            vehicles.append(Vehicle(VehicleType.LF, store, math.ceil(0.6 * store.capacity)))\n"
   ],
   "metadata": {
    "collapsed": false,
    "pycharm": {
     "name": "#%%\n"
    }
   }
  },
  {
   "cell_type": "code",
   "execution_count": 6,
   "outputs": [],
   "source": [
    "CD_location = np.array([[0,0]])\n",
    "CL_location = np.array([[0,0]])\n",
    "S_k_location = np.array([[0,0]])\n",
    "L_location = np.array([[0,0]])\n",
    "W_location = np.array([[0,0]])\n",
    "\n",
    "for store in stores:\n",
    "    if store.is_warehouse:\n",
    "        W_location = np.vstack([W_location, [store.location.x, store.location.y]])\n",
    "    else:\n",
    "        L_location = np.vstack([L_location, [store.location.x, store.location.y]])\n",
    "for cd in C_D:\n",
    "    CD_location = np.vstack([CD_location, [cd.location.x, cd.location.y]])\n",
    "for cl in C_L:\n",
    "    CL_location = np.vstack([CL_location, [cl.location.x, cl.location.y]])\n",
    "for sk in s_k:\n",
    "    S_k_location = np.vstack([S_k_location, [sk.location.x, sk.location.y]])\n",
    "\n",
    "S_k_location = np.delete(S_k_location,0,0)\n",
    "CD_location = np.delete(CD_location, 0, 0)\n",
    "CL_location = np.delete(CL_location, 0, 0)\n",
    "L_location = np.delete(L_location, 0, 0)\n",
    "W_location = np.delete(W_location, 0, 0)"
   ],
   "metadata": {
    "collapsed": false,
    "pycharm": {
     "name": "#%%\n"
    }
   }
  },
  {
   "cell_type": "code",
   "execution_count": 7,
   "outputs": [
    {
     "data": {
      "text/plain": "<matplotlib.collections.PathCollection at 0x7f21dd769ac0>"
     },
     "execution_count": 7,
     "metadata": {},
     "output_type": "execute_result"
    },
    {
     "data": {
      "text/plain": "<Figure size 432x288 with 1 Axes>",
      "image/png": "[encoded data removed]"
     },
     "metadata": {
      "needs_background": "light"
     },
     "output_type": "display_data"
    }
   ],
   "source": [
    "plt.scatter(CD_location[:,0],CD_location[:,1],color='b')\n",
    "plt.scatter(CL_location[:,0],CL_location[:,1],color='m')\n",
    "plt.scatter(W_location[:,0],W_location[:,1],color='g',marker='D')\n",
    "plt.scatter(L_location[:,0],L_location[:,1],color ='y',marker='s')"
   ],
   "metadata": {
    "collapsed": false,
    "pycharm": {
     "name": "#%%\n"
    }
   }
  },
  {
   "cell_type": "code",
   "execution_count": null,
   "outputs": [],
   "source": [
    "\n",
    "\n"
   ],
   "metadata": {
    "collapsed": false,
    "pycharm": {
     "name": "#%%\n"
    }
   }
  },
  {
   "cell_type": "code",
   "execution_count": null,
   "outputs": [],
   "source": [],
   "metadata": {
    "collapsed": false,
    "pycharm": {
     "name": "#%%\n"
    }
   }
  }
 ],
 "metadata": {
  "kernelspec": {
   "display_name": "Python 3",
   "language": "python",
   "name": "python3"
  },
  "language_info": {
   "codemirror_mode": {
    "name": "ipython",
    "version": 2
   },
   "file_extension": ".py",
   "mimetype": "text/x-python",
   "name": "python",
   "nbconvert_exporter": "python",
   "pygments_lexer": "ipython2",
   "version": "2.7.6"
  }
 },
 "nbformat": 4,
 "nbformat_minor": 0
}