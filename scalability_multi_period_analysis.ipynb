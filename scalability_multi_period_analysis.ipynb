{
 "cells": [
  {
   "cell_type": "code",
   "execution_count": 2,
   "metadata": {
    "collapsed": true,
    "pycharm": {
     "name": "#%%\n"
    }
   },
   "outputs": [],
   "source": [
    "import numpy as np\n",
    "\n",
    "from multi_period_executor import *\n",
    "import matplotlib.pyplot as plt"
   ]
  },
  {
   "cell_type": "code",
   "execution_count": 3,
   "outputs": [
    {
     "name": "stdout",
     "output_type": "stream",
     "text": [
      "num_of_run: 0 C:  30  L:  3\n",
      "Set parameter Username\n",
      "Academic license - for non-commercial use only - expires 2023-06-11\n",
      "status always 2:  True runtime:  0.7876288890838623 obj_val:  1945.8804963684051\n",
      "num_of_run: 0 C:  40  L:  5\n",
      "--------- model.status != 2 ------------\n",
      "-----Gurobi did not find the optimal solution for a single period------\n",
      "--------- model.status != 2 ------------\n",
      "-----Gurobi did not find the optimal solution for a single period------\n",
      "status always 2:  False runtime:  0.1850600242614746 obj_val:  831.2155034073835\n",
      "num_of_run: 0 C:  50  L:  6\n",
      "--------- model.status != 2 ------------\n",
      "-----Gurobi did not find the optimal solution for a single period------\n",
      "status always 2:  False runtime:  0.4004850387573242 obj_val:  1420.913702701397\n",
      "num_of_run: 0 C:  60  L:  7\n",
      "status always 2:  True runtime:  1.5780189037322998 obj_val:  2166.593766990213\n",
      "num_of_run: 0 C:  70  L:  8\n",
      "--------- model.status != 2 ------------\n",
      "-----Gurobi did not find the optimal solution for a single period------\n",
      "status always 2:  False runtime:  2.314145088195801 obj_val:  1825.8680821515763\n",
      "num_of_run: 0 C:  80  L:  10\n",
      "--------- model.status != 2 ------------\n",
      "-----Gurobi did not find the optimal solution for a single period------\n",
      "--------- model.status != 2 ------------\n",
      "-----Gurobi did not find the optimal solution for a single period------\n",
      "status always 2:  False runtime:  5.348625898361206 obj_val:  1269.031577740957\n",
      "num_of_run: 0 C:  90  L:  11\n",
      "--------- model.status != 2 ------------\n",
      "-----Gurobi did not find the optimal solution for a single period------\n",
      "status always 2:  False runtime:  20.27810287475586 obj_val:  1891.451777147172\n",
      "num_of_run: 1 C:  30  L:  3\n",
      "status always 2:  True runtime:  0.29584717750549316 obj_val:  1373.612754112502\n",
      "num_of_run: 1 C:  40  L:  5\n",
      "status always 2:  True runtime:  0.8655788898468018 obj_val:  1400.5874515850164\n",
      "num_of_run: 1 C:  50  L:  6\n",
      "status always 2:  True runtime:  1.360811710357666 obj_val:  1947.1328854486626\n",
      "num_of_run: 1 C:  60  L:  7\n",
      "--------- model.status != 2 ------------\n",
      "-----Gurobi did not find the optimal solution for a single period------\n",
      "status always 2:  False runtime:  1.9150793552398682 obj_val:  1677.775853747025\n",
      "num_of_run: 1 C:  70  L:  8\n",
      "--------- model.status != 2 ------------\n",
      "-----Gurobi did not find the optimal solution for a single period------\n",
      "--------- model.status != 2 ------------\n",
      "-----Gurobi did not find the optimal solution for a single period------\n",
      "status always 2:  False runtime:  2.2993459701538086 obj_val:  1436.843645997167\n",
      "num_of_run: 1 C:  80  L:  10\n",
      "--------- model.status != 2 ------------\n",
      "-----Gurobi did not find the optimal solution for a single period------\n",
      "--------- model.status != 2 ------------\n",
      "-----Gurobi did not find the optimal solution for a single period------\n",
      "status always 2:  False runtime:  1.6208751201629639 obj_val:  1308.4460242417467\n",
      "num_of_run: 1 C:  90  L:  11\n",
      "--------- model.status != 2 ------------\n",
      "-----Gurobi did not find the optimal solution for a single period------\n",
      "--------- model.status != 2 ------------\n",
      "-----Gurobi did not find the optimal solution for a single period------\n",
      "status always 2:  False runtime:  3.2291386127471924 obj_val:  1320.1856244497671\n",
      "num_of_run: 2 C:  30  L:  3\n",
      "status always 2:  True runtime:  0.35608601570129395 obj_val:  1292.360178102077\n",
      "num_of_run: 2 C:  40  L:  5\n",
      "--------- model.status != 2 ------------\n",
      "-----Gurobi did not find the optimal solution for a single period------\n",
      "status always 2:  False runtime:  0.482464075088501 obj_val:  1132.0537504184892\n",
      "num_of_run: 2 C:  50  L:  6\n",
      "--------- model.status != 2 ------------\n",
      "-----Gurobi did not find the optimal solution for a single period------\n",
      "status always 2:  False runtime:  0.8382642269134521 obj_val:  1583.0763731965776\n",
      "num_of_run: 2 C:  60  L:  7\n",
      "--------- model.status != 2 ------------\n",
      "-----Gurobi did not find the optimal solution for a single period------\n",
      "--------- model.status != 2 ------------\n",
      "-----Gurobi did not find the optimal solution for a single period------\n",
      "status always 2:  False runtime:  0.8067591190338135 obj_val:  1071.604980645483\n",
      "num_of_run: 2 C:  70  L:  8\n",
      "--------- model.status != 2 ------------\n",
      "-----Gurobi did not find the optimal solution for a single period------\n",
      "status always 2:  False runtime:  1.974421501159668 obj_val:  1514.4008107370964\n",
      "num_of_run: 2 C:  80  L:  10\n",
      "--------- model.status != 2 ------------\n",
      "-----Gurobi did not find the optimal solution for a single period------\n",
      "status always 2:  False runtime:  4.318484783172607 obj_val:  1831.625400502903\n",
      "num_of_run: 2 C:  90  L:  11\n",
      "--------- model.status != 2 ------------\n",
      "-----Gurobi did not find the optimal solution for a single period------\n",
      "status always 2:  False runtime:  21.877907037734985 obj_val:  1879.0456088929732\n",
      "num_of_run: 3 C:  30  L:  3\n",
      "status always 2:  True runtime:  0.5918335914611816 obj_val:  1675.3123632225315\n",
      "num_of_run: 3 C:  40  L:  5\n",
      "--------- model.status != 2 ------------\n",
      "-----Gurobi did not find the optimal solution for a single period------\n",
      "status always 2:  False runtime:  0.4027242660522461 obj_val:  1220.1183682244316\n",
      "num_of_run: 3 C:  50  L:  6\n",
      "--------- model.status != 2 ------------\n",
      "-----Gurobi did not find the optimal solution for a single period------\n",
      "status always 2:  False runtime:  3.7753782272338867 obj_val:  1506.7809879531023\n",
      "num_of_run: 3 C:  60  L:  7\n",
      "--------- model.status != 2 ------------\n",
      "-----Gurobi did not find the optimal solution for a single period------\n",
      "--------- model.status != 2 ------------\n",
      "-----Gurobi did not find the optimal solution for a single period------\n",
      "status always 2:  False runtime:  2.261057138442993 obj_val:  1322.1391179223688\n",
      "num_of_run: 3 C:  70  L:  8\n",
      "--------- model.status != 2 ------------\n",
      "-----Gurobi did not find the optimal solution for a single period------\n",
      "--------- model.status != 2 ------------\n",
      "-----Gurobi did not find the optimal solution for a single period------\n",
      "status always 2:  False runtime:  3.3520090579986572 obj_val:  1223.274177822574\n",
      "num_of_run: 3 C:  80  L:  10\n",
      "--------- model.status != 2 ------------\n",
      "-----Gurobi did not find the optimal solution for a single period------\n",
      "--------- model.status != 2 ------------\n",
      "-----Gurobi did not find the optimal solution for a single period------\n",
      "status always 2:  False runtime:  13.113118171691895 obj_val:  1503.9835553528023\n",
      "num_of_run: 3 C:  90  L:  11\n",
      "--------- model.status != 2 ------------\n",
      "-----Gurobi did not find the optimal solution for a single period------\n",
      "--------- model.status != 2 ------------\n",
      "-----Gurobi did not find the optimal solution for a single period------\n",
      "--------- model.status != 2 ------------\n",
      "-----Gurobi did not find the optimal solution for a single period------\n",
      "status always 2:  False runtime:  5.571494102478027 obj_val:  815.0727847241369\n",
      "num_of_run: 4 C:  30  L:  3\n",
      "status always 2:  True runtime:  0.22435283660888672 obj_val:  1529.3896065321412\n",
      "num_of_run: 4 C:  40  L:  5\n",
      "--------- model.status != 2 ------------\n",
      "-----Gurobi did not find the optimal solution for a single period------\n",
      "--------- model.status != 2 ------------\n",
      "-----Gurobi did not find the optimal solution for a single period------\n",
      "--------- model.status != 2 ------------\n",
      "-----Gurobi did not find the optimal solution for a single period------\n",
      "status always 2:  False runtime:  0.12415719032287598 obj_val:  721.155100380443\n",
      "num_of_run: 4 C:  50  L:  6\n",
      "status always 2:  True runtime:  4.098582983016968 obj_val:  1960.8995313433797\n",
      "num_of_run: 4 C:  60  L:  7\n",
      "status always 2:  True runtime:  1.8565120697021484 obj_val:  1873.040759783983\n",
      "num_of_run: 4 C:  70  L:  8\n",
      "--------- model.status != 2 ------------\n",
      "-----Gurobi did not find the optimal solution for a single period------\n",
      "status always 2:  False runtime:  3.3890178203582764 obj_val:  1683.3836090845896\n",
      "num_of_run: 4 C:  80  L:  10\n",
      "--------- model.status != 2 ------------\n",
      "-----Gurobi did not find the optimal solution for a single period------\n",
      "status always 2:  False runtime:  13.191019058227539 obj_val:  1823.1262726610223\n",
      "num_of_run: 4 C:  90  L:  11\n",
      "status always 2:  True runtime:  28.567688941955566 obj_val:  2889.2877312513706\n"
     ]
    }
   ],
   "source": [
    "number_of_executions= 5\n",
    "periods = 5\n",
    "\n",
    "number_of_points =np.array([])\n",
    "exe_time = np.array([])\n",
    "performance =np.array([])\n",
    "for num_of_run in range(number_of_executions):\n",
    "    for complexity in range(30, 100, 10):\n",
    "        C = complexity\n",
    "        L = complexity // 8\n",
    "        number_of_points=np.append(number_of_points,L+C)\n",
    "        print(\"num_of_run:\", num_of_run, \"C: \",C, \" L: \", L)\n",
    "        status_always_2, runtime, obj_val = run_experiment(C, L, periods)\n",
    "        exe_time=np.append(exe_time,runtime)\n",
    "        performance=np.append(performance, status_always_2)\n",
    "        print(\"status always 2: \", status_always_2, \"runtime: \", runtime, \"obj_val: \", obj_val)\n",
    "\n",
    "number_of_points=np.reshape(number_of_points,(number_of_executions,int(len(number_of_points)/number_of_executions)))\n",
    "exe_time=np.reshape(exe_time,(number_of_executions,int(len(exe_time)/number_of_executions)))\n",
    "performance=np.reshape(performance,(number_of_executions,int(len(performance)/number_of_executions)))\n",
    "average_time = np.mean(exe_time,axis=0)\n",
    "number_of_points=np.mean(number_of_points,axis=0)"
   ],
   "metadata": {
    "collapsed": false,
    "pycharm": {
     "name": "#%%\n"
    }
   }
  },
  {
   "cell_type": "code",
   "execution_count": 5,
   "outputs": [
    {
     "data": {
      "text/plain": "<Figure size 432x288 with 1 Axes>",
      "image/png": "[encoded data removed]"
     },
     "metadata": {
      "needs_background": "light"
     },
     "output_type": "display_data"
    }
   ],
   "source": [
    "# plotting the points\n",
    "plt.plot(number_of_points, average_time)\n",
    "\n",
    "# naming the x axis\n",
    "plt.xlabel('Number of points')\n",
    "# naming the y axis\n",
    "plt.ylabel('Time in seconds')\n",
    "\n",
    "# giving a title to my graph\n",
    "plt.title('Multi Period Problem')\n",
    "\n",
    "# function to show the plot\n",
    "plt.show()"
   ],
   "metadata": {
    "collapsed": false,
    "pycharm": {
     "name": "#%%\n"
    }
   }
  },
  {
   "cell_type": "code",
   "execution_count": null,
   "outputs": [],
   "source": [],
   "metadata": {
    "collapsed": false,
    "pycharm": {
     "name": "#%%\n"
    }
   }
  }
 ],
 "metadata": {
  "kernelspec": {
   "display_name": "Python 3",
   "language": "python",
   "name": "python3"
  },
  "language_info": {
   "codemirror_mode": {
    "name": "ipython",
    "version": 2
   },
   "file_extension": ".py",
   "mimetype": "text/x-python",
   "name": "python",
   "nbconvert_exporter": "python",
   "pygments_lexer": "ipython2",
   "version": "2.7.6"
  }
 },
 "nbformat": 4,
 "nbformat_minor": 0
}