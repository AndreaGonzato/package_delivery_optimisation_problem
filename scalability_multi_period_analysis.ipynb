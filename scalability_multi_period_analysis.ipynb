{
 "cells": [
  {
   "cell_type": "code",
   "execution_count": 1,
   "metadata": {
    "collapsed": true,
    "pycharm": {
     "name": "#%%\n"
    }
   },
   "outputs": [],
   "source": [
    "import numpy as np\n",
    "\n",
    "from multi_period_executor import *\n",
    "import matplotlib.pyplot as plt"
   ]
  },
  {
   "cell_type": "code",
   "execution_count": 2,
   "outputs": [
    {
     "name": "stdout",
     "output_type": "stream",
     "text": [
      "num_of_run: 0 C:  30  L:  1\n",
      "Set parameter Username\n",
      "Academic license - for non-commercial use only - expires 2023-06-11\n",
      "status always 2:  True  runtime:  0.11620092391967773  obj_val:  1225.5936276483903\n",
      "num_of_run: 0 C:  35  L:  1\n",
      "status always 2:  True  runtime:  0.20716595649719238  obj_val:  1240.5147256226287\n",
      "num_of_run: 0 C:  40  L:  1\n",
      "status always 2:  True  runtime:  0.24790525436401367  obj_val:  1406.1431618273277\n",
      "num_of_run: 0 C:  45  L:  1\n",
      "status always 2:  True  runtime:  0.2165529727935791  obj_val:  1513.5322871600274\n",
      "num_of_run: 0 C:  50  L:  1\n",
      "status always 2:  True  runtime:  0.27071213722229004  obj_val:  1577.7520700948726\n",
      "num_of_run: 0 C:  55  L:  1\n",
      "status always 2:  True  runtime:  1.6600158214569092  obj_val:  1630.6279334688795\n",
      "num_of_run: 0 C:  60  L:  2\n",
      "status always 2:  True  runtime:  3.587628126144409  obj_val:  1675.884351259469\n",
      "num_of_run: 0 C:  65  L:  2\n",
      "status always 2:  True  runtime:  2.943169116973877  obj_val:  1615.0384367029967\n",
      "num_of_run: 0 C:  70  L:  2\n",
      "status always 2:  True  runtime:  4.9018332958221436  obj_val:  1749.4324407444597\n",
      "num_of_run: 0 C:  75  L:  2\n",
      "status always 2:  True  runtime:  10.059921741485596  obj_val:  2113.1359599021444\n",
      "num_of_run: 0 C:  80  L:  2\n",
      "status always 2:  True  runtime:  2.9923951625823975  obj_val:  1990.4398176476245\n",
      "num_of_run: 0 C:  85  L:  2\n",
      "status always 2:  True  runtime:  6.124494791030884  obj_val:  1986.8063620725934\n",
      "num_of_run: 0 C:  90  L:  3\n",
      "status always 2:  False  runtime:  16.973998069763184  obj_val:  1711.9408615781865\n",
      "all_status:  [2, 2, 3, 2, 2]\n",
      "num_of_run: 0 C:  95  L:  3\n",
      "status always 2:  True  runtime:  69.83491706848145  obj_val:  2007.676867821266\n",
      "num_of_run: 0 C:  100  L:  3\n",
      "status always 2:  False  runtime:  23.97026515007019  obj_val:  1872.7732482266133\n",
      "all_status:  [2, 2, 2, 2, 3]\n",
      "num_of_run: 1 C:  30  L:  1\n",
      "status always 2:  True  runtime:  0.08653497695922852  obj_val:  1207.8249892161393\n",
      "num_of_run: 1 C:  35  L:  1\n",
      "status always 2:  True  runtime:  0.3722057342529297  obj_val:  1294.0155528529808\n",
      "num_of_run: 1 C:  40  L:  1\n",
      "status always 2:  True  runtime:  0.20430374145507812  obj_val:  1078.7438769687722\n",
      "num_of_run: 1 C:  45  L:  1\n",
      "status always 2:  True  runtime:  0.4340639114379883  obj_val:  1210.7455353956989\n",
      "num_of_run: 1 C:  50  L:  1\n",
      "status always 2:  True  runtime:  0.1867530345916748  obj_val:  1211.290962075731\n",
      "num_of_run: 1 C:  55  L:  1\n",
      "status always 2:  True  runtime:  1.4948399066925049  obj_val:  1612.5085990817252\n",
      "num_of_run: 1 C:  60  L:  2\n",
      "status always 2:  True  runtime:  1.5132660865783691  obj_val:  1926.6385374204524\n",
      "num_of_run: 1 C:  65  L:  2\n",
      "status always 2:  True  runtime:  7.5567450523376465  obj_val:  2068.5239092730726\n",
      "num_of_run: 1 C:  70  L:  2\n",
      "status always 2:  True  runtime:  11.589973211288452  obj_val:  2150.0535141273986\n",
      "num_of_run: 1 C:  75  L:  2\n",
      "status always 2:  True  runtime:  12.024957180023193  obj_val:  2129.6394476983\n",
      "num_of_run: 1 C:  80  L:  2\n",
      "status always 2:  True  runtime:  3.8116061687469482  obj_val:  1995.7693561942233\n",
      "num_of_run: 1 C:  85  L:  2\n",
      "status always 2:  True  runtime:  6.61457085609436  obj_val:  1867.2309789715284\n",
      "num_of_run: 1 C:  90  L:  3\n",
      "status always 2:  True  runtime:  24.5902361869812  obj_val:  2110.4708691097235\n",
      "num_of_run: 1 C:  95  L:  3\n",
      "status always 2:  True  runtime:  17.526046991348267  obj_val:  2215.462907815421\n",
      "num_of_run: 1 C:  100  L:  3\n",
      "status always 2:  False  runtime:  16.72007155418396  obj_val:  1512.134124749251\n",
      "all_status:  [2, 2, 2, 3, 2]\n"
     ]
    }
   ],
   "source": [
    "number_of_executions= 20\n",
    "periods = 5\n",
    "\n",
    "number_of_points =np.array([])\n",
    "exe_time = np.array([])\n",
    "performance =np.array([])\n",
    "for num_of_run in range(number_of_executions):\n",
    "    for complexity in range(30, 96, 5):\n",
    "        C = complexity\n",
    "        L = complexity // 30\n",
    "        number_of_points=np.append(number_of_points,L+C)\n",
    "        print(\"num_of_run:\", num_of_run, \"C: \", C, \" L: \", L)\n",
    "        status_always_2, all_status, runtime, obj_val = run_experiment(C, L, periods)\n",
    "\n",
    "        exe_time=np.append(exe_time,runtime)\n",
    "        performance=np.append(performance, status_always_2)\n",
    "        print(\"status always 2: \", status_always_2, \" runtime: \", runtime, \" obj_val: \", obj_val)\n",
    "        if not status_always_2:\n",
    "            print(\"all_status: \", all_status)\n",
    "\n",
    "number_of_points=np.reshape(number_of_points,(number_of_executions,int(len(number_of_points)/number_of_executions)))\n",
    "exe_time=np.reshape(exe_time,(number_of_executions,int(len(exe_time)/number_of_executions)))\n",
    "performance=np.reshape(performance,(number_of_executions,int(len(performance)/number_of_executions)))\n",
    "average_time = np.mean(exe_time,axis=0)\n",
    "number_of_points=np.mean(number_of_points,axis=0)"
   ],
   "metadata": {
    "collapsed": false,
    "pycharm": {
     "name": "#%%\n"
    }
   }
  },
  {
   "cell_type": "code",
   "execution_count": 3,
   "outputs": [
    {
     "data": {
      "text/plain": "<Figure size 432x288 with 1 Axes>",
      "image/png": "[encoded data removed]"
     },
     "metadata": {
      "needs_background": "light"
     },
     "output_type": "display_data"
    }
   ],
   "source": [
    "# plotting the points\n",
    "plt.plot(number_of_points, average_time)\n",
    "\n",
    "# naming the x axis\n",
    "plt.xlabel('Number of points')\n",
    "# naming the y axis\n",
    "plt.ylabel('Time in seconds')\n",
    "\n",
    "# giving a title to my graph\n",
    "plt.title('Multi Period Problem')\n",
    "\n",
    "# function to show the plot\n",
    "plt.show()"
   ],
   "metadata": {
    "collapsed": false,
    "pycharm": {
     "name": "#%%\n"
    }
   }
  },
  {
   "cell_type": "code",
   "execution_count": null,
   "outputs": [],
   "source": [],
   "metadata": {
    "collapsed": false,
    "pycharm": {
     "name": "#%%\n"
    }
   }
  }
 ],
 "metadata": {
  "kernelspec": {
   "display_name": "Python 3",
   "language": "python",
   "name": "python3"
  },
  "language_info": {
   "codemirror_mode": {
    "name": "ipython",
    "version": 2
   },
   "file_extension": ".py",
   "mimetype": "text/x-python",
   "name": "python",
   "nbconvert_exporter": "python",
   "pygments_lexer": "ipython2",
   "version": "2.7.6"
  }
 },
 "nbformat": 4,
 "nbformat_minor": 0
}