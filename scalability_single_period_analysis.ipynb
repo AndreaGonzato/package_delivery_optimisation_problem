{
 "cells": [
  {
   "cell_type": "code",
   "execution_count": 1,
   "metadata": {
    "collapsed": true,
    "pycharm": {
     "name": "#%%\n"
    }
   },
   "outputs": [],
   "source": [
    "import numpy as np\n",
    "\n",
    "from executor_single_period import *\n",
    "import matplotlib.pyplot as plt"
   ]
  },
  {
   "cell_type": "code",
   "execution_count": 2,
   "outputs": [
    {
     "name": "stdout",
     "output_type": "stream",
     "text": [
      "num_of_run: 0 C:  10  L:  1\n",
      "Set parameter Username\n",
      "Academic license - for non-commercial use only - expires 2023-06-11\n",
      "status:  2 runtime:  0.06108403205871582 obj_val:  347.6990124370518\n",
      "num_of_run: 0 C:  12  L:  1\n",
      "status:  2 runtime:  0.4793679714202881 obj_val:  382.0784971884529\n",
      "num_of_run: 0 C:  14  L:  1\n",
      "status:  2 runtime:  0.041474103927612305 obj_val:  372.33183538652906\n",
      "num_of_run: 0 C:  16  L:  2\n",
      "status:  2 runtime:  1.6575729846954346 obj_val:  551.5114397637528\n",
      "num_of_run: 0 C:  18  L:  2\n",
      "status:  2 runtime:  1.286393165588379 obj_val:  419.92438709715736\n",
      "num_of_run: 0 C:  20  L:  2\n",
      "status:  2 runtime:  3.3873531818389893 obj_val:  462.74229796577725\n",
      "num_of_run: 0 C:  22  L:  2\n",
      "status:  2 runtime:  11.843643188476562 obj_val:  550.990113800456\n",
      "num_of_run: 0 C:  24  L:  3\n",
      "status:  2 runtime:  5.188997983932495 obj_val:  487.31309996383646\n",
      "num_of_run: 0 C:  26  L:  3\n",
      "status:  2 runtime:  4.787295818328857 obj_val:  511.44100462646037\n",
      "num_of_run: 0 C:  28  L:  3\n",
      "status:  2 runtime:  14.173482179641724 obj_val:  577.7623321021518\n",
      "num_of_run: 0 C:  30  L:  3\n",
      "status:  2 runtime:  4.8280861377716064 obj_val:  483.2830676449602\n",
      "num_of_run: 1 C:  10  L:  1\n",
      "status:  2 runtime:  0.03343701362609863 obj_val:  419.723396206248\n",
      "num_of_run: 1 C:  12  L:  1\n",
      "status:  2 runtime:  0.04047894477844238 obj_val:  344.25764897425563\n",
      "num_of_run: 1 C:  14  L:  1\n",
      "status:  2 runtime:  0.36222100257873535 obj_val:  405.46728366053406\n",
      "num_of_run: 1 C:  16  L:  2\n",
      "status:  2 runtime:  0.3589968681335449 obj_val:  347.98776464588605\n",
      "num_of_run: 1 C:  18  L:  2\n",
      "status:  2 runtime:  0.34690403938293457 obj_val:  429.48389478099773\n",
      "num_of_run: 1 C:  20  L:  2\n",
      "status:  2 runtime:  0.6409878730773926 obj_val:  503.6188115436017\n",
      "num_of_run: 1 C:  22  L:  2\n",
      "status:  2 runtime:  1.5111231803894043 obj_val:  484.96756418750374\n",
      "num_of_run: 1 C:  24  L:  3\n",
      "status:  2 runtime:  1.1314599514007568 obj_val:  478.0334396753015\n",
      "num_of_run: 1 C:  26  L:  3\n",
      "status:  2 runtime:  2.245177984237671 obj_val:  413.9211873310008\n",
      "num_of_run: 1 C:  28  L:  3\n",
      "status:  2 runtime:  27.697131156921387 obj_val:  549.8002563511329\n",
      "num_of_run: 1 C:  30  L:  3\n",
      "status:  2 runtime:  10.665752172470093 obj_val:  566.3577550883463\n",
      "num_of_run: 2 C:  10  L:  1\n",
      "status:  2 runtime:  0.012846946716308594 obj_val:  340.2227287076603\n",
      "num_of_run: 2 C:  12  L:  1\n",
      "status:  2 runtime:  0.23645901679992676 obj_val:  310.7005839335547\n",
      "num_of_run: 2 C:  14  L:  1\n",
      "status:  2 runtime:  0.01417994499206543 obj_val:  239.37207607189055\n",
      "num_of_run: 2 C:  16  L:  2\n",
      "status:  2 runtime:  0.275684118270874 obj_val:  393.8302487496172\n",
      "num_of_run: 2 C:  18  L:  2\n",
      "status:  2 runtime:  0.6158089637756348 obj_val:  382.32621953194365\n",
      "num_of_run: 2 C:  20  L:  2\n",
      "status:  2 runtime:  3.6601829528808594 obj_val:  474.97135266266673\n",
      "num_of_run: 2 C:  22  L:  2\n",
      "status:  2 runtime:  1.432941198348999 obj_val:  454.97986298277294\n",
      "num_of_run: 2 C:  24  L:  3\n",
      "status:  2 runtime:  2.544520854949951 obj_val:  417.48978657826706\n",
      "num_of_run: 2 C:  26  L:  3\n",
      "status:  2 runtime:  40.48873805999756 obj_val:  569.2501681485842\n",
      "num_of_run: 2 C:  28  L:  3\n",
      "status:  2 runtime:  4.095700979232788 obj_val:  504.29486667038987\n",
      "num_of_run: 2 C:  30  L:  3\n",
      "status:  2 runtime:  1.7553131580352783 obj_val:  402.09755674931284\n"
     ]
    }
   ],
   "source": [
    "number_of_executions= 20\n",
    "number_of_points =np.array([])\n",
    "exe_time = np.array([])\n",
    "performance =np.array([])\n",
    "for num_of_run in range(number_of_executions):\n",
    "    for complexity in range(10, 31, 2):\n",
    "        C = complexity\n",
    "        L = complexity // 8\n",
    "        number_of_points=np.append(number_of_points,L+C)\n",
    "        print(\"num_of_run:\", num_of_run, \"C: \",C, \" L: \", L)\n",
    "        status, runtime, obj_val = run_experiment_gurobi(C, L, custom_setup=False)\n",
    "        exe_time=np.append(exe_time,runtime)\n",
    "        performance=np.append(performance,status)\n",
    "        print(\"status: \",status, \"runtime: \", runtime, \"obj_val: \", obj_val)\n",
    "\n",
    "number_of_points=np.reshape(number_of_points,(number_of_executions,int(len(number_of_points)/number_of_executions)))\n",
    "exe_time=np.reshape(exe_time,(number_of_executions,int(len(exe_time)/number_of_executions)))\n",
    "performance=np.reshape(performance,(number_of_executions,int(len(performance)/number_of_executions)))\n",
    "average_time = np.mean(exe_time,axis=0)\n",
    "number_of_points=np.mean(number_of_points,axis=0)"
   ],
   "metadata": {
    "collapsed": false,
    "pycharm": {
     "name": "#%%\n"
    }
   }
  },
  {
   "cell_type": "code",
   "execution_count": 3,
   "outputs": [
    {
     "data": {
      "text/plain": "<Figure size 432x288 with 1 Axes>",
      "image/png": "[encoded data removed]"
     },
     "metadata": {
      "needs_background": "light"
     },
     "output_type": "display_data"
    }
   ],
   "source": [
    "# plotting the points\n",
    "plt.plot(number_of_points, average_time)\n",
    "\n",
    "# naming the x axis\n",
    "plt.xlabel('Number of points')\n",
    "# naming the y axis\n",
    "plt.ylabel('Time in seconds')\n",
    "\n",
    "# giving a title to my graph\n",
    "plt.title('Single Period Problem')\n",
    "\n",
    "# function to show the plot\n",
    "plt.show()"
   ],
   "metadata": {
    "collapsed": false,
    "pycharm": {
     "name": "#%%\n"
    }
   }
  },
  {
   "cell_type": "markdown",
   "source": [
    "for from complexity = 10 to max 106 step with 10:\n",
    "    C = complexity\n",
    "    L = complexity / [15, 20]\n",
    "    run_experiment(C, L)\n",
    "\n",
    "\n",
    "input:\n",
    "C\n",
    "L\n",
    "custom_setup\n",
    "\n",
    "output:\n",
    "resolving_time\n",
    "solution_status = {feasible, infeasible}"
   ],
   "metadata": {
    "collapsed": false,
    "pycharm": {
     "name": "#%% md\n"
    }
   }
  },
  {
   "cell_type": "code",
   "execution_count": 4,
   "outputs": [
    {
     "name": "stdout",
     "output_type": "stream",
     "text": [
      "[[2. 2. 2. 2. 2. 2. 2. 2. 2. 2. 2.]\n",
      " [2. 2. 2. 2. 2. 2. 2. 2. 2. 2. 2.]\n",
      " [2. 2. 2. 2. 2. 2. 2. 2. 2. 2. 2.]\n",
      " [2. 2. 2. 2. 2. 2. 2. 2. 2. 2. 2.]\n",
      " [2. 2. 2. 2. 2. 2. 2. 2. 2. 2. 2.]\n",
      " [2. 2. 2. 2. 2. 2. 2. 2. 2. 2. 2.]\n",
      " [2. 2. 2. 2. 2. 2. 2. 2. 2. 2. 2.]\n",
      " [2. 2. 2. 2. 2. 2. 2. 2. 2. 2. 2.]\n",
      " [2. 2. 2. 2. 2. 3. 2. 2. 2. 2. 2.]\n",
      " [2. 2. 2. 2. 2. 2. 2. 2. 2. 2. 2.]]\n"
     ]
    }
   ],
   "source": [
    "print(performance)"
   ],
   "metadata": {
    "collapsed": false,
    "pycharm": {
     "name": "#%%\n"
    }
   }
  },
  {
   "cell_type": "code",
   "execution_count": null,
   "outputs": [],
   "source": [],
   "metadata": {
    "collapsed": false,
    "pycharm": {
     "name": "#%%\n"
    }
   }
  }
 ],
 "metadata": {
  "kernelspec": {
   "display_name": "Python 3",
   "language": "python",
   "name": "python3"
  },
  "language_info": {
   "codemirror_mode": {
    "name": "ipython",
    "version": 2
   },
   "file_extension": ".py",
   "mimetype": "text/x-python",
   "name": "python",
   "nbconvert_exporter": "python",
   "pygments_lexer": "ipython2",
   "version": "2.7.6"
  }
 },
 "nbformat": 4,
 "nbformat_minor": 0
}