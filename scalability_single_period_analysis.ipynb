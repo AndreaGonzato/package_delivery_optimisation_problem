{
 "cells": [
  {
   "cell_type": "code",
   "execution_count": 1,
   "metadata": {
    "collapsed": true,
    "pycharm": {
     "name": "#%%\n"
    }
   },
   "outputs": [],
   "source": [
    "import numpy as np\n",
    "\n",
    "from single_period_executor import *\n",
    "import matplotlib.pyplot as plt"
   ]
  },
  {
   "cell_type": "code",
   "execution_count": 2,
   "outputs": [
    {
     "name": "stdout",
     "output_type": "stream",
     "text": [
      "num_of_run: 0 C:  10  L:  1\n",
      "Set parameter Username\n",
      "Academic license - for non-commercial use only - expires 2023-06-11\n",
      "status:  2 runtime:  0.026168107986450195 obj_val:  288.3675171446131\n",
      "num_of_run: 0 C:  12  L:  1\n",
      "status:  2 runtime:  0.48639893531799316 obj_val:  430.9572964606286\n",
      "num_of_run: 0 C:  14  L:  1\n",
      "status:  2 runtime:  0.048851966857910156 obj_val:  329.95499516430505\n",
      "num_of_run: 0 C:  16  L:  2\n",
      "status:  2 runtime:  0.1848897933959961 obj_val:  308.0456872325018\n",
      "num_of_run: 0 C:  18  L:  2\n",
      "status:  2 runtime:  1.2720739841461182 obj_val:  483.5802360641728\n",
      "num_of_run: 0 C:  20  L:  2\n",
      "status:  2 runtime:  1.04469895362854 obj_val:  403.626139326747\n",
      "num_of_run: 0 C:  22  L:  2\n",
      "status:  2 runtime:  2.0271871089935303 obj_val:  505.3941566313495\n",
      "num_of_run: 0 C:  24  L:  3\n",
      "status:  2 runtime:  21.998893976211548 obj_val:  465.6092167752388\n",
      "num_of_run: 0 C:  26  L:  3\n",
      "status:  2 runtime:  4.145362854003906 obj_val:  481.60546719228705\n",
      "num_of_run: 0 C:  28  L:  3\n",
      "status:  2 runtime:  3.1825740337371826 obj_val:  389.08327002752094\n",
      "num_of_run: 0 C:  30  L:  3\n",
      "status:  2 runtime:  10.07292890548706 obj_val:  485.53810087825786\n",
      "num_of_run: 1 C:  10  L:  1\n",
      "status:  2 runtime:  0.02517986297607422 obj_val:  200.23710925710895\n",
      "num_of_run: 1 C:  12  L:  1\n",
      "status:  2 runtime:  0.45949697494506836 obj_val:  450.0043492990578\n",
      "num_of_run: 1 C:  14  L:  1\n",
      "status:  2 runtime:  0.18053889274597168 obj_val:  295.83963203440067\n",
      "num_of_run: 1 C:  16  L:  2\n",
      "status:  2 runtime:  0.7028257846832275 obj_val:  413.71269099466406\n",
      "num_of_run: 1 C:  18  L:  2\n",
      "status:  2 runtime:  1.4430899620056152 obj_val:  446.27254229431816\n",
      "num_of_run: 1 C:  20  L:  2\n",
      "status:  2 runtime:  1.481017827987671 obj_val:  486.2905699936701\n",
      "num_of_run: 1 C:  22  L:  2\n",
      "status:  2 runtime:  36.208070039749146 obj_val:  571.5852632360185\n",
      "num_of_run: 1 C:  24  L:  3\n",
      "status:  2 runtime:  4.5319788455963135 obj_val:  492.9173135124765\n",
      "num_of_run: 1 C:  26  L:  3\n",
      "status:  2 runtime:  4.258688926696777 obj_val:  486.3359616614625\n",
      "num_of_run: 1 C:  28  L:  3\n",
      "status:  2 runtime:  5.241628885269165 obj_val:  511.2527469336435\n",
      "num_of_run: 1 C:  30  L:  3\n",
      "status:  2 runtime:  5.332302093505859 obj_val:  495.05128542452087\n"
     ]
    }
   ],
   "source": [
    "number_of_executions= 20\n",
    "number_of_points =np.array([])\n",
    "exe_time = np.array([])\n",
    "performance =np.array([])\n",
    "for num_of_run in range(number_of_executions):\n",
    "    for complexity in range(10, 31, 2):\n",
    "        C = complexity\n",
    "        L = complexity // 8\n",
    "        number_of_points=np.append(number_of_points,L+C)\n",
    "        print(\"num_of_run:\", num_of_run, \"C: \",C, \" L: \", L)\n",
    "        status, runtime, obj_val = run_experiment_gurobi(C, L, custom_setup=False)\n",
    "        exe_time=np.append(exe_time,runtime)\n",
    "        performance=np.append(performance,status)\n",
    "        print(\"status: \",status, \"runtime: \", runtime, \"obj_val: \", obj_val)\n",
    "\n",
    "number_of_points=np.reshape(number_of_points,(number_of_executions,int(len(number_of_points)/number_of_executions)))\n",
    "exe_time=np.reshape(exe_time,(number_of_executions,int(len(exe_time)/number_of_executions)))\n",
    "performance=np.reshape(performance,(number_of_executions,int(len(performance)/number_of_executions)))\n",
    "average_time = np.mean(exe_time,axis=0)\n",
    "number_of_points=np.mean(number_of_points,axis=0)"
   ],
   "metadata": {
    "collapsed": false,
    "pycharm": {
     "name": "#%%\n"
    }
   }
  },
  {
   "cell_type": "code",
   "execution_count": 3,
   "outputs": [
    {
     "data": {
      "text/plain": "<Figure size 432x288 with 1 Axes>",
      "image/png": "[encoded data removed]"
     },
     "metadata": {
      "needs_background": "light"
     },
     "output_type": "display_data"
    }
   ],
   "source": [
    "# plotting the points\n",
    "plt.plot(number_of_points, average_time)\n",
    "\n",
    "# naming the x axis\n",
    "plt.xlabel('Number of points')\n",
    "# naming the y axis\n",
    "plt.ylabel('Time in seconds')\n",
    "\n",
    "# giving a title to my graph\n",
    "plt.title('Single Period Problem')\n",
    "\n",
    "# function to show the plot\n",
    "plt.show()"
   ],
   "metadata": {
    "collapsed": false,
    "pycharm": {
     "name": "#%%\n"
    }
   }
  },
  {
   "cell_type": "code",
   "execution_count": 4,
   "outputs": [
    {
     "name": "stdout",
     "output_type": "stream",
     "text": [
      "[[2. 2. 2. 2. 2. 2. 2. 2. 2. 2. 2.]\n",
      " [2. 2. 2. 2. 2. 2. 2. 2. 2. 2. 2.]]\n"
     ]
    }
   ],
   "source": [
    "print(performance)"
   ],
   "metadata": {
    "collapsed": false,
    "pycharm": {
     "name": "#%%\n"
    }
   }
  },
  {
   "cell_type": "code",
   "execution_count": null,
   "outputs": [],
   "source": [],
   "metadata": {
    "collapsed": false,
    "pycharm": {
     "name": "#%%\n"
    }
   }
  }
 ],
 "metadata": {
  "kernelspec": {
   "display_name": "Python 3",
   "language": "python",
   "name": "python3"
  },
  "language_info": {
   "codemirror_mode": {
    "name": "ipython",
    "version": 2
   },
   "file_extension": ".py",
   "mimetype": "text/x-python",
   "name": "python",
   "nbconvert_exporter": "python",
   "pygments_lexer": "ipython2",
   "version": "2.7.6"
  }
 },
 "nbformat": 4,
 "nbformat_minor": 0
}