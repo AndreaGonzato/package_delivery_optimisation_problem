{
 "cells": [
  {
   "cell_type": "code",
   "execution_count": 3,
   "metadata": {
    "collapsed": true,
    "pycharm": {
     "name": "#%%\n"
    }
   },
   "outputs": [],
   "source": [
    "import numpy as np\n",
    "\n",
    "from executor_single_period import *\n",
    "import matplotlib.pyplot as plt"
   ]
  },
  {
   "cell_type": "code",
   "execution_count": 4,
   "outputs": [
    {
     "name": "stdout",
     "output_type": "stream",
     "text": [
      "num_of_run: 0 C:  10  L:  2\n",
      "status:  2 runtime:  0.009959936141967773 obj_val:  267.14102207653633\n",
      "num_of_run: 0 C:  12  L:  2\n",
      "status:  2 runtime:  0.2986600399017334 obj_val:  363.3461102963168\n",
      "num_of_run: 0 C:  14  L:  2\n",
      "status:  2 runtime:  0.5809998512268066 obj_val:  420.9785138301065\n",
      "num_of_run: 0 C:  16  L:  2\n",
      "status:  2 runtime:  0.34622693061828613 obj_val:  476.07760717818553\n",
      "num_of_run: 0 C:  18  L:  2\n",
      "status:  2 runtime:  0.6628420352935791 obj_val:  435.8105502232385\n",
      "num_of_run: 0 C:  20  L:  2\n",
      "status:  2 runtime:  0.624765157699585 obj_val:  364.72386599047695\n",
      "num_of_run: 0 C:  22  L:  2\n",
      "status:  2 runtime:  0.7193799018859863 obj_val:  395.00034990953145\n",
      "num_of_run: 0 C:  24  L:  2\n",
      "status:  2 runtime:  1.6852481365203857 obj_val:  467.3601047023276\n",
      "num_of_run: 0 C:  26  L:  2\n",
      "status:  2 runtime:  5.170194864273071 obj_val:  536.7471365567701\n",
      "num_of_run: 0 C:  28  L:  2\n",
      "status:  2 runtime:  2.85862398147583 obj_val:  415.40953952642207\n",
      "num_of_run: 0 C:  30  L:  2\n",
      "status:  2 runtime:  29.566169023513794 obj_val:  531.0996371816425\n",
      "num_of_run: 1 C:  10  L:  2\n",
      "status:  2 runtime:  0.05316901206970215 obj_val:  173.1462290602929\n",
      "num_of_run: 1 C:  12  L:  2\n",
      "status:  2 runtime:  0.4006168842315674 obj_val:  412.1506652650992\n",
      "num_of_run: 1 C:  14  L:  2\n",
      "status:  2 runtime:  0.9347870349884033 obj_val:  506.2978759416353\n",
      "num_of_run: 1 C:  16  L:  2\n",
      "status:  2 runtime:  2.0429019927978516 obj_val:  503.8808345674579\n",
      "num_of_run: 1 C:  18  L:  2\n",
      "status:  2 runtime:  0.8733508586883545 obj_val:  390.42464660995813\n",
      "num_of_run: 1 C:  20  L:  2\n",
      "status:  2 runtime:  10.384407997131348 obj_val:  490.5283133787346\n",
      "num_of_run: 1 C:  22  L:  2\n",
      "status:  2 runtime:  5.430788993835449 obj_val:  505.734081559507\n",
      "num_of_run: 1 C:  24  L:  2\n",
      "status:  2 runtime:  0.8856339454650879 obj_val:  445.7385733793276\n",
      "num_of_run: 1 C:  26  L:  2\n",
      "status:  2 runtime:  2.2445950508117676 obj_val:  518.2727551824681\n",
      "num_of_run: 1 C:  28  L:  2\n",
      "status:  2 runtime:  17.113280057907104 obj_val:  514.4350078413852\n",
      "num_of_run: 1 C:  30  L:  2\n",
      "status:  2 runtime:  2.0269479751586914 obj_val:  429.96733320730687\n",
      "num_of_run: 2 C:  10  L:  2\n",
      "status:  2 runtime:  0.07346200942993164 obj_val:  350.3473083543157\n",
      "num_of_run: 2 C:  12  L:  2\n",
      "status:  2 runtime:  0.3362751007080078 obj_val:  350.73436782324865\n",
      "num_of_run: 2 C:  14  L:  2\n",
      "status:  2 runtime:  0.2545449733734131 obj_val:  323.37336614295174\n",
      "num_of_run: 2 C:  16  L:  2\n",
      "status:  2 runtime:  0.5329930782318115 obj_val:  442.7783960760605\n",
      "num_of_run: 2 C:  18  L:  2\n",
      "status:  2 runtime:  20.292999029159546 obj_val:  345.87112495701666\n",
      "num_of_run: 2 C:  20  L:  2\n",
      "status:  2 runtime:  0.7736601829528809 obj_val:  526.3981449136479\n",
      "num_of_run: 2 C:  22  L:  2\n",
      "status:  2 runtime:  1.3085479736328125 obj_val:  455.1941827496151\n",
      "num_of_run: 2 C:  24  L:  2\n",
      "status:  2 runtime:  5.042611837387085 obj_val:  550.4794745011135\n",
      "num_of_run: 2 C:  26  L:  2\n",
      "status:  2 runtime:  62.819669008255005 obj_val:  508.3775321557404\n",
      "num_of_run: 2 C:  28  L:  2\n",
      "status:  2 runtime:  7.156351089477539 obj_val:  479.0809257913859\n",
      "num_of_run: 2 C:  30  L:  2\n",
      "status:  2 runtime:  7.226080894470215 obj_val:  551.4046861700097\n",
      "num_of_run: 3 C:  10  L:  2\n",
      "status:  2 runtime:  0.37104296684265137 obj_val:  350.73919562926795\n",
      "num_of_run: 3 C:  12  L:  2\n",
      "status:  2 runtime:  0.3001670837402344 obj_val:  336.3552795918326\n",
      "num_of_run: 3 C:  14  L:  2\n",
      "status:  2 runtime:  0.1826179027557373 obj_val:  438.1717717047918\n",
      "num_of_run: 3 C:  16  L:  2\n",
      "status:  2 runtime:  0.9192569255828857 obj_val:  497.0333858277477\n",
      "num_of_run: 3 C:  18  L:  2\n",
      "status:  2 runtime:  0.646265983581543 obj_val:  358.39647640197063\n",
      "num_of_run: 3 C:  20  L:  2\n",
      "status:  2 runtime:  0.8462831974029541 obj_val:  497.96790757692736\n",
      "num_of_run: 3 C:  22  L:  2\n",
      "status:  2 runtime:  1.8022749423980713 obj_val:  393.12571219679086\n",
      "num_of_run: 3 C:  24  L:  2\n",
      "status:  2 runtime:  4.427622079849243 obj_val:  441.93865174337714\n",
      "num_of_run: 3 C:  26  L:  2\n",
      "status:  2 runtime:  4.051836967468262 obj_val:  516.1457493089691\n",
      "num_of_run: 3 C:  28  L:  2\n",
      "status:  2 runtime:  6.894791841506958 obj_val:  511.2898196358\n",
      "num_of_run: 3 C:  30  L:  2\n",
      "status:  2 runtime:  10.790866136550903 obj_val:  493.3949997178347\n",
      "num_of_run: 4 C:  10  L:  2\n",
      "status:  2 runtime:  0.023214101791381836 obj_val:  270.2618862631053\n",
      "num_of_run: 4 C:  12  L:  2\n",
      "status:  2 runtime:  0.0966651439666748 obj_val:  331.5406942282423\n",
      "num_of_run: 4 C:  14  L:  2\n",
      "status:  2 runtime:  0.9564909934997559 obj_val:  418.2352908826483\n",
      "num_of_run: 4 C:  16  L:  2\n",
      "status:  2 runtime:  0.5533969402313232 obj_val:  317.79914348278317\n",
      "num_of_run: 4 C:  18  L:  2\n",
      "status:  2 runtime:  1.4579479694366455 obj_val:  365.98165123446495\n",
      "num_of_run: 4 C:  20  L:  2\n",
      "status:  2 runtime:  2.1223039627075195 obj_val:  450.5131191323951\n",
      "num_of_run: 4 C:  22  L:  2\n",
      "status:  2 runtime:  5.006922960281372 obj_val:  479.1182661692597\n",
      "num_of_run: 4 C:  24  L:  2\n",
      "status:  2 runtime:  14.69662594795227 obj_val:  393.9584871631103\n",
      "num_of_run: 4 C:  26  L:  2\n",
      "status:  2 runtime:  14.706339120864868 obj_val:  479.17641711778293\n",
      "num_of_run: 4 C:  28  L:  2\n",
      "status:  2 runtime:  2.072474956512451 obj_val:  342.7076816691118\n",
      "num_of_run: 4 C:  30  L:  2\n",
      "status:  2 runtime:  15.23839807510376 obj_val:  496.7619707869223\n",
      "num_of_run: 5 C:  10  L:  2\n",
      "status:  2 runtime:  0.01579904556274414 obj_val:  334.432842581095\n",
      "num_of_run: 5 C:  12  L:  2\n",
      "status:  2 runtime:  0.8701431751251221 obj_val:  513.6553911416768\n",
      "num_of_run: 5 C:  14  L:  2\n",
      "status:  2 runtime:  0.5533061027526855 obj_val:  303.7959364265715\n",
      "num_of_run: 5 C:  16  L:  2\n",
      "status:  2 runtime:  0.559359073638916 obj_val:  439.522418416365\n",
      "num_of_run: 5 C:  18  L:  2\n",
      "status:  2 runtime:  1.0777909755706787 obj_val:  333.10537720700114\n",
      "num_of_run: 5 C:  20  L:  2\n",
      "status:  2 runtime:  0.2905759811401367 obj_val:  359.01622370348196\n",
      "num_of_run: 5 C:  22  L:  2\n",
      "status:  2 runtime:  10.740242004394531 obj_val:  422.7584381509309\n",
      "num_of_run: 5 C:  24  L:  2\n",
      "status:  2 runtime:  18.222745895385742 obj_val:  474.880672795774\n",
      "num_of_run: 5 C:  26  L:  2\n",
      "status:  2 runtime:  7.188158988952637 obj_val:  452.88371940705247\n",
      "num_of_run: 5 C:  28  L:  2\n",
      "status:  2 runtime:  27.483292818069458 obj_val:  512.9518792461996\n",
      "num_of_run: 5 C:  30  L:  2\n",
      "status:  2 runtime:  4.154449224472046 obj_val:  462.63150960271173\n",
      "num_of_run: 6 C:  10  L:  2\n",
      "status:  2 runtime:  0.04505109786987305 obj_val:  397.1234509986195\n",
      "num_of_run: 6 C:  12  L:  2\n",
      "status:  2 runtime:  0.29863500595092773 obj_val:  345.76970936095705\n",
      "num_of_run: 6 C:  14  L:  2\n",
      "status:  2 runtime:  0.17539095878601074 obj_val:  346.6790799710247\n",
      "num_of_run: 6 C:  16  L:  2\n",
      "status:  2 runtime:  0.7107977867126465 obj_val:  455.01176118194286\n",
      "num_of_run: 6 C:  18  L:  2\n",
      "status:  2 runtime:  0.14442801475524902 obj_val:  325.1635996299144\n",
      "num_of_run: 6 C:  20  L:  2\n",
      "status:  2 runtime:  5.2273290157318115 obj_val:  504.6896736831382\n",
      "num_of_run: 6 C:  22  L:  2\n",
      "status:  2 runtime:  1.2918541431427002 obj_val:  493.9563970242377\n",
      "num_of_run: 6 C:  24  L:  2\n",
      "status:  2 runtime:  5.4967169761657715 obj_val:  557.6698558424378\n",
      "num_of_run: 6 C:  26  L:  2\n",
      "status:  2 runtime:  3.382431983947754 obj_val:  556.9994067702316\n",
      "num_of_run: 6 C:  28  L:  2\n",
      "status:  2 runtime:  1.1554288864135742 obj_val:  530.9480235107486\n",
      "num_of_run: 6 C:  30  L:  2\n",
      "status:  2 runtime:  13.691848039627075 obj_val:  428.6712532497757\n",
      "num_of_run: 7 C:  10  L:  2\n",
      "status:  2 runtime:  0.24178290367126465 obj_val:  390.9681972602665\n",
      "num_of_run: 7 C:  12  L:  2\n",
      "status:  2 runtime:  0.5742008686065674 obj_val:  500.77129744088955\n",
      "num_of_run: 7 C:  14  L:  2\n",
      "status:  2 runtime:  0.9744110107421875 obj_val:  511.3786514677249\n",
      "num_of_run: 7 C:  16  L:  2\n"
     ]
    },
    {
     "ename": "AttributeError",
     "evalue": "Unable to retrieve attribute 'ObjVal'",
     "output_type": "error",
     "traceback": [
      "\u001B[0;31m---------------------------------------------------------------------------\u001B[0m",
      "\u001B[0;31mAttributeError\u001B[0m                            Traceback (most recent call last)",
      "\u001B[0;32m/tmp/ipykernel_37192/1701515908.py\u001B[0m in \u001B[0;36m<module>\u001B[0;34m\u001B[0m\n\u001B[1;32m     10\u001B[0m         \u001B[0mnumber_of_points\u001B[0m\u001B[0;34m=\u001B[0m\u001B[0mnp\u001B[0m\u001B[0;34m.\u001B[0m\u001B[0mappend\u001B[0m\u001B[0;34m(\u001B[0m\u001B[0mnumber_of_points\u001B[0m\u001B[0;34m,\u001B[0m\u001B[0mL\u001B[0m\u001B[0;34m+\u001B[0m\u001B[0mC\u001B[0m\u001B[0;34m)\u001B[0m\u001B[0;34m\u001B[0m\u001B[0;34m\u001B[0m\u001B[0m\n\u001B[1;32m     11\u001B[0m         \u001B[0mprint\u001B[0m\u001B[0;34m(\u001B[0m\u001B[0;34m\"num_of_run:\"\u001B[0m\u001B[0;34m,\u001B[0m \u001B[0mnum_of_run\u001B[0m\u001B[0;34m,\u001B[0m \u001B[0;34m\"C: \"\u001B[0m\u001B[0;34m,\u001B[0m\u001B[0mC\u001B[0m\u001B[0;34m,\u001B[0m \u001B[0;34m\" L: \"\u001B[0m\u001B[0;34m,\u001B[0m \u001B[0mL\u001B[0m\u001B[0;34m)\u001B[0m\u001B[0;34m\u001B[0m\u001B[0;34m\u001B[0m\u001B[0m\n\u001B[0;32m---> 12\u001B[0;31m         \u001B[0mstatus\u001B[0m\u001B[0;34m,\u001B[0m \u001B[0mruntime\u001B[0m\u001B[0;34m,\u001B[0m \u001B[0mobj_val\u001B[0m \u001B[0;34m=\u001B[0m \u001B[0mrun_experiment_gurobi\u001B[0m\u001B[0;34m(\u001B[0m\u001B[0mC\u001B[0m\u001B[0;34m,\u001B[0m \u001B[0mL\u001B[0m\u001B[0;34m,\u001B[0m \u001B[0mcustom_setup\u001B[0m\u001B[0;34m=\u001B[0m\u001B[0;32mFalse\u001B[0m\u001B[0;34m)\u001B[0m\u001B[0;34m\u001B[0m\u001B[0;34m\u001B[0m\u001B[0m\n\u001B[0m\u001B[1;32m     13\u001B[0m         \u001B[0mexe_time\u001B[0m\u001B[0;34m=\u001B[0m\u001B[0mnp\u001B[0m\u001B[0;34m.\u001B[0m\u001B[0mappend\u001B[0m\u001B[0;34m(\u001B[0m\u001B[0mexe_time\u001B[0m\u001B[0;34m,\u001B[0m\u001B[0mruntime\u001B[0m\u001B[0;34m)\u001B[0m\u001B[0;34m\u001B[0m\u001B[0;34m\u001B[0m\u001B[0m\n\u001B[1;32m     14\u001B[0m         \u001B[0mperformance\u001B[0m\u001B[0;34m=\u001B[0m\u001B[0mnp\u001B[0m\u001B[0;34m.\u001B[0m\u001B[0mappend\u001B[0m\u001B[0;34m(\u001B[0m\u001B[0mperformance\u001B[0m\u001B[0;34m,\u001B[0m\u001B[0mstatus\u001B[0m\u001B[0;34m)\u001B[0m\u001B[0;34m\u001B[0m\u001B[0;34m\u001B[0m\u001B[0m\n",
      "\u001B[0;32m~/code/python/DataSpell/package_delivery_optimisation_problem/executor_single_period.py\u001B[0m in \u001B[0;36mrun_experiment_gurobi\u001B[0;34m(C, L, custom_setup)\u001B[0m\n\u001B[1;32m    552\u001B[0m \u001B[0;34m\u001B[0m\u001B[0m\n\u001B[1;32m    553\u001B[0m     \u001B[0;32mreturn\u001B[0m \u001B[0msingle_period_problem\u001B[0m\u001B[0;34m.\u001B[0m\u001B[0mstatus\u001B[0m\u001B[0;34m,\u001B[0m \u001B[0msingle_period_problem\u001B[0m\u001B[0;34m.\u001B[0m\u001B[0mRuntime\u001B[0m\u001B[0;34m,\u001B[0m \u001B[0msingle_period_problem\u001B[0m\u001B[0;34m.\u001B[0m\u001B[0mObjVal\u001B[0m\u001B[0;34m\u001B[0m\u001B[0;34m\u001B[0m\u001B[0m\n\u001B[0;32m--> 554\u001B[0;31m \u001B[0;34m\u001B[0m\u001B[0m\n\u001B[0m\u001B[1;32m    555\u001B[0m \u001B[0;34m\u001B[0m\u001B[0m\n\u001B[1;32m    556\u001B[0m \u001B[0;34m\u001B[0m\u001B[0m\n",
      "\u001B[0;32msrc/gurobipy/model.pxi\u001B[0m in \u001B[0;36mgurobipy.Model.__getattr__\u001B[0;34m()\u001B[0m\n",
      "\u001B[0;32msrc/gurobipy/model.pxi\u001B[0m in \u001B[0;36mgurobipy.Model.getAttr\u001B[0;34m()\u001B[0m\n",
      "\u001B[0;32msrc/gurobipy/attrutil.pxi\u001B[0m in \u001B[0;36mgurobipy.__getattr\u001B[0;34m()\u001B[0m\n",
      "\u001B[0;31mAttributeError\u001B[0m: Unable to retrieve attribute 'ObjVal'"
     ]
    }
   ],
   "source": [
    "number_of_executions= 10\n",
    "number_of_points =np.array([])\n",
    "exe_time = np.array([])\n",
    "performance =np.array([])\n",
    "for num_of_run in range(number_of_executions):\n",
    "    for complexity in range(10, 31, 2):\n",
    "        C = complexity\n",
    "        #L = complexity // 5\n",
    "        L=2\n",
    "        number_of_points=np.append(number_of_points,L+C)\n",
    "        print(\"num_of_run:\", num_of_run, \"C: \",C, \" L: \", L)\n",
    "        status, runtime, obj_val = run_experiment_gurobi(C, L, custom_setup=False)\n",
    "        exe_time=np.append(exe_time,runtime)\n",
    "        performance=np.append(performance,status)\n",
    "        print(\"status: \",status, \"runtime: \", runtime, \"obj_val: \", obj_val)\n",
    "\n",
    "number_of_points=np.reshape(number_of_points,(number_of_executions,int(len(number_of_points)/number_of_executions)))\n",
    "exe_time=np.reshape(exe_time,(number_of_executions,int(len(exe_time)/number_of_executions)))\n",
    "performance=np.reshape(performance,(number_of_executions,int(len(performance)/number_of_executions)))\n",
    "average_time = np.mean(exe_time,axis=0)\n",
    "number_of_points=np.mean(number_of_points,axis=0)"
   ],
   "metadata": {
    "collapsed": false,
    "pycharm": {
     "name": "#%%\n"
    }
   }
  },
  {
   "cell_type": "code",
   "execution_count": 3,
   "outputs": [
    {
     "data": {
      "text/plain": "<Figure size 432x288 with 1 Axes>",
      "image/png": "[encoded data removed]"
     },
     "metadata": {
      "needs_background": "light"
     },
     "output_type": "display_data"
    }
   ],
   "source": [
    "# plotting the points\n",
    "plt.plot(number_of_points, average_time)\n",
    "\n",
    "# naming the x axis\n",
    "plt.xlabel('Number of points')\n",
    "# naming the y axis\n",
    "plt.ylabel('Time in seconds')\n",
    "\n",
    "# giving a title to my graph\n",
    "plt.title('Single Period Problem')\n",
    "\n",
    "# function to show the plot\n",
    "plt.show()"
   ],
   "metadata": {
    "collapsed": false,
    "pycharm": {
     "name": "#%%\n"
    }
   }
  },
  {
   "cell_type": "markdown",
   "source": [
    "for from complexity = 10 to max 106 step with 10:\n",
    "    C = complexity\n",
    "    L = complexity / [15, 20]\n",
    "    run_experiment(C, L)\n",
    "\n",
    "\n",
    "input:\n",
    "C\n",
    "L\n",
    "custom_setup\n",
    "\n",
    "output:\n",
    "resolving_time\n",
    "solution_status = {feasible, infeasible}"
   ],
   "metadata": {
    "collapsed": false,
    "pycharm": {
     "name": "#%% md\n"
    }
   }
  },
  {
   "cell_type": "code",
   "execution_count": null,
   "outputs": [],
   "source": [],
   "metadata": {
    "collapsed": false,
    "pycharm": {
     "name": "#%%\n"
    }
   }
  }
 ],
 "metadata": {
  "kernelspec": {
   "display_name": "Python 3",
   "language": "python",
   "name": "python3"
  },
  "language_info": {
   "codemirror_mode": {
    "name": "ipython",
    "version": 2
   },
   "file_extension": ".py",
   "mimetype": "text/x-python",
   "name": "python",
   "nbconvert_exporter": "python",
   "pygments_lexer": "ipython2",
   "version": "2.7.6"
  }
 },
 "nbformat": 4,
 "nbformat_minor": 0
}