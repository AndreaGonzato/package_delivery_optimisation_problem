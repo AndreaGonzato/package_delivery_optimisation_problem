{
 "cells": [
  {
   "cell_type": "code",
   "execution_count": 1,
   "metadata": {
    "collapsed": true,
    "pycharm": {
     "name": "#%%\n"
    }
   },
   "outputs": [],
   "source": [
    "from executor import *"
   ]
  },
  {
   "cell_type": "code",
   "execution_count": 4,
   "outputs": [
    {
     "name": "stdout",
     "output_type": "stream",
     "text": [
      "C:  10  L:  2\n",
      "status:  2 runtime:  0.013567924499511719 obj_val:  223.47025305249215\n",
      "C:  20  L:  4\n",
      "status:  2 runtime:  1.0958569049835205 obj_val:  533.923407558529\n",
      "C:  30  L:  6\n",
      "status:  2 runtime:  16.603262901306152 obj_val:  618.8195071593697\n",
      "C:  40  L:  8\n",
      "status:  2 runtime:  26.542381048202515 obj_val:  641.2470664190264\n",
      "C:  50  L:  10\n"
     ]
    },
    {
     "ename": "AttributeError",
     "evalue": "Unable to retrieve attribute 'ObjVal'",
     "output_type": "error",
     "traceback": [
      "\u001B[0;31m---------------------------------------------------------------------------\u001B[0m",
      "\u001B[0;31mAttributeError\u001B[0m                            Traceback (most recent call last)",
      "\u001B[0;32m/tmp/ipykernel_4903/1426761922.py\u001B[0m in \u001B[0;36m<module>\u001B[0;34m\u001B[0m\n\u001B[1;32m      3\u001B[0m     \u001B[0mL\u001B[0m \u001B[0;34m=\u001B[0m \u001B[0mcomplexity\u001B[0m \u001B[0;34m//\u001B[0m \u001B[0;36m5\u001B[0m\u001B[0;34m\u001B[0m\u001B[0;34m\u001B[0m\u001B[0m\n\u001B[1;32m      4\u001B[0m     \u001B[0mprint\u001B[0m\u001B[0;34m(\u001B[0m\u001B[0;34m\"C: \"\u001B[0m\u001B[0;34m,\u001B[0m\u001B[0mC\u001B[0m\u001B[0;34m,\u001B[0m \u001B[0;34m\" L: \"\u001B[0m\u001B[0;34m,\u001B[0m \u001B[0mL\u001B[0m\u001B[0;34m)\u001B[0m\u001B[0;34m\u001B[0m\u001B[0;34m\u001B[0m\u001B[0m\n\u001B[0;32m----> 5\u001B[0;31m     \u001B[0mstatus\u001B[0m\u001B[0;34m,\u001B[0m \u001B[0mruntime\u001B[0m\u001B[0;34m,\u001B[0m \u001B[0mobj_val\u001B[0m \u001B[0;34m=\u001B[0m \u001B[0mrun_experiment_gurobi\u001B[0m\u001B[0;34m(\u001B[0m\u001B[0mC\u001B[0m\u001B[0;34m,\u001B[0m \u001B[0mL\u001B[0m\u001B[0;34m,\u001B[0m \u001B[0mcustom_setup\u001B[0m\u001B[0;34m=\u001B[0m\u001B[0;32mFalse\u001B[0m\u001B[0;34m)\u001B[0m\u001B[0;34m\u001B[0m\u001B[0;34m\u001B[0m\u001B[0m\n\u001B[0m\u001B[1;32m      6\u001B[0m     \u001B[0mprint\u001B[0m\u001B[0;34m(\u001B[0m\u001B[0;34m\"status: \"\u001B[0m\u001B[0;34m,\u001B[0m\u001B[0mstatus\u001B[0m\u001B[0;34m,\u001B[0m \u001B[0;34m\"runtime: \"\u001B[0m\u001B[0;34m,\u001B[0m \u001B[0mruntime\u001B[0m\u001B[0;34m,\u001B[0m \u001B[0;34m\"obj_val: \"\u001B[0m\u001B[0;34m,\u001B[0m \u001B[0mobj_val\u001B[0m\u001B[0;34m)\u001B[0m\u001B[0;34m\u001B[0m\u001B[0;34m\u001B[0m\u001B[0m\n",
      "\u001B[0;32m~/code/python/DataSpell/package_delivery_optimisation_problem/executor.py\u001B[0m in \u001B[0;36mrun_experiment_gurobi\u001B[0;34m(C, L, custom_setup)\u001B[0m\n\u001B[1;32m    552\u001B[0m     \u001B[0msingle_period_problem\u001B[0m\u001B[0;34m.\u001B[0m\u001B[0moptimize\u001B[0m\u001B[0;34m(\u001B[0m\u001B[0;34m)\u001B[0m \u001B[0;31m#equivalent to solve() for xpress\u001B[0m\u001B[0;34m\u001B[0m\u001B[0;34m\u001B[0m\u001B[0m\n\u001B[1;32m    553\u001B[0m \u001B[0;34m\u001B[0m\u001B[0m\n\u001B[0;32m--> 554\u001B[0;31m     \u001B[0;32mreturn\u001B[0m \u001B[0msingle_period_problem\u001B[0m\u001B[0;34m.\u001B[0m\u001B[0mstatus\u001B[0m\u001B[0;34m,\u001B[0m \u001B[0msingle_period_problem\u001B[0m\u001B[0;34m.\u001B[0m\u001B[0mRuntime\u001B[0m\u001B[0;34m,\u001B[0m \u001B[0msingle_period_problem\u001B[0m\u001B[0;34m.\u001B[0m\u001B[0mObjVal\u001B[0m\u001B[0;34m\u001B[0m\u001B[0;34m\u001B[0m\u001B[0m\n\u001B[0m\u001B[1;32m    555\u001B[0m \u001B[0;34m\u001B[0m\u001B[0m\n\u001B[1;32m    556\u001B[0m \u001B[0;34m\u001B[0m\u001B[0m\n",
      "\u001B[0;32msrc/gurobipy/model.pxi\u001B[0m in \u001B[0;36mgurobipy.Model.__getattr__\u001B[0;34m()\u001B[0m\n",
      "\u001B[0;32msrc/gurobipy/model.pxi\u001B[0m in \u001B[0;36mgurobipy.Model.getAttr\u001B[0;34m()\u001B[0m\n",
      "\u001B[0;32msrc/gurobipy/attrutil.pxi\u001B[0m in \u001B[0;36mgurobipy.__getattr\u001B[0;34m()\u001B[0m\n",
      "\u001B[0;31mAttributeError\u001B[0m: Unable to retrieve attribute 'ObjVal'"
     ]
    }
   ],
   "source": [
    "for complexity in range(10, 51, 10):\n",
    "    C = complexity\n",
    "    L = complexity // 5\n",
    "    print(\"C: \",C, \" L: \", L)\n",
    "    status, runtime, obj_val = run_experiment_gurobi(C, L, custom_setup=False)\n",
    "    print(\"status: \",status, \"runtime: \", runtime, \"obj_val: \", obj_val)"
   ],
   "metadata": {
    "collapsed": false,
    "pycharm": {
     "name": "#%%\n"
    }
   }
  },
  {
   "cell_type": "code",
   "execution_count": null,
   "outputs": [],
   "source": [],
   "metadata": {
    "collapsed": false,
    "pycharm": {
     "name": "#%%\n"
    }
   }
  }
 ],
 "metadata": {
  "kernelspec": {
   "display_name": "Python 3",
   "language": "python",
   "name": "python3"
  },
  "language_info": {
   "codemirror_mode": {
    "name": "ipython",
    "version": 2
   },
   "file_extension": ".py",
   "mimetype": "text/x-python",
   "name": "python",
   "nbconvert_exporter": "python",
   "pygments_lexer": "ipython2",
   "version": "2.7.6"
  }
 },
 "nbformat": 4,
 "nbformat_minor": 0
}