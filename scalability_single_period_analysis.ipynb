{
 "cells": [
  {
   "cell_type": "code",
   "execution_count": 1,
   "metadata": {
    "collapsed": true,
    "pycharm": {
     "name": "#%%\n"
    }
   },
   "outputs": [],
   "source": [
    "import numpy as np\n",
    "\n",
    "from executor_single_period import *\n",
    "import matplotlib.pyplot as plt"
   ]
  },
  {
   "cell_type": "code",
   "execution_count": 2,
   "outputs": [
    {
     "name": "stdout",
     "output_type": "stream",
     "text": [
      "C:  10  L:  2\n",
      "Set parameter Username\n",
      "Academic license - for non-commercial use only - expires 2023-06-11\n",
      "status:  2 runtime:  0.30092692375183105 obj_val:  386.1978991700298\n",
      "C:  15  L:  2\n",
      "status:  2 runtime:  0.5091240406036377 obj_val:  403.75645085852466\n",
      "C:  20  L:  2\n",
      "status:  2 runtime:  15.277667045593262 obj_val:  480.75327164068625\n",
      "C:  25  L:  2\n",
      "status:  2 runtime:  1.3917980194091797 obj_val:  402.56115284496843\n",
      "C:  30  L:  2\n",
      "status:  2 runtime:  2.6840121746063232 obj_val:  533.8941620596663\n",
      "C:  10  L:  2\n",
      "status:  2 runtime:  0.05007791519165039 obj_val:  322.6470007691044\n",
      "C:  15  L:  2\n",
      "status:  2 runtime:  0.12733101844787598 obj_val:  428.6078884520316\n",
      "C:  20  L:  2\n",
      "status:  2 runtime:  0.8338639736175537 obj_val:  458.5538513776745\n",
      "C:  25  L:  2\n",
      "status:  2 runtime:  4.889064788818359 obj_val:  519.0669362458259\n",
      "C:  30  L:  2\n",
      "status:  2 runtime:  56.80122900009155 obj_val:  608.2980744563615\n",
      "C:  10  L:  2\n",
      "status:  2 runtime:  0.033560991287231445 obj_val:  415.12451899151927\n",
      "C:  15  L:  2\n",
      "status:  2 runtime:  0.12364697456359863 obj_val:  253.48457209726377\n",
      "C:  20  L:  2\n",
      "status:  2 runtime:  1.1592159271240234 obj_val:  441.318184815413\n",
      "C:  25  L:  2\n",
      "status:  2 runtime:  20.806254148483276 obj_val:  543.9875108264606\n",
      "C:  30  L:  2\n",
      "status:  2 runtime:  16.484740018844604 obj_val:  420.794014926787\n"
     ]
    }
   ],
   "source": [
    "number_of_executions= 3\n",
    "number_of_points =np.array([])\n",
    "exe_time = np.array([])\n",
    "performance =np.array([])\n",
    "for num_of_run in range(number_of_executions):\n",
    "    for complexity in range(10, 31, 5):\n",
    "        C = complexity\n",
    "        #L = complexity // 5\n",
    "        L=2\n",
    "        number_of_points=np.append(number_of_points,L+C)\n",
    "        print(\"C: \",C, \" L: \", L)\n",
    "        status, runtime, obj_val = run_experiment_gurobi(C, L, custom_setup=False)\n",
    "        exe_time=np.append(exe_time,runtime)\n",
    "        performance=np.append(performance,status)\n",
    "        print(\"status: \",status, \"runtime: \", runtime, \"obj_val: \", obj_val)\n",
    "\n",
    "number_of_points=np.reshape(number_of_points,(number_of_executions,int(len(number_of_points)/number_of_executions)))\n",
    "exe_time=np.reshape(exe_time,(number_of_executions,int(len(exe_time)/number_of_executions)))\n",
    "performance=np.reshape(performance,(number_of_executions,int(len(performance)/number_of_executions)))\n",
    "average_time = np.mean(exe_time,axis=0)\n",
    "number_of_points=np.mean(number_of_points,axis=0)"
   ],
   "metadata": {
    "collapsed": false,
    "pycharm": {
     "name": "#%%\n"
    }
   }
  },
  {
   "cell_type": "code",
   "execution_count": 3,
   "outputs": [
    {
     "data": {
      "text/plain": "<Figure size 432x288 with 1 Axes>",
      "image/png": "[encoded data removed]"
     },
     "metadata": {
      "needs_background": "light"
     },
     "output_type": "display_data"
    }
   ],
   "source": [
    "# plotting the points\n",
    "plt.plot(number_of_points, average_time)\n",
    "\n",
    "# naming the x axis\n",
    "plt.xlabel('Number of points')\n",
    "# naming the y axis\n",
    "plt.ylabel('Time in seconds')\n",
    "\n",
    "# giving a title to my graph\n",
    "plt.title('Single Period Problem')\n",
    "\n",
    "# function to show the plot\n",
    "plt.show()"
   ],
   "metadata": {
    "collapsed": false,
    "pycharm": {
     "name": "#%%\n"
    }
   }
  },
  {
   "cell_type": "markdown",
   "source": [
    "for from complexity = 10 to max 106 step with 10:\n",
    "    C = complexity\n",
    "    L = complexity / [15, 20]\n",
    "    run_experiment(C, L)\n",
    "\n",
    "\n",
    "input:\n",
    "C\n",
    "L\n",
    "custom_setup\n",
    "\n",
    "output:\n",
    "resolving_time\n",
    "solution_status = {feasible, infeasible}"
   ],
   "metadata": {
    "collapsed": false,
    "pycharm": {
     "name": "#%% md\n"
    }
   }
  },
  {
   "cell_type": "code",
   "execution_count": null,
   "outputs": [],
   "source": [],
   "metadata": {
    "collapsed": false,
    "pycharm": {
     "name": "#%%\n"
    }
   }
  }
 ],
 "metadata": {
  "kernelspec": {
   "display_name": "Python 3",
   "language": "python",
   "name": "python3"
  },
  "language_info": {
   "codemirror_mode": {
    "name": "ipython",
    "version": 2
   },
   "file_extension": ".py",
   "mimetype": "text/x-python",
   "name": "python",
   "nbconvert_exporter": "python",
   "pygments_lexer": "ipython2",
   "version": "2.7.6"
  }
 },
 "nbformat": 4,
 "nbformat_minor": 0
}