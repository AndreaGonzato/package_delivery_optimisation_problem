{
 "cells": [
  {
   "cell_type": "code",
   "execution_count": 1,
   "outputs": [
    {
     "name": "stdout",
     "output_type": "stream",
     "text": [
      "Using the Community license in this session. If you have a full Xpress license, first set the XPAUTH_PATH environment variable to the full path to your license file, xpauth.xpr, and then restart Python. If you want to use the FICO Community license and no longer want to see this message, set the XPAUTH_PATH environment variable to: /home/andrea/anaconda3/lib/python3.9/site-packages/xpress/license/community-xpauth.xpr\n",
      "NB: setting XPAUTH_PATH will also affect any other Xpress products installed on your system.\n"
     ]
    }
   ],
   "source": [
    "import numpy as np\n",
    "import matplotlib.pyplot as plt\n",
    "import pandas as pd\n",
    "from scipy.spatial import distance_matrix\n",
    "import random\n",
    "import math\n",
    "import xpress  as xp"
   ],
   "metadata": {
    "collapsed": false,
    "pycharm": {
     "name": "#%%\n"
    }
   }
  },
  {
   "cell_type": "code",
   "execution_count": 17,
   "outputs": [],
   "source": [
    "# input\n",
    "C = 10\n",
    "L = 2\n",
    "\n",
    "custom_setup = False\n",
    "map_size = 100\n",
    "ratio_locker_customers = 0.3\n",
    "ratio_prime_door_to_door_customer = 0.4"
   ],
   "metadata": {
    "collapsed": false,
    "pycharm": {
     "name": "#%%\n"
    }
   }
  },
  {
   "cell_type": "code",
   "execution_count": 18,
   "outputs": [],
   "source": [
    "# define the locations of customers and lockers and warehouse\n",
    "if custom_setup:\n",
    "    C_location = np.array([[0.1 ,0.28], [0.2 ,0.4],[0.15 ,0.7], [0.3 ,0.7],[0.8 ,0.6],[0.7 ,0.4],[0.9 ,0.5], [0.4, 0.15]])\n",
    "    W_location = np.array([[0.6 ,0.5]])\n",
    "    L_location = np.array([[0.3 ,0.5],[0.5,0.2]])\n",
    "else:\n",
    "    C_location = np.random.randint(map_size, size=(C, 2))\n",
    "    W_location = np.random.randint(map_size, size=(1, 2))\n",
    "    L_location = np.random.randint(map_size, size=(L, 2))\n",
    "stores_location = np.concatenate((W_location, L_location), axis=0)"
   ],
   "metadata": {
    "collapsed": false,
    "pycharm": {
     "name": "#%%\n"
    }
   }
  },
  {
   "cell_type": "code",
   "execution_count": 19,
   "outputs": [],
   "source": [
    "def euclidean_distance(location_a, location_b):\n",
    "    if len(location_a) != 2 or len(location_b) != 2:\n",
    "        raise Exception(\"the two location need to be a list each of size 2\")\n",
    "    delta_x = location_b[0]-location_a[0]\n",
    "    delta_y = location_b[1]-location_a[1]\n",
    "    return math.sqrt(delta_x*delta_x+delta_y*delta_y)\n",
    "\n",
    "def find_nearest_stores_from_customer(customer_location, stores_location_par):\n",
    "    min_distance = float(\"inf\")\n",
    "    nearest_store_location = []\n",
    "    index = 0\n",
    "    nearest_locker_index = -1\n",
    "    for store_location in stores_location_par:\n",
    "        distance = euclidean_distance(customer_location, store_location)\n",
    "        if distance < min_distance:\n",
    "            min_distance = distance\n",
    "            nearest_store_location = store_location\n",
    "            nearest_locker_index = index\n",
    "        index +=1\n",
    "    return nearest_locker_index, nearest_store_location\n"
   ],
   "metadata": {
    "collapsed": false,
    "pycharm": {
     "name": "#%%\n"
    }
   }
  },
  {
   "cell_type": "code",
   "execution_count": 20,
   "outputs": [],
   "source": [
    "# Customers’ demand and preferences\n",
    "q = np.ones(C)\n",
    "\n",
    "# define all the stores: eg. stores = [W, L0, L1, .... , Lx]\n",
    "warehouse = [\"W\"]\n",
    "lockers = []\n",
    "for l in range(L):\n",
    "    lockers.append(\"L\"+str(l))\n",
    "stores = warehouse+lockers\n",
    "\n",
    "if custom_setup:\n",
    "    C_L = [0, 5, 7]\n",
    "    C_D = [1, 2, 3, 4, 6]\n",
    "    S_k =[1, 2, 6]\n",
    "    a_k = [\"L0\", \"W\", \"L1\"]\n",
    "else:\n",
    "    C_L = []\n",
    "    C_D = []\n",
    "    S_k = []\n",
    "    a_k = []\n",
    "    for client in range(C):\n",
    "        if random.random()  <= ratio_locker_customers :\n",
    "            # locker customer\n",
    "            C_L.append(client)\n",
    "            a_k.append(random.choice(stores))\n",
    "        else:\n",
    "            # door to door customer\n",
    "            C_D.append(client)\n",
    "            if random.random() >= ratio_prime_door_to_door_customer:\n",
    "                S_k.append(client)\n"
   ],
   "metadata": {
    "collapsed": false,
    "pycharm": {
     "name": "#%%\n"
    }
   }
  },
  {
   "cell_type": "code",
   "execution_count": 21,
   "outputs": [
    {
     "name": "stdout",
     "output_type": "stream",
     "text": [
      "Q:  3\n",
      "W_l:  [4, 4]\n",
      "Q_l:  [3, 3]\n",
      "Q_L:  7\n",
      "sum_W_l:  8\n"
     ]
    }
   ],
   "source": [
    "# Capacities\n",
    "\n",
    "# PF vehicles capacities\n",
    "Q = math.ceil(0.5 * len(C_D))\n",
    "# locker storage (every locker has the same capacity by default)\n",
    "W_l = []\n",
    "for i in range(L):\n",
    "    W_l.append(math.ceil(0.8 * C / L))\n",
    "# LF vehicles capacities (every LF vehicle has the same capacity by default)\n",
    "Q_l = []\n",
    "for i in range(L):\n",
    "    Q_l.append(math.ceil(0.6 * W_l[i]))\n",
    "\n",
    "sum_W_l = 0\n",
    "for i in range(len(W_l)):\n",
    "    sum_W_l += W_l[i]\n",
    "\n",
    "\n",
    "# supply vehicles storage\n",
    "Q_L = math.ceil(0.8 * sum_W_l)\n",
    "\n",
    "print(\"Q: \",Q)\n",
    "print(\"W_l: \",W_l)\n",
    "print(\"Q_l: \",Q_l)\n",
    "print(\"Q_L: \",Q_L)\n",
    "print(\"sum_W_l: \", sum_W_l)\n"
   ],
   "metadata": {
    "collapsed": false,
    "pycharm": {
     "name": "#%%\n"
    }
   }
  },
  {
   "cell_type": "code",
   "execution_count": 22,
   "outputs": [
    {
     "name": "stdout",
     "output_type": "stream",
     "text": [
      "['Cl0', 'Cl1', 'Cl2', 'Cl3']\n",
      "['Cd0', 'Cd1', 'Cd2', 'Cd3', 'Cd4', 'Cd5']\n",
      "['Cd0', 'Cd1', 'Cd2', 'Cd3', 'Cd4', 'Cd5', 'Cl0', 'Cl1', 'Cl2', 'Cl3']\n"
     ]
    },
    {
     "data": {
      "text/plain": "<matplotlib.collections.PathCollection at 0x7f8db54c2f40>"
     },
     "execution_count": 22,
     "metadata": {},
     "output_type": "execute_result"
    },
    {
     "data": {
      "text/plain": "<Figure size 432x288 with 1 Axes>",
      "image/png": "[encoded data removed]"
     },
     "metadata": {
      "needs_background": "light"
     },
     "output_type": "display_data"
    }
   ],
   "source": [
    "CD_location = np.array([[0,0]])\n",
    "CL_location = np.array([[0,0]])\n",
    "\n",
    "for i in range(C):\n",
    "    if i in  C_D:\n",
    "        CD_location=np.vstack([CD_location, C_location[i]])\n",
    "    else:\n",
    "        CL_location = np.vstack([CL_location, C_location[i]])\n",
    "\n",
    "CD_location = np.delete(CD_location, 0, 0)\n",
    "CL_location = np.delete(CL_location, 0, 0)\n",
    "\n",
    "#define all customers\n",
    "Customers = []\n",
    "Customers_door = []\n",
    "Customers_locker = []\n",
    "for i in range(len(C_D)):\n",
    "    Customers_door.append(\"Cd\"+str(i))\n",
    "for i in range(len(C_L)):\n",
    "    Customers_locker.append(\"Cl\"+str(i))\n",
    "\n",
    "Customers = Customers_door+Customers_locker\n",
    "\n",
    "print(Customers_locker)\n",
    "print(Customers_door)\n",
    "print(Customers)\n",
    "\n",
    "plt.scatter(CD_location[:,0],CD_location[:,1],color='b')\n",
    "plt.scatter(CL_location[:,0],CL_location[:,1],color='m')\n",
    "plt.scatter(W_location[:,0],W_location[:,1],color='g',marker='D')\n",
    "plt.scatter(L_location[:,0],L_location[:,1],color ='y',marker='s')\n",
    "\n",
    "#piccola nota\n",
    "#come nel paper in verde è la warehouse, in giallo i locker, mentre in blu in customer door to door e in magenta i customer locker"
   ],
   "metadata": {
    "collapsed": false,
    "pycharm": {
     "name": "#%%\n"
    }
   }
  },
  {
   "cell_type": "code",
   "execution_count": 23,
   "outputs": [
    {
     "name": "stdout",
     "output_type": "stream",
     "text": [
      "              W         L0          L1         Cd0         Cd1         Cd2  \\\n",
      "W      0.000000  46.872167    8.544004   23.853721    8.602325  113.225439   \n",
      "L0    46.872167   0.000000   43.011626   34.058773   51.039201   73.246160   \n",
      "L1     8.544004  43.011626    0.000000   27.018512    8.062258  106.230881   \n",
      "Cd0   23.853721  34.058773   27.018512    0.000000   32.015621  106.887792   \n",
      "Cd1    8.602325  51.039201    8.062258   32.015621    0.000000  113.534136   \n",
      "Cd2  113.225439  73.246160  106.230881  106.887792  113.534136    0.000000   \n",
      "Cd3   68.264193  71.281134   60.074953   82.200973   61.983869   86.023253   \n",
      "Cd4   68.942005  25.495098   63.245553   59.413803   71.168813   47.801674   \n",
      "Cd5   92.849340  62.817195   84.899941   92.574294   91.241438   31.256999   \n",
      "Cl0   68.249542  66.730802   59.841457   80.305666   62.641839   79.006329   \n",
      "Cl1   83.360662  43.266615   82.280010   62.032250   89.738509   81.614950   \n",
      "Cl2   83.815273  37.576588   78.854296   71.021124   86.884981   42.720019   \n",
      "Cl3   49.040799  32.649655   41.036569   52.172790   47.507894   67.119297   \n",
      "\n",
      "            Cd3        Cd4        Cd5         Cl0         Cl1        Cl2  \\\n",
      "W     68.264193  68.942005  92.849340   68.249542   83.360662  83.815273   \n",
      "L0    71.281134  25.495098  62.817195   66.730802   43.266615  37.576588   \n",
      "L1    60.074953  63.245553  84.899941   59.841457   82.280010  78.854296   \n",
      "Cd0   82.200973  59.413803  92.574294   80.305666   62.032250  71.021124   \n",
      "Cd1   61.983869  71.168813  91.241438   62.641839   89.738509  86.884981   \n",
      "Cd2   86.023253  47.801674  31.256999   79.006329   81.614950  42.720019   \n",
      "Cd3    0.000000  69.634761  55.036352    7.071068  112.538882  85.586214   \n",
      "Cd4   69.634761   0.000000  42.047592   63.411355   47.010637  17.262677   \n",
      "Cd5   55.036352  42.047592   0.000000   48.093659   87.555697  48.846699   \n",
      "Cl0    7.071068  63.411355  48.093659    0.000000  107.168092  79.075913   \n",
      "Cl1  112.538882  47.010637  87.555697  107.168092    0.000000  40.049969   \n",
      "Cl2   85.586214  17.262677  48.846699   79.075913   40.049969   0.000000   \n",
      "Cl3   39.051248  33.526109  43.863424   34.132096   73.552702  50.695167   \n",
      "\n",
      "           Cl3  \n",
      "W    49.040799  \n",
      "L0   32.649655  \n",
      "L1   41.036569  \n",
      "Cd0  52.172790  \n",
      "Cd1  47.507894  \n",
      "Cd2  67.119297  \n",
      "Cd3  39.051248  \n",
      "Cd4  33.526109  \n",
      "Cd5  43.863424  \n",
      "Cl0  34.132096  \n",
      "Cl1  73.552702  \n",
      "Cl2  50.695167  \n",
      "Cl3   0.000000  \n"
     ]
    }
   ],
   "source": [
    "#calcolo la matrice delle distanze:\n",
    "all_locations = np.array([])\n",
    "all_locations = np.append(all_locations,W_location)\n",
    "all_locations = np.vstack([all_locations,L_location])\n",
    "all_locations = np.vstack([all_locations,CD_location])\n",
    "all_locations = np.vstack([all_locations,CL_location])\n",
    "\n",
    "all_buildings = stores + Customers\n",
    "\n",
    "df = pd.DataFrame(all_locations, columns=['xcord', 'ycord'], index=all_buildings)\n",
    "dist_matrix = pd.DataFrame(distance_matrix(df.values, df.values), index=df.index, columns=df.index)\n",
    "matrix_distance_converted_in_numpy = dist_matrix.to_numpy()\n",
    "print(dist_matrix)"
   ],
   "metadata": {
    "collapsed": false,
    "pycharm": {
     "name": "#%%\n"
    }
   }
  },
  {
   "cell_type": "code",
   "execution_count": 24,
   "outputs": [
    {
     "name": "stdout",
     "output_type": "stream",
     "text": [
      "            W         L0         L1\n",
      "W    0.000000  46.872167   8.544004\n",
      "L0  46.872167   0.000000  43.011626\n",
      "L1   8.544004  43.011626   0.000000\n",
      "              W         Cd0         Cd1         Cd2        Cd3        Cd4  \\\n",
      "W      0.000000   23.853721    8.602325  113.225439  68.264193  68.942005   \n",
      "Cd0   23.853721    0.000000   32.015621  106.887792  82.200973  59.413803   \n",
      "Cd1    8.602325   32.015621    0.000000  113.534136  61.983869  71.168813   \n",
      "Cd2  113.225439  106.887792  113.534136    0.000000  86.023253  47.801674   \n",
      "Cd3   68.264193   82.200973   61.983869   86.023253   0.000000  69.634761   \n",
      "Cd4   68.942005   59.413803   71.168813   47.801674  69.634761   0.000000   \n",
      "Cd5   92.849340   92.574294   91.241438   31.256999  55.036352  42.047592   \n",
      "\n",
      "           Cd5  \n",
      "W    92.849340  \n",
      "Cd0  92.574294  \n",
      "Cd1  91.241438  \n",
      "Cd2  31.256999  \n",
      "Cd3  55.036352  \n",
      "Cd4  42.047592  \n",
      "Cd5   0.000000  \n",
      "            L0          L1         Cd0         Cd1         Cd2        Cd3  \\\n",
      "L0    0.000000   43.011626   34.058773   51.039201   73.246160  71.281134   \n",
      "L1   43.011626    0.000000   27.018512    8.062258  106.230881  60.074953   \n",
      "Cd0  34.058773   27.018512    0.000000   32.015621  106.887792  82.200973   \n",
      "Cd1  51.039201    8.062258   32.015621    0.000000  113.534136  61.983869   \n",
      "Cd2  73.246160  106.230881  106.887792  113.534136    0.000000  86.023253   \n",
      "Cd3  71.281134   60.074953   82.200973   61.983869   86.023253   0.000000   \n",
      "Cd4  25.495098   63.245553   59.413803   71.168813   47.801674  69.634761   \n",
      "Cd5  62.817195   84.899941   92.574294   91.241438   31.256999  55.036352   \n",
      "\n",
      "           Cd4        Cd5  \n",
      "L0   25.495098  62.817195  \n",
      "L1   63.245553  84.899941  \n",
      "Cd0  59.413803  92.574294  \n",
      "Cd1  71.168813  91.241438  \n",
      "Cd2  47.801674  31.256999  \n",
      "Cd3  69.634761  55.036352  \n",
      "Cd4   0.000000  42.047592  \n",
      "Cd5  42.047592   0.000000  \n"
     ]
    }
   ],
   "source": [
    "#filter data\n",
    "\n",
    "supply_distances_matrix = dist_matrix.filter(items=stores,axis=1)\n",
    "supply_distances_matrix  = supply_distances_matrix.filter(items=stores,axis=0)\n",
    "print(supply_distances_matrix)\n",
    "\n",
    "PF_distances_matrix = dist_matrix.filter(items=['W']+Customers_door,axis=1)\n",
    "PF_distances_matrix = PF_distances_matrix.filter(items=['W']+Customers_door,axis=0)\n",
    "print(PF_distances_matrix)\n",
    "\n",
    "LF_distances_matrix = dist_matrix.filter(items=lockers+Customers_door,axis=1)\n",
    "LF_distances_matrix = LF_distances_matrix.filter(items=lockers+Customers_door,axis=0)\n",
    "print(LF_distances_matrix)"
   ],
   "metadata": {
    "collapsed": false,
    "pycharm": {
     "name": "#%%\n"
    }
   }
  },
  {
   "cell_type": "code",
   "execution_count": 26,
   "outputs": [
    {
     "name": "stdout",
     "output_type": "stream",
     "text": [
      "            W         L0         L1\n",
      "W    0.000000  35.154125   6.408003\n",
      "L0  35.154125   0.000000  32.258720\n",
      "L1   6.408003  32.258720   0.000000\n",
      "              W         Cd0         Cd1         Cd2        Cd3        Cd4  \\\n",
      "W      0.000000   23.853721    8.602325  113.225439  68.264193  68.942005   \n",
      "Cd0   23.853721    0.000000   32.015621  106.887792  82.200973  59.413803   \n",
      "Cd1    8.602325   32.015621    0.000000  113.534136  61.983869  71.168813   \n",
      "Cd2  113.225439  106.887792  113.534136    0.000000  86.023253  47.801674   \n",
      "Cd3   68.264193   82.200973   61.983869   86.023253   0.000000  69.634761   \n",
      "Cd4   68.942005   59.413803   71.168813   47.801674  69.634761   0.000000   \n",
      "Cd5   92.849340   92.574294   91.241438   31.256999  55.036352  42.047592   \n",
      "\n",
      "           Cd5  \n",
      "W    92.849340  \n",
      "Cd0  92.574294  \n",
      "Cd1  91.241438  \n",
      "Cd2  31.256999  \n",
      "Cd3  55.036352  \n",
      "Cd4  42.047592  \n",
      "Cd5   0.000000  \n",
      "            L0         L1        Cd0        Cd1        Cd2        Cd3  \\\n",
      "L0    0.000000  36.559882  28.949957  43.383321  62.259236  60.588964   \n",
      "L1   36.559882   0.000000  22.965735   6.852919  90.296249  51.063710   \n",
      "Cd0  28.949957  22.965735   0.000000  27.213278  90.854623  69.870827   \n",
      "Cd1  43.383321   6.852919  27.213278   0.000000  96.504015  52.686289   \n",
      "Cd2  62.259236  90.296249  90.854623  96.504015   0.000000  73.119765   \n",
      "Cd3  60.588964  51.063710  69.870827  52.686289  73.119765   0.000000   \n",
      "Cd4  21.670833  53.758720  50.501733  60.493491  40.631423  59.189547   \n",
      "Cd5  53.394616  72.164950  78.688150  77.555222  26.568449  46.780899   \n",
      "\n",
      "           Cd4        Cd5  \n",
      "L0   21.670833  53.394616  \n",
      "L1   53.758720  72.164950  \n",
      "Cd0  50.501733  78.688150  \n",
      "Cd1  60.493491  77.555222  \n",
      "Cd2  40.631423  26.568449  \n",
      "Cd3  59.189547  46.780899  \n",
      "Cd4   0.000000  35.740453  \n",
      "Cd5  35.740453   0.000000  \n"
     ]
    }
   ],
   "source": [
    "# Delivery Cost\n",
    "pi = 1\n",
    "pi_l = 0.85\n",
    "pi_L = 0.75\n",
    "ro = 0.5\n",
    "PF_delivery_cost = pi*PF_distances_matrix\n",
    "LF_delivery_cost = pi_l*LF_distances_matrix\n",
    "supply_cost = pi_L*supply_distances_matrix\n",
    "print(supply_cost)\n",
    "print(PF_delivery_cost)\n",
    "print(LF_delivery_cost)"
   ],
   "metadata": {
    "collapsed": false,
    "pycharm": {
     "name": "#%%\n"
    }
   }
  },
  {
   "cell_type": "markdown",
   "source": [
    "## extra code to delete"
   ],
   "metadata": {
    "collapsed": false,
    "pycharm": {
     "name": "#%% md\n"
    }
   }
  },
  {
   "cell_type": "code",
   "execution_count": null,
   "outputs": [],
   "source": [
    "x = np.random.randint(0, 50, 7)\n",
    "y = np.random.randint(0, 50, 7)\n",
    "C = [x,y]\n",
    "plt.scatter(C[0],C[1])\n",
    "C = np.arange(7)\n",
    "print(C)\n",
    "plt.show()"
   ],
   "metadata": {
    "collapsed": false,
    "pycharm": {
     "name": "#%%\n"
    }
   }
  },
  {
   "cell_type": "code",
   "execution_count": null,
   "outputs": [],
   "source": [
    "C = np.random.rand(7,2)\n",
    "plt.scatter(C[:,0],C[:,1],color='b')\n",
    "W = np.random.rand(1,2)\n",
    "plt.scatter(W[:,0],W[:,1],color='g',marker='D')\n",
    "L = np.random.rand(1,2)\n",
    "plt.scatter(L[:,0],L[:,1],color ='y',marker='s')\n",
    "print(C)"
   ],
   "metadata": {
    "collapsed": false,
    "pycharm": {
     "name": "#%%\n"
    }
   }
  },
  {
   "cell_type": "code",
   "execution_count": null,
   "outputs": [],
   "source": [
    "C = np.array([[0.1 ,0.1], [0.2 ,0.3],[0.15 ,0.7], [0.3 ,0.7],[0.8 ,0.6],\n",
    "              [0.9 ,0.5],[0.7 ,0.3]])\n",
    "plt.scatter(C[:,0],C[:,1],color='b')\n",
    "W = np.array([[0.6 ,0.5]])\n",
    "plt.scatter(W[:,0],W[:,1],color='g',marker='D')\n",
    "L = np.array([[0.3 ,0.5]])\n",
    "plt.scatter(L[:,0],L[:,1],color ='y',marker='s')"
   ],
   "metadata": {
    "collapsed": false,
    "pycharm": {
     "name": "#%%\n"
    }
   }
  },
  {
   "cell_type": "code",
   "execution_count": null,
   "outputs": [],
   "source": [
    "#calcolo la matrice delle distanze:\n",
    "data = np.array([])\n",
    "data = np.append(data,W)\n",
    "data = np.vstack([data,L])\n",
    "data = np.vstack([data,C])\n",
    "buildings =['Warehouse','Locker','c1','c2','c3','c4','c5','c6','c7']\n",
    "print(len(data))\n",
    "df = pd.DataFrame(data, columns=['xcord', 'ycord'], index=buildings)\n",
    "dist_matrix = pd.DataFrame(distance_matrix(df.values, df.values), index=df.index, columns=df.index)\n",
    "matrix_distance_converted_in_numpy =dist_matrix.to_numpy()"
   ],
   "metadata": {
    "collapsed": false,
    "pycharm": {
     "name": "#%%\n"
    }
   }
  },
  {
   "cell_type": "code",
   "execution_count": null,
   "outputs": [],
   "source": [
    "# Delivery Cost\n",
    "pi = 1\n",
    "pi_l = 0.85\n",
    "pi_L = 0.75\n",
    "ro = 0.5\n",
    "PF_delivery_cost = pi*matrix_distance_converted_in_numpy\n",
    "LF_delivery_cost = pi_l*matrix_distance_converted_in_numpy\n",
    "PF_delivery_cost = pi*matrix_distance_converted_in_numpy\n",
    "Suplly_cost = pi_L*matrix_distance_converted_in_numpy\n"
   ],
   "metadata": {
    "collapsed": false,
    "pycharm": {
     "name": "#%%\n"
    }
   }
  },
  {
   "cell_type": "code",
   "execution_count": null,
   "outputs": [],
   "source": [],
   "metadata": {
    "collapsed": false,
    "pycharm": {
     "name": "#%%\n"
    }
   }
  },
  {
   "cell_type": "code",
   "execution_count": 30,
   "outputs": [
    {
     "name": "stdout",
     "output_type": "stream",
     "text": [
      "andrea\n"
     ]
    }
   ],
   "source": [
    "print(\"andrea\")\n"
   ],
   "metadata": {
    "collapsed": false,
    "pycharm": {
     "name": "#%%\n"
    }
   }
  },
  {
   "cell_type": "code",
   "execution_count": null,
   "outputs": [],
   "source": [],
   "metadata": {
    "collapsed": false,
    "pycharm": {
     "name": "#%%\n"
    }
   }
  },
  {
   "cell_type": "code",
   "execution_count": null,
   "outputs": [],
   "source": [],
   "metadata": {
    "collapsed": false,
    "pycharm": {
     "name": "#%%\n"
    }
   }
  },
  {
   "cell_type": "code",
   "execution_count": null,
   "outputs": [],
   "source": [
    "# Delivery Cost\n",
    "pi = 1\n",
    "pi_l = 0.85\n",
    "pi_L = 0.75\n",
    "ro = 0.5\n",
    "PF_delivery_cost = pi*matrix_distance_converted_in_numpy\n",
    "LF_delivery_cost = pi_l*matrix_distance_converted_in_numpy\n",
    "PF_delivery_cost = pi*matrix_distance_converted_in_numpy\n",
    "Suplly_cost = pi_L*matrix_distance_converted_in_numpy\n"
   ],
   "metadata": {
    "collapsed": false,
    "pycharm": {
     "name": "#%%\n"
    }
   }
  }
 ],
 "metadata": {
  "kernelspec": {
   "display_name": "Python 3",
   "language": "python",
   "name": "python3"
  },
  "language_info": {
   "codemirror_mode": {
    "name": "ipython",
    "version": 2
   },
   "file_extension": ".py",
   "mimetype": "text/x-python",
   "name": "python",
   "nbconvert_exporter": "python",
   "pygments_lexer": "ipython2",
   "version": "2.7.6"
  }
 },
 "nbformat": 4,
 "nbformat_minor": 0
}