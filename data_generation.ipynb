{
 "cells": [
  {
   "cell_type": "code",
   "execution_count": 2,
   "metadata": {
    "collapsed": true,
    "pycharm": {
     "name": "#%%\n"
    }
   },
   "outputs": [],
   "source": [
    "import numpy as np\n",
    "import matplotlib.pyplot as plt\n",
    "import pandas as pd\n",
    "from scipy.spatial import distance_matrix\n",
    "import xpress  as xp"
   ]
  },
  {
   "cell_type": "code",
   "execution_count": 3,
   "outputs": [],
   "source": [
    "# input\n",
    "N = 7\n",
    "custom_setup = True"
   ],
   "metadata": {
    "collapsed": false,
    "pycharm": {
     "name": "#%%\n"
    }
   }
  },
  {
   "cell_type": "code",
   "execution_count": 4,
   "outputs": [],
   "source": [
    "# Customers’ demand and preferences\n",
    "q = np.ones(N)\n",
    "C = np.arange(7)\n",
    "C_L = [0, 5] #TODO make it scalable\n",
    "C_D = [1, 2, 3, 4, 6] #TODO make it scalable\n",
    "S_k =[1, 2, 6] #TODO make it scalable\n",
    "a_k = [\"L1\", \"W\"]\n"
   ],
   "metadata": {
    "collapsed": false,
    "pycharm": {
     "name": "#%%\n"
    }
   }
  },
  {
   "cell_type": "code",
   "execution_count": 4,
   "outputs": [
    {
     "name": "stdout",
     "output_type": "stream",
     "text": [
      "[0 1 2 3 4 5 6]\n"
     ]
    },
    {
     "data": {
      "text/plain": "<Figure size 432x288 with 1 Axes>",
      "image/png": "[encoded data removed]"
     },
     "metadata": {
      "needs_background": "light"
     },
     "output_type": "display_data"
    }
   ],
   "source": [
    "#random generation of x y coordinates which will represent the location of our customers, lockers and warehouse\n",
    "x = np.random.randint(0, 50, N)\n",
    "y = np.random.randint(0, 50, N)\n",
    "C = [x,y]\n",
    "plt.scatter(C[0],C[1])\n",
    "C = np.arange(N)\n",
    "print(C)\n",
    "plt.show()"
   ],
   "metadata": {
    "collapsed": false,
    "pycharm": {
     "name": "#%%\n"
    }
   }
  },
  {
   "cell_type": "code",
   "execution_count": 6,
   "outputs": [
    {
     "name": "stdout",
     "output_type": "stream",
     "text": [
      "[[0.06916367 0.47501348]\n",
      " [0.76053093 0.86880886]\n",
      " [0.44846426 0.5466526 ]\n",
      " [0.86957456 0.65391512]\n",
      " [0.6858352  0.83608172]\n",
      " [0.72209407 0.3321501 ]\n",
      " [0.1258424  0.69306342]]\n"
     ]
    },
    {
     "data": {
      "text/plain": "<Figure size 432x288 with 1 Axes>",
      "image/png": "[encoded data removed]"
     },
     "metadata": {
      "needs_background": "light"
     },
     "output_type": "display_data"
    }
   ],
   "source": [
    "#plotting ou point with the appropriate shape as in the paper\n",
    "C = np.random.rand(N,2)\n",
    "plt.scatter(C[:,0],C[:,1],color='b')\n",
    "W = np.random.rand(1,2)\n",
    "plt.scatter(W[:,0],W[:,1],color='g',marker='D')\n",
    "L = np.random.rand(1,2)\n",
    "plt.scatter(L[:,0],L[:,1],color ='y',marker='s')\n",
    "print(C)"
   ],
   "metadata": {
    "collapsed": false,
    "pycharm": {
     "name": "#%%\n"
    }
   }
  },
  {
   "cell_type": "code",
   "execution_count": 25,
   "outputs": [
    {
     "data": {
      "text/plain": "<matplotlib.collections.PathCollection at 0x7fc8f6800fd0>"
     },
     "execution_count": 25,
     "metadata": {},
     "output_type": "execute_result"
    },
    {
     "data": {
      "text/plain": "<Figure size 432x288 with 1 Axes>",
      "image/png": "[encoded data removed]"
     },
     "metadata": {
      "needs_background": "light"
     },
     "output_type": "display_data"
    }
   ],
   "source": [
    "C = np.array([[0.1 ,0.1], [0.2 ,0.3],[0.15 ,0.7], [0.3 ,0.7],[0.8 ,0.6],\n",
    "              [0.9 ,0.5],[0.7 ,0.3]])\n",
    "plt.scatter(C[:,0],C[:,1],color='b')\n",
    "W = np.array([[0.6 ,0.5]])\n",
    "plt.scatter(W[:,0],W[:,1],color='g',marker='D')\n",
    "L = np.array([[0.3 ,0.5]])\n",
    "plt.scatter(L[:,0],L[:,1],color ='y',marker='s')"
   ],
   "metadata": {
    "collapsed": false,
    "pycharm": {
     "name": "#%%\n"
    }
   }
  },
  {
   "cell_type": "code",
   "execution_count": 26,
   "outputs": [
    {
     "name": "stdout",
     "output_type": "stream",
     "text": [
      "9\n"
     ]
    },
    {
     "data": {
      "text/plain": "           Warehouse    Locker        c1        c2        c3        c4  \\\nWarehouse   0.000000  0.300000  0.640312  0.447214  0.492443  0.360555   \nLocker      0.300000  0.000000  0.447214  0.223607  0.250000  0.200000   \nc1          0.640312  0.447214  0.000000  0.223607  0.602080  0.632456   \nc2          0.447214  0.223607  0.223607  0.000000  0.403113  0.412311   \nc3          0.492443  0.250000  0.602080  0.403113  0.000000  0.150000   \nc4          0.360555  0.200000  0.632456  0.412311  0.150000  0.000000   \nc5          0.223607  0.509902  0.860233  0.670820  0.657647  0.509902   \nc6          0.300000  0.600000  0.894427  0.728011  0.776209  0.632456   \nc7          0.223607  0.447214  0.632456  0.500000  0.680074  0.565685   \n\n                 c5        c6        c7  \nWarehouse  0.223607  0.300000  0.223607  \nLocker     0.509902  0.600000  0.447214  \nc1         0.860233  0.894427  0.632456  \nc2         0.670820  0.728011  0.500000  \nc3         0.657647  0.776209  0.680074  \nc4         0.509902  0.632456  0.565685  \nc5         0.000000  0.141421  0.316228  \nc6         0.141421  0.000000  0.282843  \nc7         0.316228  0.282843  0.000000  ",
      "text/html": "<div>\n<style scoped>\n    .dataframe tbody tr th:only-of-type {\n        vertical-align: middle;\n    }\n\n    .dataframe tbody tr th {\n        vertical-align: top;\n    }\n\n    .dataframe thead th {\n        text-align: right;\n    }\n</style>\n<table border=\"1\" class=\"dataframe\">\n  <thead>\n    <tr style=\"text-align: right;\">\n      <th></th>\n      <th>Warehouse</th>\n      <th>Locker</th>\n      <th>c1</th>\n      <th>c2</th>\n      <th>c3</th>\n      <th>c4</th>\n      <th>c5</th>\n      <th>c6</th>\n      <th>c7</th>\n    </tr>\n  </thead>\n  <tbody>\n    <tr>\n      <th>Warehouse</th>\n      <td>0.000000</td>\n      <td>0.300000</td>\n      <td>0.640312</td>\n      <td>0.447214</td>\n      <td>0.492443</td>\n      <td>0.360555</td>\n      <td>0.223607</td>\n      <td>0.300000</td>\n      <td>0.223607</td>\n    </tr>\n    <tr>\n      <th>Locker</th>\n      <td>0.300000</td>\n      <td>0.000000</td>\n      <td>0.447214</td>\n      <td>0.223607</td>\n      <td>0.250000</td>\n      <td>0.200000</td>\n      <td>0.509902</td>\n      <td>0.600000</td>\n      <td>0.447214</td>\n    </tr>\n    <tr>\n      <th>c1</th>\n      <td>0.640312</td>\n      <td>0.447214</td>\n      <td>0.000000</td>\n      <td>0.223607</td>\n      <td>0.602080</td>\n      <td>0.632456</td>\n      <td>0.860233</td>\n      <td>0.894427</td>\n      <td>0.632456</td>\n    </tr>\n    <tr>\n      <th>c2</th>\n      <td>0.447214</td>\n      <td>0.223607</td>\n      <td>0.223607</td>\n      <td>0.000000</td>\n      <td>0.403113</td>\n      <td>0.412311</td>\n      <td>0.670820</td>\n      <td>0.728011</td>\n      <td>0.500000</td>\n    </tr>\n    <tr>\n      <th>c3</th>\n      <td>0.492443</td>\n      <td>0.250000</td>\n      <td>0.602080</td>\n      <td>0.403113</td>\n      <td>0.000000</td>\n      <td>0.150000</td>\n      <td>0.657647</td>\n      <td>0.776209</td>\n      <td>0.680074</td>\n    </tr>\n    <tr>\n      <th>c4</th>\n      <td>0.360555</td>\n      <td>0.200000</td>\n      <td>0.632456</td>\n      <td>0.412311</td>\n      <td>0.150000</td>\n      <td>0.000000</td>\n      <td>0.509902</td>\n      <td>0.632456</td>\n      <td>0.565685</td>\n    </tr>\n    <tr>\n      <th>c5</th>\n      <td>0.223607</td>\n      <td>0.509902</td>\n      <td>0.860233</td>\n      <td>0.670820</td>\n      <td>0.657647</td>\n      <td>0.509902</td>\n      <td>0.000000</td>\n      <td>0.141421</td>\n      <td>0.316228</td>\n    </tr>\n    <tr>\n      <th>c6</th>\n      <td>0.300000</td>\n      <td>0.600000</td>\n      <td>0.894427</td>\n      <td>0.728011</td>\n      <td>0.776209</td>\n      <td>0.632456</td>\n      <td>0.141421</td>\n      <td>0.000000</td>\n      <td>0.282843</td>\n    </tr>\n    <tr>\n      <th>c7</th>\n      <td>0.223607</td>\n      <td>0.447214</td>\n      <td>0.632456</td>\n      <td>0.500000</td>\n      <td>0.680074</td>\n      <td>0.565685</td>\n      <td>0.316228</td>\n      <td>0.282843</td>\n      <td>0.000000</td>\n    </tr>\n  </tbody>\n</table>\n</div>"
     },
     "execution_count": 26,
     "metadata": {},
     "output_type": "execute_result"
    }
   ],
   "source": [
    "#calcolo la matrice delle distanze:\n",
    "data = np.array([])\n",
    "data = np.append(data,W)\n",
    "data = np.vstack([data,L])\n",
    "data = np.vstack([data,C])\n",
    "houses =['Warehouse','Locker','c1','c2','c3','c4','c5','c6','c7']\n",
    "print(len(data))\n",
    "df = pd.DataFrame(data, columns=['xcord', 'ycord'], index=houses)\n",
    "pd.DataFrame(distance_matrix(df.values, df.values), index=df.index, columns=df.index)\n"
   ],
   "metadata": {
    "collapsed": false,
    "pycharm": {
     "name": "#%%\n"
    }
   }
  }
 ],
 "metadata": {
  "kernelspec": {
   "display_name": "Python 3",
   "language": "python",
   "name": "python3"
  },
  "language_info": {
   "codemirror_mode": {
    "name": "ipython",
    "version": 2
   },
   "file_extension": ".py",
   "mimetype": "text/x-python",
   "name": "python",
   "nbconvert_exporter": "python",
   "pygments_lexer": "ipython2",
   "version": "2.7.6"
  }
 },
 "nbformat": 4,
 "nbformat_minor": 0
}