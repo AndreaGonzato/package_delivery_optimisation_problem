{
 "cells": [
  {
   "cell_type": "code",
   "execution_count": 2,
   "outputs": [],
   "source": [
    "import numpy as np\n",
    "import matplotlib.pyplot as plt\n",
    "import pandas as pd\n",
    "from scipy.spatial import distance_matrix\n",
    "import random\n",
    "import math\n",
    "import xpress  as xp"
   ],
   "metadata": {
    "collapsed": false,
    "pycharm": {
     "name": "#%%\n"
    }
   }
  },
  {
   "cell_type": "code",
   "execution_count": 3,
   "outputs": [],
   "source": [
    "# input\n",
    "L = 2\n",
    "\n",
    "custom_setup = True\n",
    "if custom_setup:\n",
    "    C = 8\n",
    "else:\n",
    "    C = 10 # change this input for other runs\n",
    "\n",
    "map_size = 100\n",
    "ratio_locker_customers = 0.3\n",
    "ratio_prime_door_to_door_customer = 0.4"
   ],
   "metadata": {
    "collapsed": false,
    "pycharm": {
     "name": "#%%\n"
    }
   }
  },
  {
   "cell_type": "code",
   "execution_count": null,
   "outputs": [],
   "source": [
    "# define the locations of customers and lockers and warehouse\n",
    "if custom_setup:\n",
    "    C_location = 100*np.array([[0.1 ,0.28], [0.2 ,0.4],[0.15 ,0.7], [0.3 ,0.7],[0.8 ,0.6],[0.7 ,0.4],[0.9 ,0.5], [0.4, 0.15]])\n",
    "    W_location = 100*np.array([[0.6 ,0.5]])\n",
    "    L_location = 100*np.array([[0.3 ,0.5],[0.5,0.2]])\n",
    "else:\n",
    "    C_location = np.random.randint(map_size, size=(C, 2))\n",
    "    W_location = np.random.randint(map_size, size=(1, 2))\n",
    "    L_location = np.random.randint(map_size, size=(L, 2))\n",
    "stores_location = np.concatenate((W_location, L_location), axis=0)"
   ],
   "metadata": {
    "collapsed": false,
    "pycharm": {
     "name": "#%%\n"
    }
   }
  },
  {
   "cell_type": "code",
   "execution_count": null,
   "outputs": [],
   "source": [
    "def euclidean_distance(location_a, location_b):\n",
    "    if len(location_a) != 2 or len(location_b) != 2:\n",
    "        raise Exception(\"the two location need to be a list each of size 2\")\n",
    "    delta_x = location_b[0]-location_a[0]\n",
    "    delta_y = location_b[1]-location_a[1]\n",
    "    return math.sqrt(delta_x*delta_x+delta_y*delta_y)\n",
    "\n",
    "def find_nearest_stores_from_customer(customer_location, stores_location_par):\n",
    "    min_distance = float(\"inf\")\n",
    "    nearest_store_location = []\n",
    "    index = 0\n",
    "    nearest_locker_index = -1\n",
    "    for store_location in stores_location_par:\n",
    "        distance = euclidean_distance(customer_location, store_location)\n",
    "        if distance < min_distance:\n",
    "            min_distance = distance\n",
    "            nearest_store_location = store_location\n",
    "            nearest_locker_index = index\n",
    "        index +=1\n",
    "    return nearest_locker_index, nearest_store_location\n"
   ],
   "metadata": {
    "collapsed": false,
    "pycharm": {
     "name": "#%%\n"
    }
   }
  },
  {
   "cell_type": "code",
   "execution_count": null,
   "outputs": [],
   "source": [
    "# Customers’ demand and preferences\n",
    "\n",
    "# define all the stores: eg. stores = [W, L0, L1, .... , Lx]\n",
    "warehouse = [\"W\"]\n",
    "lockers = []\n",
    "for l in range(L):\n",
    "    lockers.append(\"L\"+str(l))\n",
    "stores = warehouse+lockers\n",
    "\n",
    "if custom_setup:\n",
    "    C_L = [0, 5, 7]\n",
    "    C_D = [1, 2, 3, 4, 6]\n",
    "    S_k =[1, 2, 6]\n",
    "    a_k = [\"L0\", \"W\", \"L1\"]\n",
    "else:\n",
    "    C_L = []\n",
    "    C_D = []\n",
    "    S_k = []\n",
    "    a_k = []\n",
    "    for client in range(C):\n",
    "        if random.random()  <= ratio_locker_customers :\n",
    "            # locker customer\n",
    "            C_L.append(client)\n",
    "            a_k.append(random.choice(stores))\n",
    "        else:\n",
    "            # door to door customer\n",
    "            C_D.append(client)\n",
    "            if random.random() >= ratio_prime_door_to_door_customer:\n",
    "                S_k.append(client)"
   ],
   "metadata": {
    "collapsed": false,
    "pycharm": {
     "name": "#%%\n"
    }
   }
  },
  {
   "cell_type": "code",
   "execution_count": null,
   "outputs": [],
   "source": [
    "# Capacities\n",
    "\n",
    "q_c = np.ones(C)\n",
    "q_CD = np.ones(len(C_D)) # TODO take the value of q_c only in the index of a CD customer\n",
    "q_CL = np.ones(len(C_L)) # TODO take the value of q_c only in the index of a CL customer\n",
    "q_SK = np.ones(len(S_k)) # TODO take the value of q_c only in the index of a S_k customer\n",
    "\n",
    "# PF vehicles capacities\n",
    "Q = math.ceil(0.5 * len(C_D))\n",
    "# locker storage (every locker has the same capacity by default)\n",
    "W_l = []\n",
    "for i in range(L):\n",
    "    W_l.append(math.ceil(0.8 * C / L))\n",
    "# LF vehicles capacities (every LF vehicle has the same capacity by default)\n",
    "Q_l = []\n",
    "for i in range(L):\n",
    "    Q_l.append(math.ceil(0.6 * W_l[i]))\n",
    "\n",
    "sum_W_l = 0\n",
    "for i in range(len(W_l)):\n",
    "    sum_W_l += W_l[i]\n",
    "\n",
    "\n",
    "# supply vehicles storage\n",
    "Q_L = math.ceil(0.8 * sum_W_l)\n",
    "\n",
    "print(\"Q: \",Q)\n",
    "print(\"W_l: \",W_l)\n",
    "print(\"Q_l: \",Q_l)\n",
    "print(\"Q_L: \",Q_L)\n",
    "print(\"sum_W_l: \", sum_W_l)\n"
   ],
   "metadata": {
    "collapsed": false,
    "pycharm": {
     "name": "#%%\n"
    }
   }
  },
  {
   "cell_type": "code",
   "execution_count": null,
   "outputs": [],
   "source": [
    "CD_location = np.array([[0,0]])\n",
    "CL_location = np.array([[0,0]])\n",
    "S_k_location = np.array([[0,0]])\n",
    "for i in range(C):\n",
    "    if i in  C_D:\n",
    "        CD_location=np.vstack([CD_location, C_location[i]])\n",
    "    else:\n",
    "        CL_location = np.vstack([CL_location, C_location[i]])\n",
    "for i in range(C):\n",
    "    if i in S_k:\n",
    "        S_k_location=np.vstack([S_k_location,C_location[i]])\n",
    "\n",
    "S_k_location=np.delete(S_k_location,0,0)\n",
    "CD_location = np.delete(CD_location, 0, 0)\n",
    "CL_location = np.delete(CL_location, 0, 0)\n",
    "\n",
    "#define indexes for the subset S_k\n",
    "S_k_indexes = []\n",
    "for s in range(len(S_k_location)):\n",
    "    S_k_indexes.append(\"Sk\"+str(s))\n",
    "\n",
    "\n",
    "#define all customers\n",
    "Customers = []\n",
    "Customers_door = []\n",
    "Customers_locker = []\n",
    "for c in range(len(C_D)):\n",
    "    Customers_door.append(\"Cd\"+str(c))\n",
    "for c in range(len(C_L)):\n",
    "    Customers_locker.append(\"Cl\"+str(c))\n",
    "\n",
    "Customers = Customers_door+Customers_locker\n",
    "\n",
    "\n",
    "plt.scatter(CD_location[:,0],CD_location[:,1],color='b')\n",
    "plt.scatter(CL_location[:,0],CL_location[:,1],color='m')\n",
    "plt.scatter(W_location[:,0],W_location[:,1],color='g',marker='D')\n",
    "plt.scatter(L_location[:,0],L_location[:,1],color ='y',marker='s')\n",
    "\n",
    "#piccola nota\n",
    "#come nel paper in verde è la warehouse, in giallo i locker, mentre in blu in customer door to door e in magenta i customer locker"
   ],
   "metadata": {
    "collapsed": false,
    "pycharm": {
     "name": "#%%\n"
    }
   }
  },
  {
   "cell_type": "code",
   "execution_count": null,
   "outputs": [],
   "source": [
    "#calcolo la matrice delle distanze:\n",
    "all_locations = np.array([])\n",
    "all_locations = np.append(all_locations,W_location)\n",
    "all_locations = np.vstack([all_locations,L_location])\n",
    "all_locations = np.vstack([all_locations,CD_location])\n",
    "all_locations = np.vstack([all_locations,CL_location])\n",
    "\n",
    "all_buildings = stores + Customers\n",
    "\n",
    "df = pd.DataFrame(all_locations, columns=['xcord', 'ycord'], index=all_buildings)\n",
    "dist_matrix = pd.DataFrame(distance_matrix(df.values, df.values), index=df.index, columns=df.index)\n",
    "matrix_distance_converted_in_numpy =dist_matrix.to_numpy()\n",
    "print(dist_matrix)\n",
    "\n",
    "for i in range(len(dist_matrix)):\n",
    "    dist_matrix.values[i][i]=100000\n",
    "print(dist_matrix)\n"
   ],
   "metadata": {
    "collapsed": false,
    "pycharm": {
     "name": "#%%\n"
    }
   }
  },
  {
   "cell_type": "code",
   "execution_count": null,
   "outputs": [],
   "source": [
    "#filter data\n",
    "supply_distances_matrix = dist_matrix.filter(items=stores, axis=1)\n",
    "supply_distances_matrix = supply_distances_matrix.filter(items=stores, axis=0)\n",
    "print(supply_distances_matrix)\n",
    "\n",
    "PF_distances_matrix = dist_matrix.filter(items=['W'] + Customers_door, axis=1)\n",
    "PF_distances_matrix = PF_distances_matrix.filter(items=['W'] + Customers_door, axis=0)\n",
    "print(PF_distances_matrix)\n",
    "\n",
    "LF_distances_matrix = dist_matrix.filter(items=lockers+Customers_door, axis=1)\n",
    "LF_distances_matrix = LF_distances_matrix.filter(items=lockers + Customers_door, axis=0)\n",
    "print(LF_distances_matrix)"
   ],
   "metadata": {
    "collapsed": false,
    "pycharm": {
     "name": "#%%\n"
    }
   }
  },
  {
   "cell_type": "code",
   "execution_count": null,
   "outputs": [],
   "source": [
    "# Delivery Cost\n",
    "pi = 1\n",
    "pi_l = 0.85\n",
    "pi_L = 0.75\n",
    "\n",
    "PF_delivery_cost = pi*PF_distances_matrix\n",
    "LF_delivery_cost = pi_l*LF_distances_matrix\n",
    "supply_cost = pi_L*supply_distances_matrix\n",
    "print(supply_cost)\n",
    "print(PF_delivery_cost)\n",
    "print(LF_delivery_cost)"
   ],
   "metadata": {
    "collapsed": false,
    "pycharm": {
     "name": "#%%\n"
    }
   }
  },
  {
   "cell_type": "code",
   "execution_count": null,
   "outputs": [],
   "source": [
    "LF_delivery_cost_multidim = np.zeros((L,len(C_D)+1,len(C_D)+1))\n",
    "\n",
    "for i in range(L):\n",
    "    l = [0]\n",
    "    l[0]=lockers[i]\n",
    "    ls = LF_delivery_cost.filter(items=l+Customers_door,axis=1)\n",
    "    ls = ls.filter(items=l+Customers_door,axis=0)\n",
    "    print(ls)\n",
    "    lt = ls.to_numpy()\n",
    "    for j in range(1+len(C_D)):\n",
    "        for k in range(1+len(C_D)):\n",
    "            LF_delivery_cost_multidim[i][j][k]=lt[j][k]\n",
    "\n"
   ],
   "metadata": {
    "collapsed": false,
    "pycharm": {
     "name": "#%%\n"
    }
   }
  },
  {
   "cell_type": "code",
   "execution_count": null,
   "outputs": [],
   "source": [
    "#compensation\n",
    "compensation_locations = np.array([])\n",
    "compensation_locations = np.append(compensation_locations,W_location)\n",
    "compensation_locations = np.vstack([compensation_locations,L_location])\n",
    "compensation_locations = np.vstack([compensation_locations,S_k_location])\n",
    "\n",
    "df_compensation = pd.DataFrame(compensation_locations, columns=['xcord', 'ycord'], index=stores+S_k_indexes)\n",
    "compensation_matrix= pd.DataFrame(distance_matrix(df_compensation.values, df_compensation.values), index=df_compensation.index, columns=df_compensation.index)\n",
    "\n",
    "print(compensation_matrix)\n",
    "\n",
    "\n",
    "distance_matrix_customer_locker_store = dist_matrix.filter(items=Customers_locker,axis=1)\n",
    "distance_matrix_customer_locker_store = distance_matrix_customer_locker_store.filter(items=stores,axis=0)\n",
    "print(distance_matrix_customer_locker_store)\n",
    "\n",
    "\n",
    "closest_store_to_CL = distance_matrix_customer_locker_store.idxmin()\n",
    "print(closest_store_to_CL)\n",
    "\n",
    "index_close_locker = []\n",
    "for i in range(len(closest_store_to_CL)):\n",
    "    index_close_locker.append(closest_store_to_CL[i])\n",
    "print(index_close_locker)\n",
    "\n",
    "\n",
    "# TODO matrix layout to reformat\n",
    "d_ak_c = compensation_matrix.filter(items = S_k_indexes,axis=1)\n",
    "d_ak_c=d_ak_c.filter(items=index_close_locker,axis=0)\n",
    "print(d_ak_c)\n",
    "\n",
    "ro = 0.5\n",
    "compensation_matrix_cost = ro*d_ak_c\n",
    "print(compensation_matrix_cost)\n",
    "compensation_matrix_cost_multidim = compensation_matrix_cost.to_numpy()\n",
    "print(compensation_matrix_cost_multidim)\n"
   ],
   "metadata": {
    "collapsed": false,
    "pycharm": {
     "name": "#%%\n"
    }
   }
  },
  {
   "cell_type": "code",
   "execution_count": null,
   "outputs": [],
   "source": [
    "# Xpress formulation\n",
    "single_period_problem = xp.problem()"
   ],
   "metadata": {
    "collapsed": false,
    "pycharm": {
     "name": "#%%\n"
    }
   }
  },
  {
   "cell_type": "code",
   "execution_count": null,
   "outputs": [],
   "source": [
    "# var definition\n",
    "I_PF = 1 + len(C_D)\n",
    "J_PF = 1 + len(C_D)\n",
    "x_i_j = np.array([[xp.var(name=\"x_\"+str(i)+\"_\"+str(j), vartype=xp.binary) for i in range(I_PF)]for j in range(J_PF)], dtype=xp.npvar)\n",
    "y_i_j = np.array([[xp.var(name=\"y_\"+str(i)+\"_\"+str(j), vartype=xp.integer) for i in range(I_PF)]for j in range(J_PF)], dtype=xp.npvar)\n",
    "\n",
    "I_L = 1 + L\n",
    "J_L = 1 + L\n",
    "x_i_j_L = np.array([[xp.var(name=\"x_L_\"+str(i)+\"_\"+str(j), vartype=xp.binary) for i in range(I_L)]for j in range(J_L)], dtype=xp.npvar)\n",
    "y_i_j_L = np.array([[xp.var(name=\"y_L_\"+str(i)+\"_\"+str(j), vartype=xp.integer) for i in range(I_L)]for j in range(J_L)], dtype=xp.npvar)\n",
    "\n",
    "I_LF = 1 + len(C_D)\n",
    "J_LF = 1 + len(C_D)\n",
    "x_l_i_j = np.array([[[xp.var(name=\"x_l\"+str(l)+\"_\"+str(i)+\"_\"+str(j), vartype=xp.binary) for i in range(I_LF)]for j in range(J_LF)] for l in range(L)], dtype=xp.npvar)\n",
    "y_l_i_j = np.array([[[xp.var(name=\"y_l\"+str(l)+\"_\"+str(i)+\"_\"+str(j), vartype=xp.integer) for i in range(I_LF)]for j in range(J_LF)] for l in range(L)], dtype=xp.npvar)\n",
    "\n",
    "z_c = np.array([xp.var(name=\"z_c\"+str(c), vartype=xp.binary) for c in range(len(C_D))], dtype=xp.npvar)\n",
    "z_c_l = np.array([[xp.var(name=\"z_c\"+str(c)+\"_l\"+str(l), vartype=xp.binary) for c in range(len(C_D))]for l in range(L)], dtype=xp.npvar)\n",
    "z_l_L = np.array([[xp.var(name=\"z_l_L_\"+str(l), vartype=xp.binary) for l in range(L)]], dtype=xp.npvar)\n",
    "\n",
    "w_c_k = np.array([[xp.var(name=\"w_c\"+str(c)+\"_k\"+str(k), vartype=xp.binary) for c in range(len(S_k))]for k in range(len(C_L))], dtype=xp.npvar)\n",
    "\n",
    "# add var to the problem\n",
    "single_period_problem.addVariable(x_i_j)\n",
    "single_period_problem.addVariable(x_i_j_L)\n",
    "single_period_problem.addVariable(x_l_i_j)\n",
    "\n",
    "single_period_problem.addVariable(y_i_j)\n",
    "single_period_problem.addVariable(y_i_j_L)\n",
    "single_period_problem.addVariable(y_l_i_j)\n",
    "\n",
    "single_period_problem.addVariable(z_c)\n",
    "single_period_problem.addVariable(z_c_l)\n",
    "single_period_problem.addVariable(z_l_L)\n",
    "\n",
    "single_period_problem.addVariable(w_c_k)\n"
   ],
   "metadata": {
    "collapsed": false,
    "pycharm": {
     "name": "#%%\n"
    }
   }
  },
  {
   "cell_type": "code",
   "execution_count": null,
   "outputs": [],
   "source": [
    "# define constraints Customers’ service\n",
    "\n",
    "# constraint eq. 2\n",
    "for c in range(len(C_D)):\n",
    "    single_period_problem.addConstraint( z_c[c] + xp.Sum(w_c_k[s][k] for s in range(len(S_k)) for k in range(len(C_L))) + xp.Sum(z_c_l[l][c] for l in range(L)) == 1)\n",
    "\n",
    "# constraint eq. 3\n",
    "for c_l in range(len(C_L)):\n",
    "    single_period_problem.addConstraint( xp.Sum(w_c_k[c_l][s_k] for s_k in range(len(S_k))) <= 1)\n",
    "\n",
    "\n",
    "# constraint eq. 4\n",
    "for l in range(L):\n",
    "    single_period_problem.addConstraint(\n",
    "        xp.Sum(q_CL[cl] + xp.Sum(q_SK[sk]*w_c_k[cl][sk] for sk in range(len(S_k))) for cl in range(len(C_L)))\n",
    "        + xp.Sum(q_CD[cd]*z_c_l[l][cd] for cd in range(len(C_D)))\n",
    "        <= W_l[l] * z_l_L[0][l]\n",
    "    )\n",
    "\n",
    "# Professional fleet constraint\n",
    "\n",
    "# constraint eq. 5.1 A == C\n",
    "for i in range(len(C_D)):\n",
    "    single_period_problem.addConstraint(\n",
    "        xp.Sum( x_i_j[i+1][j] for j in range(len(C_D)+1))\n",
    "        == z_c[i]\n",
    "    )\n",
    "\n",
    "\n",
    "# constraint eq. 5.2 B == C\n",
    "for i in range(len(C_D)):\n",
    "    single_period_problem.addConstraint(\n",
    "        xp.Sum( x_i_j[j][i+1] for j in range(len(C_D)+1))\n",
    "        == z_c[i]\n",
    "    )\n",
    "\n",
    "# constraint eq. 5.3 A == B\n",
    "for i in range(len(C_D)):\n",
    "    single_period_problem.addConstraint(\n",
    "        xp.Sum( x_i_j[i+1][j] for j in range(len(C_D)+1))\n",
    "        ==\n",
    "        xp.Sum( x_i_j[j][i+1] for j in range(len(C_D)+1))\n",
    "    )\n",
    "\n",
    "\n",
    "# constraint eq. 6\n",
    "single_period_problem.addConstraint(\n",
    "    xp.Sum( x_i_j[0][j+1] for j in range(len(C_D)))\n",
    "    - xp.Sum( x_i_j[j+1][0] for j in range(len(C_D)))\n",
    "    == 0\n",
    ")\n",
    "\n",
    "# constraint eq. 7\n",
    "for i in range(len(C_D)):\n",
    "    single_period_problem.addConstraint(\n",
    "        xp.Sum( y_i_j[j][i+1] for j in range(1+len(C_D)))\n",
    "        - xp.Sum( y_i_j[i+1][j] for j in range(1+len(C_D)))\n",
    "        == q_CD[i]*z_c[i]\n",
    "    )\n",
    "\n",
    "# constraint eq. 8\n",
    "single_period_problem.addConstraint(\n",
    "    xp.Sum( y_i_j[j+1][0] for j in range(len(C_D)))\n",
    "    - xp.Sum( y_i_j[0][j+1] for j in range(len(C_D)))\n",
    "    == - xp.Sum( q_CD[i]*z_c[i] for i in range(len(C_D)))\n",
    ")\n",
    "\n",
    "# constraint eq. 9\n",
    "for i in range(1 + len(C_D)):\n",
    "    for j in range(1 + len(C_D)):\n",
    "        single_period_problem.addConstraint(\n",
    "            y_i_j[i][j]\n",
    "            <= Q * x_i_j[i][j]\n",
    "        )\n",
    "\n",
    "# constraint eq. 10\n",
    "for i in range(len(C_D)):\n",
    "    single_period_problem.addConstraint(\n",
    "        y_i_j[i+1][0]\n",
    "        == 0\n",
    "    )\n",
    "\n",
    "# Supply routes constraints\n",
    "\n",
    "# constraint eq. 11.1 A == C\n",
    "for i in range(L):\n",
    "    single_period_problem.addConstraint(\n",
    "        xp.Sum( x_i_j_L[i+1][j] for j in range(1 + L))\n",
    "        == z_l_L[0][i]\n",
    "    )\n",
    "\n",
    "# constraint eq. 11.2 B == C\n",
    "for i in range(L):\n",
    "    single_period_problem.addConstraint(\n",
    "        xp.Sum( x_i_j_L[j][i+1] for j in range(1 + L))\n",
    "        == z_l_L[0][i]\n",
    "    )\n",
    "\n",
    "# constraint eq. 11.3 A == B\n",
    "for i in range(L):\n",
    "    single_period_problem.addConstraint(\n",
    "        xp.Sum( x_i_j_L[i+1][j] for j in range(1 + L))\n",
    "        ==\n",
    "        xp.Sum( x_i_j_L[j][i+1] for j in range(1 + L))\n",
    "    )\n",
    "\n",
    "# constraint eq. 12\n",
    "single_period_problem.addConstraint(\n",
    "    xp.Sum( x_i_j_L[0][j+1] for j in range(L))\n",
    "    - xp.Sum( x_i_j_L[j+1][0] for j in range(L))\n",
    "    == 0\n",
    ")\n",
    "\n",
    "# constraint eq. 13\n",
    "for i in range(L):\n",
    "    single_period_problem.addConstraint(\n",
    "        xp.Sum( y_i_j_L[j][i+1] for j in range(1+L))\n",
    "        - xp.Sum( y_i_j_L[i+1][j] for j in range(1+L))\n",
    "        ==\n",
    "        xp.Sum(q_CL[cl] + xp.Sum(q_SK[sk]*w_c_k[cl][sk] for sk in range(len(S_k))) for cl in range(len(C_L)))\n",
    "        + xp.Sum(q_CD[c]*z_c_l[i][c] for c in range(len(C_D)))\n",
    "    )\n",
    "\n",
    "# constraint eq. 14\n",
    "single_period_problem.addConstraint(\n",
    "    xp.Sum( y_i_j_L[j+1][0] for j in range(L))\n",
    "    - xp.Sum( y_i_j_L[0][j+1] for j in range(L))\n",
    "    == - xp.Sum(\n",
    "    xp.Sum(q_CL[cl] + xp.Sum(q_SK[sk]*w_c_k[cl][sk] for sk in range(len(S_k))) for cl in range(len(C_L)))\n",
    "    + xp.Sum(q_CD[c]*z_c_l[i][c] for c in range(len(C_D)))\n",
    "    for i in range(L)\n",
    "    )\n",
    ")\n",
    "\n",
    "# constraint eq. 15\n",
    "for i in range(1 + L):\n",
    "    for j in range(1 + L):\n",
    "        single_period_problem.addConstraint(\n",
    "            y_i_j_L[i][j]\n",
    "            <= Q_L * x_i_j_L[i][j]\n",
    "        )\n",
    "\n",
    "# constraint eq. 16\n",
    "for i in range(L):\n",
    "    single_period_problem.addConstraint(\n",
    "        y_i_j_L[i+1][0]\n",
    "        == 0\n",
    "    )\n",
    "\n",
    "# Local fleet constraints\n",
    "for l in range(L):\n",
    "    # constraint eq. 17.1 A == C\n",
    "    for i in range(len(C_D)):\n",
    "        single_period_problem.addConstraint(\n",
    "            xp.Sum( x_l_i_j[l][i+1][j] for j in range(len(C_D)+1))\n",
    "            == z_c_l[l][i]\n",
    "        )\n",
    "\n",
    "\n",
    "    # constraint eq. 17.2 B == C\n",
    "    for i in range(len(C_D)):\n",
    "        single_period_problem.addConstraint(\n",
    "            xp.Sum( x_l_i_j[l][j][i+1] for j in range(len(C_D)+1))\n",
    "            == z_c_l[l][i]\n",
    "        )\n",
    "\n",
    "    # constraint eq. 17.3 A == B\n",
    "    for i in range(len(C_D)):\n",
    "        single_period_problem.addConstraint(\n",
    "            xp.Sum( x_l_i_j[l][i+1][j] for j in range(len(C_D)+1))\n",
    "            ==\n",
    "            xp.Sum( x_l_i_j[l][j][i+1] for j in range(len(C_D)+1))\n",
    "        )\n",
    "\n",
    "    # constraint eq. 18\n",
    "    single_period_problem.addConstraint(\n",
    "        xp.Sum( x_l_i_j[l][0][j+1] for j in range(len(C_D)))\n",
    "        - xp.Sum( x_l_i_j[l][j+1][0] for j in range(len(C_D)))\n",
    "        == 0\n",
    "    )\n",
    "\n",
    "    # constraint eq. 19\n",
    "    for i in range(len(C_D)):\n",
    "        single_period_problem.addConstraint(\n",
    "            xp.Sum( y_l_i_j[l][j][i+1] for j in range(1+len(C_D)))\n",
    "            - xp.Sum( y_l_i_j[l][i+1][j] for j in range(1+len(C_D)))\n",
    "            == q_CD[i]*z_c_l[l][i]\n",
    "        )\n",
    "\n",
    "    # constraint eq. 20\n",
    "    single_period_problem.addConstraint(\n",
    "        xp.Sum( y_l_i_j[l][j+1][0] for j in range(len(C_D)))\n",
    "        - xp.Sum( y_l_i_j[l][0][j+1] for j in range(len(C_D)))\n",
    "        == - xp.Sum( q_CD[i]*z_c_l[l][i] for i in range(len(C_D)))\n",
    "    )\n",
    "\n",
    "    # constraint eq. 21\n",
    "    for i in range(1 + len(C_D)):\n",
    "        for j in range(1 + len(C_D)):\n",
    "            single_period_problem.addConstraint(\n",
    "                y_l_i_j[l][i][j]\n",
    "                <= Q_l[l] * x_l_i_j[l][i][j]\n",
    "            )\n",
    "\n",
    "    # constraint eq. 22\n",
    "    for i in range(len(C_D)):\n",
    "        single_period_problem.addConstraint(\n",
    "            y_l_i_j[l][i+1][0]\n",
    "            == 0\n",
    "        )\n",
    "\n",
    "print(len(single_period_problem.getConstraint()))\n"
   ],
   "metadata": {
    "collapsed": false,
    "pycharm": {
     "name": "#%%\n"
    }
   }
  },
  {
   "cell_type": "markdown",
   "source": [
    "eq. 13 -> 82 constraints"
   ],
   "metadata": {
    "collapsed": false,
    "pycharm": {
     "name": "#%% md\n"
    }
   }
  },
  {
   "cell_type": "code",
   "execution_count": null,
   "outputs": [],
   "source": [
    "print(compensation_matrix_cost)\n"
   ],
   "metadata": {
    "collapsed": false,
    "pycharm": {
     "name": "#%%\n"
    }
   }
  },
  {
   "cell_type": "code",
   "execution_count": null,
   "outputs": [],
   "source": [
    "single_period_problem.setObjective(\n",
    "    xp.Sum( xp.Sum(supply_cost.values[i][j]*x_i_j_L[i][j]   for j in range(1+L) )  for i in range(1+L))+\n",
    "    xp.Sum( xp.Sum(compensation_matrix_cost_multidim[k][c] *w_c_k[c][k]  for c in range(len(S_k)))for k in range(len(C_L)))+\n",
    "    xp.Sum( xp.Sum(PF_delivery_cost.values[i][j]*x_i_j[i][j] for j in range(1+len(C_D) ) )for i in range(1+len(C_D))) +\n",
    "    xp.Sum( xp.Sum(xp.Sum(LF_delivery_cost_multidim[l][i][j]*x_l_i_j[l][i][j] for j in range(1+len(C_D)))for i in range(1+len(C_D)))for l in range(L))\n",
    "    ,sense=xp.minimize\n",
    "    )   #sense=minimise is the default value"
   ],
   "metadata": {
    "collapsed": false,
    "pycharm": {
     "name": "#%%\n"
    }
   }
  },
  {
   "cell_type": "code",
   "execution_count": null,
   "outputs": [],
   "source": [
    "single_period_problem.solve()\n",
    "\n",
    "x_i_j_sol = single_period_problem.getSolution(x_i_j)\n",
    "print(\"\\n\\n Solution:\\n\",x_i_j_sol, \"\\n\")\n",
    "x_i_j_L_sol = single_period_problem.getSolution(x_i_j_L)\n",
    "print(\"\\n\\n Solution:\\n\",x_i_j_L_sol, \"\\n\")\n",
    "x_l_i_j_sol = single_period_problem.getSolution(x_l_i_j)\n",
    "print(\"\\n\\n Solution:\\n\",x_l_i_j_sol, \"\\n\")\n",
    "w_c_k_sol = single_period_problem.getSolution(w_c_k)\n",
    "print(\"\\n\\n Solution:\\n\",w_c_k_sol, \"\\n\")"
   ],
   "metadata": {
    "collapsed": false,
    "pycharm": {
     "name": "#%%\n"
    }
   }
  },
  {
   "cell_type": "code",
   "execution_count": null,
   "outputs": [],
   "source": [
    "print(single_period_problem.getObjVal())"
   ],
   "metadata": {
    "collapsed": false,
    "pycharm": {
     "name": "#%%\n"
    }
   }
  }
 ],
 "metadata": {
  "kernelspec": {
   "display_name": "Python 3",
   "language": "python",
   "name": "python3"
  },
  "language_info": {
   "codemirror_mode": {
    "name": "ipython",
    "version": 2
   },
   "file_extension": ".py",
   "mimetype": "text/x-python",
   "name": "python",
   "nbconvert_exporter": "python",
   "pygments_lexer": "ipython2",
   "version": "2.7.6"
  }
 },
 "nbformat": 4,
 "nbformat_minor": 0
}