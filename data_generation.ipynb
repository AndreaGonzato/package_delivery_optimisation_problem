{
 "cells": [
  {
   "cell_type": "code",
   "execution_count": 1,
   "metadata": {
    "collapsed": true,
    "pycharm": {
     "name": "#%%\n"
    }
   },
   "outputs": [
    {
     "name": "stdout",
     "output_type": "stream",
     "text": [
      "Using the Community license in this session. If you have a full Xpress license, first set the XPAUTH_PATH environment variable to the full path to your license file, xpauth.xpr, and then restart Python. If you want to use the FICO Community license and no longer want to see this message, set the XPAUTH_PATH environment variable to: /home/andrea/anaconda3/lib/python3.9/site-packages/xpress/license/community-xpauth.xpr\n",
      "NB: setting XPAUTH_PATH will also affect any other Xpress products installed on your system.\n"
     ]
    }
   ],
   "source": [
    "import numpy as np\n",
    "import matplotlib.pyplot as plt\n",
    "import pandas as pd\n",
    "from scipy.spatial import distance_matrix\n",
    "import xpress  as xp"
   ]
  },
  {
   "cell_type": "code",
   "execution_count": 2,
   "outputs": [],
   "source": [
    "# input\n",
    "N = 7\n",
    "custom_setup = True"
   ],
   "metadata": {
    "collapsed": false,
    "pycharm": {
     "name": "#%%\n"
    }
   }
  },
  {
   "cell_type": "code",
   "execution_count": 4,
   "outputs": [],
   "source": [
    "# Customers’ demand and preferences\n",
    "q = np.ones(N)\n",
    "C = np.arange(7)\n",
    "C_L = [0, 5] #TODO make it scalable\n",
    "C_D = [1, 2, 3, 4, 6] #TODO make it scalable\n",
    "S_k =[1, 2, 6] #TODO make it scalable\n",
    "a_k = [\"L1\", \"W\"]"
   ],
   "metadata": {
    "collapsed": false,
    "pycharm": {
     "name": "#%%\n"
    }
   }
  },
  {
   "cell_type": "code",
   "execution_count": 22,
   "outputs": [
    {
     "ename": "SyntaxError",
     "evalue": "EOL while scanning string literal (3218599426.py, line 1)",
     "output_type": "error",
     "traceback": [
      "\u001B[0;36m  Input \u001B[0;32mIn [22]\u001B[0;36m\u001B[0m\n\u001B[0;31m    x = np.random.randint(0, 50, 7)'\u001B[0m\n\u001B[0m                                    ^\u001B[0m\n\u001B[0;31mSyntaxError\u001B[0m\u001B[0;31m:\u001B[0m EOL while scanning string literal\n"
     ]
    }
   ],
   "source": [
    "x = np.random.randint(0, 50, 7)\n",
    "y = np.random.randint(0, 50, 7)\n",
    "C = [x,y]\n",
    "plt.scatter(C[0],C[1])\n",
    "C = np.arange(7)\n",
    "print(C)\n",
    "plt.show()"
   ],
   "metadata": {
    "collapsed": false,
    "pycharm": {
     "name": "#%%\n"
    }
   }
  },
  {
   "cell_type": "code",
   "execution_count": 1,
   "outputs": [
    {
     "ename": "NameError",
     "evalue": "name 'np' is not defined",
     "output_type": "error",
     "traceback": [
      "\u001B[0;31m---------------------------------------------------------------------------\u001B[0m",
      "\u001B[0;31mNameError\u001B[0m                                 Traceback (most recent call last)",
      "Input \u001B[0;32mIn [1]\u001B[0m, in \u001B[0;36m<cell line: 1>\u001B[0;34m()\u001B[0m\n\u001B[0;32m----> 1\u001B[0m C \u001B[38;5;241m=\u001B[39m \u001B[43mnp\u001B[49m\u001B[38;5;241m.\u001B[39mrandom\u001B[38;5;241m.\u001B[39mrand(\u001B[38;5;241m7\u001B[39m,\u001B[38;5;241m2\u001B[39m)\n\u001B[1;32m      2\u001B[0m plt\u001B[38;5;241m.\u001B[39mscatter(C[:,\u001B[38;5;241m0\u001B[39m],C[:,\u001B[38;5;241m1\u001B[39m],color\u001B[38;5;241m=\u001B[39m\u001B[38;5;124m'\u001B[39m\u001B[38;5;124mb\u001B[39m\u001B[38;5;124m'\u001B[39m)\n\u001B[1;32m      3\u001B[0m W \u001B[38;5;241m=\u001B[39m np\u001B[38;5;241m.\u001B[39mrandom\u001B[38;5;241m.\u001B[39mrand(\u001B[38;5;241m1\u001B[39m,\u001B[38;5;241m2\u001B[39m)\n",
      "\u001B[0;31mNameError\u001B[0m: name 'np' is not defined"
     ]
    }
   ],
   "source": [
    "C = np.random.rand(7,2)\n",
    "plt.scatter(C[:,0],C[:,1],color='b')\n",
    "W = np.random.rand(1,2)\n",
    "plt.scatter(W[:,0],W[:,1],color='g',marker='D')\n",
    "L = np.random.rand(1,2)\n",
    "plt.scatter(L[:,0],L[:,1],color ='y',marker='s')\n",
    "print(C)"
   ],
   "metadata": {
    "collapsed": false,
    "pycharm": {
     "name": "#%%\n"
    }
   }
  },
  {
   "cell_type": "code",
   "execution_count": 25,
   "outputs": [
    {
     "data": {
      "text/plain": "<matplotlib.collections.PathCollection at 0x7fc8f6800fd0>"
     },
     "execution_count": 25,
     "metadata": {},
     "output_type": "execute_result"
    },
    {
     "data": {
      "text/plain": "<Figure size 432x288 with 1 Axes>",
      "image/png": "[encoded data removed]"
     },
     "metadata": {
      "needs_background": "light"
     },
     "output_type": "display_data"
    }
   ],
   "source": [
    "C = np.array([[0.1 ,0.1], [0.2 ,0.3],[0.15 ,0.7], [0.3 ,0.7],[0.8 ,0.6],\n",
    "              [0.9 ,0.5],[0.7 ,0.3]])\n",
    "plt.scatter(C[:,0],C[:,1],color='b')\n",
    "W = np.array([[0.6 ,0.5]])\n",
    "plt.scatter(W[:,0],W[:,1],color='g',marker='D')\n",
    "L = np.array([[0.3 ,0.5]])\n",
    "plt.scatter(L[:,0],L[:,1],color ='y',marker='s')"
   ],
   "metadata": {
    "collapsed": false,
    "pycharm": {
     "name": "#%%\n"
    }
   }
  },
  {
   "cell_type": "code",
   "execution_count": 26,
   "outputs": [
    {
     "name": "stdout",
     "output_type": "stream",
     "text": [
      "9\n"
     ]
    },
    {
     "data": {
      "text/plain": "           Warehouse    Locker        c1        c2        c3        c4  \\\nWarehouse   0.000000  0.300000  0.640312  0.447214  0.492443  0.360555   \nLocker      0.300000  0.000000  0.447214  0.223607  0.250000  0.200000   \nc1          0.640312  0.447214  0.000000  0.223607  0.602080  0.632456   \nc2          0.447214  0.223607  0.223607  0.000000  0.403113  0.412311   \nc3          0.492443  0.250000  0.602080  0.403113  0.000000  0.150000   \nc4          0.360555  0.200000  0.632456  0.412311  0.150000  0.000000   \nc5          0.223607  0.509902  0.860233  0.670820  0.657647  0.509902   \nc6          0.300000  0.600000  0.894427  0.728011  0.776209  0.632456   \nc7          0.223607  0.447214  0.632456  0.500000  0.680074  0.565685   \n\n                 c5        c6        c7  \nWarehouse  0.223607  0.300000  0.223607  \nLocker     0.509902  0.600000  0.447214  \nc1         0.860233  0.894427  0.632456  \nc2         0.670820  0.728011  0.500000  \nc3         0.657647  0.776209  0.680074  \nc4         0.509902  0.632456  0.565685  \nc5         0.000000  0.141421  0.316228  \nc6         0.141421  0.000000  0.282843  \nc7         0.316228  0.282843  0.000000  ",
      "text/html": "<div>\n<style scoped>\n    .dataframe tbody tr th:only-of-type {\n        vertical-align: middle;\n    }\n\n    .dataframe tbody tr th {\n        vertical-align: top;\n    }\n\n    .dataframe thead th {\n        text-align: right;\n    }\n</style>\n<table border=\"1\" class=\"dataframe\">\n  <thead>\n    <tr style=\"text-align: right;\">\n      <th></th>\n      <th>Warehouse</th>\n      <th>Locker</th>\n      <th>c1</th>\n      <th>c2</th>\n      <th>c3</th>\n      <th>c4</th>\n      <th>c5</th>\n      <th>c6</th>\n      <th>c7</th>\n    </tr>\n  </thead>\n  <tbody>\n    <tr>\n      <th>Warehouse</th>\n      <td>0.000000</td>\n      <td>0.300000</td>\n      <td>0.640312</td>\n      <td>0.447214</td>\n      <td>0.492443</td>\n      <td>0.360555</td>\n      <td>0.223607</td>\n      <td>0.300000</td>\n      <td>0.223607</td>\n    </tr>\n    <tr>\n      <th>Locker</th>\n      <td>0.300000</td>\n      <td>0.000000</td>\n      <td>0.447214</td>\n      <td>0.223607</td>\n      <td>0.250000</td>\n      <td>0.200000</td>\n      <td>0.509902</td>\n      <td>0.600000</td>\n      <td>0.447214</td>\n    </tr>\n    <tr>\n      <th>c1</th>\n      <td>0.640312</td>\n      <td>0.447214</td>\n      <td>0.000000</td>\n      <td>0.223607</td>\n      <td>0.602080</td>\n      <td>0.632456</td>\n      <td>0.860233</td>\n      <td>0.894427</td>\n      <td>0.632456</td>\n    </tr>\n    <tr>\n      <th>c2</th>\n      <td>0.447214</td>\n      <td>0.223607</td>\n      <td>0.223607</td>\n      <td>0.000000</td>\n      <td>0.403113</td>\n      <td>0.412311</td>\n      <td>0.670820</td>\n      <td>0.728011</td>\n      <td>0.500000</td>\n    </tr>\n    <tr>\n      <th>c3</th>\n      <td>0.492443</td>\n      <td>0.250000</td>\n      <td>0.602080</td>\n      <td>0.403113</td>\n      <td>0.000000</td>\n      <td>0.150000</td>\n      <td>0.657647</td>\n      <td>0.776209</td>\n      <td>0.680074</td>\n    </tr>\n    <tr>\n      <th>c4</th>\n      <td>0.360555</td>\n      <td>0.200000</td>\n      <td>0.632456</td>\n      <td>0.412311</td>\n      <td>0.150000</td>\n      <td>0.000000</td>\n      <td>0.509902</td>\n      <td>0.632456</td>\n      <td>0.565685</td>\n    </tr>\n    <tr>\n      <th>c5</th>\n      <td>0.223607</td>\n      <td>0.509902</td>\n      <td>0.860233</td>\n      <td>0.670820</td>\n      <td>0.657647</td>\n      <td>0.509902</td>\n      <td>0.000000</td>\n      <td>0.141421</td>\n      <td>0.316228</td>\n    </tr>\n    <tr>\n      <th>c6</th>\n      <td>0.300000</td>\n      <td>0.600000</td>\n      <td>0.894427</td>\n      <td>0.728011</td>\n      <td>0.776209</td>\n      <td>0.632456</td>\n      <td>0.141421</td>\n      <td>0.000000</td>\n      <td>0.282843</td>\n    </tr>\n    <tr>\n      <th>c7</th>\n      <td>0.223607</td>\n      <td>0.447214</td>\n      <td>0.632456</td>\n      <td>0.500000</td>\n      <td>0.680074</td>\n      <td>0.565685</td>\n      <td>0.316228</td>\n      <td>0.282843</td>\n      <td>0.000000</td>\n    </tr>\n  </tbody>\n</table>\n</div>"
     },
     "execution_count": 26,
     "metadata": {},
     "output_type": "execute_result"
    }
   ],
   "source": [
    "#calcolo la matrice delle distanze:\n",
    "data = np.array([])\n",
    "data = np.append(data,W)\n",
    "data = np.vstack([data,L])\n",
    "data = np.vstack([data,C])\n",
    "houses =['Warehouse','Locker','c1','c2','c3','c4','c5','c6','c7']\n",
    "print(len(data))\n",
    "df = pd.DataFrame(data, columns=['xcord', 'ycord'], index=houses)\n",
    "pd.DataFrame(distance_matrix(df.values, df.values), index=df.index, columns=df.index)\n",
    "print(\"alex\")"
   ],
   "metadata": {
    "collapsed": false,
    "pycharm": {
     "name": "#%%\n"
    }
   }
  }
 ],
 "metadata": {
  "kernelspec": {
   "display_name": "Python 3",
   "language": "python",
   "name": "python3"
  },
  "language_info": {
   "codemirror_mode": {
    "name": "ipython",
    "version": 2
   },
   "file_extension": ".py",
   "mimetype": "text/x-python",
   "name": "python",
   "nbconvert_exporter": "python",
   "pygments_lexer": "ipython2",
   "version": "2.7.6"
  }
 },
 "nbformat": 4,
 "nbformat_minor": 0
}