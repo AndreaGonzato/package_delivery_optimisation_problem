{
 "cells": [
  {
   "cell_type": "code",
   "execution_count": null,
   "metadata": {
    "pycharm": {
     "name": "#%%\n"
    }
   },
   "outputs": [],
   "source": [
    "import numpy as np\n",
    "import matplotlib.pyplot as plt\n",
    "import pandas as pd\n",
    "from scipy.spatial import distance_matrix\n",
    "import random\n",
    "import math\n",
    "import xpress  as xp"
   ]
  },
  {
   "cell_type": "code",
   "execution_count": null,
   "metadata": {
    "pycharm": {
     "name": "#%%\n"
    }
   },
   "outputs": [],
   "source": [
    "# input\n",
    "C = 8\n",
    "L = 2\n",
    "\n",
    "custom_setup = True\n",
    "ratio_locker_customers = 0.3\n",
    "ratio_prime_door_to_door_customer = 0.4"
   ]
  },
  {
   "cell_type": "code",
   "execution_count": null,
   "metadata": {
    "pycharm": {
     "name": "#%%\n"
    }
   },
   "outputs": [],
   "source": [
    "# define the locations of customers and lockers\n",
    "C_location = np.array([[0.1 ,0.1], [0.2 ,0.3],[0.15 ,0.7], [0.3 ,0.7],[0.8 ,0.6],\n",
    "                       [0.9 ,0.5],[0.7 ,0.3], [0.4, 0.15]])\n",
    "W_location = np.array([[0.6 ,0.5]])\n",
    "L_location = np.array([[0.3 ,0.5],[0.5,0.2]])"
   ]
  },
  {
   "cell_type": "code",
   "execution_count": null,
   "metadata": {
    "pycharm": {
     "name": "#%%\n"
    }
   },
   "outputs": [],
   "source": [
    "def find_nearest_lockers_from_customer(customer_location, lockers_location):\n",
    "    pass\n"
   ]
  },
  {
   "cell_type": "code",
   "execution_count": null,
   "metadata": {
    "pycharm": {
     "name": "#%%\n"
    }
   },
   "outputs": [],
   "source": [
    "# Customers’ demand and preferences\n",
    "q = np.ones(C)\n",
    "\n",
    "# define all the stores: eg. stores = [W, L0, L1, .... , Lx]\n",
    "warehouse = [\"W\"]\n",
    "lockers = []\n",
    "for l in range(L):\n",
    "    lockers.append(\"L\"+str(l))\n",
    "stores = warehouse+lockers\n",
    "\n",
    "if custom_setup:\n",
    "    C_L = [0, 5, 7]\n",
    "    C_D = [1, 2, 3, 4, 6]\n",
    "    S_k =[1, 2, 6]\n",
    "    a_k = [\"L0\", \"W\", \"L1\"]\n",
    "else:\n",
    "    C_L = []\n",
    "    C_D = []\n",
    "    S_k = []\n",
    "    a_k = []\n",
    "    for client in C:\n",
    "        if random.random()  <= ratio_locker_customers :\n",
    "            # locker customer\n",
    "            C_L.append(client)\n",
    "            a_k.append(random.choice(stores)) # TODO assign not a random store but the one that in most case is the nearest to the customer\n",
    "        else:\n",
    "            # door to door customer\n",
    "            C_D.append(client)\n",
    "            if random.random() >= ratio_prime_door_to_door_customer:\n",
    "                S_k.append(client)\n"
   ]
  },
  {
   "cell_type": "code",
   "execution_count": null,
   "metadata": {
    "pycharm": {
     "name": "#%%\n"
    }
   },
   "outputs": [],
   "source": [
    "# Capacities\n",
    "\n",
    "# PF vehicles capacities\n",
    "Q = math.ceil(0.5 * len(C_D))\n",
    "# locker storage (every locker has the same capacity by default)\n",
    "W_l = []\n",
    "for i in range(L):\n",
    "    W_l.append(math.ceil(0.8 * C / L))\n",
    "# LF vehicles capacities (every LF vehicle has the same capacity by default)\n",
    "Q_l = []\n",
    "for i in range(L):\n",
    "    Q_l.append(math.ceil(0.6 * W_l[i]))\n",
    "\n",
    "sum_W_l = 0\n",
    "for i in range(len(W_l)):\n",
    "    sum_W_l += W_l[i]\n",
    "\n",
    "\n",
    "# supply vehicles storage\n",
    "Q_L = math.ceil(0.8 * sum_W_l)\n",
    "\n",
    "print(\"Q: \",Q)\n",
    "print(\"W_l: \",W_l)\n",
    "print(\"Q_l: \",Q_l)\n",
    "print(\"Q_L: \",Q_L)\n",
    "print(\"sum_W_l: \", sum_W_l)\n"
   ]
  },
  {
   "cell_type": "code",
   "execution_count": null,
   "metadata": {
    "pycharm": {
     "name": "#%%\n"
    }
   },
   "outputs": [],
   "source": [
    "CD_location = np.array([[0,0]])\n",
    "CL_location = np.array([[0,0]])\n",
    "\n",
    "for i in range(C):\n",
    "    if i in  C_D:\n",
    "        CD_location=np.vstack([CD_location, C_location[i]])\n",
    "    else:\n",
    "        CL_location = np.vstack([CL_location, C_location[i]])\n",
    "\n",
    "CD_location = np.delete(CD_location, 0, 0)\n",
    "CL_location = np.delete(CL_location, 0, 0)\n",
    "\n",
    "#define all customers\n",
    "Customers = []\n",
    "Customers_door = []\n",
    "Customers_locker = []\n",
    "for c in range(len(C_D)):\n",
    "    Customers_door.append(\"Cd\"+str(c))\n",
    "for c in range(len(C_L)):\n",
    "    Customers_locker.append(\"Cl\"+str(c))\n",
    "\n",
    "Customers = Customers_door+Customers_locker\n",
    "\n",
    "print(Customers_locker)\n",
    "print(Customers_door)\n",
    "print(Customers)\n",
    "\n",
    "plt.scatter(CD_location[:,0],CD_location[:,1],color='b')\n",
    "plt.scatter(CL_location[:,0],CL_location[:,1],color='m')\n",
    "plt.scatter(W_location[:,0],W_location[:,1],color='g',marker='D')\n",
    "plt.scatter(L_location[:,0],L_location[:,1],color ='y',marker='s')\n",
    "\n",
    "#piccola nota\n",
    "#come nel paper in verde è la warehouse, in giallo i locker, mentre in blu in customer door to door e in magenta i customer locker"
   ]
  },
  {
   "cell_type": "code",
   "execution_count": null,
   "metadata": {
    "pycharm": {
     "name": "#%%\n"
    }
   },
   "outputs": [],
   "source": [
    "#calcolo la matrice delle distanze:\n",
    "all_locations = np.array([])\n",
    "all_locations = np.append(all_locations,W_location)\n",
    "all_locations = np.vstack([all_locations,L_location])\n",
    "all_locations = np.vstack([all_locations,CD_location])\n",
    "all_locations = np.vstack([all_locations,CL_location])\n",
    "\n",
    "all_buildings = stores + Customers\n",
    "\n",
    "df = pd.DataFrame(all_locations, columns=['xcord', 'ycord'], index=all_buildings)\n",
    "dist_matrix = pd.DataFrame(distance_matrix(df.values, df.values), index=df.index, columns=df.index)\n",
    "matrix_distance_converted_in_numpy =dist_matrix.to_numpy()\n",
    "print(dist_matrix)"
   ]
  },
  {
   "cell_type": "code",
   "execution_count": null,
   "metadata": {
    "pycharm": {
     "name": "#%%\n"
    }
   },
   "outputs": [],
   "source": [
    "#filter data\n",
    "\n",
    "supply_distances_matrix = dist_matrix.filter(items=stores,axis=1)\n",
    "supply_distances_matrix  = supply_distances_matrix.filter(items=stores,axis=0)\n",
    "print(supply_distances_matrix)\n",
    "\n",
    "PF_distances_matrix = dist_matrix.filter(items=['W']+Customers_door,axis=1)\n",
    "PF_distances_matrix = PF_distances_matrix.filter(items=['W']+Customers_door,axis=0)\n",
    "print(PF_distances_matrix)\n",
    "\n",
    "LF_distances_matrix = dist_matrix.filter(items=lockers+Customers_door,axis=1)\n",
    "LF_distances_matrix = LF_distances_matrix.filter(items=lockers+Customers_door,axis=0)\n",
    "print(LF_distances_matrix)"
   ]
  },
  {
   "cell_type": "code",
   "execution_count": null,
   "metadata": {
    "pycharm": {
     "name": "#%%\n"
    }
   },
   "outputs": [],
   "source": [
    "#calcolo la matrice delle distanze:\n",
    "all_locations = np.array([])\n",
    "all_locations = np.append(all_locations,W_location)\n",
    "all_locations = np.vstack([all_locations,L_location])\n",
    "all_locations = np.vstack([all_locations,CD_location])\n",
    "all_locations = np.vstack([all_locations,CL_location])\n",
    "\n",
    "all_buildings = stores + Customers\n",
    "\n",
    "df = pd.DataFrame(all_locations, columns=['xcord', 'ycord'], index=all_buildings)\n",
    "dist_matrix = pd.DataFrame(distance_matrix(df.values, df.values), index=df.index, columns=df.index)\n",
    "matrix_distance_converted_in_numpy =dist_matrix.to_numpy()\n",
    "print(dist_matrix)"
   ]
  },
  {
   "cell_type": "code",
   "execution_count": null,
   "metadata": {
    "pycharm": {
     "name": "#%%\n"
    }
   },
   "outputs": [],
   "source": [
    "#filter data\n",
    "\n",
    "supply_distances_matrix = dist_matrix.filter(items=stores,axis=1)\n",
    "supply_distances_matrix  = supply_distances_matrix.filter(items=stores,axis=0)\n",
    "print(supply_distances_matrix)\n",
    "\n",
    "PF_distances_matrix = dist_matrix.filter(items=['W']+Customers_door,axis=1)\n",
    "PF_distances_matrix = PF_distances_matrix.filter(items=['W']+Customers_door,axis=0)\n",
    "print(PF_distances_matrix)\n",
    "\n",
    "LF_distances_matrix = dist_matrix.filter(items=lockers+Customers_door,axis=1)\n",
    "LF_distances_matrix = LF_distances_matrix.filter(items=lockers+Customers_door,axis=0)\n",
    "print(LF_distances_matrix)"
   ]
  },
  {
   "cell_type": "code",
   "execution_count": null,
   "metadata": {
    "pycharm": {
     "name": "#%%\n"
    }
   },
   "outputs": [],
   "source": [
    "# Delivery Cost\n",
    "pi = 1\n",
    "pi_l = 0.85\n",
    "pi_L = 0.75\n",
    "ro = 0.5\n",
    "PF_delivery_cost = pi*PF_distances_matrix\n",
    "LF_delivery_cost = pi_l*LF_distances_matrix\n",
    "supply_cost = pi_L*supply_distances_matrix\n",
    "print(supply_cost)\n",
    "print(PF_delivery_cost)\n",
    "print(LF_delivery_cost)"
   ]
  },
  {
   "cell_type": "code",
   "execution_count": null,
   "metadata": {
    "pycharm": {
     "name": "#%%\n"
    }
   },
   "outputs": [],
   "source": [
    "#filter data\n",
    "\n",
    "supply_distances_matrix = dist_matrix.filter(items=stores,axis=1)\n",
    "supply_distances_matrix  = supply_distances_matrix.filter(items=stores,axis=0)\n",
    "print(supply_distances_matrix)\n",
    "\n",
    "PF_distances_matrix = dist_matrix.filter(items=['W']+Customers_door,axis=1)\n",
    "PF_distances_matrix = PF_distances_matrix.filter(items=['W']+Customers_door,axis=0)\n",
    "print(PF_distances_matrix)\n",
    "\n",
    "LF_distances_matrix = dist_matrix.filter(items=lockers+Customers_door,axis=1)\n",
    "LF_distances_matrix = LF_distances_matrix.filter(items=lockers+Customers_door,axis=0)\n",
    "print(LF_distances_matrix)"
   ]
  },
  {
   "cell_type": "code",
   "execution_count": null,
   "metadata": {
    "pycharm": {
     "name": "#%%\n"
    }
   },
   "outputs": [],
   "source": [
    "# Delivery Cost\n",
    "pi = 1\n",
    "pi_l = 0.85\n",
    "pi_L = 0.75\n",
    "ro = 0.5\n",
    "PF_delivery_cost = pi*PF_distances_matrix\n",
    "LF_delivery_cost = pi_l*LF_distances_matrix\n",
    "supply_cost = pi_L*supply_distances_matrix\n",
    "print(supply_cost)\n",
    "print(PF_delivery_cost)\n",
    "print(LF_delivery_cost)"
   ]
  },
  {
   "cell_type": "markdown",
   "metadata": {
    "collapsed": false,
    "pycharm": {
     "name": "#%% md\n"
    }
   },
   "source": [
    "## extra code to delete"
   ]
  },
  {
   "cell_type": "code",
   "execution_count": null,
   "metadata": {
    "pycharm": {
     "name": "#%%\n"
    }
   },
   "outputs": [],
   "source": [
    "x = np.random.randint(0, 50, 7)\n",
    "y = np.random.randint(0, 50, 7)\n",
    "C = [x,y]\n",
    "plt.scatter(C[0],C[1])\n",
    "C = np.arange(7)\n",
    "print(C)\n",
    "plt.show()"
   ]
  },
  {
   "cell_type": "code",
   "execution_count": null,
   "metadata": {
    "pycharm": {
     "name": "#%%\n"
    }
   },
   "outputs": [],
   "source": [
    "C = np.random.rand(7,2)\n",
    "plt.scatter(C[:,0],C[:,1],color='b')\n",
    "W = np.random.rand(1,2)\n",
    "plt.scatter(W[:,0],W[:,1],color='g',marker='D')\n",
    "L = np.random.rand(1,2)\n",
    "plt.scatter(L[:,0],L[:,1],color ='y',marker='s')\n",
    "print(C)"
   ]
  },
  {
   "cell_type": "code",
   "execution_count": null,
   "metadata": {
    "pycharm": {
     "name": "#%%\n"
    }
   },
   "outputs": [],
   "source": [
    "C = np.array([[0.1 ,0.1], [0.2 ,0.3],[0.15 ,0.7], [0.3 ,0.7],[0.8 ,0.6],\n",
    "              [0.9 ,0.5],[0.7 ,0.3]])\n",
    "plt.scatter(C[:,0],C[:,1],color='b')\n",
    "W = np.array([[0.6 ,0.5]])\n",
    "plt.scatter(W[:,0],W[:,1],color='g',marker='D')\n",
    "L = np.array([[0.3 ,0.5]])\n",
    "plt.scatter(L[:,0],L[:,1],color ='y',marker='s')"
   ]
  },
  {
   "cell_type": "code",
   "execution_count": null,
   "metadata": {
    "pycharm": {
     "name": "#%%\n"
    }
   },
   "outputs": [],
   "source": [
    "#calcolo la matrice delle distanze:\n",
    "data = np.array([])\n",
    "data = np.append(data,W)\n",
    "data = np.vstack([data,L])\n",
    "data = np.vstack([data,C])\n",
    "buildings =['Warehouse','Locker','c1','c2','c3','c4','c5','c6','c7']\n",
    "print(len(data))\n",
    "df = pd.DataFrame(data, columns=['xcord', 'ycord'], index=buildings)\n",
    "dist_matrix = pd.DataFrame(distance_matrix(df.values, df.values), index=df.index, columns=df.index)\n",
    "matrix_distance_converted_in_numpy =dist_matrix.to_numpy()"
   ]
  },
  {
   "cell_type": "code",
   "execution_count": null,
   "metadata": {
    "pycharm": {
     "name": "#%%\n"
    }
   },
   "outputs": [],
   "source": [
    "# Delivery Cost\n",
    "pi = 1\n",
    "pi_l = 0.85\n",
    "pi_L = 0.75\n",
    "ro = 0.5\n",
    "PF_delivery_cost = pi*matrix_distance_converted_in_numpy\n",
    "LF_delivery_cost = pi_l*matrix_distance_converted_in_numpy\n",
    "PF_delivery_cost = pi*matrix_distance_converted_in_numpy\n",
    "Suplly_cost = pi_L*matrix_distance_converted_in_numpy\n"
   ]
  },
  {
   "cell_type": "code",
   "execution_count": null,
   "metadata": {
    "pycharm": {
     "name": "#%%\n"
    }
   },
   "outputs": [],
   "source": []
  },
  {
   "cell_type": "code",
<<<<<<< HEAD
   "execution_count": 30,
   "outputs": [
    {
     "name": "stdout",
     "output_type": "stream",
     "text": [
      "andrea\n"
     ]
=======
   "execution_count": null,
   "metadata": {
    "pycharm": {
     "name": "#%%\n"
    }
   },
   "outputs": [],
   "source": [
    "# Delivery Cost\n",
    "pi = 1\n",
    "pi_l = 0.85\n",
    "pi_L = 0.75\n",
    "ro = 0.5\n",
    "PF_delivery_cost = pi*matrix_distance_converted_in_numpy\n",
    "LF_delivery_cost = pi_l*matrix_distance_converted_in_numpy\n",
    "PF_delivery_cost = pi*matrix_distance_converted_in_numpy\n",
    "Suplly_cost = pi_L*matrix_distance_converted_in_numpy\n"
   ]
  },
  {
   "cell_type": "code",
   "execution_count": null,
   "metadata": {
    "pycharm": {
     "name": "#%%\n"
>>>>>>> 27e3b31bd29737964ea03c920d30680ee6446550
    }
   },
   "outputs": [],
   "source": [
<<<<<<< HEAD
    "print(\"andrea\")\n"
   ],
   "metadata": {
    "collapsed": false,
    "pycharm": {
     "name": "#%%\n"
    }
   }
=======
    "print(\"andrea\")"
   ]
>>>>>>> 27e3b31bd29737964ea03c920d30680ee6446550
  },
  {
   "cell_type": "code",
   "execution_count": null,
   "metadata": {
    "pycharm": {
     "name": "#%%\n"
    }
   },
   "outputs": [],
   "source": [
    "print(\"andrea\")"
   ]
  },
  {
   "cell_type": "code",
   "execution_count": null,
   "metadata": {
    "pycharm": {
     "name": "#%%\n"
    }
   },
   "outputs": [],
   "source": []
  },
  {
   "cell_type": "code",
   "execution_count": null,
   "metadata": {
    "pycharm": {
     "name": "#%%\n"
    }
   },
   "outputs": [],
   "source": []
  },
  {
   "cell_type": "code",
   "execution_count": null,
   "metadata": {
    "pycharm": {
     "name": "#%%\n"
    }
   },
   "outputs": [],
   "source": [
    "# Delivery Cost\n",
    "pi = 1\n",
    "pi_l = 0.85\n",
    "pi_L = 0.75\n",
    "ro = 0.5\n",
    "PF_delivery_cost = pi*matrix_distance_converted_in_numpy\n",
    "LF_delivery_cost = pi_l*matrix_distance_converted_in_numpy\n",
    "PF_delivery_cost = pi*matrix_distance_converted_in_numpy\n",
    "Suplly_cost = pi_L*matrix_distance_converted_in_numpy\n"
   ]
  }
 ],
 "metadata": {
  "language_info": {
   "name": "python",
   "pygments_lexer": "ipython3"
  }
 },
 "nbformat": 4,
 "nbformat_minor": 0
}
