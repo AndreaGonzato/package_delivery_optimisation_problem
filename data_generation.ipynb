{
 "cells": [
  {
   "cell_type": "code",
   "execution_count": 1,
   "outputs": [
    {
     "name": "stdout",
     "output_type": "stream",
     "text": [
      "Using the Community license in this session. If you have a full Xpress license, first set the XPAUTH_PATH environment variable to the full path to your license file, xpauth.xpr, and then restart Python. If you want to use the FICO Community license and no longer want to see this message, set the XPAUTH_PATH environment variable to: /home/andrea/anaconda3/lib/python3.9/site-packages/xpress/license/community-xpauth.xpr\n",
      "NB: setting XPAUTH_PATH will also affect any other Xpress products installed on your system.\n"
     ]
    }
   ],
   "source": [
    "import numpy as np\n",
    "import matplotlib.pyplot as plt\n",
    "import pandas as pd\n",
    "from scipy.spatial import distance_matrix\n",
    "import random\n",
    "import math\n",
    "import xpress  as xp"
   ],
   "metadata": {
    "collapsed": false,
    "pycharm": {
     "name": "#%%\n"
    }
   }
  },
  {
   "cell_type": "code",
   "execution_count": 2,
   "outputs": [],
   "source": [
    "# input\n",
    "C = 15\n",
    "L = 3\n",
    "\n",
    "custom_setup = False\n",
    "map_size = 100\n",
    "ratio_locker_customers = 0.3\n",
    "ratio_prime_door_to_door_customer = 0.4"
   ],
   "metadata": {
    "collapsed": false,
    "pycharm": {
     "name": "#%%\n"
    }
   }
  },
  {
   "cell_type": "code",
   "execution_count": 4,
   "outputs": [],
   "source": [
    "# define the locations of customers and lockers and warehouse\n",
    "if custom_setup:\n",
    "    C_location = np.array([[0.1 ,0.28], [0.2 ,0.4],[0.15 ,0.7], [0.3 ,0.7],[0.8 ,0.6],[0.7 ,0.4],[0.9 ,0.5], [0.4, 0.15]])\n",
    "    W_location = np.array([[0.6 ,0.5]])\n",
    "    L_location = np.array([[0.3 ,0.5],[0.5,0.2]])\n",
    "else:\n",
    "    C_location = np.random.randint(map_size, size=(C, 2))\n",
    "    W_location = np.random.randint(map_size, size=(1, 2))\n",
    "    L_location = np.random.randint(map_size, size=(L, 2))\n",
    "stores_location = np.concatenate((W_location, L_location), axis=0)"
   ],
   "metadata": {
    "collapsed": false,
    "pycharm": {
     "name": "#%%\n"
    }
   }
  },
  {
   "cell_type": "code",
   "execution_count": 5,
   "outputs": [],
   "source": [
    "def euclidean_distance(location_a, location_b):\n",
    "    if len(location_a) != 2 or len(location_b) != 2:\n",
    "        raise Exception(\"the two location need to be a list each of size 2\")\n",
    "    delta_x = location_b[0]-location_a[0]\n",
    "    delta_y = location_b[1]-location_a[1]\n",
    "    return math.sqrt(delta_x*delta_x+delta_y*delta_y)\n",
    "\n",
    "def find_nearest_stores_from_customer(customer_location, stores_location_par):\n",
    "    min_distance = float(\"inf\")\n",
    "    nearest_store_location = []\n",
    "    index = 0\n",
    "    nearest_locker_index = -1\n",
    "    for store_location in stores_location_par:\n",
    "        distance = euclidean_distance(customer_location, store_location)\n",
    "        if distance < min_distance:\n",
    "            min_distance = distance\n",
    "            nearest_store_location = store_location\n",
    "            nearest_locker_index = index\n",
    "        index +=1\n",
    "    return nearest_locker_index, nearest_store_location\n"
   ],
   "metadata": {
    "collapsed": false,
    "pycharm": {
     "name": "#%%\n"
    }
   }
  },
  {
   "cell_type": "code",
   "execution_count": 6,
   "outputs": [],
   "source": [
    "# Customers’ demand and preferences\n",
    "q = np.ones(C)\n",
    "\n",
    "# define all the stores: eg. stores = [W, L0, L1, .... , Lx]\n",
    "warehouse = [\"W\"]\n",
    "lockers = []\n",
    "for l in range(L):\n",
    "    lockers.append(\"L\"+str(l))\n",
    "stores = warehouse+lockers\n",
    "\n",
    "if custom_setup:\n",
    "    C_L = [0, 5, 7]\n",
    "    C_D = [1, 2, 3, 4, 6]\n",
    "    S_k =[1, 2, 6]\n",
    "    a_k = [\"L0\", \"W\", \"L1\"]\n",
    "else:\n",
    "    C_L = []\n",
    "    C_D = []\n",
    "    S_k = []\n",
    "    a_k = []\n",
    "    for client in range(C):\n",
    "        if random.random()  <= ratio_locker_customers :\n",
    "            # locker customer\n",
    "            C_L.append(client)\n",
    "            a_k.append(random.choice(stores)) # TODO assign not a random store but the one that in most case is the nearest to the customer\n",
    "        else:\n",
    "            # door to door customer\n",
    "            C_D.append(client)\n",
    "            if random.random() >= ratio_prime_door_to_door_customer:\n",
    "                S_k.append(client)\n"
   ],
   "metadata": {
    "collapsed": false,
    "pycharm": {
     "name": "#%%\n"
    }
   }
  },
  {
   "cell_type": "code",
   "execution_count": 7,
   "outputs": [
    {
     "name": "stdout",
     "output_type": "stream",
     "text": [
      "Q:  4\n",
      "W_l:  [4, 4, 4]\n",
      "Q_l:  [3, 3, 3]\n",
      "Q_L:  10\n",
      "sum_W_l:  12\n"
     ]
    }
   ],
   "source": [
    "# Capacities\n",
    "\n",
    "# PF vehicles capacities\n",
    "Q = math.ceil(0.5 * len(C_D))\n",
    "# locker storage (every locker has the same capacity by default)\n",
    "W_l = []\n",
    "for i in range(L):\n",
    "    W_l.append(math.ceil(0.8 * C / L))\n",
    "# LF vehicles capacities (every LF vehicle has the same capacity by default)\n",
    "Q_l = []\n",
    "for i in range(L):\n",
    "    Q_l.append(math.ceil(0.6 * W_l[i]))\n",
    "\n",
    "sum_W_l = 0\n",
    "for i in range(len(W_l)):\n",
    "    sum_W_l += W_l[i]\n",
    "\n",
    "\n",
    "# supply vehicles storage\n",
    "Q_L = math.ceil(0.8 * sum_W_l)\n",
    "\n",
    "print(\"Q: \",Q)\n",
    "print(\"W_l: \",W_l)\n",
    "print(\"Q_l: \",Q_l)\n",
    "print(\"Q_L: \",Q_L)\n",
    "print(\"sum_W_l: \", sum_W_l)\n"
   ],
   "metadata": {
    "collapsed": false,
    "pycharm": {
     "name": "#%%\n"
    }
   }
  },
  {
   "cell_type": "code",
   "execution_count": 8,
   "outputs": [
    {
     "name": "stdout",
     "output_type": "stream",
     "text": [
      "['Cl0', 'Cl1', 'Cl2', 'Cl3', 'Cl4', 'Cl5', 'Cl6']\n",
      "['Cd0', 'Cd1', 'Cd2', 'Cd3', 'Cd4', 'Cd5', 'Cd6', 'Cd7']\n",
      "['Cd0', 'Cd1', 'Cd2', 'Cd3', 'Cd4', 'Cd5', 'Cd6', 'Cd7', 'Cl0', 'Cl1', 'Cl2', 'Cl3', 'Cl4', 'Cl5', 'Cl6']\n"
     ]
    },
    {
     "data": {
      "text/plain": "<matplotlib.collections.PathCollection at 0x7f8dba09b310>"
     },
     "execution_count": 8,
     "metadata": {},
     "output_type": "execute_result"
    },
    {
     "data": {
      "text/plain": "<Figure size 432x288 with 1 Axes>",
      "image/png": "[encoded data removed]"
     },
     "metadata": {
      "needs_background": "light"
     },
     "output_type": "display_data"
    }
   ],
   "source": [
    "CD_location = np.array([[0,0]])\n",
    "CL_location = np.array([[0,0]])\n",
    "\n",
    "for i in range(C):\n",
    "    if i in  C_D:\n",
    "        CD_location=np.vstack([CD_location, C_location[i]])\n",
    "    else:\n",
    "        CL_location = np.vstack([CL_location, C_location[i]])\n",
    "\n",
    "CD_location = np.delete(CD_location, 0, 0)\n",
    "CL_location = np.delete(CL_location, 0, 0)\n",
    "\n",
    "#define all customers\n",
    "Customers = []\n",
    "Customers_door = []\n",
    "Customers_locker = []\n",
    "for c in range(len(C_D)):\n",
    "    Customers_door.append(\"Cd\"+str(c))\n",
    "for c in range(len(C_L)):\n",
    "    Customers_locker.append(\"Cl\"+str(c))\n",
    "\n",
    "Customers = Customers_door+Customers_locker\n",
    "\n",
    "print(Customers_locker)\n",
    "print(Customers_door)\n",
    "print(Customers)\n",
    "\n",
    "plt.scatter(CD_location[:,0],CD_location[:,1],color='b')\n",
    "plt.scatter(CL_location[:,0],CL_location[:,1],color='m')\n",
    "plt.scatter(W_location[:,0],W_location[:,1],color='g',marker='D')\n",
    "plt.scatter(L_location[:,0],L_location[:,1],color ='y',marker='s')\n",
    "\n",
    "#piccola nota\n",
    "#come nel paper in verde è la warehouse, in giallo i locker, mentre in blu in customer door to door e in magenta i customer locker"
   ],
   "metadata": {
    "collapsed": false,
    "pycharm": {
     "name": "#%%\n"
    }
   }
  },
  {
   "cell_type": "code",
   "execution_count": 9,
   "outputs": [
    {
     "name": "stdout",
     "output_type": "stream",
     "text": [
      "             W         L0          L1         L2        Cd0        Cd1  \\\n",
      "W     0.000000  52.345009   74.411021  48.010416  44.294469  44.045431   \n",
      "L0   52.345009   0.000000   50.089919  67.623960  45.276926  66.030296   \n",
      "L1   74.411021  50.089919    0.000000  50.635956  32.756679  52.392748   \n",
      "L2   48.010416  67.623960   50.635956   0.000000  23.769729   4.123106   \n",
      "Cd0  44.294469  45.276926   32.756679  23.769729   0.000000  23.537205   \n",
      "Cd1  44.045431  66.030296   52.392748   4.123106  23.537205   0.000000   \n",
      "Cd2  51.000000  19.313208   32.249031  51.884487  28.301943  51.078371   \n",
      "Cd3  38.418745  45.607017   89.560036  81.908486  69.065187  78.434686   \n",
      "Cd4  27.000000  79.227520   94.403390  54.589376  61.846584  50.606324   \n",
      "Cd5  44.777226  44.598206   31.906112  24.698178   1.000000  24.515301   \n",
      "Cd6  37.215588  64.443774  103.315052  85.146932  77.878110  81.221918   \n",
      "Cd7  29.274562  23.086793   55.713553  53.254108  35.902646  50.606324   \n",
      "Cl0  38.183766  81.743501   81.344945  33.421550  49.477268  30.232433   \n",
      "Cl1  48.918299  40.853396   88.814413  88.566359  72.780492  85.422479   \n",
      "Cl2  29.068884  32.695565   45.803930  37.013511  20.024984  34.655447   \n",
      "Cl3   8.062258  60.207973   79.208585  47.518417  47.801674  43.416587   \n",
      "Cl4  62.769419  30.594117   80.504658  93.085982  73.061618  90.686272   \n",
      "Cl5  57.280014  47.296934   96.332757  97.508974  81.492331  94.366308   \n",
      "Cl6  56.089215  63.890531   38.013156  13.892444  18.867962  17.029386   \n",
      "\n",
      "           Cd2        Cd3        Cd4        Cd5         Cd6        Cd7  \\\n",
      "W    51.000000  38.418745  27.000000  44.777226   37.215588  29.274562   \n",
      "L0   19.313208  45.607017  79.227520  44.598206   64.443774  23.086793   \n",
      "L1   32.249031  89.560036  94.403390  31.906112  103.315052  55.713553   \n",
      "L2   51.884487  81.908486  54.589376  24.698178   85.146932  53.254108   \n",
      "Cd0  28.301943  69.065187  61.846584   1.000000   77.878110  35.902646   \n",
      "Cd1  51.078371  78.434686  50.606324  24.515301   81.221918  50.606324   \n",
      "Cd2   0.000000  57.939624  75.894664  27.459060   73.498299  25.612497   \n",
      "Cd3  57.939624   0.000000  59.169249  69.028979   21.189620  34.365681   \n",
      "Cd4  75.894664  59.169249   0.000000  62.625873   48.270074  56.142675   \n",
      "Cd5  27.459060  69.028979  62.625873   0.000000   78.102497  35.693137   \n",
      "Cd6  73.498299  21.189620  48.270074  78.102497    0.000000  48.020829   \n",
      "Cd7  25.612497  34.365681  56.142675  35.693137   48.020829   0.000000   \n",
      "Cl0  72.062473  76.485293  27.000000  50.447993   71.112587  60.539243   \n",
      "Cl1  56.568542  13.152946  71.554175  72.567210   33.376639  36.878178   \n",
      "Cl2  23.537205  49.040799  52.554733  20.000000   58.821765  16.552945   \n",
      "Cl3  57.775427  44.553339  19.026298  48.414874   39.849718  37.121422   \n",
      "Cl4  49.729267  34.525353  88.323270  72.560320   55.542776  40.311289   \n",
      "Cl5  64.124878  19.723083  78.892332  81.252692   37.121422  45.607017   \n",
      "Cl6  46.010868  85.988371  66.850580  19.416488   92.265920  54.083269   \n",
      "\n",
      "           Cl0        Cl1        Cl2        Cl3        Cl4        Cl5  \\\n",
      "W    38.183766  48.918299  29.068884   8.062258  62.769419  57.280014   \n",
      "L0   81.743501  40.853396  32.695565  60.207973  30.594117  47.296934   \n",
      "L1   81.344945  88.814413  45.803930  79.208585  80.504658  96.332757   \n",
      "L2   33.421550  88.566359  37.013511  47.518417  93.085982  97.508974   \n",
      "Cd0  49.477268  72.780492  20.024984  47.801674  73.061618  81.492331   \n",
      "Cd1  30.232433  85.422479  34.655447  43.416587  90.686272  94.366308   \n",
      "Cd2  72.062473  56.568542  23.537205  57.775427  49.729267  64.124878   \n",
      "Cd3  76.485293  13.152946  49.040799  44.553339  34.525353  19.723083   \n",
      "Cd4  27.000000  71.554175  52.554733  19.026298  88.323270  78.892332   \n",
      "Cd5  50.447993  72.567210  20.000000  48.414874  72.560320  81.252692   \n",
      "Cd6  71.112587  33.376639  58.821765  39.849718  55.542776  37.121422   \n",
      "Cd7  60.539243  36.878178  16.552945  37.121422  40.311289  45.607017   \n",
      "Cl0   0.000000  87.045965  49.648766  32.202484  99.126182  95.462034   \n",
      "Cl1  87.045965   0.000000  53.160135  55.803226  22.472205   8.944272   \n",
      "Cl2  49.648766  53.160135   0.000000  34.985711  56.080300  61.983869   \n",
      "Cl3  32.202484  55.803226  34.985711   0.000000  70.576200  63.890531   \n",
      "Cl4  99.126182  22.472205  56.080300  70.576200   0.000000  23.345235   \n",
      "Cl5  95.462034   8.944272  61.983869  63.890531  23.345235   0.000000   \n",
      "Cl6  47.201695  90.801982  37.643060  57.245087  91.923882  99.624294   \n",
      "\n",
      "           Cl6  \n",
      "W    56.089215  \n",
      "L0   63.890531  \n",
      "L1   38.013156  \n",
      "L2   13.892444  \n",
      "Cd0  18.867962  \n",
      "Cd1  17.029386  \n",
      "Cd2  46.010868  \n",
      "Cd3  85.988371  \n",
      "Cd4  66.850580  \n",
      "Cd5  19.416488  \n",
      "Cd6  92.265920  \n",
      "Cd7  54.083269  \n",
      "Cl0  47.201695  \n",
      "Cl1  90.801982  \n",
      "Cl2  37.643060  \n",
      "Cl3  57.245087  \n",
      "Cl4  91.923882  \n",
      "Cl5  99.624294  \n",
      "Cl6   0.000000  \n"
     ]
    }
   ],
   "source": [
    "#calcolo la matrice delle distanze:\n",
    "all_locations = np.array([])\n",
    "all_locations = np.append(all_locations,W_location)\n",
    "all_locations = np.vstack([all_locations,L_location])\n",
    "all_locations = np.vstack([all_locations,CD_location])\n",
    "all_locations = np.vstack([all_locations,CL_location])\n",
    "\n",
    "all_buildings = stores + Customers\n",
    "\n",
    "df = pd.DataFrame(all_locations, columns=['xcord', 'ycord'], index=all_buildings)\n",
    "dist_matrix = pd.DataFrame(distance_matrix(df.values, df.values), index=df.index, columns=df.index)\n",
    "matrix_distance_converted_in_numpy =dist_matrix.to_numpy()\n",
    "print(dist_matrix)"
   ],
   "metadata": {
    "collapsed": false,
    "pycharm": {
     "name": "#%%\n"
    }
   }
  },
  {
   "cell_type": "code",
   "execution_count": 10,
   "outputs": [
    {
     "name": "stdout",
     "output_type": "stream",
     "text": [
      "            W         L0         L1         L2\n",
      "W    0.000000  52.345009  74.411021  48.010416\n",
      "L0  52.345009   0.000000  50.089919  67.623960\n",
      "L1  74.411021  50.089919   0.000000  50.635956\n",
      "L2  48.010416  67.623960  50.635956   0.000000\n",
      "             W        Cd0        Cd1        Cd2        Cd3        Cd4  \\\n",
      "W     0.000000  44.294469  44.045431  51.000000  38.418745  27.000000   \n",
      "Cd0  44.294469   0.000000  23.537205  28.301943  69.065187  61.846584   \n",
      "Cd1  44.045431  23.537205   0.000000  51.078371  78.434686  50.606324   \n",
      "Cd2  51.000000  28.301943  51.078371   0.000000  57.939624  75.894664   \n",
      "Cd3  38.418745  69.065187  78.434686  57.939624   0.000000  59.169249   \n",
      "Cd4  27.000000  61.846584  50.606324  75.894664  59.169249   0.000000   \n",
      "Cd5  44.777226   1.000000  24.515301  27.459060  69.028979  62.625873   \n",
      "Cd6  37.215588  77.878110  81.221918  73.498299  21.189620  48.270074   \n",
      "Cd7  29.274562  35.902646  50.606324  25.612497  34.365681  56.142675   \n",
      "\n",
      "           Cd5        Cd6        Cd7  \n",
      "W    44.777226  37.215588  29.274562  \n",
      "Cd0   1.000000  77.878110  35.902646  \n",
      "Cd1  24.515301  81.221918  50.606324  \n",
      "Cd2  27.459060  73.498299  25.612497  \n",
      "Cd3  69.028979  21.189620  34.365681  \n",
      "Cd4  62.625873  48.270074  56.142675  \n",
      "Cd5   0.000000  78.102497  35.693137  \n",
      "Cd6  78.102497   0.000000  48.020829  \n",
      "Cd7  35.693137  48.020829   0.000000  \n",
      "            L0          L1         L2        Cd0        Cd1        Cd2  \\\n",
      "L0    0.000000   50.089919  67.623960  45.276926  66.030296  19.313208   \n",
      "L1   50.089919    0.000000  50.635956  32.756679  52.392748  32.249031   \n",
      "L2   67.623960   50.635956   0.000000  23.769729   4.123106  51.884487   \n",
      "Cd0  45.276926   32.756679  23.769729   0.000000  23.537205  28.301943   \n",
      "Cd1  66.030296   52.392748   4.123106  23.537205   0.000000  51.078371   \n",
      "Cd2  19.313208   32.249031  51.884487  28.301943  51.078371   0.000000   \n",
      "Cd3  45.607017   89.560036  81.908486  69.065187  78.434686  57.939624   \n",
      "Cd4  79.227520   94.403390  54.589376  61.846584  50.606324  75.894664   \n",
      "Cd5  44.598206   31.906112  24.698178   1.000000  24.515301  27.459060   \n",
      "Cd6  64.443774  103.315052  85.146932  77.878110  81.221918  73.498299   \n",
      "Cd7  23.086793   55.713553  53.254108  35.902646  50.606324  25.612497   \n",
      "\n",
      "           Cd3        Cd4        Cd5         Cd6        Cd7  \n",
      "L0   45.607017  79.227520  44.598206   64.443774  23.086793  \n",
      "L1   89.560036  94.403390  31.906112  103.315052  55.713553  \n",
      "L2   81.908486  54.589376  24.698178   85.146932  53.254108  \n",
      "Cd0  69.065187  61.846584   1.000000   77.878110  35.902646  \n",
      "Cd1  78.434686  50.606324  24.515301   81.221918  50.606324  \n",
      "Cd2  57.939624  75.894664  27.459060   73.498299  25.612497  \n",
      "Cd3   0.000000  59.169249  69.028979   21.189620  34.365681  \n",
      "Cd4  59.169249   0.000000  62.625873   48.270074  56.142675  \n",
      "Cd5  69.028979  62.625873   0.000000   78.102497  35.693137  \n",
      "Cd6  21.189620  48.270074  78.102497    0.000000  48.020829  \n",
      "Cd7  34.365681  56.142675  35.693137   48.020829   0.000000  \n"
     ]
    }
   ],
   "source": [
    "#filter data\n",
    "\n",
    "supply_distances_matrix = dist_matrix.filter(items=stores,axis=1)\n",
    "supply_distances_matrix  = supply_distances_matrix.filter(items=stores,axis=0)\n",
    "print(supply_distances_matrix)\n",
    "\n",
    "PF_distances_matrix = dist_matrix.filter(items=['W']+Customers_door,axis=1)\n",
    "PF_distances_matrix = PF_distances_matrix.filter(items=['W']+Customers_door,axis=0)\n",
    "print(PF_distances_matrix)\n",
    "\n",
    "LF_distances_matrix = dist_matrix.filter(items=lockers+Customers_door,axis=1)\n",
    "LF_distances_matrix = LF_distances_matrix.filter(items=lockers+Customers_door,axis=0)\n",
    "print(LF_distances_matrix)"
   ],
   "metadata": {
    "collapsed": false,
    "pycharm": {
     "name": "#%%\n"
    }
   }
  },
  {
   "cell_type": "code",
   "execution_count": 11,
   "outputs": [
    {
     "name": "stdout",
     "output_type": "stream",
     "text": [
      "             W         L0          L1         L2        Cd0        Cd1  \\\n",
      "W     0.000000  52.345009   74.411021  48.010416  44.294469  44.045431   \n",
      "L0   52.345009   0.000000   50.089919  67.623960  45.276926  66.030296   \n",
      "L1   74.411021  50.089919    0.000000  50.635956  32.756679  52.392748   \n",
      "L2   48.010416  67.623960   50.635956   0.000000  23.769729   4.123106   \n",
      "Cd0  44.294469  45.276926   32.756679  23.769729   0.000000  23.537205   \n",
      "Cd1  44.045431  66.030296   52.392748   4.123106  23.537205   0.000000   \n",
      "Cd2  51.000000  19.313208   32.249031  51.884487  28.301943  51.078371   \n",
      "Cd3  38.418745  45.607017   89.560036  81.908486  69.065187  78.434686   \n",
      "Cd4  27.000000  79.227520   94.403390  54.589376  61.846584  50.606324   \n",
      "Cd5  44.777226  44.598206   31.906112  24.698178   1.000000  24.515301   \n",
      "Cd6  37.215588  64.443774  103.315052  85.146932  77.878110  81.221918   \n",
      "Cd7  29.274562  23.086793   55.713553  53.254108  35.902646  50.606324   \n",
      "Cl0  38.183766  81.743501   81.344945  33.421550  49.477268  30.232433   \n",
      "Cl1  48.918299  40.853396   88.814413  88.566359  72.780492  85.422479   \n",
      "Cl2  29.068884  32.695565   45.803930  37.013511  20.024984  34.655447   \n",
      "Cl3   8.062258  60.207973   79.208585  47.518417  47.801674  43.416587   \n",
      "Cl4  62.769419  30.594117   80.504658  93.085982  73.061618  90.686272   \n",
      "Cl5  57.280014  47.296934   96.332757  97.508974  81.492331  94.366308   \n",
      "Cl6  56.089215  63.890531   38.013156  13.892444  18.867962  17.029386   \n",
      "\n",
      "           Cd2        Cd3        Cd4        Cd5         Cd6        Cd7  \\\n",
      "W    51.000000  38.418745  27.000000  44.777226   37.215588  29.274562   \n",
      "L0   19.313208  45.607017  79.227520  44.598206   64.443774  23.086793   \n",
      "L1   32.249031  89.560036  94.403390  31.906112  103.315052  55.713553   \n",
      "L2   51.884487  81.908486  54.589376  24.698178   85.146932  53.254108   \n",
      "Cd0  28.301943  69.065187  61.846584   1.000000   77.878110  35.902646   \n",
      "Cd1  51.078371  78.434686  50.606324  24.515301   81.221918  50.606324   \n",
      "Cd2   0.000000  57.939624  75.894664  27.459060   73.498299  25.612497   \n",
      "Cd3  57.939624   0.000000  59.169249  69.028979   21.189620  34.365681   \n",
      "Cd4  75.894664  59.169249   0.000000  62.625873   48.270074  56.142675   \n",
      "Cd5  27.459060  69.028979  62.625873   0.000000   78.102497  35.693137   \n",
      "Cd6  73.498299  21.189620  48.270074  78.102497    0.000000  48.020829   \n",
      "Cd7  25.612497  34.365681  56.142675  35.693137   48.020829   0.000000   \n",
      "Cl0  72.062473  76.485293  27.000000  50.447993   71.112587  60.539243   \n",
      "Cl1  56.568542  13.152946  71.554175  72.567210   33.376639  36.878178   \n",
      "Cl2  23.537205  49.040799  52.554733  20.000000   58.821765  16.552945   \n",
      "Cl3  57.775427  44.553339  19.026298  48.414874   39.849718  37.121422   \n",
      "Cl4  49.729267  34.525353  88.323270  72.560320   55.542776  40.311289   \n",
      "Cl5  64.124878  19.723083  78.892332  81.252692   37.121422  45.607017   \n",
      "Cl6  46.010868  85.988371  66.850580  19.416488   92.265920  54.083269   \n",
      "\n",
      "           Cl0        Cl1        Cl2        Cl3        Cl4        Cl5  \\\n",
      "W    38.183766  48.918299  29.068884   8.062258  62.769419  57.280014   \n",
      "L0   81.743501  40.853396  32.695565  60.207973  30.594117  47.296934   \n",
      "L1   81.344945  88.814413  45.803930  79.208585  80.504658  96.332757   \n",
      "L2   33.421550  88.566359  37.013511  47.518417  93.085982  97.508974   \n",
      "Cd0  49.477268  72.780492  20.024984  47.801674  73.061618  81.492331   \n",
      "Cd1  30.232433  85.422479  34.655447  43.416587  90.686272  94.366308   \n",
      "Cd2  72.062473  56.568542  23.537205  57.775427  49.729267  64.124878   \n",
      "Cd3  76.485293  13.152946  49.040799  44.553339  34.525353  19.723083   \n",
      "Cd4  27.000000  71.554175  52.554733  19.026298  88.323270  78.892332   \n",
      "Cd5  50.447993  72.567210  20.000000  48.414874  72.560320  81.252692   \n",
      "Cd6  71.112587  33.376639  58.821765  39.849718  55.542776  37.121422   \n",
      "Cd7  60.539243  36.878178  16.552945  37.121422  40.311289  45.607017   \n",
      "Cl0   0.000000  87.045965  49.648766  32.202484  99.126182  95.462034   \n",
      "Cl1  87.045965   0.000000  53.160135  55.803226  22.472205   8.944272   \n",
      "Cl2  49.648766  53.160135   0.000000  34.985711  56.080300  61.983869   \n",
      "Cl3  32.202484  55.803226  34.985711   0.000000  70.576200  63.890531   \n",
      "Cl4  99.126182  22.472205  56.080300  70.576200   0.000000  23.345235   \n",
      "Cl5  95.462034   8.944272  61.983869  63.890531  23.345235   0.000000   \n",
      "Cl6  47.201695  90.801982  37.643060  57.245087  91.923882  99.624294   \n",
      "\n",
      "           Cl6  \n",
      "W    56.089215  \n",
      "L0   63.890531  \n",
      "L1   38.013156  \n",
      "L2   13.892444  \n",
      "Cd0  18.867962  \n",
      "Cd1  17.029386  \n",
      "Cd2  46.010868  \n",
      "Cd3  85.988371  \n",
      "Cd4  66.850580  \n",
      "Cd5  19.416488  \n",
      "Cd6  92.265920  \n",
      "Cd7  54.083269  \n",
      "Cl0  47.201695  \n",
      "Cl1  90.801982  \n",
      "Cl2  37.643060  \n",
      "Cl3  57.245087  \n",
      "Cl4  91.923882  \n",
      "Cl5  99.624294  \n",
      "Cl6   0.000000  \n"
     ]
    }
   ],
   "source": [
    "#calcolo la matrice delle distanze:\n",
    "all_locations = np.array([])\n",
    "all_locations = np.append(all_locations,W_location)\n",
    "all_locations = np.vstack([all_locations,L_location])\n",
    "all_locations = np.vstack([all_locations,CD_location])\n",
    "all_locations = np.vstack([all_locations,CL_location])\n",
    "\n",
    "all_buildings = stores + Customers\n",
    "\n",
    "df = pd.DataFrame(all_locations, columns=['xcord', 'ycord'], index=all_buildings)\n",
    "dist_matrix = pd.DataFrame(distance_matrix(df.values, df.values), index=df.index, columns=df.index)\n",
    "matrix_distance_converted_in_numpy =dist_matrix.to_numpy()\n",
    "print(dist_matrix)"
   ],
   "metadata": {
    "collapsed": false,
    "pycharm": {
     "name": "#%%\n"
    }
   }
  },
  {
   "cell_type": "code",
   "execution_count": 12,
   "outputs": [
    {
     "name": "stdout",
     "output_type": "stream",
     "text": [
      "            W         L0         L1         L2\n",
      "W    0.000000  52.345009  74.411021  48.010416\n",
      "L0  52.345009   0.000000  50.089919  67.623960\n",
      "L1  74.411021  50.089919   0.000000  50.635956\n",
      "L2  48.010416  67.623960  50.635956   0.000000\n",
      "             W        Cd0        Cd1        Cd2        Cd3        Cd4  \\\n",
      "W     0.000000  44.294469  44.045431  51.000000  38.418745  27.000000   \n",
      "Cd0  44.294469   0.000000  23.537205  28.301943  69.065187  61.846584   \n",
      "Cd1  44.045431  23.537205   0.000000  51.078371  78.434686  50.606324   \n",
      "Cd2  51.000000  28.301943  51.078371   0.000000  57.939624  75.894664   \n",
      "Cd3  38.418745  69.065187  78.434686  57.939624   0.000000  59.169249   \n",
      "Cd4  27.000000  61.846584  50.606324  75.894664  59.169249   0.000000   \n",
      "Cd5  44.777226   1.000000  24.515301  27.459060  69.028979  62.625873   \n",
      "Cd6  37.215588  77.878110  81.221918  73.498299  21.189620  48.270074   \n",
      "Cd7  29.274562  35.902646  50.606324  25.612497  34.365681  56.142675   \n",
      "\n",
      "           Cd5        Cd6        Cd7  \n",
      "W    44.777226  37.215588  29.274562  \n",
      "Cd0   1.000000  77.878110  35.902646  \n",
      "Cd1  24.515301  81.221918  50.606324  \n",
      "Cd2  27.459060  73.498299  25.612497  \n",
      "Cd3  69.028979  21.189620  34.365681  \n",
      "Cd4  62.625873  48.270074  56.142675  \n",
      "Cd5   0.000000  78.102497  35.693137  \n",
      "Cd6  78.102497   0.000000  48.020829  \n",
      "Cd7  35.693137  48.020829   0.000000  \n",
      "            L0          L1         L2        Cd0        Cd1        Cd2  \\\n",
      "L0    0.000000   50.089919  67.623960  45.276926  66.030296  19.313208   \n",
      "L1   50.089919    0.000000  50.635956  32.756679  52.392748  32.249031   \n",
      "L2   67.623960   50.635956   0.000000  23.769729   4.123106  51.884487   \n",
      "Cd0  45.276926   32.756679  23.769729   0.000000  23.537205  28.301943   \n",
      "Cd1  66.030296   52.392748   4.123106  23.537205   0.000000  51.078371   \n",
      "Cd2  19.313208   32.249031  51.884487  28.301943  51.078371   0.000000   \n",
      "Cd3  45.607017   89.560036  81.908486  69.065187  78.434686  57.939624   \n",
      "Cd4  79.227520   94.403390  54.589376  61.846584  50.606324  75.894664   \n",
      "Cd5  44.598206   31.906112  24.698178   1.000000  24.515301  27.459060   \n",
      "Cd6  64.443774  103.315052  85.146932  77.878110  81.221918  73.498299   \n",
      "Cd7  23.086793   55.713553  53.254108  35.902646  50.606324  25.612497   \n",
      "\n",
      "           Cd3        Cd4        Cd5         Cd6        Cd7  \n",
      "L0   45.607017  79.227520  44.598206   64.443774  23.086793  \n",
      "L1   89.560036  94.403390  31.906112  103.315052  55.713553  \n",
      "L2   81.908486  54.589376  24.698178   85.146932  53.254108  \n",
      "Cd0  69.065187  61.846584   1.000000   77.878110  35.902646  \n",
      "Cd1  78.434686  50.606324  24.515301   81.221918  50.606324  \n",
      "Cd2  57.939624  75.894664  27.459060   73.498299  25.612497  \n",
      "Cd3   0.000000  59.169249  69.028979   21.189620  34.365681  \n",
      "Cd4  59.169249   0.000000  62.625873   48.270074  56.142675  \n",
      "Cd5  69.028979  62.625873   0.000000   78.102497  35.693137  \n",
      "Cd6  21.189620  48.270074  78.102497    0.000000  48.020829  \n",
      "Cd7  34.365681  56.142675  35.693137   48.020829   0.000000  \n"
     ]
    }
   ],
   "source": [
    "#filter data\n",
    "\n",
    "supply_distances_matrix = dist_matrix.filter(items=stores,axis=1)\n",
    "supply_distances_matrix  = supply_distances_matrix.filter(items=stores,axis=0)\n",
    "print(supply_distances_matrix)\n",
    "\n",
    "PF_distances_matrix = dist_matrix.filter(items=['W']+Customers_door,axis=1)\n",
    "PF_distances_matrix = PF_distances_matrix.filter(items=['W']+Customers_door,axis=0)\n",
    "print(PF_distances_matrix)\n",
    "\n",
    "LF_distances_matrix = dist_matrix.filter(items=lockers+Customers_door,axis=1)\n",
    "LF_distances_matrix = LF_distances_matrix.filter(items=lockers+Customers_door,axis=0)\n",
    "print(LF_distances_matrix)"
   ],
   "metadata": {
    "collapsed": false,
    "pycharm": {
     "name": "#%%\n"
    }
   }
  },
  {
   "cell_type": "code",
   "execution_count": 13,
   "outputs": [
    {
     "name": "stdout",
     "output_type": "stream",
     "text": [
      "            W         L0         L1         L2\n",
      "W    0.000000  39.258757  55.808266  36.007812\n",
      "L0  39.258757   0.000000  37.567439  50.717970\n",
      "L1  55.808266  37.567439   0.000000  37.976967\n",
      "L2  36.007812  50.717970  37.976967   0.000000\n",
      "             W        Cd0        Cd1        Cd2        Cd3        Cd4  \\\n",
      "W     0.000000  44.294469  44.045431  51.000000  38.418745  27.000000   \n",
      "Cd0  44.294469   0.000000  23.537205  28.301943  69.065187  61.846584   \n",
      "Cd1  44.045431  23.537205   0.000000  51.078371  78.434686  50.606324   \n",
      "Cd2  51.000000  28.301943  51.078371   0.000000  57.939624  75.894664   \n",
      "Cd3  38.418745  69.065187  78.434686  57.939624   0.000000  59.169249   \n",
      "Cd4  27.000000  61.846584  50.606324  75.894664  59.169249   0.000000   \n",
      "Cd5  44.777226   1.000000  24.515301  27.459060  69.028979  62.625873   \n",
      "Cd6  37.215588  77.878110  81.221918  73.498299  21.189620  48.270074   \n",
      "Cd7  29.274562  35.902646  50.606324  25.612497  34.365681  56.142675   \n",
      "\n",
      "           Cd5        Cd6        Cd7  \n",
      "W    44.777226  37.215588  29.274562  \n",
      "Cd0   1.000000  77.878110  35.902646  \n",
      "Cd1  24.515301  81.221918  50.606324  \n",
      "Cd2  27.459060  73.498299  25.612497  \n",
      "Cd3  69.028979  21.189620  34.365681  \n",
      "Cd4  62.625873  48.270074  56.142675  \n",
      "Cd5   0.000000  78.102497  35.693137  \n",
      "Cd6  78.102497   0.000000  48.020829  \n",
      "Cd7  35.693137  48.020829   0.000000  \n",
      "            L0         L1         L2        Cd0        Cd1        Cd2  \\\n",
      "L0    0.000000  42.576431  57.480366  38.485387  56.125752  16.416227   \n",
      "L1   42.576431   0.000000  43.040562  27.843177  44.533835  27.411676   \n",
      "L2   57.480366  43.040562   0.000000  20.204269   3.504640  44.101814   \n",
      "Cd0  38.485387  27.843177  20.204269   0.000000  20.006624  24.056652   \n",
      "Cd1  56.125752  44.533835   3.504640  20.006624   0.000000  43.416615   \n",
      "Cd2  16.416227  27.411676  44.101814  24.056652  43.416615   0.000000   \n",
      "Cd3  38.765964  76.126030  69.622213  58.705409  66.669483  49.248680   \n",
      "Cd4  67.343392  80.242881  46.400970  52.569597  43.015375  64.510464   \n",
      "Cd5  37.908475  27.120195  20.993451   0.850000  20.838006  23.340201   \n",
      "Cd6  54.777208  87.817794  72.374892  66.196393  69.038630  62.473554   \n",
      "Cd7  19.623774  47.356520  45.265992  30.517249  43.015375  21.770622   \n",
      "\n",
      "           Cd3        Cd4        Cd5        Cd6        Cd7  \n",
      "L0   38.765964  67.343392  37.908475  54.777208  19.623774  \n",
      "L1   76.126030  80.242881  27.120195  87.817794  47.356520  \n",
      "L2   69.622213  46.400970  20.993451  72.374892  45.265992  \n",
      "Cd0  58.705409  52.569597   0.850000  66.196393  30.517249  \n",
      "Cd1  66.669483  43.015375  20.838006  69.038630  43.015375  \n",
      "Cd2  49.248680  64.510464  23.340201  62.473554  21.770622  \n",
      "Cd3   0.000000  50.293861  58.674633  18.011177  29.210828  \n",
      "Cd4  50.293861   0.000000  53.231992  41.029563  47.721274  \n",
      "Cd5  58.674633  53.231992   0.000000  66.387122  30.339166  \n",
      "Cd6  18.011177  41.029563  66.387122   0.000000  40.817704  \n",
      "Cd7  29.210828  47.721274  30.339166  40.817704   0.000000  \n"
     ]
    }
   ],
   "source": [
    "# Delivery Cost\n",
    "pi = 1\n",
    "pi_l = 0.85\n",
    "pi_L = 0.75\n",
    "ro = 0.5\n",
    "PF_delivery_cost = pi*PF_distances_matrix\n",
    "LF_delivery_cost = pi_l*LF_distances_matrix\n",
    "supply_cost = pi_L*supply_distances_matrix\n",
    "print(supply_cost)\n",
    "print(PF_delivery_cost)\n",
    "print(LF_delivery_cost)"
   ],
   "metadata": {
    "collapsed": false,
    "pycharm": {
     "name": "#%%\n"
    }
   }
  },
  {
   "cell_type": "code",
   "execution_count": 14,
   "outputs": [
    {
     "name": "stdout",
     "output_type": "stream",
     "text": [
      "            W         L0         L1         L2\n",
      "W    0.000000  52.345009  74.411021  48.010416\n",
      "L0  52.345009   0.000000  50.089919  67.623960\n",
      "L1  74.411021  50.089919   0.000000  50.635956\n",
      "L2  48.010416  67.623960  50.635956   0.000000\n",
      "             W        Cd0        Cd1        Cd2        Cd3        Cd4  \\\n",
      "W     0.000000  44.294469  44.045431  51.000000  38.418745  27.000000   \n",
      "Cd0  44.294469   0.000000  23.537205  28.301943  69.065187  61.846584   \n",
      "Cd1  44.045431  23.537205   0.000000  51.078371  78.434686  50.606324   \n",
      "Cd2  51.000000  28.301943  51.078371   0.000000  57.939624  75.894664   \n",
      "Cd3  38.418745  69.065187  78.434686  57.939624   0.000000  59.169249   \n",
      "Cd4  27.000000  61.846584  50.606324  75.894664  59.169249   0.000000   \n",
      "Cd5  44.777226   1.000000  24.515301  27.459060  69.028979  62.625873   \n",
      "Cd6  37.215588  77.878110  81.221918  73.498299  21.189620  48.270074   \n",
      "Cd7  29.274562  35.902646  50.606324  25.612497  34.365681  56.142675   \n",
      "\n",
      "           Cd5        Cd6        Cd7  \n",
      "W    44.777226  37.215588  29.274562  \n",
      "Cd0   1.000000  77.878110  35.902646  \n",
      "Cd1  24.515301  81.221918  50.606324  \n",
      "Cd2  27.459060  73.498299  25.612497  \n",
      "Cd3  69.028979  21.189620  34.365681  \n",
      "Cd4  62.625873  48.270074  56.142675  \n",
      "Cd5   0.000000  78.102497  35.693137  \n",
      "Cd6  78.102497   0.000000  48.020829  \n",
      "Cd7  35.693137  48.020829   0.000000  \n",
      "            L0          L1         L2        Cd0        Cd1        Cd2  \\\n",
      "L0    0.000000   50.089919  67.623960  45.276926  66.030296  19.313208   \n",
      "L1   50.089919    0.000000  50.635956  32.756679  52.392748  32.249031   \n",
      "L2   67.623960   50.635956   0.000000  23.769729   4.123106  51.884487   \n",
      "Cd0  45.276926   32.756679  23.769729   0.000000  23.537205  28.301943   \n",
      "Cd1  66.030296   52.392748   4.123106  23.537205   0.000000  51.078371   \n",
      "Cd2  19.313208   32.249031  51.884487  28.301943  51.078371   0.000000   \n",
      "Cd3  45.607017   89.560036  81.908486  69.065187  78.434686  57.939624   \n",
      "Cd4  79.227520   94.403390  54.589376  61.846584  50.606324  75.894664   \n",
      "Cd5  44.598206   31.906112  24.698178   1.000000  24.515301  27.459060   \n",
      "Cd6  64.443774  103.315052  85.146932  77.878110  81.221918  73.498299   \n",
      "Cd7  23.086793   55.713553  53.254108  35.902646  50.606324  25.612497   \n",
      "\n",
      "           Cd3        Cd4        Cd5         Cd6        Cd7  \n",
      "L0   45.607017  79.227520  44.598206   64.443774  23.086793  \n",
      "L1   89.560036  94.403390  31.906112  103.315052  55.713553  \n",
      "L2   81.908486  54.589376  24.698178   85.146932  53.254108  \n",
      "Cd0  69.065187  61.846584   1.000000   77.878110  35.902646  \n",
      "Cd1  78.434686  50.606324  24.515301   81.221918  50.606324  \n",
      "Cd2  57.939624  75.894664  27.459060   73.498299  25.612497  \n",
      "Cd3   0.000000  59.169249  69.028979   21.189620  34.365681  \n",
      "Cd4  59.169249   0.000000  62.625873   48.270074  56.142675  \n",
      "Cd5  69.028979  62.625873   0.000000   78.102497  35.693137  \n",
      "Cd6  21.189620  48.270074  78.102497    0.000000  48.020829  \n",
      "Cd7  34.365681  56.142675  35.693137   48.020829   0.000000  \n"
     ]
    }
   ],
   "source": [
    "#filter data\n",
    "\n",
    "supply_distances_matrix = dist_matrix.filter(items=stores,axis=1)\n",
    "supply_distances_matrix  = supply_distances_matrix.filter(items=stores,axis=0)\n",
    "print(supply_distances_matrix)\n",
    "\n",
    "PF_distances_matrix = dist_matrix.filter(items=['W']+Customers_door,axis=1)\n",
    "PF_distances_matrix = PF_distances_matrix.filter(items=['W']+Customers_door,axis=0)\n",
    "print(PF_distances_matrix)\n",
    "\n",
    "LF_distances_matrix = dist_matrix.filter(items=lockers+Customers_door,axis=1)\n",
    "LF_distances_matrix = LF_distances_matrix.filter(items=lockers+Customers_door,axis=0)\n",
    "print(LF_distances_matrix)"
   ],
   "metadata": {
    "collapsed": false,
    "pycharm": {
     "name": "#%%\n"
    }
   }
  },
  {
   "cell_type": "code",
   "execution_count": 15,
   "outputs": [
    {
     "name": "stdout",
     "output_type": "stream",
     "text": [
      "            W         L0         L1         L2\n",
      "W    0.000000  39.258757  55.808266  36.007812\n",
      "L0  39.258757   0.000000  37.567439  50.717970\n",
      "L1  55.808266  37.567439   0.000000  37.976967\n",
      "L2  36.007812  50.717970  37.976967   0.000000\n",
      "             W        Cd0        Cd1        Cd2        Cd3        Cd4  \\\n",
      "W     0.000000  44.294469  44.045431  51.000000  38.418745  27.000000   \n",
      "Cd0  44.294469   0.000000  23.537205  28.301943  69.065187  61.846584   \n",
      "Cd1  44.045431  23.537205   0.000000  51.078371  78.434686  50.606324   \n",
      "Cd2  51.000000  28.301943  51.078371   0.000000  57.939624  75.894664   \n",
      "Cd3  38.418745  69.065187  78.434686  57.939624   0.000000  59.169249   \n",
      "Cd4  27.000000  61.846584  50.606324  75.894664  59.169249   0.000000   \n",
      "Cd5  44.777226   1.000000  24.515301  27.459060  69.028979  62.625873   \n",
      "Cd6  37.215588  77.878110  81.221918  73.498299  21.189620  48.270074   \n",
      "Cd7  29.274562  35.902646  50.606324  25.612497  34.365681  56.142675   \n",
      "\n",
      "           Cd5        Cd6        Cd7  \n",
      "W    44.777226  37.215588  29.274562  \n",
      "Cd0   1.000000  77.878110  35.902646  \n",
      "Cd1  24.515301  81.221918  50.606324  \n",
      "Cd2  27.459060  73.498299  25.612497  \n",
      "Cd3  69.028979  21.189620  34.365681  \n",
      "Cd4  62.625873  48.270074  56.142675  \n",
      "Cd5   0.000000  78.102497  35.693137  \n",
      "Cd6  78.102497   0.000000  48.020829  \n",
      "Cd7  35.693137  48.020829   0.000000  \n",
      "            L0         L1         L2        Cd0        Cd1        Cd2  \\\n",
      "L0    0.000000  42.576431  57.480366  38.485387  56.125752  16.416227   \n",
      "L1   42.576431   0.000000  43.040562  27.843177  44.533835  27.411676   \n",
      "L2   57.480366  43.040562   0.000000  20.204269   3.504640  44.101814   \n",
      "Cd0  38.485387  27.843177  20.204269   0.000000  20.006624  24.056652   \n",
      "Cd1  56.125752  44.533835   3.504640  20.006624   0.000000  43.416615   \n",
      "Cd2  16.416227  27.411676  44.101814  24.056652  43.416615   0.000000   \n",
      "Cd3  38.765964  76.126030  69.622213  58.705409  66.669483  49.248680   \n",
      "Cd4  67.343392  80.242881  46.400970  52.569597  43.015375  64.510464   \n",
      "Cd5  37.908475  27.120195  20.993451   0.850000  20.838006  23.340201   \n",
      "Cd6  54.777208  87.817794  72.374892  66.196393  69.038630  62.473554   \n",
      "Cd7  19.623774  47.356520  45.265992  30.517249  43.015375  21.770622   \n",
      "\n",
      "           Cd3        Cd4        Cd5        Cd6        Cd7  \n",
      "L0   38.765964  67.343392  37.908475  54.777208  19.623774  \n",
      "L1   76.126030  80.242881  27.120195  87.817794  47.356520  \n",
      "L2   69.622213  46.400970  20.993451  72.374892  45.265992  \n",
      "Cd0  58.705409  52.569597   0.850000  66.196393  30.517249  \n",
      "Cd1  66.669483  43.015375  20.838006  69.038630  43.015375  \n",
      "Cd2  49.248680  64.510464  23.340201  62.473554  21.770622  \n",
      "Cd3   0.000000  50.293861  58.674633  18.011177  29.210828  \n",
      "Cd4  50.293861   0.000000  53.231992  41.029563  47.721274  \n",
      "Cd5  58.674633  53.231992   0.000000  66.387122  30.339166  \n",
      "Cd6  18.011177  41.029563  66.387122   0.000000  40.817704  \n",
      "Cd7  29.210828  47.721274  30.339166  40.817704   0.000000  \n"
     ]
    }
   ],
   "source": [
    "# Delivery Cost\n",
    "pi = 1\n",
    "pi_l = 0.85\n",
    "pi_L = 0.75\n",
    "ro = 0.5\n",
    "PF_delivery_cost = pi*PF_distances_matrix\n",
    "LF_delivery_cost = pi_l*LF_distances_matrix\n",
    "supply_cost = pi_L*supply_distances_matrix\n",
    "print(supply_cost)\n",
    "print(PF_delivery_cost)\n",
    "print(LF_delivery_cost)"
   ],
   "metadata": {
    "collapsed": false,
    "pycharm": {
     "name": "#%%\n"
    }
   }
  },
  {
   "cell_type": "markdown",
   "source": [
    "## extra code to delete"
   ],
   "metadata": {
    "collapsed": false,
    "pycharm": {
     "name": "#%% md\n"
    }
   }
  },
  {
   "cell_type": "code",
   "execution_count": null,
   "outputs": [],
   "source": [
    "x = np.random.randint(0, 50, 7)\n",
    "y = np.random.randint(0, 50, 7)\n",
    "C = [x,y]\n",
    "plt.scatter(C[0],C[1])\n",
    "C = np.arange(7)\n",
    "print(C)\n",
    "plt.show()"
   ],
   "metadata": {
    "collapsed": false,
    "pycharm": {
     "name": "#%%\n"
    }
   }
  },
  {
   "cell_type": "code",
   "execution_count": null,
   "outputs": [],
   "source": [
    "C = np.random.rand(7,2)\n",
    "plt.scatter(C[:,0],C[:,1],color='b')\n",
    "W = np.random.rand(1,2)\n",
    "plt.scatter(W[:,0],W[:,1],color='g',marker='D')\n",
    "L = np.random.rand(1,2)\n",
    "plt.scatter(L[:,0],L[:,1],color ='y',marker='s')\n",
    "print(C)"
   ],
   "metadata": {
    "collapsed": false,
    "pycharm": {
     "name": "#%%\n"
    }
   }
  },
  {
   "cell_type": "code",
   "execution_count": null,
   "outputs": [],
   "source": [
    "C = np.array([[0.1 ,0.1], [0.2 ,0.3],[0.15 ,0.7], [0.3 ,0.7],[0.8 ,0.6],\n",
    "              [0.9 ,0.5],[0.7 ,0.3]])\n",
    "plt.scatter(C[:,0],C[:,1],color='b')\n",
    "W = np.array([[0.6 ,0.5]])\n",
    "plt.scatter(W[:,0],W[:,1],color='g',marker='D')\n",
    "L = np.array([[0.3 ,0.5]])\n",
    "plt.scatter(L[:,0],L[:,1],color ='y',marker='s')"
   ],
   "metadata": {
    "collapsed": false,
    "pycharm": {
     "name": "#%%\n"
    }
   }
  },
  {
   "cell_type": "code",
   "execution_count": null,
   "outputs": [],
   "source": [
    "#calcolo la matrice delle distanze:\n",
    "data = np.array([])\n",
    "data = np.append(data,W)\n",
    "data = np.vstack([data,L])\n",
    "data = np.vstack([data,C])\n",
    "buildings =['Warehouse','Locker','c1','c2','c3','c4','c5','c6','c7']\n",
    "print(len(data))\n",
    "df = pd.DataFrame(data, columns=['xcord', 'ycord'], index=buildings)\n",
    "dist_matrix = pd.DataFrame(distance_matrix(df.values, df.values), index=df.index, columns=df.index)\n",
    "matrix_distance_converted_in_numpy =dist_matrix.to_numpy()"
   ],
   "metadata": {
    "collapsed": false,
    "pycharm": {
     "name": "#%%\n"
    }
   }
  },
  {
   "cell_type": "code",
   "execution_count": null,
   "outputs": [],
   "source": [
    "# Delivery Cost\n",
    "pi = 1\n",
    "pi_l = 0.85\n",
    "pi_L = 0.75\n",
    "ro = 0.5\n",
    "PF_delivery_cost = pi*matrix_distance_converted_in_numpy\n",
    "LF_delivery_cost = pi_l*matrix_distance_converted_in_numpy\n",
    "PF_delivery_cost = pi*matrix_distance_converted_in_numpy\n",
    "Suplly_cost = pi_L*matrix_distance_converted_in_numpy\n"
   ],
   "metadata": {
    "collapsed": false,
    "pycharm": {
     "name": "#%%\n"
    }
   }
  },
  {
   "cell_type": "code",
   "execution_count": null,
   "outputs": [],
   "source": [],
   "metadata": {
    "collapsed": false,
    "pycharm": {
     "name": "#%%\n"
    }
   }
  },
  {
   "cell_type": "code",
   "execution_count": 30,
   "outputs": [
    {
     "name": "stdout",
     "output_type": "stream",
     "text": [
      "andrea\n"
     ]
    }
   ],
   "source": [
    "print(\"andrea\")\n"
   ],
   "metadata": {
    "collapsed": false,
    "pycharm": {
     "name": "#%%\n"
    }
   }
  },
  {
   "cell_type": "code",
   "execution_count": null,
   "outputs": [],
   "source": [],
   "metadata": {
    "collapsed": false,
    "pycharm": {
     "name": "#%%\n"
    }
   }
  },
  {
   "cell_type": "code",
   "execution_count": null,
   "outputs": [],
   "source": [],
   "metadata": {
    "collapsed": false,
    "pycharm": {
     "name": "#%%\n"
    }
   }
  },
  {
   "cell_type": "code",
   "execution_count": null,
   "outputs": [],
   "source": [
    "# Delivery Cost\n",
    "pi = 1\n",
    "pi_l = 0.85\n",
    "pi_L = 0.75\n",
    "ro = 0.5\n",
    "PF_delivery_cost = pi*matrix_distance_converted_in_numpy\n",
    "LF_delivery_cost = pi_l*matrix_distance_converted_in_numpy\n",
    "PF_delivery_cost = pi*matrix_distance_converted_in_numpy\n",
    "Suplly_cost = pi_L*matrix_distance_converted_in_numpy\n"
   ],
   "metadata": {
    "collapsed": false,
    "pycharm": {
     "name": "#%%\n"
    }
   }
  }
 ],
 "metadata": {
  "kernelspec": {
   "display_name": "Python 3",
   "language": "python",
   "name": "python3"
  },
  "language_info": {
   "codemirror_mode": {
    "name": "ipython",
    "version": 2
   },
   "file_extension": ".py",
   "mimetype": "text/x-python",
   "name": "python",
   "nbconvert_exporter": "python",
   "pygments_lexer": "ipython2",
   "version": "2.7.6"
  }
 },
 "nbformat": 4,
 "nbformat_minor": 0
}