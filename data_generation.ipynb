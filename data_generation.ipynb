{
 "cells": [
  {
   "cell_type": "code",
   "execution_count": null,
   "outputs": [],
   "source": [
    "import numpy as np\n",
    "import matplotlib.pyplot as plt\n",
    "import pandas as pd\n",
    "from scipy.spatial import distance_matrix\n",
    "import random\n",
    "import xpress  as xp"
   ],
   "metadata": {
    "collapsed": false,
    "pycharm": {
     "name": "#%%\n"
    }
   }
  },
  {
   "cell_type": "code",
<<<<<<< HEAD
   "execution_count": null,
=======
   "execution_count": 23,
>>>>>>> 4282f0b4546b8199863d896cebf8500c2c505858
   "outputs": [],
   "source": [
    "# input\n",
    "N = 7\n",
    "\n",
    "custom_setup = True\n",
    "ratio_locker_customers = 0.3\n",
    "ratio_prime_door_to_door_customer = 0.4"
   ],
   "metadata": {
    "collapsed": false,
    "pycharm": {
     "name": "#%%\n"
    }
   }
  },
  {
   "cell_type": "code",
<<<<<<< HEAD
   "execution_count": null,
=======
   "execution_count": 24,
>>>>>>> 4282f0b4546b8199863d896cebf8500c2c505858
   "outputs": [],
   "source": [
    "# Customers’ demand and preferences\n",
    "q = np.ones(N)\n",
    "C = np.arange(N)\n",
    "if custom_setup:\n",
    "    C_L = [0, 5]\n",
    "    C_D = [1, 2, 3, 4, 6]\n",
    "    S_k =[1, 2, 6]\n",
    "else:\n",
    "    C_L = []\n",
    "    C_D = []\n",
    "    S_k = []\n",
    "    for client in C:\n",
    "        if random.random()  <= ratio_locker_customers :\n",
    "            C_L.append(client)\n",
    "        else:\n",
    "            C_D.append(client)\n",
    "            if random.random() >= ratio_prime_door_to_door_customer:\n",
    "                S_k.append(client)\n",
    "\n",
    "a_k = [\"L1\", \"W\"]"
   ],
   "metadata": {
    "collapsed": false,
    "pycharm": {
     "name": "#%%\n"
    }
   }
  },
  {
   "cell_type": "code",
   "execution_count": null,
   "outputs": [],
   "source": [
    "x = np.random.randint(0, 50, 7)\n",
    "y = np.random.randint(0, 50, 7)\n",
    "C = [x,y]\n",
    "plt.scatter(C[0],C[1])\n",
    "C = np.arange(7)\n",
    "print(C)\n",
    "plt.show()"
   ],
   "metadata": {
    "collapsed": false,
    "pycharm": {
     "name": "#%%\n"
    }
   }
  },
  {
   "cell_type": "code",
   "execution_count": null,
   "outputs": [],
   "source": [
    "C = np.random.rand(7,2)\n",
    "plt.scatter(C[:,0],C[:,1],color='b')\n",
    "W = np.random.rand(1,2)\n",
    "plt.scatter(W[:,0],W[:,1],color='g',marker='D')\n",
    "L = np.random.rand(1,2)\n",
    "plt.scatter(L[:,0],L[:,1],color ='y',marker='s')\n",
    "print(C)"
   ],
   "metadata": {
    "collapsed": false,
    "pycharm": {
     "name": "#%%\n"
    }
   }
  },
  {
   "cell_type": "code",
   "execution_count": null,
   "outputs": [],
   "source": [
    "C = np.array([[0.1 ,0.1], [0.2 ,0.3],[0.15 ,0.7], [0.3 ,0.7],[0.8 ,0.6],\n",
    "              [0.9 ,0.5],[0.7 ,0.3]])\n",
    "plt.scatter(C[:,0],C[:,1],color='b')\n",
    "W = np.array([[0.6 ,0.5]])\n",
    "plt.scatter(W[:,0],W[:,1],color='g',marker='D')\n",
    "L = np.array([[0.3 ,0.5]])\n",
    "plt.scatter(L[:,0],L[:,1],color ='y',marker='s')"
   ],
   "metadata": {
    "collapsed": false,
    "pycharm": {
     "name": "#%%\n"
    }
   }
  },
  {
   "cell_type": "code",
   "execution_count": 7,
   "outputs": [
    {
     "name": "stdout",
     "output_type": "stream",
     "text": [
      "9\n"
     ]
    },
    {
     "data": {
      "text/plain": "           Warehouse    Locker        c1        c2        c3        c4  \\\nWarehouse   0.000000  0.794753  0.087044  0.741164  0.313460  0.747495   \nLocker      0.794753  0.000000  0.881568  0.748465  0.600147  0.524019   \nc1          0.087044  0.881568  0.000000  0.795653  0.386007  0.820161   \nc2          0.741164  0.748465  0.795653  0.000000  0.448520  0.240977   \nc3          0.313460  0.600147  0.386007  0.448520  0.000000  0.434556   \nc4          0.747495  0.524019  0.820161  0.240977  0.434556  0.000000   \nc5          0.661317  0.732395  0.714601  0.081551  0.374318  0.258737   \nc6          0.582027  0.256764  0.668377  0.538033  0.347685  0.353954   \nc7          0.247843  0.941496  0.225296  0.658571  0.354289  0.744762   \n\n                 c5        c6        c7  \nWarehouse  0.661317  0.582027  0.247843  \nLocker     0.732395  0.256764  0.941496  \nc1         0.714601  0.668377  0.225296  \nc2         0.081551  0.538033  0.658571  \nc3         0.374318  0.347685  0.354289  \nc4         0.258737  0.353954  0.744762  \nc5         0.000000  0.505234  0.577967  \nc6         0.505234  0.000000  0.696975  \nc7         0.577967  0.696975  0.000000  ",
      "text/html": "<div>\n<style scoped>\n    .dataframe tbody tr th:only-of-type {\n        vertical-align: middle;\n    }\n\n    .dataframe tbody tr th {\n        vertical-align: top;\n    }\n\n    .dataframe thead th {\n        text-align: right;\n    }\n</style>\n<table border=\"1\" class=\"dataframe\">\n  <thead>\n    <tr style=\"text-align: right;\">\n      <th></th>\n      <th>Warehouse</th>\n      <th>Locker</th>\n      <th>c1</th>\n      <th>c2</th>\n      <th>c3</th>\n      <th>c4</th>\n      <th>c5</th>\n      <th>c6</th>\n      <th>c7</th>\n    </tr>\n  </thead>\n  <tbody>\n    <tr>\n      <th>Warehouse</th>\n      <td>0.000000</td>\n      <td>0.794753</td>\n      <td>0.087044</td>\n      <td>0.741164</td>\n      <td>0.313460</td>\n      <td>0.747495</td>\n      <td>0.661317</td>\n      <td>0.582027</td>\n      <td>0.247843</td>\n    </tr>\n    <tr>\n      <th>Locker</th>\n      <td>0.794753</td>\n      <td>0.000000</td>\n      <td>0.881568</td>\n      <td>0.748465</td>\n      <td>0.600147</td>\n      <td>0.524019</td>\n      <td>0.732395</td>\n      <td>0.256764</td>\n      <td>0.941496</td>\n    </tr>\n    <tr>\n      <th>c1</th>\n      <td>0.087044</td>\n      <td>0.881568</td>\n      <td>0.000000</td>\n      <td>0.795653</td>\n      <td>0.386007</td>\n      <td>0.820161</td>\n      <td>0.714601</td>\n      <td>0.668377</td>\n      <td>0.225296</td>\n    </tr>\n    <tr>\n      <th>c2</th>\n      <td>0.741164</td>\n      <td>0.748465</td>\n      <td>0.795653</td>\n      <td>0.000000</td>\n      <td>0.448520</td>\n      <td>0.240977</td>\n      <td>0.081551</td>\n      <td>0.538033</td>\n      <td>0.658571</td>\n    </tr>\n    <tr>\n      <th>c3</th>\n      <td>0.313460</td>\n      <td>0.600147</td>\n      <td>0.386007</td>\n      <td>0.448520</td>\n      <td>0.000000</td>\n      <td>0.434556</td>\n      <td>0.374318</td>\n      <td>0.347685</td>\n      <td>0.354289</td>\n    </tr>\n    <tr>\n      <th>c4</th>\n      <td>0.747495</td>\n      <td>0.524019</td>\n      <td>0.820161</td>\n      <td>0.240977</td>\n      <td>0.434556</td>\n      <td>0.000000</td>\n      <td>0.258737</td>\n      <td>0.353954</td>\n      <td>0.744762</td>\n    </tr>\n    <tr>\n      <th>c5</th>\n      <td>0.661317</td>\n      <td>0.732395</td>\n      <td>0.714601</td>\n      <td>0.081551</td>\n      <td>0.374318</td>\n      <td>0.258737</td>\n      <td>0.000000</td>\n      <td>0.505234</td>\n      <td>0.577967</td>\n    </tr>\n    <tr>\n      <th>c6</th>\n      <td>0.582027</td>\n      <td>0.256764</td>\n      <td>0.668377</td>\n      <td>0.538033</td>\n      <td>0.347685</td>\n      <td>0.353954</td>\n      <td>0.505234</td>\n      <td>0.000000</td>\n      <td>0.696975</td>\n    </tr>\n    <tr>\n      <th>c7</th>\n      <td>0.247843</td>\n      <td>0.941496</td>\n      <td>0.225296</td>\n      <td>0.658571</td>\n      <td>0.354289</td>\n      <td>0.744762</td>\n      <td>0.577967</td>\n      <td>0.696975</td>\n      <td>0.000000</td>\n    </tr>\n  </tbody>\n</table>\n</div>"
     },
     "execution_count": 7,
     "metadata": {},
     "output_type": "execute_result"
    }
   ],
   "source": [
    "#calcolo la matrice delle distanze:\n",
    "data = np.array([])\n",
    "data = np.append(data,W)\n",
    "data = np.vstack([data,L])\n",
    "data = np.vstack([data,C])\n",
    "buildings =['Warehouse','Locker','c1','c2','c3','c4','c5','c6','c7']\n",
    "print(len(data))\n",
    "df = pd.DataFrame(data, columns=['xcord', 'ycord'], index=buildings)\n",
    "dist_matrix = pd.DataFrame(distance_matrix(df.values, df.values), index=df.index, columns=df.index)\n",
    "matrix_distance_converted_in_numpy =dist_matrix.to_numpy()"
   ],
   "metadata": {
    "collapsed": false,
    "pycharm": {
     "name": "#%%\n"
    }
   }
  },
  {
   "cell_type": "code",
   "execution_count": null,
   "outputs": [],
   "source": [],
   "metadata": {
    "collapsed": false,
    "pycharm": {
     "name": "#%%\n"
    }
   }
  }
 ],
 "metadata": {
  "kernelspec": {
   "display_name": "Python 3",
   "language": "python",
   "name": "python3"
  },
  "language_info": {
   "codemirror_mode": {
    "name": "ipython",
    "version": 2
   },
   "file_extension": ".py",
   "mimetype": "text/x-python",
   "name": "python",
   "nbconvert_exporter": "python",
   "pygments_lexer": "ipython2",
   "version": "2.7.6"
  }
 },
 "nbformat": 4,
 "nbformat_minor": 0
}