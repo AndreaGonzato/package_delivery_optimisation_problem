{
 "cells": [
  {
   "cell_type": "code",
   "execution_count": 1,
   "outputs": [
    {
     "name": "stdout",
     "output_type": "stream",
     "text": [
      "Using the Community license in this session. If you have a full Xpress license, first set the XPAUTH_PATH environment variable to the full path to your license file, xpauth.xpr, and then restart Python. If you want to use the FICO Community license and no longer want to see this message, set the XPAUTH_PATH environment variable to: /home/andrea/anaconda3/lib/python3.9/site-packages/xpress/license/community-xpauth.xpr\n",
      "NB: setting XPAUTH_PATH will also affect any other Xpress products installed on your system.\n"
     ]
    }
   ],
   "source": [
    "import numpy as np\n",
    "import matplotlib.pyplot as plt\n",
    "import pandas as pd\n",
    "from scipy.spatial import distance_matrix\n",
    "import random\n",
    "import math\n",
    "import xpress  as xp"
   ],
   "metadata": {
    "collapsed": false,
    "pycharm": {
     "name": "#%%\n"
    }
   }
  },
  {
   "cell_type": "code",
   "execution_count": 21,
   "outputs": [],
   "source": [
    "# input\n",
    "C = 8\n",
    "L = 2\n",
    "\n",
    "custom_setup = True\n",
    "ratio_locker_customers = 0.3\n",
    "ratio_prime_door_to_door_customer = 0.4"
   ],
   "metadata": {
    "collapsed": false,
    "pycharm": {
     "name": "#%%\n"
    }
   }
  },
  {
   "cell_type": "code",
   "execution_count": 22,
   "outputs": [],
   "source": [
    "# define the locations of customers and lockers\n",
    "C_location = np.array([[0.1 ,0.1], [0.2 ,0.3],[0.15 ,0.7], [0.3 ,0.7],[0.8 ,0.6],\n",
    "                       [0.9 ,0.5],[0.7 ,0.3], [0.4, 0.15]])\n",
    "W_location = np.array([[0.6 ,0.5]])\n",
    "L_location = np.array([[0.3 ,0.5],[0.5,0.2]])"
   ],
   "metadata": {
    "collapsed": false,
    "pycharm": {
     "name": "#%%\n"
    }
   }
  },
  {
   "cell_type": "code",
   "execution_count": 23,
   "outputs": [],
   "source": [
    "def find_nearest_lockers_from_customer(customer_location, lockers_location):\n",
    "    pass\n"
   ],
   "metadata": {
    "collapsed": false,
    "pycharm": {
     "name": "#%%\n"
    }
   }
  },
  {
   "cell_type": "code",
   "execution_count": 24,
   "outputs": [],
   "source": [
    "# Customers’ demand and preferences\n",
    "q = np.ones(C)\n",
    "\n",
    "# define all the stores: eg. stores = [W, L0, L1, .... , Lx]\n",
    "warehouse = [\"W\"]\n",
    "lockers = []\n",
    "for l in range(L):\n",
    "    lockers.append(\"L\"+str(l))\n",
    "stores = warehouse+lockers\n",
    "\n",
    "if custom_setup:\n",
    "    C_L = [0, 5, 7]\n",
    "    C_D = [1, 2, 3, 4, 6]\n",
    "    S_k =[1, 2, 6]\n",
    "    a_k = [\"L0\", \"W\", \"L1\"]\n",
    "else:\n",
    "    C_L = []\n",
    "    C_D = []\n",
    "    S_k = []\n",
    "    a_k = []\n",
    "    for client in C:\n",
    "        if random.random()  <= ratio_locker_customers :\n",
    "            # locker customer\n",
    "            C_L.append(client)\n",
    "            a_k.append(random.choice(stores)) # TODO assign not a random store but the one that in most case is the nearest to the customer\n",
    "        else:\n",
    "            # door to door customer\n",
    "            C_D.append(client)\n",
    "            if random.random() >= ratio_prime_door_to_door_customer:\n",
    "                S_k.append(client)\n"
   ],
   "metadata": {
    "collapsed": false,
    "pycharm": {
     "name": "#%%\n"
    }
   }
  },
  {
   "cell_type": "code",
   "execution_count": 25,
   "outputs": [
    {
     "name": "stdout",
     "output_type": "stream",
     "text": [
      "Q:  3\n",
      "W_l:  [4, 4]\n",
      "Q_l:  [3, 3]\n",
      "Q_L:  7\n",
      "sum_W_l:  8\n"
     ]
    }
   ],
   "source": [
    "# Capacities\n",
    "\n",
    "# PF vehicles capacities\n",
    "Q = math.ceil(0.5 * len(C_D))\n",
    "# locker storage (every locker has the same capacity by default)\n",
    "W_l = []\n",
    "for i in range(L):\n",
    "    W_l.append(math.ceil(0.8 * C / L))\n",
    "# LF vehicles capacities (every LF vehicle has the same capacity by default)\n",
    "Q_l = []\n",
    "for i in range(L):\n",
    "    Q_l.append(math.ceil(0.6 * W_l[i]))\n",
    "\n",
    "sum_W_l = 0\n",
    "for i in range(len(W_l)):\n",
    "    sum_W_l += W_l[i]\n",
    "\n",
    "\n",
    "# supply vehicles storage\n",
    "Q_L = math.ceil(0.8 * sum_W_l)\n",
    "\n",
    "print(\"Q: \",Q)\n",
    "print(\"W_l: \",W_l)\n",
    "print(\"Q_l: \",Q_l)\n",
    "print(\"Q_L: \",Q_L)\n",
    "print(\"sum_W_l: \", sum_W_l)\n"
   ],
   "metadata": {
    "collapsed": false,
    "pycharm": {
     "name": "#%%\n"
    }
   }
  },
  {
   "cell_type": "code",
   "execution_count": 26,
   "outputs": [
    {
     "name": "stdout",
     "output_type": "stream",
     "text": [
      "['Cl0', 'Cl1', 'Cl2']\n",
      "['Cd0', 'Cd1', 'Cd2', 'Cd3', 'Cd4']\n",
      "['Cd0', 'Cd1', 'Cd2', 'Cd3', 'Cd4', 'Cl0', 'Cl1', 'Cl2']\n"
     ]
    },
    {
     "data": {
      "text/plain": "<matplotlib.collections.PathCollection at 0x7f8ddf60bdc0>"
     },
     "execution_count": 26,
     "metadata": {},
     "output_type": "execute_result"
    },
    {
     "data": {
      "text/plain": "<Figure size 432x288 with 1 Axes>",
      "image/png": "[encoded data removed]"
     },
     "metadata": {
      "needs_background": "light"
     },
     "output_type": "display_data"
    }
   ],
   "source": [
    "CD_location = np.array([[0,0]])\n",
    "CL_location = np.array([[0,0]])\n",
    "\n",
    "for i in range(C):\n",
    "    if i in  C_D:\n",
    "        CD_location=np.vstack([CD_location, C_location[i]])\n",
    "    else:\n",
    "        CL_location = np.vstack([CL_location, C_location[i]])\n",
    "\n",
    "CD_location = np.delete(CD_location, 0, 0)\n",
    "CL_location = np.delete(CL_location, 0, 0)\n",
    "\n",
    "#define all customers\n",
    "Customers = []\n",
    "Customers_door = []\n",
    "Customers_locker = []\n",
    "for c in range(len(C_D)):\n",
    "    Customers_door.append(\"Cd\"+str(c))\n",
    "for c in range(len(C_L)):\n",
    "    Customers_locker.append(\"Cl\"+str(c))\n",
    "\n",
    "Customers = Customers_door+Customers_locker\n",
    "\n",
    "print(Customers_locker)\n",
    "print(Customers_door)\n",
    "print(Customers)\n",
    "\n",
    "plt.scatter(CD_location[:,0],CD_location[:,1],color='b')\n",
    "plt.scatter(CL_location[:,0],CL_location[:,1],color='m')\n",
    "plt.scatter(W_location[:,0],W_location[:,1],color='g',marker='D')\n",
    "plt.scatter(L_location[:,0],L_location[:,1],color ='y',marker='s')\n",
    "\n",
    "#piccola nota\n",
    "#come nel paper in verde è la warehouse, in giallo i locker, mentre in blu in customer door to door e in magenta i customer locker"
   ],
   "metadata": {
    "collapsed": false,
    "pycharm": {
     "name": "#%%\n"
    }
   }
  },
  {
   "cell_type": "code",
   "execution_count": 27,
   "outputs": [
    {
     "name": "stdout",
     "output_type": "stream",
     "text": [
      "            W        L0        L1       Cd0       Cd1       Cd2       Cd3  \\\n",
      "W    0.000000  0.300000  0.316228  0.447214  0.492443  0.360555  0.223607   \n",
      "L0   0.300000  0.000000  0.360555  0.223607  0.250000  0.200000  0.509902   \n",
      "L1   0.316228  0.360555  0.000000  0.316228  0.610328  0.538516  0.500000   \n",
      "Cd0  0.447214  0.223607  0.316228  0.000000  0.403113  0.412311  0.670820   \n",
      "Cd1  0.492443  0.250000  0.610328  0.403113  0.000000  0.150000  0.657647   \n",
      "Cd2  0.360555  0.200000  0.538516  0.412311  0.150000  0.000000  0.509902   \n",
      "Cd3  0.223607  0.509902  0.500000  0.670820  0.657647  0.509902  0.000000   \n",
      "Cd4  0.223607  0.447214  0.223607  0.500000  0.680074  0.565685  0.316228   \n",
      "Cl0  0.640312  0.447214  0.412311  0.223607  0.602080  0.632456  0.860233   \n",
      "Cl1  0.300000  0.600000  0.500000  0.728011  0.776209  0.632456  0.141421   \n",
      "Cl2  0.403113  0.364005  0.111803  0.250000  0.604152  0.559017  0.602080   \n",
      "\n",
      "          Cd4       Cl0       Cl1       Cl2  \n",
      "W    0.223607  0.640312  0.300000  0.403113  \n",
      "L0   0.447214  0.447214  0.600000  0.364005  \n",
      "L1   0.223607  0.412311  0.500000  0.111803  \n",
      "Cd0  0.500000  0.223607  0.728011  0.250000  \n",
      "Cd1  0.680074  0.602080  0.776209  0.604152  \n",
      "Cd2  0.565685  0.632456  0.632456  0.559017  \n",
      "Cd3  0.316228  0.860233  0.141421  0.602080  \n",
      "Cd4  0.000000  0.632456  0.282843  0.335410  \n",
      "Cl0  0.632456  0.000000  0.894427  0.304138  \n",
      "Cl1  0.282843  0.894427  0.000000  0.610328  \n",
      "Cl2  0.335410  0.304138  0.610328  0.000000  \n"
     ]
    }
   ],
   "source": [
    "#calcolo la matrice delle distanze:\n",
    "all_locations = np.array([])\n",
    "all_locations = np.append(all_locations,W_location)\n",
    "all_locations = np.vstack([all_locations,L_location])\n",
    "all_locations = np.vstack([all_locations,CD_location])\n",
    "all_locations = np.vstack([all_locations,CL_location])\n",
    "\n",
    "all_buildings = stores + Customers\n",
    "\n",
    "df = pd.DataFrame(all_locations, columns=['xcord', 'ycord'], index=all_buildings)\n",
    "dist_matrix = pd.DataFrame(distance_matrix(df.values, df.values), index=df.index, columns=df.index)\n",
    "matrix_distance_converted_in_numpy =dist_matrix.to_numpy()\n",
    "print(dist_matrix)"
   ],
   "metadata": {
    "collapsed": false,
    "pycharm": {
     "name": "#%%\n"
    }
   }
  },
  {
   "cell_type": "code",
   "execution_count": 28,
   "outputs": [
    {
     "name": "stdout",
     "output_type": "stream",
     "text": [
      "           W        L0        L1\n",
      "W   0.000000  0.300000  0.316228\n",
      "L0  0.300000  0.000000  0.360555\n",
      "L1  0.316228  0.360555  0.000000\n",
      "            W       Cd0       Cd1       Cd2       Cd3       Cd4\n",
      "W    0.000000  0.447214  0.492443  0.360555  0.223607  0.223607\n",
      "Cd0  0.447214  0.000000  0.403113  0.412311  0.670820  0.500000\n",
      "Cd1  0.492443  0.403113  0.000000  0.150000  0.657647  0.680074\n",
      "Cd2  0.360555  0.412311  0.150000  0.000000  0.509902  0.565685\n",
      "Cd3  0.223607  0.670820  0.657647  0.509902  0.000000  0.316228\n",
      "Cd4  0.223607  0.500000  0.680074  0.565685  0.316228  0.000000\n",
      "           L0        L1       Cd0       Cd1       Cd2       Cd3       Cd4\n",
      "L0   0.000000  0.360555  0.223607  0.250000  0.200000  0.509902  0.447214\n",
      "L1   0.360555  0.000000  0.316228  0.610328  0.538516  0.500000  0.223607\n",
      "Cd0  0.223607  0.316228  0.000000  0.403113  0.412311  0.670820  0.500000\n",
      "Cd1  0.250000  0.610328  0.403113  0.000000  0.150000  0.657647  0.680074\n",
      "Cd2  0.200000  0.538516  0.412311  0.150000  0.000000  0.509902  0.565685\n",
      "Cd3  0.509902  0.500000  0.670820  0.657647  0.509902  0.000000  0.316228\n",
      "Cd4  0.447214  0.223607  0.500000  0.680074  0.565685  0.316228  0.000000\n"
     ]
    }
   ],
   "source": [
    "#filter data\n",
    "\n",
    "supply_distances_matrix = dist_matrix.filter(items=stores,axis=1)\n",
    "supply_distances_matrix  = supply_distances_matrix.filter(items=stores,axis=0)\n",
    "print(supply_distances_matrix)\n",
    "\n",
    "PF_distances_matrix = dist_matrix.filter(items=['W']+Customers_door,axis=1)\n",
    "PF_distances_matrix = PF_distances_matrix.filter(items=['W']+Customers_door,axis=0)\n",
    "print(PF_distances_matrix)\n",
    "\n",
    "LF_distances_matrix = dist_matrix.filter(items=lockers+Customers_door,axis=1)\n",
    "LF_distances_matrix = LF_distances_matrix.filter(items=lockers+Customers_door,axis=0)\n",
    "print(LF_distances_matrix)"
   ],
   "metadata": {
    "collapsed": false,
    "pycharm": {
     "name": "#%%\n"
    }
   }
  },
  {
   "cell_type": "code",
   "execution_count": 29,
   "outputs": [
    {
     "name": "stdout",
     "output_type": "stream",
     "text": [
      "           W        L0        L1\n",
      "W   0.000000  0.225000  0.237171\n",
      "L0  0.225000  0.000000  0.270416\n",
      "L1  0.237171  0.270416  0.000000\n",
      "            W       Cd0       Cd1       Cd2       Cd3       Cd4\n",
      "W    0.000000  0.447214  0.492443  0.360555  0.223607  0.223607\n",
      "Cd0  0.447214  0.000000  0.403113  0.412311  0.670820  0.500000\n",
      "Cd1  0.492443  0.403113  0.000000  0.150000  0.657647  0.680074\n",
      "Cd2  0.360555  0.412311  0.150000  0.000000  0.509902  0.565685\n",
      "Cd3  0.223607  0.670820  0.657647  0.509902  0.000000  0.316228\n",
      "Cd4  0.223607  0.500000  0.680074  0.565685  0.316228  0.000000\n",
      "           L0        L1       Cd0       Cd1       Cd2       Cd3       Cd4\n",
      "L0   0.000000  0.306472  0.190066  0.212500  0.170000  0.433417  0.380132\n",
      "L1   0.306472  0.000000  0.268794  0.518779  0.457739  0.425000  0.190066\n",
      "Cd0  0.190066  0.268794  0.000000  0.342646  0.350464  0.570197  0.425000\n",
      "Cd1  0.212500  0.518779  0.342646  0.000000  0.127500  0.559000  0.578062\n",
      "Cd2  0.170000  0.457739  0.350464  0.127500  0.000000  0.433417  0.480833\n",
      "Cd3  0.433417  0.425000  0.570197  0.559000  0.433417  0.000000  0.268794\n",
      "Cd4  0.380132  0.190066  0.425000  0.578062  0.480833  0.268794  0.000000\n"
     ]
    }
   ],
   "source": [
    "# Delivery Cost\n",
    "pi = 1\n",
    "pi_l = 0.85\n",
    "pi_L = 0.75\n",
    "ro = 0.5\n",
    "PF_delivery_cost = pi*PF_distances_matrix\n",
    "LF_delivery_cost = pi_l*LF_distances_matrix\n",
    "supply_cost = pi_L*supply_distances_matrix\n",
    "print(supply_cost)\n",
    "print(PF_delivery_cost)\n",
    "print(LF_delivery_cost)"
   ],
   "metadata": {
    "collapsed": false,
    "pycharm": {
     "name": "#%%\n"
    }
   }
  },
  {
   "cell_type": "markdown",
   "source": [
    "## extra code to delete"
   ],
   "metadata": {
    "collapsed": false,
    "pycharm": {
     "name": "#%% md\n"
    }
   }
  },
  {
   "cell_type": "code",
   "execution_count": null,
   "outputs": [],
   "source": [
    "x = np.random.randint(0, 50, 7)\n",
    "y = np.random.randint(0, 50, 7)\n",
    "C = [x,y]\n",
    "plt.scatter(C[0],C[1])\n",
    "C = np.arange(7)\n",
    "print(C)\n",
    "plt.show()"
   ],
   "metadata": {
    "collapsed": false,
    "pycharm": {
     "name": "#%%\n"
    }
   }
  },
  {
   "cell_type": "code",
   "execution_count": null,
   "outputs": [],
   "source": [
    "C = np.random.rand(7,2)\n",
    "plt.scatter(C[:,0],C[:,1],color='b')\n",
    "W = np.random.rand(1,2)\n",
    "plt.scatter(W[:,0],W[:,1],color='g',marker='D')\n",
    "L = np.random.rand(1,2)\n",
    "plt.scatter(L[:,0],L[:,1],color ='y',marker='s')\n",
    "print(C)"
   ],
   "metadata": {
    "collapsed": false,
    "pycharm": {
     "name": "#%%\n"
    }
   }
  },
  {
   "cell_type": "code",
   "execution_count": null,
   "outputs": [],
   "source": [
    "C = np.array([[0.1 ,0.1], [0.2 ,0.3],[0.15 ,0.7], [0.3 ,0.7],[0.8 ,0.6],\n",
    "              [0.9 ,0.5],[0.7 ,0.3]])\n",
    "plt.scatter(C[:,0],C[:,1],color='b')\n",
    "W = np.array([[0.6 ,0.5]])\n",
    "plt.scatter(W[:,0],W[:,1],color='g',marker='D')\n",
    "L = np.array([[0.3 ,0.5]])\n",
    "plt.scatter(L[:,0],L[:,1],color ='y',marker='s')"
   ],
   "metadata": {
    "collapsed": false,
    "pycharm": {
     "name": "#%%\n"
    }
   }
  },
  {
   "cell_type": "code",
   "execution_count": null,
   "outputs": [],
   "source": [
    "#calcolo la matrice delle distanze:\n",
    "data = np.array([])\n",
    "data = np.append(data,W)\n",
    "data = np.vstack([data,L])\n",
    "data = np.vstack([data,C])\n",
    "buildings =['Warehouse','Locker','c1','c2','c3','c4','c5','c6','c7']\n",
    "print(len(data))\n",
    "df = pd.DataFrame(data, columns=['xcord', 'ycord'], index=buildings)\n",
    "dist_matrix = pd.DataFrame(distance_matrix(df.values, df.values), index=df.index, columns=df.index)\n",
    "matrix_distance_converted_in_numpy =dist_matrix.to_numpy()"
   ],
   "metadata": {
    "collapsed": false,
    "pycharm": {
     "name": "#%%\n"
    }
   }
  },
  {
   "cell_type": "code",
   "execution_count": null,
   "outputs": [],
   "source": [
    "# Delivery Cost\n",
    "pi = 1\n",
    "pi_l = 0.85\n",
    "pi_L = 0.75\n",
    "ro = 0.5\n",
    "PF_delivery_cost = pi*matrix_distance_converted_in_numpy\n",
    "LF_delivery_cost = pi_l*matrix_distance_converted_in_numpy\n",
    "PF_delivery_cost = pi*matrix_distance_converted_in_numpy\n",
    "Suplly_cost = pi_L*matrix_distance_converted_in_numpy\n"
   ],
   "metadata": {
    "collapsed": false,
    "pycharm": {
     "name": "#%%\n"
    }
   }
  },
  {
   "cell_type": "code",
   "execution_count": null,
   "outputs": [],
   "source": [],
   "metadata": {
    "collapsed": false,
    "pycharm": {
     "name": "#%%\n"
    }
   }
  },
  {
   "cell_type": "code",
   "execution_count": null,
   "outputs": [],
   "source": [
    "# Delivery Cost\n",
    "pi = 1\n",
    "pi_l = 0.85\n",
    "pi_L = 0.75\n",
    "ro = 0.5\n",
    "PF_delivery_cost = pi*matrix_distance_converted_in_numpy\n",
    "LF_delivery_cost = pi_l*matrix_distance_converted_in_numpy\n",
    "PF_delivery_cost = pi*matrix_distance_converted_in_numpy\n",
    "Suplly_cost = pi_L*matrix_distance_converted_in_numpy\n"
   ],
   "metadata": {
    "collapsed": false,
    "pycharm": {
     "name": "#%%\n"
    }
   }
  },
  {
   "cell_type": "code",
   "execution_count": null,
   "outputs": [],
   "source": [],
   "metadata": {
    "collapsed": false,
    "pycharm": {
     "name": "#%%\n"
    }
   }
  },
  {
   "cell_type": "code",
   "execution_count": null,
   "outputs": [],
   "source": [
    "# Delivery Cost\n",
    "pi = 1\n",
    "pi_l = 0.85\n",
    "pi_L = 0.75\n",
    "ro = 0.5\n",
    "PF_delivery_cost = pi*matrix_distance_converted_in_numpy\n",
    "LF_delivery_cost = pi_l*matrix_distance_converted_in_numpy\n",
    "PF_delivery_cost = pi*matrix_distance_converted_in_numpy\n",
    "Suplly_cost = pi_L*matrix_distance_converted_in_numpy\n"
   ],
   "metadata": {
    "collapsed": false,
    "pycharm": {
     "name": "#%%\n"
    }
   }
  }
 ],
 "metadata": {
  "kernelspec": {
   "display_name": "Python 3",
   "language": "python",
   "name": "python3"
  },
  "language_info": {
   "codemirror_mode": {
    "name": "ipython",
    "version": 2
   },
   "file_extension": ".py",
   "mimetype": "text/x-python",
   "name": "python",
   "nbconvert_exporter": "python",
   "pygments_lexer": "ipython2",
   "version": "2.7.6"
  }
 },
 "nbformat": 4,
 "nbformat_minor": 0
}