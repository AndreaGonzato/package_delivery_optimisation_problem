{
 "cells": [
  {
   "cell_type": "code",
   "execution_count": 10,
   "metadata": {
    "collapsed": true,
    "pycharm": {
     "name": "#%%\n"
    }
   },
   "outputs": [],
   "source": [
    "import numpy as np\n",
    "import matplotlib.pyplot as plt\n",
    "import pandas as pd\n",
    "from scipy.spatial import distance_matrix\n",
    "import random\n",
    "import xpress  as xp"
   ]
  },
  {
   "cell_type": "code",
   "execution_count": 7,
   "outputs": [],
   "source": [
    "# input\n",
    "N = 7\n",
    "custom_setup = True"
   ],
   "metadata": {
    "collapsed": false,
    "pycharm": {
     "name": "#%%\n"
    }
   }
  },
  {
   "cell_type": "code",
   "execution_count": 22,
   "outputs": [],
   "source": [
    "# Customers’ demand and preferences\n",
    "q = np.ones(N)\n",
    "C = np.arange(N)\n",
    "if custom_setup:\n",
    "    C_L = [0, 5]\n",
    "    C_D = [1, 2, 3, 4, 6] #TODO make it scalable\n",
    "else:\n",
    "    C_L = []\n",
    "    for client in C:\n",
    "        if random.random()  <= 0.3 :\n",
    "            C_L.append(client)\n",
    "\n",
    "S_k =[1, 2, 6] #TODO make it scalable\n",
    "a_k = [\"L1\", \"W\"]"
   ],
   "metadata": {
    "collapsed": false,
    "pycharm": {
     "name": "#%%\n"
    }
   }
  },
  {
   "cell_type": "code",
   "execution_count": 16,
   "outputs": [
    {
     "name": "stdout",
     "output_type": "stream",
     "text": [
      "[0 1 2 3 4 5 6]\n"
     ]
    },
    {
     "data": {
      "text/plain": "<Figure size 432x288 with 1 Axes>",
      "image/png": "[encoded data removed]"
     },
     "metadata": {
      "needs_background": "light"
     },
     "output_type": "display_data"
    }
   ],
   "source": [
    "x = np.random.randint(0, 50, 7)\n",
    "y = np.random.randint(0, 50, 7)\n",
    "C = [x,y]\n",
    "plt.scatter(C[0],C[1])\n",
    "C = np.arange(7)\n",
    "print(C)\n",
    "plt.show()"
   ],
   "metadata": {
    "collapsed": false,
    "pycharm": {
     "name": "#%%\n"
    }
   }
  },
  {
   "cell_type": "code",
   "execution_count": null,
   "outputs": [],
   "source": [
    "C = np.random.rand(7,2)\n",
    "plt.scatter(C[:,0],C[:,1],color='b')\n",
    "W = np.random.rand(1,2)\n",
    "plt.scatter(W[:,0],W[:,1],color='g',marker='D')\n",
    "L = np.random.rand(1,2)\n",
    "plt.scatter(L[:,0],L[:,1],color ='y',marker='s')\n",
    "print(C)"
   ],
   "metadata": {
    "collapsed": false,
    "pycharm": {
     "name": "#%%\n"
    }
   }
  },
  {
   "cell_type": "code",
   "execution_count": null,
   "outputs": [],
   "source": [
    "C = np.array([[0.1 ,0.1], [0.2 ,0.3],[0.15 ,0.7], [0.3 ,0.7],[0.8 ,0.6],\n",
    "              [0.9 ,0.5],[0.7 ,0.3]])\n",
    "plt.scatter(C[:,0],C[:,1],color='b')\n",
    "W = np.array([[0.6 ,0.5]])\n",
    "plt.scatter(W[:,0],W[:,1],color='g',marker='D')\n",
    "L = np.array([[0.3 ,0.5]])\n",
    "plt.scatter(L[:,0],L[:,1],color ='y',marker='s')"
   ],
   "metadata": {
    "collapsed": false,
    "pycharm": {
     "name": "#%%\n"
    }
   }
  },
  {
   "cell_type": "code",
   "execution_count": null,
   "outputs": [],
   "source": [
    "#calcolo la matrice delle distanze:\n",
    "data = np.array([])\n",
    "data = np.append(data,W)\n",
    "data = np.vstack([data,L])\n",
    "data = np.vstack([data,C])\n",
    "houses =['Warehouse','Locker','c1','c2','c3','c4','c5','c6','c7']\n",
    "print(len(data))\n",
    "df = pd.DataFrame(data, columns=['xcord', 'ycord'], index=houses)\n",
    "pd.DataFrame(distance_matrix(df.values, df.values), index=df.index, columns=df.index)\n"
   ],
   "metadata": {
    "collapsed": false,
    "pycharm": {
     "name": "#%%\n"
    }
   }
  }
 ],
 "metadata": {
  "kernelspec": {
   "display_name": "Python 3",
   "language": "python",
   "name": "python3"
  },
  "language_info": {
   "codemirror_mode": {
    "name": "ipython",
    "version": 2
   },
   "file_extension": ".py",
   "mimetype": "text/x-python",
   "name": "python",
   "nbconvert_exporter": "python",
   "pygments_lexer": "ipython2",
   "version": "2.7.6"
  }
 },
 "nbformat": 4,
 "nbformat_minor": 0
}