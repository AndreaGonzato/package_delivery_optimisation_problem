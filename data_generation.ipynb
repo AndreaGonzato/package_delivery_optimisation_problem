{
 "cells": [
  {
   "cell_type": "code",
   "execution_count": 1,
   "outputs": [
    {
     "name": "stdout",
     "output_type": "stream",
     "text": [
      "Using the Community license in this session. If you have a full Xpress license, first set the XPAUTH_PATH environment variable to the full path to your license file, xpauth.xpr, and then restart Python. If you want to use the FICO Community license and no longer want to see this message, set the XPAUTH_PATH environment variable to: /home/andrea/anaconda3/lib/python3.9/site-packages/xpress/license/community-xpauth.xpr\n",
      "NB: setting XPAUTH_PATH will also affect any other Xpress products installed on your system.\n"
     ]
    }
   ],
   "source": [
    "import numpy as np\n",
    "import matplotlib.pyplot as plt\n",
    "import pandas as pd\n",
    "from scipy.spatial import distance_matrix\n",
    "import random\n",
    "import math\n",
    "import xpress  as xp"
   ],
   "metadata": {
    "collapsed": false,
    "pycharm": {
     "name": "#%%\n"
    }
   }
  },
  {
   "cell_type": "code",
   "execution_count": 2,
   "outputs": [],
   "source": [
    "# input\n",
    "L = 2\n",
    "\n",
    "custom_setup = True\n",
    "if custom_setup:\n",
    "    C = 8\n",
    "else:\n",
    "    C = 10 # change this input for other runs\n",
    "\n",
    "map_size = 100\n",
    "ratio_locker_customers = 0.3\n",
    "ratio_prime_door_to_door_customer = 0.4"
   ],
   "metadata": {
    "collapsed": false,
    "pycharm": {
     "name": "#%%\n"
    }
   }
  },
  {
   "cell_type": "code",
   "execution_count": 3,
   "outputs": [],
   "source": [
    "# define the locations of customers and lockers and warehouse\n",
    "if custom_setup:\n",
    "    C_location = np.array([[0.1 ,0.28], [0.2 ,0.4],[0.15 ,0.7], [0.3 ,0.7],[0.8 ,0.6],[0.7 ,0.4],[0.9 ,0.5], [0.4, 0.15]])\n",
    "    W_location = np.array([[0.6 ,0.5]])\n",
    "    L_location = np.array([[0.3 ,0.5],[0.5,0.2]])\n",
    "else:\n",
    "    C_location = np.random.randint(map_size, size=(C, 2))\n",
    "    W_location = np.random.randint(map_size, size=(1, 2))\n",
    "    L_location = np.random.randint(map_size, size=(L, 2))\n",
    "stores_location = np.concatenate((W_location, L_location), axis=0)"
   ],
   "metadata": {
    "collapsed": false,
    "pycharm": {
     "name": "#%%\n"
    }
   }
  },
  {
   "cell_type": "code",
   "execution_count": 4,
   "outputs": [],
   "source": [
    "def euclidean_distance(location_a, location_b):\n",
    "    if len(location_a) != 2 or len(location_b) != 2:\n",
    "        raise Exception(\"the two location need to be a list each of size 2\")\n",
    "    delta_x = location_b[0]-location_a[0]\n",
    "    delta_y = location_b[1]-location_a[1]\n",
    "    return math.sqrt(delta_x*delta_x+delta_y*delta_y)\n",
    "\n",
    "def find_nearest_stores_from_customer(customer_location, stores_location_par):\n",
    "    min_distance = float(\"inf\")\n",
    "    nearest_store_location = []\n",
    "    index = 0\n",
    "    nearest_locker_index = -1\n",
    "    for store_location in stores_location_par:\n",
    "        distance = euclidean_distance(customer_location, store_location)\n",
    "        if distance < min_distance:\n",
    "            min_distance = distance\n",
    "            nearest_store_location = store_location\n",
    "            nearest_locker_index = index\n",
    "        index +=1\n",
    "    return nearest_locker_index, nearest_store_location\n"
   ],
   "metadata": {
    "collapsed": false,
    "pycharm": {
     "name": "#%%\n"
    }
   }
  },
  {
   "cell_type": "code",
   "execution_count": 5,
   "outputs": [],
   "source": [
    "# Customers’ demand and preferences\n",
    "\n",
    "# define all the stores: eg. stores = [W, L0, L1, .... , Lx]\n",
    "warehouse = [\"W\"]\n",
    "lockers = []\n",
    "for l in range(L):\n",
    "    lockers.append(\"L\"+str(l))\n",
    "stores = warehouse+lockers\n",
    "\n",
    "if custom_setup:\n",
    "    C_L = [0, 5, 7]\n",
    "    C_D = [1, 2, 3, 4, 6]\n",
    "    S_k =[1, 2, 6]\n",
    "    a_k = [\"L0\", \"W\", \"L1\"]\n",
    "else:\n",
    "    C_L = []\n",
    "    C_D = []\n",
    "    S_k = []\n",
    "    a_k = []\n",
    "    for client in range(C):\n",
    "        if random.random()  <= ratio_locker_customers :\n",
    "            # locker customer\n",
    "            C_L.append(client)\n",
    "            a_k.append(random.choice(stores))\n",
    "        else:\n",
    "            # door to door customer\n",
    "            C_D.append(client)\n",
    "            if random.random() >= ratio_prime_door_to_door_customer:\n",
    "                S_k.append(client)"
   ],
   "metadata": {
    "collapsed": false,
    "pycharm": {
     "name": "#%%\n"
    }
   }
  },
  {
   "cell_type": "code",
   "execution_count": 6,
   "outputs": [
    {
     "name": "stdout",
     "output_type": "stream",
     "text": [
      "Q:  3\n",
      "W_l:  [4, 4]\n",
      "Q_l:  [3, 3]\n",
      "Q_L:  7\n",
      "sum_W_l:  8\n"
     ]
    }
   ],
   "source": [
    "# Capacities\n",
    "\n",
    "q_c = np.ones(C)\n",
    "q_CD = np.ones(len(C_D)) # TODO take the value of q_c only in the index of a CD customer\n",
    "q_CL = np.ones(len(C_L)) # TODO take the value of q_c only in the index of a CL customer\n",
    "q_SK = np.ones(len(S_k)) # TODO take the value of q_c only in the index of a S_k customer\n",
    "\n",
    "# PF vehicles capacities\n",
    "Q = math.ceil(0.5 * len(C_D))\n",
    "# locker storage (every locker has the same capacity by default)\n",
    "W_l = []\n",
    "for i in range(L):\n",
    "    W_l.append(math.ceil(0.8 * C / L))\n",
    "# LF vehicles capacities (every LF vehicle has the same capacity by default)\n",
    "Q_l = []\n",
    "for i in range(L):\n",
    "    Q_l.append(math.ceil(0.6 * W_l[i]))\n",
    "\n",
    "sum_W_l = 0\n",
    "for i in range(len(W_l)):\n",
    "    sum_W_l += W_l[i]\n",
    "\n",
    "\n",
    "# supply vehicles storage\n",
    "Q_L = math.ceil(0.8 * sum_W_l)\n",
    "\n",
    "print(\"Q: \",Q)\n",
    "print(\"W_l: \",W_l)\n",
    "print(\"Q_l: \",Q_l)\n",
    "print(\"Q_L: \",Q_L)\n",
    "print(\"sum_W_l: \", sum_W_l)\n"
   ],
   "metadata": {
    "collapsed": false,
    "pycharm": {
     "name": "#%%\n"
    }
   }
  },
  {
   "cell_type": "code",
   "execution_count": 7,
   "outputs": [
    {
     "data": {
      "text/plain": "<matplotlib.collections.PathCollection at 0x7f173d5c19a0>"
     },
     "execution_count": 7,
     "metadata": {},
     "output_type": "execute_result"
    },
    {
     "data": {
      "text/plain": "<Figure size 432x288 with 1 Axes>",
      "image/png": "[encoded data removed]"
     },
     "metadata": {
      "needs_background": "light"
     },
     "output_type": "display_data"
    }
   ],
   "source": [
    "CD_location = np.array([[0,0]])\n",
    "CL_location = np.array([[0,0]])\n",
    "S_k_location = np.array([[0,0]])\n",
    "for i in range(C):\n",
    "    if i in  C_D:\n",
    "        CD_location=np.vstack([CD_location, C_location[i]])\n",
    "    else:\n",
    "        CL_location = np.vstack([CL_location, C_location[i]])\n",
    "for i in range(C):\n",
    "    if i in S_k:\n",
    "        S_k_location=np.vstack([S_k_location,C_location[i]])\n",
    "\n",
    "S_k_location=np.delete(S_k_location,0,0)\n",
    "CD_location = np.delete(CD_location, 0, 0)\n",
    "CL_location = np.delete(CL_location, 0, 0)\n",
    "\n",
    "#define indexes for the subset S_k\n",
    "S_k_indexes = []\n",
    "for s in range(len(S_k_location)):\n",
    "    S_k_indexes.append(\"Sk\"+str(s))\n",
    "\n",
    "\n",
    "#define all customers\n",
    "Customers = []\n",
    "Customers_door = []\n",
    "Customers_locker = []\n",
    "for c in range(len(C_D)):\n",
    "    Customers_door.append(\"Cd\"+str(c))\n",
    "for c in range(len(C_L)):\n",
    "    Customers_locker.append(\"Cl\"+str(c))\n",
    "\n",
    "Customers = Customers_door+Customers_locker\n",
    "\n",
    "\n",
    "plt.scatter(CD_location[:,0],CD_location[:,1],color='b')\n",
    "plt.scatter(CL_location[:,0],CL_location[:,1],color='m')\n",
    "plt.scatter(W_location[:,0],W_location[:,1],color='g',marker='D')\n",
    "plt.scatter(L_location[:,0],L_location[:,1],color ='y',marker='s')\n",
    "\n",
    "#piccola nota\n",
    "#come nel paper in verde è la warehouse, in giallo i locker, mentre in blu in customer door to door e in magenta i customer locker"
   ],
   "metadata": {
    "collapsed": false,
    "pycharm": {
     "name": "#%%\n"
    }
   }
  },
  {
   "cell_type": "code",
   "execution_count": 8,
   "outputs": [
    {
     "name": "stdout",
     "output_type": "stream",
     "text": [
      "            W        L0        L1       Cd0       Cd1       Cd2       Cd3  \\\n",
      "W    0.000000  0.300000  0.316228  0.412311  0.492443  0.360555  0.223607   \n",
      "L0   0.300000  0.000000  0.360555  0.141421  0.250000  0.200000  0.509902   \n",
      "L1   0.316228  0.360555  0.000000  0.360555  0.610328  0.538516  0.500000   \n",
      "Cd0  0.412311  0.141421  0.360555  0.000000  0.304138  0.316228  0.632456   \n",
      "Cd1  0.492443  0.250000  0.610328  0.304138  0.000000  0.150000  0.657647   \n",
      "Cd2  0.360555  0.200000  0.538516  0.316228  0.150000  0.000000  0.509902   \n",
      "Cd3  0.223607  0.509902  0.500000  0.632456  0.657647  0.509902  0.000000   \n",
      "Cd4  0.300000  0.600000  0.500000  0.707107  0.776209  0.632456  0.141421   \n",
      "Cl0  0.546260  0.297321  0.407922  0.156205  0.422966  0.465188  0.769675   \n",
      "Cl1  0.141421  0.412311  0.282843  0.500000  0.626498  0.500000  0.223607   \n",
      "Cl2  0.403113  0.364005  0.111803  0.320156  0.604152  0.559017  0.602080   \n",
      "\n",
      "          Cd4       Cl0       Cl1       Cl2  \n",
      "W    0.300000  0.546260  0.141421  0.403113  \n",
      "L0   0.600000  0.297321  0.412311  0.364005  \n",
      "L1   0.500000  0.407922  0.282843  0.111803  \n",
      "Cd0  0.707107  0.156205  0.500000  0.320156  \n",
      "Cd1  0.776209  0.422966  0.626498  0.604152  \n",
      "Cd2  0.632456  0.465188  0.500000  0.559017  \n",
      "Cd3  0.141421  0.769675  0.223607  0.602080  \n",
      "Cd4  0.000000  0.829699  0.223607  0.610328  \n",
      "Cl0  0.829699  0.000000  0.611882  0.326956  \n",
      "Cl1  0.223607  0.611882  0.000000  0.390512  \n",
      "Cl2  0.610328  0.326956  0.390512  0.000000  \n"
     ]
    }
   ],
   "source": [
    "#calcolo la matrice delle distanze:\n",
    "all_locations = np.array([])\n",
    "all_locations = np.append(all_locations,W_location)\n",
    "all_locations = np.vstack([all_locations,L_location])\n",
    "all_locations = np.vstack([all_locations,CD_location])\n",
    "all_locations = np.vstack([all_locations,CL_location])\n",
    "\n",
    "all_buildings = stores + Customers\n",
    "\n",
    "df = pd.DataFrame(all_locations, columns=['xcord', 'ycord'], index=all_buildings)\n",
    "dist_matrix = pd.DataFrame(distance_matrix(df.values, df.values), index=df.index, columns=df.index)\n",
    "matrix_distance_converted_in_numpy =dist_matrix.to_numpy()\n",
    "print(dist_matrix)"
   ],
   "metadata": {
    "collapsed": false,
    "pycharm": {
     "name": "#%%\n"
    }
   }
  },
  {
   "cell_type": "code",
   "execution_count": 9,
   "outputs": [
    {
     "name": "stdout",
     "output_type": "stream",
     "text": [
      "           W        L0        L1\n",
      "W   0.000000  0.300000  0.316228\n",
      "L0  0.300000  0.000000  0.360555\n",
      "L1  0.316228  0.360555  0.000000\n",
      "            W       Cd0       Cd1       Cd2       Cd3       Cd4\n",
      "W    0.000000  0.412311  0.492443  0.360555  0.223607  0.300000\n",
      "Cd0  0.412311  0.000000  0.304138  0.316228  0.632456  0.707107\n",
      "Cd1  0.492443  0.304138  0.000000  0.150000  0.657647  0.776209\n",
      "Cd2  0.360555  0.316228  0.150000  0.000000  0.509902  0.632456\n",
      "Cd3  0.223607  0.632456  0.657647  0.509902  0.000000  0.141421\n",
      "Cd4  0.300000  0.707107  0.776209  0.632456  0.141421  0.000000\n",
      "          Cd0       Cd1       Cd2       Cd3       Cd4\n",
      "L0   0.141421  0.250000  0.200000  0.509902  0.600000\n",
      "L1   0.360555  0.610328  0.538516  0.500000  0.500000\n",
      "Cd0  0.000000  0.304138  0.316228  0.632456  0.707107\n",
      "Cd1  0.304138  0.000000  0.150000  0.657647  0.776209\n",
      "Cd2  0.316228  0.150000  0.000000  0.509902  0.632456\n",
      "Cd3  0.632456  0.657647  0.509902  0.000000  0.141421\n",
      "Cd4  0.707107  0.776209  0.632456  0.141421  0.000000\n"
     ]
    }
   ],
   "source": [
    "#filter data\n",
    "supply_distances_matrix = dist_matrix.filter(items=stores, axis=1)\n",
    "supply_distances_matrix = supply_distances_matrix.filter(items=stores, axis=0)\n",
    "print(supply_distances_matrix)\n",
    "\n",
    "PF_distances_matrix = dist_matrix.filter(items=['W'] + Customers_door, axis=1)\n",
    "PF_distances_matrix = PF_distances_matrix.filter(items=['W'] + Customers_door, axis=0)\n",
    "print(PF_distances_matrix)\n",
    "\n",
    "LF_distances_matrix = dist_matrix.filter(items=Customers_door, axis=1)\n",
    "LF_distances_matrix = LF_distances_matrix.filter(items=lockers + Customers_door, axis=0)\n",
    "print(LF_distances_matrix)"
   ],
   "metadata": {
    "collapsed": false,
    "pycharm": {
     "name": "#%%\n"
    }
   }
  },
  {
   "cell_type": "code",
   "execution_count": 10,
   "outputs": [
    {
     "name": "stdout",
     "output_type": "stream",
     "text": [
      "           W        L0        L1\n",
      "W   0.000000  0.225000  0.237171\n",
      "L0  0.225000  0.000000  0.270416\n",
      "L1  0.237171  0.270416  0.000000\n",
      "            W       Cd0       Cd1       Cd2       Cd3       Cd4\n",
      "W    0.000000  0.412311  0.492443  0.360555  0.223607  0.300000\n",
      "Cd0  0.412311  0.000000  0.304138  0.316228  0.632456  0.707107\n",
      "Cd1  0.492443  0.304138  0.000000  0.150000  0.657647  0.776209\n",
      "Cd2  0.360555  0.316228  0.150000  0.000000  0.509902  0.632456\n",
      "Cd3  0.223607  0.632456  0.657647  0.509902  0.000000  0.141421\n",
      "Cd4  0.300000  0.707107  0.776209  0.632456  0.141421  0.000000\n",
      "          Cd0       Cd1       Cd2       Cd3       Cd4\n",
      "L0   0.120208  0.212500  0.170000  0.433417  0.510000\n",
      "L1   0.306472  0.518779  0.457739  0.425000  0.425000\n",
      "Cd0  0.000000  0.258517  0.268794  0.537587  0.601041\n",
      "Cd1  0.258517  0.000000  0.127500  0.559000  0.659777\n",
      "Cd2  0.268794  0.127500  0.000000  0.433417  0.537587\n",
      "Cd3  0.537587  0.559000  0.433417  0.000000  0.120208\n",
      "Cd4  0.601041  0.659777  0.537587  0.120208  0.000000\n"
     ]
    }
   ],
   "source": [
    "# Delivery Cost\n",
    "pi = 1\n",
    "pi_l = 0.85\n",
    "pi_L = 0.75\n",
    "\n",
    "PF_delivery_cost = pi*PF_distances_matrix\n",
    "LF_delivery_cost = pi_l*LF_distances_matrix\n",
    "supply_cost = pi_L*supply_distances_matrix\n",
    "print(supply_cost)\n",
    "print(PF_delivery_cost)\n",
    "print(LF_delivery_cost)"
   ],
   "metadata": {
    "collapsed": false,
    "pycharm": {
     "name": "#%%\n"
    }
   }
  },
  {
   "cell_type": "code",
   "execution_count": 11,
   "outputs": [
    {
     "name": "stdout",
     "output_type": "stream",
     "text": [
      "            W        L0        L1       Sk0       Sk1       Sk2\n",
      "W    0.000000  0.300000  0.316228  0.412311  0.492443  0.300000\n",
      "L0   0.300000  0.000000  0.360555  0.141421  0.250000  0.600000\n",
      "L1   0.316228  0.360555  0.000000  0.360555  0.610328  0.500000\n",
      "Sk0  0.412311  0.141421  0.360555  0.000000  0.304138  0.707107\n",
      "Sk1  0.492443  0.250000  0.610328  0.304138  0.000000  0.776209\n",
      "Sk2  0.300000  0.600000  0.500000  0.707107  0.776209  0.000000\n",
      "         Cl0       Cl1       Cl2\n",
      "W   0.546260  0.141421  0.403113\n",
      "L0  0.297321  0.412311  0.364005\n",
      "L1  0.407922  0.282843  0.111803\n",
      "Cl0    L0\n",
      "Cl1     W\n",
      "Cl2    L1\n",
      "dtype: object\n",
      "['L0', 'W', 'L1']\n",
      "         Sk0       Sk1  Sk2\n",
      "L0  0.141421  0.250000  0.6\n",
      "W   0.412311  0.492443  0.3\n",
      "L1  0.360555  0.610328  0.5\n",
      "         Sk0       Sk1   Sk2\n",
      "L0  0.070711  0.125000  0.30\n",
      "W   0.206155  0.246221  0.15\n",
      "L1  0.180278  0.305164  0.25\n",
      "0.206155281280883\n"
     ]
    }
   ],
   "source": [
    "#compensation\n",
    "compensation_locations = np.array([])\n",
    "compensation_locations = np.append(compensation_locations,W_location)\n",
    "compensation_locations = np.vstack([compensation_locations,L_location])\n",
    "compensation_locations = np.vstack([compensation_locations,S_k_location])\n",
    "\n",
    "df_compensation = pd.DataFrame(compensation_locations, columns=['xcord', 'ycord'], index=stores+S_k_indexes)\n",
    "compensation_matrix= pd.DataFrame(distance_matrix(df_compensation.values, df_compensation.values), index=df_compensation.index, columns=df_compensation.index)\n",
    "\n",
    "print(compensation_matrix)\n",
    "\n",
    "\n",
    "distance_matrix_customer_locker_store = dist_matrix.filter(items=Customers_locker,axis=1)\n",
    "distance_matrix_customer_locker_store = distance_matrix_customer_locker_store.filter(items=stores,axis=0)\n",
    "print(distance_matrix_customer_locker_store)\n",
    "\n",
    "\n",
    "closest_store_to_CL = distance_matrix_customer_locker_store.idxmin()\n",
    "print(closest_store_to_CL)\n",
    "\n",
    "index_close_locker = []\n",
    "for i in range(len(closest_store_to_CL)):\n",
    "    index_close_locker.append(closest_store_to_CL[i])\n",
    "print(index_close_locker)\n",
    "\n",
    "\n",
    "# TODO matrix layout to reformat\n",
    "d_ak_c = compensation_matrix.filter(items = S_k_indexes,axis=1)\n",
    "d_ak_c=d_ak_c.filter(items=index_close_locker,axis=0)\n",
    "print(d_ak_c)\n",
    "\n",
    "ro = 0.5\n",
    "compensation_matrix_cost = ro*d_ak_c\n",
    "print(compensation_matrix_cost)\n",
    "print(compensation_matrix_cost.values[1][0])\n"
   ],
   "metadata": {
    "collapsed": false,
    "pycharm": {
     "name": "#%%\n"
    }
   }
  },
  {
   "cell_type": "code",
   "execution_count": 94,
   "outputs": [
    {
     "name": "stdout",
     "output_type": "stream",
     "text": [
      "\n"
     ]
    }
   ],
   "source": [
    "# Xpress formulation\n",
    "single_period_problem = xp.problem()"
   ],
   "metadata": {
    "collapsed": false,
    "pycharm": {
     "name": "#%%\n"
    }
   }
  },
  {
   "cell_type": "code",
   "execution_count": 95,
   "outputs": [],
   "source": [
    "# var definition\n",
    "I_PF = 1 + len(C_D)\n",
    "J_PF = 1 + len(C_D)\n",
    "x_i_j = np.array([[xp.var(name=\"x_\"+str(i)+\"_\"+str(j), vartype=xp.binary) for i in range(I_PF)]for j in range(J_PF)], dtype=xp.npvar)\n",
    "y_i_j = np.array([[xp.var(name=\"y_\"+str(i)+\"_\"+str(j), vartype=xp.integer) for i in range(I_PF)]for j in range(J_PF)], dtype=xp.npvar)\n",
    "\n",
    "I_L = 1 + L\n",
    "J_L = 1 + L\n",
    "x_i_j_L = np.array([[xp.var(name=\"x_L_\"+str(i)+\"_\"+str(j), vartype=xp.binary) for i in range(I_L)]for j in range(J_L)], dtype=xp.npvar)\n",
    "y_i_j_L = np.array([[xp.var(name=\"y_L_\"+str(i)+\"_\"+str(j), vartype=xp.integer) for i in range(I_L)]for j in range(J_L)], dtype=xp.npvar)\n",
    "\n",
    "I_LF = 1 + len(C_D)\n",
    "J_LF = 1 + len(C_D)\n",
    "x_l_i_j = np.array([[[xp.var(name=\"x_l\"+str(l)+\"_\"+str(i)+\"_\"+str(j), vartype=xp.binary) for i in range(I_LF)]for j in range(J_LF)] for l in range(L)], dtype=xp.npvar)\n",
    "y_l_i_j = np.array([[[xp.var(name=\"y_l\"+str(l)+\"_\"+str(i)+\"_\"+str(j), vartype=xp.integer) for i in range(I_LF)]for j in range(J_LF)] for l in range(L)], dtype=xp.npvar)\n",
    "\n",
    "z_c = np.array([xp.var(name=\"z_c\"+str(c), vartype=xp.binary) for c in range(len(C_D))], dtype=xp.npvar)\n",
    "z_c_l = np.array([[xp.var(name=\"z_c\"+str(c)+\"_l\"+str(l), vartype=xp.binary) for c in range(len(C_D))]for l in range(L)], dtype=xp.npvar)\n",
    "z_l_L = np.array([[xp.var(name=\"z_l_L_\"+str(l), vartype=xp.binary) for l in range(L)]], dtype=xp.npvar)\n",
    "\n",
    "w_c_k = np.array([[xp.var(name=\"w_c\"+str(c)+\"_k\"+str(k), vartype=xp.binary) for c in range(len(S_k))]for k in range(len(C_L))], dtype=xp.npvar)\n",
    "\n",
    "# add var to the problem\n",
    "single_period_problem.addVariable(x_i_j)\n",
    "single_period_problem.addVariable(x_i_j_L)\n",
    "single_period_problem.addVariable(x_l_i_j)\n",
    "\n",
    "single_period_problem.addVariable(y_i_j)\n",
    "single_period_problem.addVariable(y_i_j_L)\n",
    "single_period_problem.addVariable(y_l_i_j)\n",
    "\n",
    "single_period_problem.addVariable(z_c)\n",
    "single_period_problem.addVariable(z_c_l)\n",
    "single_period_problem.addVariable(z_l_L)\n",
    "\n",
    "single_period_problem.addVariable(w_c_k)"
   ],
   "metadata": {
    "collapsed": false,
    "pycharm": {
     "name": "#%%\n"
    }
   }
  },
  {
   "cell_type": "code",
   "execution_count": 96,
   "outputs": [
    {
     "name": "stdout",
     "output_type": "stream",
     "text": [
      "[[w_c0_k0 w_c1_k0 w_c2_k0]\n",
      " [w_c0_k1 w_c1_k1 w_c2_k1]\n",
      " [w_c0_k2 w_c1_k2 w_c2_k2]]\n"
     ]
    }
   ],
   "source": [
    "# test code cell , TODO delete this cell\n",
    "print(w_c_k)"
   ],
   "metadata": {
    "collapsed": false,
    "pycharm": {
     "name": "#%%\n"
    }
   }
  },
  {
   "cell_type": "code",
   "execution_count": 97,
   "outputs": [
    {
     "name": "stdout",
     "output_type": "stream",
     "text": [
      "5\n",
      "3\n",
      "2\n",
      "5\n",
      "73\n"
     ]
    }
   ],
   "source": [
    "# define constraints Customers’ service\n",
    "\n",
    "# constraint eq. 2\n",
    "for c in range(len(C_D)):\n",
    "    single_period_problem.addConstraint( z_c[c] + xp.Sum(w_c_k[s][k] for s in range(len(S_k)) for k in range(len(C_L))) + xp.Sum(z_c_l[l][c] for l in range(L)) == 1)\n",
    "\n",
    "# constraint eq. 3\n",
    "for c_l in range(len(C_L)):\n",
    "    single_period_problem.addConstraint( xp.Sum(w_c_k[c_l][s_k] for s_k in range(len(S_k))) <= 1)\n",
    "\n",
    "\n",
    "# constraint eq. 4\n",
    "for l in range(L):\n",
    "    single_period_problem.addConstraint(\n",
    "        xp.Sum(q_CL[cl] + xp.Sum(q_SK[sk]*w_c_k[cl][sk] for sk in range(len(S_k))) for cl in range(len(C_L)))\n",
    "        + xp.Sum(q_CD[cd]*z_c_l[l][cd] for cd in range(len(C_D)))\n",
    "        <= W_l[l] * z_l_L[0][l]\n",
    "    )\n",
    "\n",
    "# Professional fleet constraint\n",
    "\n",
    "# constraint eq. 5.1 A == C\n",
    "for i in range(len(C_D)):\n",
    "    single_period_problem.addConstraint(\n",
    "        xp.Sum( x_i_j[i+1][j] for j in range(len(C_D)+1))\n",
    "        == z_c[i]\n",
    "    )\n",
    "\n",
    "\n",
    "# constraint eq. 5.2 B == C\n",
    "for i in range(len(C_D)):\n",
    "    single_period_problem.addConstraint(\n",
    "        xp.Sum( x_i_j[j][i+1] for j in range(len(C_D)+1))\n",
    "        == z_c[i]\n",
    "    )\n",
    "\n",
    "# constraint eq. 5.3 A == B\n",
    "for i in range(len(C_D)):\n",
    "    single_period_problem.addConstraint(\n",
    "        xp.Sum( x_i_j[i+1][j] for j in range(len(C_D)+1))\n",
    "        ==\n",
    "        xp.Sum( x_i_j[j][i+1] for j in range(len(C_D)+1))\n",
    "    )\n",
    "\n",
    "\n",
    "# constraint eq. 6\n",
    "single_period_problem.addConstraint(\n",
    "    xp.Sum( x_i_j[0][j+1] for j in range(len(C_D)))\n",
    "    - xp.Sum( x_i_j[j+1][0] for j in range(len(C_D)))\n",
    "    == 0\n",
    ")\n",
    "\n",
    "# constraint eq. 7\n",
    "for i in range(len(C_D)):\n",
    "    single_period_problem.addConstraint(\n",
    "        xp.Sum( y_i_j[j][i+1] for j in range(1+len(C_D)))\n",
    "        - xp.Sum( y_i_j[i+1][j] for j in range(1+len(C_D)))\n",
    "        == q_CD[i]*z_c[i]\n",
    "    )\n",
    "\n",
    "# constraint eq. 8\n",
    "single_period_problem.addConstraint(\n",
    "    xp.Sum( y_i_j[j+1][0] for j in range(len(C_D)))\n",
    "    - xp.Sum( y_i_j[0][j+1] for j in range(len(C_D)))\n",
    "    == - xp.Sum( q_CD[i]*z_c[i] for i in range(len(C_D)))\n",
    ")\n",
    "\n",
    "# constraint eq. 9\n",
    "for i in range(1 + len(C_D)):\n",
    "    for j in range(1 + len(C_D)):\n",
    "        single_period_problem.addConstraint(\n",
    "            y_i_j[i][j]\n",
    "            <= Q * x_i_j[i][j]\n",
    "        )\n",
    "\n",
    "# constraint eq. 10\n",
    "for i in range(len(C_D)):\n",
    "    single_period_problem.addConstraint(\n",
    "        y_i_j[i+1][0]\n",
    "        == 0\n",
    "    )\n",
    "\n",
    "print(len(C_D))\n",
    "print(len(C_L))\n",
    "print(L)\n",
    "print(len(C_D))\n",
    "print(len(single_period_problem.getConstraint()))\n"
   ],
   "metadata": {
    "collapsed": false,
    "pycharm": {
     "name": "#%%\n"
    }
   }
  },
  {
   "cell_type": "markdown",
   "source": [
    "# other matrix that may be useful"
   ],
   "metadata": {
    "collapsed": false,
    "pycharm": {
     "name": "#%% md\n"
    }
   }
  },
  {
   "cell_type": "code",
   "execution_count": 57,
   "outputs": [
    {
     "name": "stdout",
     "output_type": "stream",
     "text": [
      "\n",
      "=================================================================\n",
      "0\n",
      "-----------------------------------------------------------------\n",
      "           L0       Cd0       Cd1       Cd2       Cd3       Cd4\n",
      "L0   0.000000  0.141421  0.250000  0.200000  0.509902  0.600000\n",
      "Cd0  0.141421  0.000000  0.304138  0.316228  0.632456  0.707107\n",
      "Cd1  0.250000  0.304138  0.000000  0.150000  0.657647  0.776209\n",
      "Cd2  0.200000  0.316228  0.150000  0.000000  0.509902  0.632456\n",
      "Cd3  0.509902  0.632456  0.657647  0.509902  0.000000  0.141421\n",
      "Cd4  0.600000  0.707107  0.776209  0.632456  0.141421  0.000000\n",
      "\n",
      "=================================================================\n",
      "1\n",
      "-----------------------------------------------------------------\n",
      "           L1       Cd0       Cd1       Cd2       Cd3       Cd4\n",
      "L1   0.000000  0.360555  0.610328  0.538516  0.500000  0.500000\n",
      "Cd0  0.360555  0.000000  0.304138  0.316228  0.632456  0.707107\n",
      "Cd1  0.610328  0.304138  0.000000  0.150000  0.657647  0.776209\n",
      "Cd2  0.538516  0.316228  0.150000  0.000000  0.509902  0.632456\n",
      "Cd3  0.500000  0.632456  0.657647  0.509902  0.000000  0.141421\n",
      "Cd4  0.500000  0.707107  0.776209  0.632456  0.141421  0.000000\n"
     ]
    }
   ],
   "source": [
    "LF_distances_matrix_collection= {}\n",
    "for i in range(L):\n",
    "    l = [0]\n",
    "    l[0]=lockers[i]\n",
    "    local_matrix = dist_matrix.filter(items=l+Customers_door,axis=1)\n",
    "    local_matrix = local_matrix.filter(items=l+Customers_door,axis=0)\n",
    "    LF_distances_matrix_collection[i]=pd.DataFrame(local_matrix)\n",
    "\n",
    "for key in LF_distances_matrix_collection.keys():\n",
    "    print(\"\\n\" +\"=\"*65)\n",
    "    print(key)\n",
    "    print(\"-\"*65)\n",
    "    print(LF_distances_matrix_collection[key])\n",
    "\n"
   ],
   "metadata": {
    "collapsed": false,
    "pycharm": {
     "name": "#%%\n"
    }
   }
  },
  {
   "cell_type": "code",
   "execution_count": 13,
   "outputs": [
    {
     "name": "stdout",
     "output_type": "stream",
     "text": [
      "             W         L0          L1         Sk0        Sk1\n",
      "W     0.000000  39.446166   44.721360   66.287254  22.671568\n",
      "L0   39.446166   0.000000   80.721744   27.018512  61.400326\n",
      "L1   44.721360  80.721744    0.000000  107.489534  23.537205\n",
      "Sk0  66.287254  27.018512  107.489534    0.000000  88.408144\n",
      "Sk1  22.671568  61.400326   23.537205   88.408144   0.000000\n",
      "          Cl0        Cl1        Cl2        Cl3        Cl4        Cl5\n",
      "W   19.104973  14.212670  15.033296  58.694122  15.811388  16.278821\n",
      "L0  58.249464  53.009433  48.104054  74.813100  48.270074  38.013156\n",
      "L1  27.658633  31.016125  32.649655  45.221676  49.497475  43.185646\n",
      "\n",
      "===================================\n",
      "0\n",
      "-----------------------------------\n",
      "         Sk0        Sk1\n",
      "W  66.287254  22.671568\n",
      "\n",
      "===================================\n",
      "1\n",
      "-----------------------------------\n",
      "         Sk0        Sk1\n",
      "W  66.287254  22.671568\n",
      "\n",
      "===================================\n",
      "2\n",
      "-----------------------------------\n",
      "         Sk0        Sk1\n",
      "W  66.287254  22.671568\n",
      "----------------------------------------\n",
      "\n",
      "===================================\n",
      "0\n",
      "-----------------------------------\n",
      "         Sk0        Sk1\n",
      "W  33.143627  11.335784\n",
      "\n",
      "===================================\n",
      "1\n",
      "-----------------------------------\n",
      "         Sk0        Sk1\n",
      "W  33.143627  11.335784\n",
      "\n",
      "===================================\n",
      "2\n",
      "-----------------------------------\n",
      "         Sk0        Sk1\n",
      "W  33.143627  11.335784\n"
     ]
    }
   ],
   "source": [
    "#compensation\n",
    "compensation_locations = np.array([])\n",
    "compensation_locations = np.append(compensation_locations,W_location)\n",
    "compensation_locations = np.vstack([compensation_locations,L_location])\n",
    "compensation_locations = np.vstack([compensation_locations,S_k_location])\n",
    "\n",
    "df_compensation = pd.DataFrame(compensation_locations, columns=['xcord', 'ycord'], index=stores+S_k_indexes)\n",
    "compensation_matrix= pd.DataFrame(distance_matrix(df_compensation.values, df_compensation.values), index=df_compensation.index, columns=df_compensation.index)\n",
    "\n",
    "print(compensation_matrix)\n",
    "\n",
    "\n",
    "comp = dist_matrix.filter(items=Customers_locker,axis=1)\n",
    "comp = comp.filter(items=stores,axis=0)\n",
    "print(comp)\n",
    "\n",
    "index_close_locker = ['']\n",
    "\n",
    "d_ak_c = {}\n",
    "for i in range(len(comp)):\n",
    "    closest_locker =comp[Customers_locker[i]].idxmin()\n",
    "    index_close_locker[0] = closest_locker\n",
    "    local_comp_matrix = compensation_matrix.filter(items = S_k_indexes,axis=1)\n",
    "    local_comp_matrix=local_comp_matrix.filter(items=index_close_locker,axis=0)\n",
    "    d_ak_c[i]=pd.DataFrame(local_comp_matrix)\n",
    "\n",
    "for key in d_ak_c.keys():\n",
    "    print(\"\\n\" +\"=\"*35)\n",
    "    print(key)\n",
    "    print(\"-\"*35)\n",
    "    print(d_ak_c[key])\n",
    "\n",
    "ro = 0.5\n",
    "compensation_matrix_cost = {}\n",
    "\n",
    "for i in range(len(comp)):\n",
    "    cost = ro*d_ak_c[i]\n",
    "    compensation_matrix_cost[i] = pd.DataFrame(cost)\n",
    "print(\"----------------------------------------\")\n",
    "for key in compensation_matrix_cost.keys():\n",
    "    print(\"\\n\" +\"=\"*35)\n",
    "    print(key)\n",
    "    print(\"-\"*35)\n",
    "    print(compensation_matrix_cost[key])\n"
   ],
   "metadata": {
    "collapsed": false,
    "pycharm": {
     "name": "#%%\n"
    }
   }
  },
  {
   "cell_type": "markdown",
   "source": [
    "## extra code to delete"
   ],
   "metadata": {
    "collapsed": false,
    "pycharm": {
     "name": "#%% md\n"
    }
   }
  },
  {
   "cell_type": "code",
   "execution_count": null,
   "outputs": [],
   "source": [
    "x = np.random.randint(0, 50, 7)\n",
    "y = np.random.randint(0, 50, 7)\n",
    "C = [x,y]\n",
    "plt.scatter(C[0],C[1])\n",
    "C = np.arange(7)\n",
    "print(C)\n",
    "plt.show()"
   ],
   "metadata": {
    "collapsed": false,
    "pycharm": {
     "name": "#%%\n"
    }
   }
  },
  {
   "cell_type": "code",
   "execution_count": null,
   "outputs": [],
   "source": [
    "C = np.random.rand(7,2)\n",
    "plt.scatter(C[:,0],C[:,1],color='b')\n",
    "W = np.random.rand(1,2)\n",
    "plt.scatter(W[:,0],W[:,1],color='g',marker='D')\n",
    "L = np.random.rand(1,2)\n",
    "plt.scatter(L[:,0],L[:,1],color ='y',marker='s')\n",
    "print(C)"
   ],
   "metadata": {
    "collapsed": false,
    "pycharm": {
     "name": "#%%\n"
    }
   }
  },
  {
   "cell_type": "code",
   "execution_count": null,
   "outputs": [],
   "source": [
    "C = np.array([[0.1 ,0.1], [0.2 ,0.3],[0.15 ,0.7], [0.3 ,0.7],[0.8 ,0.6],\n",
    "              [0.9 ,0.5],[0.7 ,0.3]])\n",
    "plt.scatter(C[:,0],C[:,1],color='b')\n",
    "W = np.array([[0.6 ,0.5]])\n",
    "plt.scatter(W[:,0],W[:,1],color='g',marker='D')\n",
    "L = np.array([[0.3 ,0.5]])\n",
    "plt.scatter(L[:,0],L[:,1],color ='y',marker='s')"
   ],
   "metadata": {
    "collapsed": false,
    "pycharm": {
     "name": "#%%\n"
    }
   }
  },
  {
   "cell_type": "code",
   "execution_count": null,
   "outputs": [],
   "source": [
    "#calcolo la matrice delle distanze:\n",
    "data = np.array([])\n",
    "data = np.append(data,W)\n",
    "data = np.vstack([data,L])\n",
    "data = np.vstack([data,C])\n",
    "buildings =['Warehouse','Locker','c1','c2','c3','c4','c5','c6','c7']\n",
    "print(len(data))\n",
    "df = pd.DataFrame(data, columns=['xcord', 'ycord'], index=buildings)\n",
    "dist_matrix = pd.DataFrame(distance_matrix(df.values, df.values), index=df.index, columns=df.index)\n",
    "matrix_distance_converted_in_numpy =dist_matrix.to_numpy()"
   ],
   "metadata": {
    "collapsed": false,
    "pycharm": {
     "name": "#%%\n"
    }
   }
  },
  {
   "cell_type": "code",
   "execution_count": null,
   "outputs": [],
   "source": [
    "# Delivery Cost\n",
    "pi = 1\n",
    "pi_l = 0.85\n",
    "pi_L = 0.75\n",
    "ro = 0.5\n",
    "PF_delivery_cost = pi*matrix_distance_converted_in_numpy\n",
    "LF_delivery_cost = pi_l*matrix_distance_converted_in_numpy\n",
    "PF_delivery_cost = pi*matrix_distance_converted_in_numpy\n",
    "Suplly_cost = pi_L*matrix_distance_converted_in_numpy\n"
   ],
   "metadata": {
    "collapsed": false,
    "pycharm": {
     "name": "#%%\n"
    }
   }
  },
  {
   "cell_type": "code",
   "execution_count": null,
   "outputs": [],
   "source": [],
   "metadata": {
    "collapsed": false,
    "pycharm": {
     "name": "#%%\n"
    }
   }
  },
  {
   "cell_type": "code",
   "execution_count": 30,
   "outputs": [
    {
     "name": "stdout",
     "output_type": "stream",
     "text": [
      "andrea\n"
     ]
    }
   ],
   "source": [
    "print(\"andrea\")\n"
   ],
   "metadata": {
    "collapsed": false,
    "pycharm": {
     "name": "#%%\n"
    }
   }
  },
  {
   "cell_type": "code",
   "execution_count": null,
   "outputs": [],
   "source": [],
   "metadata": {
    "collapsed": false,
    "pycharm": {
     "name": "#%%\n"
    }
   }
  },
  {
   "cell_type": "code",
   "execution_count": null,
   "outputs": [],
   "source": [],
   "metadata": {
    "collapsed": false,
    "pycharm": {
     "name": "#%%\n"
    }
   }
  },
  {
   "cell_type": "code",
   "execution_count": null,
   "outputs": [],
   "source": [
    "# Delivery Cost\n",
    "pi = 1\n",
    "pi_l = 0.85\n",
    "pi_L = 0.75\n",
    "ro = 0.5\n",
    "PF_delivery_cost = pi*matrix_distance_converted_in_numpy\n",
    "LF_delivery_cost = pi_l*matrix_distance_converted_in_numpy\n",
    "PF_delivery_cost = pi*matrix_distance_converted_in_numpy\n",
    "Suplly_cost = pi_L*matrix_distance_converted_in_numpy\n"
   ],
   "metadata": {
    "collapsed": false,
    "pycharm": {
     "name": "#%%\n"
    }
   }
  }
 ],
 "metadata": {
  "kernelspec": {
   "display_name": "Python 3",
   "language": "python",
   "name": "python3"
  },
  "language_info": {
   "codemirror_mode": {
    "name": "ipython",
    "version": 2
   },
   "file_extension": ".py",
   "mimetype": "text/x-python",
   "name": "python",
   "nbconvert_exporter": "python",
   "pygments_lexer": "ipython2",
   "version": "2.7.6"
  }
 },
 "nbformat": 4,
 "nbformat_minor": 0
}