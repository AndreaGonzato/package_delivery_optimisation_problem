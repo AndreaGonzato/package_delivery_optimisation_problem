{
 "cells": [
  {
   "cell_type": "code",
   "execution_count": 1,
   "outputs": [
    {
     "name": "stdout",
     "output_type": "stream",
     "text": [
      "Using the Community license in this session. If you have a full Xpress license, first set the XPAUTH_PATH environment variable to the full path to your license file, xpauth.xpr, and then restart Python. If you want to use the FICO Community license and no longer want to see this message, set the XPAUTH_PATH environment variable to: /home/andrea/anaconda3/lib/python3.9/site-packages/xpress/license/community-xpauth.xpr\n",
      "NB: setting XPAUTH_PATH will also affect any other Xpress products installed on your system.\n"
     ]
    }
   ],
   "source": [
    "import numpy as np\n",
    "import matplotlib.pyplot as plt\n",
    "import pandas as pd\n",
    "from scipy.spatial import distance_matrix\n",
    "import random\n",
    "import math\n",
    "import xpress  as xp"
   ],
   "metadata": {
    "collapsed": false,
    "pycharm": {
     "name": "#%%\n"
    }
   }
  },
  {
   "cell_type": "code",
   "execution_count": 2,
   "outputs": [],
   "source": [
    "# input\n",
    "L = 2\n",
    "\n",
    "custom_setup = True\n",
    "if custom_setup:\n",
    "    C = 8\n",
    "else:\n",
    "    C = 10 # change this input for other runs\n",
    "\n",
    "map_size = 100\n",
    "ratio_locker_customers = 0.3\n",
    "ratio_prime_door_to_door_customer = 0.4"
   ],
   "metadata": {
    "collapsed": false,
    "pycharm": {
     "name": "#%%\n"
    }
   }
  },
  {
   "cell_type": "code",
   "execution_count": 3,
   "outputs": [],
   "source": [
    "# define the locations of customers and lockers and warehouse\n",
    "if custom_setup:\n",
    "    C_location = 100*np.array([[0.1 ,0.28], [0.2 ,0.4],[0.15 ,0.7], [0.3 ,0.7],[0.8 ,0.6],[0.7 ,0.4],[0.9 ,0.5], [0.4, 0.15]])\n",
    "    W_location = 100*np.array([[0.6 ,0.5]])\n",
    "    L_location = 100*np.array([[0.3 ,0.5],[0.5,0.2]])\n",
    "else:\n",
    "    C_location = np.random.randint(map_size, size=(C, 2))\n",
    "    W_location = np.random.randint(map_size, size=(1, 2))\n",
    "    L_location = np.random.randint(map_size, size=(L, 2))\n",
    "stores_location = np.concatenate((W_location, L_location), axis=0)"
   ],
   "metadata": {
    "collapsed": false,
    "pycharm": {
     "name": "#%%\n"
    }
   }
  },
  {
   "cell_type": "code",
   "execution_count": 4,
   "outputs": [],
   "source": [
    "def euclidean_distance(location_a, location_b):\n",
    "    if len(location_a) != 2 or len(location_b) != 2:\n",
    "        raise Exception(\"the two location need to be a list each of size 2\")\n",
    "    delta_x = location_b[0]-location_a[0]\n",
    "    delta_y = location_b[1]-location_a[1]\n",
    "    return math.sqrt(delta_x*delta_x+delta_y*delta_y)\n",
    "\n",
    "def find_nearest_stores_from_customer(customer_location, stores_location_par):\n",
    "    min_distance = float(\"inf\")\n",
    "    nearest_store_location = []\n",
    "    index = 0\n",
    "    nearest_locker_index = -1\n",
    "    for store_location in stores_location_par:\n",
    "        distance = euclidean_distance(customer_location, store_location)\n",
    "        if distance < min_distance:\n",
    "            min_distance = distance\n",
    "            nearest_store_location = store_location\n",
    "            nearest_locker_index = index\n",
    "        index +=1\n",
    "    return nearest_locker_index, nearest_store_location\n"
   ],
   "metadata": {
    "collapsed": false,
    "pycharm": {
     "name": "#%%\n"
    }
   }
  },
  {
   "cell_type": "code",
   "execution_count": 5,
   "outputs": [],
   "source": [
    "# Customers’ demand and preferences\n",
    "\n",
    "# define all the stores: eg. stores = [W, L0, L1, .... , Lx]\n",
    "warehouse = [\"W\"]\n",
    "lockers = []\n",
    "for l in range(L):\n",
    "    lockers.append(\"L\"+str(l))\n",
    "stores = warehouse+lockers\n",
    "\n",
    "if custom_setup:\n",
    "    C_L = [0, 5, 7]\n",
    "    C_D = [1, 2, 3, 4, 6]\n",
    "    S_k =[1, 2, 6]\n",
    "    a_k = [\"L0\", \"W\", \"L1\"]\n",
    "else:\n",
    "    C_L = []\n",
    "    C_D = []\n",
    "    S_k = []\n",
    "    a_k = []\n",
    "    for client in range(C):\n",
    "        if random.random()  <= ratio_locker_customers :\n",
    "            # locker customer\n",
    "            C_L.append(client)\n",
    "            a_k.append(random.choice(stores))\n",
    "        else:\n",
    "            # door to door customer\n",
    "            C_D.append(client)\n",
    "            if random.random() >= ratio_prime_door_to_door_customer:\n",
    "                S_k.append(client)"
   ],
   "metadata": {
    "collapsed": false,
    "pycharm": {
     "name": "#%%\n"
    }
   }
  },
  {
   "cell_type": "code",
   "execution_count": 6,
   "outputs": [
    {
     "name": "stdout",
     "output_type": "stream",
     "text": [
      "Q:  3\n",
      "W_l:  [4, 4]\n",
      "Q_l:  [3, 3]\n",
      "Q_L:  7\n",
      "sum_W_l:  8\n"
     ]
    }
   ],
   "source": [
    "# Capacities\n",
    "\n",
    "q_c = np.ones(C)\n",
    "q_CD = np.ones(len(C_D)) # TODO take the value of q_c only in the index of a CD customer\n",
    "q_CL = np.ones(len(C_L)) # TODO take the value of q_c only in the index of a CL customer\n",
    "q_SK = np.ones(len(S_k)) # TODO take the value of q_c only in the index of a S_k customer\n",
    "\n",
    "# PF vehicles capacities\n",
    "Q = math.ceil(0.5 * len(C_D))\n",
    "# locker storage (every locker has the same capacity by default)\n",
    "W_l = []\n",
    "for i in range(L):\n",
    "    W_l.append(math.ceil(0.8 * C / L))\n",
    "# LF vehicles capacities (every LF vehicle has the same capacity by default)\n",
    "Q_l = []\n",
    "for i in range(L):\n",
    "    Q_l.append(math.ceil(0.6 * W_l[i]))\n",
    "\n",
    "sum_W_l = 0\n",
    "for i in range(len(W_l)):\n",
    "    sum_W_l += W_l[i]\n",
    "\n",
    "\n",
    "# supply vehicles storage\n",
    "Q_L = math.ceil(0.8 * sum_W_l)\n",
    "\n",
    "print(\"Q: \",Q)\n",
    "print(\"W_l: \",W_l)\n",
    "print(\"Q_l: \",Q_l)\n",
    "print(\"Q_L: \",Q_L)\n",
    "print(\"sum_W_l: \", sum_W_l)\n"
   ],
   "metadata": {
    "collapsed": false,
    "pycharm": {
     "name": "#%%\n"
    }
   }
  },
  {
   "cell_type": "code",
   "execution_count": 7,
   "outputs": [
    {
     "data": {
      "text/plain": "<matplotlib.collections.PathCollection at 0x7fc618b84fa0>"
     },
     "execution_count": 7,
     "metadata": {},
     "output_type": "execute_result"
    },
    {
     "data": {
      "text/plain": "<Figure size 432x288 with 1 Axes>",
      "image/png": "[encoded data removed]"
     },
     "metadata": {
      "needs_background": "light"
     },
     "output_type": "display_data"
    }
   ],
   "source": [
    "CD_location = np.array([[0,0]])\n",
    "CL_location = np.array([[0,0]])\n",
    "S_k_location = np.array([[0,0]])\n",
    "for i in range(C):\n",
    "    if i in  C_D:\n",
    "        CD_location=np.vstack([CD_location, C_location[i]])\n",
    "    else:\n",
    "        CL_location = np.vstack([CL_location, C_location[i]])\n",
    "for i in range(C):\n",
    "    if i in S_k:\n",
    "        S_k_location=np.vstack([S_k_location,C_location[i]])\n",
    "\n",
    "S_k_location=np.delete(S_k_location,0,0)\n",
    "CD_location = np.delete(CD_location, 0, 0)\n",
    "CL_location = np.delete(CL_location, 0, 0)\n",
    "\n",
    "#define indexes for the subset S_k\n",
    "S_k_indexes = []\n",
    "for s in range(len(S_k_location)):\n",
    "    S_k_indexes.append(\"Sk\"+str(s))\n",
    "\n",
    "\n",
    "#define all customers\n",
    "Customers = []\n",
    "Customers_door = []\n",
    "Customers_locker = []\n",
    "for c in range(len(C_D)):\n",
    "    Customers_door.append(\"Cd\"+str(c))\n",
    "for c in range(len(C_L)):\n",
    "    Customers_locker.append(\"Cl\"+str(c))\n",
    "\n",
    "Customers = Customers_door+Customers_locker\n",
    "\n",
    "\n",
    "plt.scatter(CD_location[:,0],CD_location[:,1],color='b')\n",
    "plt.scatter(CL_location[:,0],CL_location[:,1],color='m')\n",
    "plt.scatter(W_location[:,0],W_location[:,1],color='g',marker='D')\n",
    "plt.scatter(L_location[:,0],L_location[:,1],color ='y',marker='s')\n",
    "\n",
    "#piccola nota\n",
    "#come nel paper in verde è la warehouse, in giallo i locker, mentre in blu in customer door to door e in magenta i customer locker"
   ],
   "metadata": {
    "collapsed": false,
    "pycharm": {
     "name": "#%%\n"
    }
   }
  },
  {
   "cell_type": "code",
   "execution_count": 8,
   "outputs": [
    {
     "name": "stdout",
     "output_type": "stream",
     "text": [
      "             W         L0         L1        Cd0        Cd1        Cd2  \\\n",
      "W     0.000000  30.000000  31.622777  41.231056  49.244289  36.055513   \n",
      "L0   30.000000   0.000000  36.055513  14.142136  25.000000  20.000000   \n",
      "L1   31.622777  36.055513   0.000000  36.055513  61.032778  53.851648   \n",
      "Cd0  41.231056  14.142136  36.055513   0.000000  30.413813  31.622777   \n",
      "Cd1  49.244289  25.000000  61.032778  30.413813   0.000000  15.000000   \n",
      "Cd2  36.055513  20.000000  53.851648  31.622777  15.000000   0.000000   \n",
      "Cd3  22.360680  50.990195  50.000000  63.245553  65.764732  50.990195   \n",
      "Cd4  30.000000  60.000000  50.000000  70.710678  77.620873  63.245553   \n",
      "Cl0  54.626001  29.732137  40.792156  15.620499  42.296572  46.518813   \n",
      "Cl1  14.142136  41.231056  28.284271  50.000000  62.649820  50.000000   \n",
      "Cl2  40.311289  36.400549  11.180340  32.015621  60.415230  55.901699   \n",
      "\n",
      "           Cd3        Cd4        Cl0        Cl1        Cl2  \n",
      "W    22.360680  30.000000  54.626001  14.142136  40.311289  \n",
      "L0   50.990195  60.000000  29.732137  41.231056  36.400549  \n",
      "L1   50.000000  50.000000  40.792156  28.284271  11.180340  \n",
      "Cd0  63.245553  70.710678  15.620499  50.000000  32.015621  \n",
      "Cd1  65.764732  77.620873  42.296572  62.649820  60.415230  \n",
      "Cd2  50.990195  63.245553  46.518813  50.000000  55.901699  \n",
      "Cd3   0.000000  14.142136  76.967526  22.360680  60.207973  \n",
      "Cd4  14.142136   0.000000  82.969874  22.360680  61.032778  \n",
      "Cl0  76.967526  82.969874   0.000000  61.188234  32.695565  \n",
      "Cl1  22.360680  22.360680  61.188234   0.000000  39.051248  \n",
      "Cl2  60.207973  61.032778  32.695565  39.051248   0.000000  \n",
      "                 W             L0             L1            Cd0  \\\n",
      "W    100000.000000      30.000000      31.622777      41.231056   \n",
      "L0       30.000000  100000.000000      36.055513      14.142136   \n",
      "L1       31.622777      36.055513  100000.000000      36.055513   \n",
      "Cd0      41.231056      14.142136      36.055513  100000.000000   \n",
      "Cd1      49.244289      25.000000      61.032778      30.413813   \n",
      "Cd2      36.055513      20.000000      53.851648      31.622777   \n",
      "Cd3      22.360680      50.990195      50.000000      63.245553   \n",
      "Cd4      30.000000      60.000000      50.000000      70.710678   \n",
      "Cl0      54.626001      29.732137      40.792156      15.620499   \n",
      "Cl1      14.142136      41.231056      28.284271      50.000000   \n",
      "Cl2      40.311289      36.400549      11.180340      32.015621   \n",
      "\n",
      "               Cd1            Cd2            Cd3            Cd4  \\\n",
      "W        49.244289      36.055513      22.360680      30.000000   \n",
      "L0       25.000000      20.000000      50.990195      60.000000   \n",
      "L1       61.032778      53.851648      50.000000      50.000000   \n",
      "Cd0      30.413813      31.622777      63.245553      70.710678   \n",
      "Cd1  100000.000000      15.000000      65.764732      77.620873   \n",
      "Cd2      15.000000  100000.000000      50.990195      63.245553   \n",
      "Cd3      65.764732      50.990195  100000.000000      14.142136   \n",
      "Cd4      77.620873      63.245553      14.142136  100000.000000   \n",
      "Cl0      42.296572      46.518813      76.967526      82.969874   \n",
      "Cl1      62.649820      50.000000      22.360680      22.360680   \n",
      "Cl2      60.415230      55.901699      60.207973      61.032778   \n",
      "\n",
      "               Cl0            Cl1            Cl2  \n",
      "W        54.626001      14.142136      40.311289  \n",
      "L0       29.732137      41.231056      36.400549  \n",
      "L1       40.792156      28.284271      11.180340  \n",
      "Cd0      15.620499      50.000000      32.015621  \n",
      "Cd1      42.296572      62.649820      60.415230  \n",
      "Cd2      46.518813      50.000000      55.901699  \n",
      "Cd3      76.967526      22.360680      60.207973  \n",
      "Cd4      82.969874      22.360680      61.032778  \n",
      "Cl0  100000.000000      61.188234      32.695565  \n",
      "Cl1      61.188234  100000.000000      39.051248  \n",
      "Cl2      32.695565      39.051248  100000.000000  \n"
     ]
    }
   ],
   "source": [
    "#calcolo la matrice delle distanze:\n",
    "all_locations = np.array([])\n",
    "all_locations = np.append(all_locations,W_location)\n",
    "all_locations = np.vstack([all_locations,L_location])\n",
    "all_locations = np.vstack([all_locations,CD_location])\n",
    "all_locations = np.vstack([all_locations,CL_location])\n",
    "\n",
    "all_buildings = stores + Customers\n",
    "\n",
    "df = pd.DataFrame(all_locations, columns=['xcord', 'ycord'], index=all_buildings)\n",
    "dist_matrix = pd.DataFrame(distance_matrix(df.values, df.values), index=df.index, columns=df.index)\n",
    "matrix_distance_converted_in_numpy =dist_matrix.to_numpy()\n",
    "print(dist_matrix)\n",
    "\n",
    "for i in range(len(dist_matrix)):\n",
    "    dist_matrix.values[i][i]=100000\n",
    "print(dist_matrix)\n"
   ],
   "metadata": {
    "collapsed": false,
    "pycharm": {
     "name": "#%%\n"
    }
   }
  },
  {
   "cell_type": "code",
   "execution_count": 9,
   "outputs": [
    {
     "name": "stdout",
     "output_type": "stream",
     "text": [
      "                W             L0             L1\n",
      "W   100000.000000      30.000000      31.622777\n",
      "L0      30.000000  100000.000000      36.055513\n",
      "L1      31.622777      36.055513  100000.000000\n",
      "                 W            Cd0            Cd1            Cd2  \\\n",
      "W    100000.000000      41.231056      49.244289      36.055513   \n",
      "Cd0      41.231056  100000.000000      30.413813      31.622777   \n",
      "Cd1      49.244289      30.413813  100000.000000      15.000000   \n",
      "Cd2      36.055513      31.622777      15.000000  100000.000000   \n",
      "Cd3      22.360680      63.245553      65.764732      50.990195   \n",
      "Cd4      30.000000      70.710678      77.620873      63.245553   \n",
      "\n",
      "               Cd3            Cd4  \n",
      "W        22.360680      30.000000  \n",
      "Cd0      63.245553      70.710678  \n",
      "Cd1      65.764732      77.620873  \n",
      "Cd2      50.990195      63.245553  \n",
      "Cd3  100000.000000      14.142136  \n",
      "Cd4      14.142136  100000.000000  \n",
      "                L0             L1            Cd0            Cd1  \\\n",
      "L0   100000.000000      36.055513      14.142136      25.000000   \n",
      "L1       36.055513  100000.000000      36.055513      61.032778   \n",
      "Cd0      14.142136      36.055513  100000.000000      30.413813   \n",
      "Cd1      25.000000      61.032778      30.413813  100000.000000   \n",
      "Cd2      20.000000      53.851648      31.622777      15.000000   \n",
      "Cd3      50.990195      50.000000      63.245553      65.764732   \n",
      "Cd4      60.000000      50.000000      70.710678      77.620873   \n",
      "\n",
      "               Cd2            Cd3            Cd4  \n",
      "L0       20.000000      50.990195      60.000000  \n",
      "L1       53.851648      50.000000      50.000000  \n",
      "Cd0      31.622777      63.245553      70.710678  \n",
      "Cd1      15.000000      65.764732      77.620873  \n",
      "Cd2  100000.000000      50.990195      63.245553  \n",
      "Cd3      50.990195  100000.000000      14.142136  \n",
      "Cd4      63.245553      14.142136  100000.000000  \n"
     ]
    }
   ],
   "source": [
    "#filter data\n",
    "supply_distances_matrix = dist_matrix.filter(items=stores, axis=1)\n",
    "supply_distances_matrix = supply_distances_matrix.filter(items=stores, axis=0)\n",
    "print(supply_distances_matrix)\n",
    "\n",
    "PF_distances_matrix = dist_matrix.filter(items=['W'] + Customers_door, axis=1)\n",
    "PF_distances_matrix = PF_distances_matrix.filter(items=['W'] + Customers_door, axis=0)\n",
    "print(PF_distances_matrix)\n",
    "\n",
    "LF_distances_matrix = dist_matrix.filter(items=lockers+Customers_door, axis=1)\n",
    "LF_distances_matrix = LF_distances_matrix.filter(items=lockers + Customers_door, axis=0)\n",
    "print(LF_distances_matrix)"
   ],
   "metadata": {
    "collapsed": false,
    "pycharm": {
     "name": "#%%\n"
    }
   }
  },
  {
   "cell_type": "code",
   "execution_count": 10,
   "outputs": [
    {
     "name": "stdout",
     "output_type": "stream",
     "text": [
      "               W            L0            L1\n",
      "W   75000.000000     22.500000     23.717082\n",
      "L0     22.500000  75000.000000     27.041635\n",
      "L1     23.717082     27.041635  75000.000000\n",
      "                 W            Cd0            Cd1            Cd2  \\\n",
      "W    100000.000000      41.231056      49.244289      36.055513   \n",
      "Cd0      41.231056  100000.000000      30.413813      31.622777   \n",
      "Cd1      49.244289      30.413813  100000.000000      15.000000   \n",
      "Cd2      36.055513      31.622777      15.000000  100000.000000   \n",
      "Cd3      22.360680      63.245553      65.764732      50.990195   \n",
      "Cd4      30.000000      70.710678      77.620873      63.245553   \n",
      "\n",
      "               Cd3            Cd4  \n",
      "W        22.360680      30.000000  \n",
      "Cd0      63.245553      70.710678  \n",
      "Cd1      65.764732      77.620873  \n",
      "Cd2      50.990195      63.245553  \n",
      "Cd3  100000.000000      14.142136  \n",
      "Cd4      14.142136  100000.000000  \n",
      "               L0            L1           Cd0           Cd1           Cd2  \\\n",
      "L0   85000.000000     30.647186     12.020815     21.250000     17.000000   \n",
      "L1      30.647186  85000.000000     30.647186     51.877861     45.773901   \n",
      "Cd0     12.020815     30.647186  85000.000000     25.851741     26.879360   \n",
      "Cd1     21.250000     51.877861     25.851741  85000.000000     12.750000   \n",
      "Cd2     17.000000     45.773901     26.879360     12.750000  85000.000000   \n",
      "Cd3     43.341666     42.500000     53.758720     55.900022     43.341666   \n",
      "Cd4     51.000000     42.500000     60.104076     65.977742     53.758720   \n",
      "\n",
      "              Cd3           Cd4  \n",
      "L0      43.341666     51.000000  \n",
      "L1      42.500000     42.500000  \n",
      "Cd0     53.758720     60.104076  \n",
      "Cd1     55.900022     65.977742  \n",
      "Cd2     43.341666     53.758720  \n",
      "Cd3  85000.000000     12.020815  \n",
      "Cd4     12.020815  85000.000000  \n"
     ]
    }
   ],
   "source": [
    "# Delivery Cost\n",
    "pi = 1\n",
    "pi_l = 0.85\n",
    "pi_L = 0.75\n",
    "\n",
    "PF_delivery_cost = pi*PF_distances_matrix\n",
    "LF_delivery_cost = pi_l*LF_distances_matrix\n",
    "supply_cost = pi_L*supply_distances_matrix\n",
    "print(supply_cost)\n",
    "print(PF_delivery_cost)\n",
    "print(LF_delivery_cost)"
   ],
   "metadata": {
    "collapsed": false,
    "pycharm": {
     "name": "#%%\n"
    }
   }
  },
  {
   "cell_type": "code",
   "execution_count": 11,
   "outputs": [
    {
     "name": "stdout",
     "output_type": "stream",
     "text": [
      "               L0           Cd0           Cd1           Cd2           Cd3  \\\n",
      "L0   85000.000000     12.020815     21.250000     17.000000     43.341666   \n",
      "Cd0     12.020815  85000.000000     25.851741     26.879360     53.758720   \n",
      "Cd1     21.250000     25.851741  85000.000000     12.750000     55.900022   \n",
      "Cd2     17.000000     26.879360     12.750000  85000.000000     43.341666   \n",
      "Cd3     43.341666     53.758720     55.900022     43.341666  85000.000000   \n",
      "Cd4     51.000000     60.104076     65.977742     53.758720     12.020815   \n",
      "\n",
      "              Cd4  \n",
      "L0      51.000000  \n",
      "Cd0     60.104076  \n",
      "Cd1     65.977742  \n",
      "Cd2     53.758720  \n",
      "Cd3     12.020815  \n",
      "Cd4  85000.000000  \n",
      "               L1           Cd0           Cd1           Cd2           Cd3  \\\n",
      "L1   85000.000000     30.647186     51.877861     45.773901     42.500000   \n",
      "Cd0     30.647186  85000.000000     25.851741     26.879360     53.758720   \n",
      "Cd1     51.877861     25.851741  85000.000000     12.750000     55.900022   \n",
      "Cd2     45.773901     26.879360     12.750000  85000.000000     43.341666   \n",
      "Cd3     42.500000     53.758720     55.900022     43.341666  85000.000000   \n",
      "Cd4     42.500000     60.104076     65.977742     53.758720     12.020815   \n",
      "\n",
      "              Cd4  \n",
      "L1      42.500000  \n",
      "Cd0     60.104076  \n",
      "Cd1     65.977742  \n",
      "Cd2     53.758720  \n",
      "Cd3     12.020815  \n",
      "Cd4  85000.000000  \n"
     ]
    }
   ],
   "source": [
    "LF_delivery_cost_multidim = np.zeros((L,len(C_D)+1,len(C_D)+1))\n",
    "\n",
    "for i in range(L):\n",
    "    l = [0]\n",
    "    l[0]=lockers[i]\n",
    "    ls = LF_delivery_cost.filter(items=l+Customers_door,axis=1)\n",
    "    ls = ls.filter(items=l+Customers_door,axis=0)\n",
    "    print(ls)\n",
    "    lt = ls.to_numpy()\n",
    "    for j in range(1+len(C_D)):\n",
    "        for k in range(1+len(C_D)):\n",
    "            LF_delivery_cost_multidim[i][j][k]=lt[j][k]\n",
    "\n"
   ],
   "metadata": {
    "collapsed": false,
    "pycharm": {
     "name": "#%%\n"
    }
   }
  },
  {
   "cell_type": "code",
   "execution_count": 12,
   "outputs": [
    {
     "name": "stdout",
     "output_type": "stream",
     "text": [
      "             W         L0         L1        Sk0        Sk1        Sk2\n",
      "W     0.000000  30.000000  31.622777  41.231056  49.244289  30.000000\n",
      "L0   30.000000   0.000000  36.055513  14.142136  25.000000  60.000000\n",
      "L1   31.622777  36.055513   0.000000  36.055513  61.032778  50.000000\n",
      "Sk0  41.231056  14.142136  36.055513   0.000000  30.413813  70.710678\n",
      "Sk1  49.244289  25.000000  61.032778  30.413813   0.000000  77.620873\n",
      "Sk2  30.000000  60.000000  50.000000  70.710678  77.620873   0.000000\n",
      "          Cl0        Cl1        Cl2\n",
      "W   54.626001  14.142136  40.311289\n",
      "L0  29.732137  41.231056  36.400549\n",
      "L1  40.792156  28.284271  11.180340\n",
      "Cl0    L0\n",
      "Cl1     W\n",
      "Cl2    L1\n",
      "dtype: object\n",
      "['L0', 'W', 'L1']\n",
      "          Sk0        Sk1   Sk2\n",
      "L0  14.142136  25.000000  60.0\n",
      "W   41.231056  49.244289  30.0\n",
      "L1  36.055513  61.032778  50.0\n",
      "          Sk0        Sk1   Sk2\n",
      "L0   7.071068  12.500000  30.0\n",
      "W   20.615528  24.622145  15.0\n",
      "L1  18.027756  30.516389  25.0\n",
      "[[ 7.07106781 12.5        30.        ]\n",
      " [20.61552813 24.6221445  15.        ]\n",
      " [18.02775638 30.51638904 25.        ]]\n"
     ]
    }
   ],
   "source": [
    "#compensation\n",
    "compensation_locations = np.array([])\n",
    "compensation_locations = np.append(compensation_locations,W_location)\n",
    "compensation_locations = np.vstack([compensation_locations,L_location])\n",
    "compensation_locations = np.vstack([compensation_locations,S_k_location])\n",
    "\n",
    "df_compensation = pd.DataFrame(compensation_locations, columns=['xcord', 'ycord'], index=stores+S_k_indexes)\n",
    "compensation_matrix= pd.DataFrame(distance_matrix(df_compensation.values, df_compensation.values), index=df_compensation.index, columns=df_compensation.index)\n",
    "\n",
    "print(compensation_matrix)\n",
    "\n",
    "\n",
    "distance_matrix_customer_locker_store = dist_matrix.filter(items=Customers_locker,axis=1)\n",
    "distance_matrix_customer_locker_store = distance_matrix_customer_locker_store.filter(items=stores,axis=0)\n",
    "print(distance_matrix_customer_locker_store)\n",
    "\n",
    "\n",
    "closest_store_to_CL = distance_matrix_customer_locker_store.idxmin()\n",
    "print(closest_store_to_CL)\n",
    "\n",
    "index_close_locker = []\n",
    "for i in range(len(closest_store_to_CL)):\n",
    "    index_close_locker.append(closest_store_to_CL[i])\n",
    "print(index_close_locker)\n",
    "\n",
    "\n",
    "# TODO matrix layout to reformat\n",
    "d_ak_c = compensation_matrix.filter(items = S_k_indexes,axis=1)\n",
    "d_ak_c=d_ak_c.filter(items=index_close_locker,axis=0)\n",
    "print(d_ak_c)\n",
    "\n",
    "ro = 0.5\n",
    "compensation_matrix_cost = ro*d_ak_c\n",
    "print(compensation_matrix_cost)\n",
    "compensation_matrix_cost_multidim = compensation_matrix_cost.to_numpy()\n",
    "print(compensation_matrix_cost_multidim)\n"
   ],
   "metadata": {
    "collapsed": false,
    "pycharm": {
     "name": "#%%\n"
    }
   }
  },
  {
   "cell_type": "code",
   "execution_count": 24,
   "outputs": [],
   "source": [
    "# Xpress formulation\n",
    "single_period_problem = xp.problem()"
   ],
   "metadata": {
    "collapsed": false,
    "pycharm": {
     "name": "#%%\n"
    }
   }
  },
  {
   "cell_type": "code",
   "execution_count": 25,
   "outputs": [],
   "source": [
    "# var definition\n",
    "I_PF = 1 + len(C_D)\n",
    "J_PF = 1 + len(C_D)\n",
    "x_i_j = np.array([[xp.var(name=\"x_\"+str(i)+\"_\"+str(j), vartype=xp.binary) for i in range(I_PF)]for j in range(J_PF)], dtype=xp.npvar)\n",
    "y_i_j = np.array([[xp.var(name=\"y_\"+str(i)+\"_\"+str(j), vartype=xp.integer, lb=0) for i in range(I_PF)]for j in range(J_PF)], dtype=xp.npvar)\n",
    "\n",
    "I_L = 1 + L\n",
    "J_L = 1 + L\n",
    "x_i_j_L = np.array([[xp.var(name=\"x_L_\"+str(i)+\"_\"+str(j), vartype=xp.binary) for i in range(I_L)]for j in range(J_L)], dtype=xp.npvar)\n",
    "y_i_j_L = np.array([[xp.var(name=\"y_L_\"+str(i)+\"_\"+str(j), vartype=xp.integer, lb=0) for i in range(I_L)]for j in range(J_L)], dtype=xp.npvar)\n",
    "\n",
    "I_LF = 1 + len(C_D)\n",
    "J_LF = 1 + len(C_D)\n",
    "x_l_i_j = np.array([[[xp.var(name=\"x_l\"+str(l)+\"_\"+str(i)+\"_\"+str(j), vartype=xp.binary) for i in range(I_LF)]for j in range(J_LF)] for l in range(L)], dtype=xp.npvar)\n",
    "y_l_i_j = np.array([[[xp.var(name=\"y_l\"+str(l)+\"_\"+str(i)+\"_\"+str(j), vartype=xp.integer, lb=0) for i in range(I_LF)]for j in range(J_LF)] for l in range(L)], dtype=xp.npvar)\n",
    "\n",
    "z_c = np.array([xp.var(name=\"z_c\"+str(c), vartype=xp.binary) for c in range(len(C_D))], dtype=xp.npvar)\n",
    "z_c_l = np.array([[xp.var(name=\"z_c\"+str(c)+\"_l\"+str(l), vartype=xp.binary) for c in range(len(C_D))]for l in range(L)], dtype=xp.npvar)\n",
    "z_l_L = np.array([[xp.var(name=\"z_l_L_\"+str(l), vartype=xp.binary) for l in range(L)]], dtype=xp.npvar)\n",
    "\n",
    "w_c_k = np.array([[xp.var(name=\"w_c\"+str(c)+\"_k\"+str(k), vartype=xp.binary) for c in range(len(S_k))]for k in range(len(C_L))], dtype=xp.npvar)\n",
    "\n",
    "# add var to the problem\n",
    "single_period_problem.addVariable(x_i_j)\n",
    "single_period_problem.addVariable(x_i_j_L)\n",
    "single_period_problem.addVariable(x_l_i_j)\n",
    "\n",
    "single_period_problem.addVariable(y_i_j)\n",
    "single_period_problem.addVariable(y_i_j_L)\n",
    "single_period_problem.addVariable(y_l_i_j)\n",
    "\n",
    "single_period_problem.addVariable(z_c)\n",
    "single_period_problem.addVariable(z_c_l)\n",
    "single_period_problem.addVariable(z_l_L)\n",
    "\n",
    "single_period_problem.addVariable(w_c_k)\n"
   ],
   "metadata": {
    "collapsed": false,
    "pycharm": {
     "name": "#%%\n"
    }
   }
  },
  {
   "cell_type": "code",
   "execution_count": 26,
   "outputs": [
    {
     "name": "stdout",
     "output_type": "stream",
     "text": [
      "220\n"
     ]
    }
   ],
   "source": [
    "# define constraints Customers’ service\n",
    "\n",
    "# constraint eq. 2\n",
    "for c in range(len(C_D)):\n",
    "    single_period_problem.addConstraint( z_c[c] + xp.Sum(w_c_k[s][k] for s in range(len(S_k)) for k in range(len(C_L))) + xp.Sum(z_c_l[l][c] for l in range(L)) == 1)\n",
    "\n",
    "# constraint eq. 3\n",
    "for c_l in range(len(C_L)):\n",
    "    single_period_problem.addConstraint( xp.Sum(w_c_k[c_l][s_k] for s_k in range(len(S_k))) <= 1)\n",
    "\n",
    "\n",
    "# constraint eq. 4\n",
    "for l in range(L):\n",
    "    single_period_problem.addConstraint(\n",
    "        xp.Sum(q_CL[cl] + xp.Sum(q_SK[sk]*w_c_k[cl][sk] for sk in range(len(S_k))) for cl in range(len(C_L)))\n",
    "        + xp.Sum(q_CD[cd]*z_c_l[l][cd] for cd in range(len(C_D)))\n",
    "        <= W_l[l] * z_l_L[0][l]\n",
    "    )\n",
    "\n",
    "# Professional fleet constraint\n",
    "\n",
    "# constraint eq. 5.1 A == C\n",
    "for i in range(len(C_D)):\n",
    "    single_period_problem.addConstraint(\n",
    "        xp.Sum( x_i_j[i+1][j] for j in range(len(C_D)+1))\n",
    "        == z_c[i]\n",
    "    )\n",
    "\n",
    "\n",
    "# constraint eq. 5.2 B == C\n",
    "for i in range(len(C_D)):\n",
    "    single_period_problem.addConstraint(\n",
    "        xp.Sum( x_i_j[j][i+1] for j in range(len(C_D)+1))\n",
    "        == z_c[i]\n",
    "    )\n",
    "\n",
    "# constraint eq. 5.3 A == B\n",
    "for i in range(len(C_D)):\n",
    "    single_period_problem.addConstraint(\n",
    "        xp.Sum( x_i_j[i+1][j] for j in range(len(C_D)+1))\n",
    "        ==\n",
    "        xp.Sum( x_i_j[j][i+1] for j in range(len(C_D)+1))\n",
    "    )\n",
    "\n",
    "\n",
    "# constraint eq. 6\n",
    "single_period_problem.addConstraint(\n",
    "    xp.Sum( x_i_j[0][j+1] for j in range(len(C_D)))\n",
    "    - xp.Sum( x_i_j[j+1][0] for j in range(len(C_D)))\n",
    "    == 0\n",
    ")\n",
    "\n",
    "# constraint eq. 7\n",
    "for i in range(len(C_D)):\n",
    "    single_period_problem.addConstraint(\n",
    "        xp.Sum( y_i_j[j][i+1] for j in range(1+len(C_D)))\n",
    "        - xp.Sum( y_i_j[i+1][j] for j in range(1+len(C_D)))\n",
    "        == q_CD[i]*z_c[i]\n",
    "    )\n",
    "\n",
    "# constraint eq. 8\n",
    "single_period_problem.addConstraint(\n",
    "    xp.Sum( y_i_j[j+1][0] for j in range(len(C_D)))\n",
    "    - xp.Sum( y_i_j[0][j+1] for j in range(len(C_D)))\n",
    "    == - xp.Sum( q_CD[i]*z_c[i] for i in range(len(C_D)))\n",
    ")\n",
    "\n",
    "# constraint eq. 9\n",
    "for i in range(1 + len(C_D)):\n",
    "    for j in range(1 + len(C_D)):\n",
    "        single_period_problem.addConstraint(\n",
    "            y_i_j[i][j]\n",
    "            <= Q * x_i_j[i][j]\n",
    "        )\n",
    "\n",
    "# constraint eq. 10\n",
    "for i in range(len(C_D)):\n",
    "    single_period_problem.addConstraint(\n",
    "        y_i_j[i+1][0]\n",
    "        == 0\n",
    "    )\n",
    "\n",
    "# Supply routes constraints\n",
    "\n",
    "# constraint eq. 11.1 A == C\n",
    "for i in range(L):\n",
    "    single_period_problem.addConstraint(\n",
    "        xp.Sum( x_i_j_L[i+1][j] for j in range(1 + L))\n",
    "        == z_l_L[0][i]\n",
    "    )\n",
    "\n",
    "# constraint eq. 11.2 B == C\n",
    "for i in range(L):\n",
    "    single_period_problem.addConstraint(\n",
    "        xp.Sum( x_i_j_L[j][i+1] for j in range(1 + L))\n",
    "        == z_l_L[0][i]\n",
    "    )\n",
    "\n",
    "# constraint eq. 11.3 A == B\n",
    "for i in range(L):\n",
    "    single_period_problem.addConstraint(\n",
    "        xp.Sum( x_i_j_L[i+1][j] for j in range(1 + L))\n",
    "        ==\n",
    "        xp.Sum( x_i_j_L[j][i+1] for j in range(1 + L))\n",
    "    )\n",
    "\n",
    "# constraint eq. 12\n",
    "single_period_problem.addConstraint(\n",
    "    xp.Sum( x_i_j_L[0][j+1] for j in range(L))\n",
    "    - xp.Sum( x_i_j_L[j+1][0] for j in range(L))\n",
    "    == 0\n",
    ")\n",
    "\n",
    "# constraint eq. 13\n",
    "for i in range(L):\n",
    "    single_period_problem.addConstraint(\n",
    "        xp.Sum( y_i_j_L[j][i+1] for j in range(1+L))\n",
    "        - xp.Sum( y_i_j_L[i+1][j] for j in range(1+L))\n",
    "        ==\n",
    "        xp.Sum(q_CL[cl] + xp.Sum(q_SK[sk]*w_c_k[cl][sk] for sk in range(len(S_k))) for cl in range(len(C_L)))\n",
    "        + xp.Sum(q_CD[c]*z_c_l[i][c] for c in range(len(C_D)))\n",
    "    )\n",
    "\n",
    "# constraint eq. 14\n",
    "single_period_problem.addConstraint(\n",
    "    xp.Sum( y_i_j_L[j+1][0] for j in range(L))\n",
    "    - xp.Sum( y_i_j_L[0][j+1] for j in range(L))\n",
    "    == - xp.Sum(\n",
    "    xp.Sum(q_CL[cl] + xp.Sum(q_SK[sk]*w_c_k[cl][sk] for sk in range(len(S_k))) for cl in range(len(C_L)))\n",
    "    + xp.Sum(q_CD[c]*z_c_l[i][c] for c in range(len(C_D)))\n",
    "    for i in range(L)\n",
    "    )\n",
    ")\n",
    "\n",
    "# constraint eq. 15\n",
    "for i in range(1 + L):\n",
    "    for j in range(1 + L):\n",
    "        single_period_problem.addConstraint(\n",
    "            y_i_j_L[i][j]\n",
    "            <= Q_L * x_i_j_L[i][j]\n",
    "        )\n",
    "\n",
    "# constraint eq. 16\n",
    "for i in range(L):\n",
    "    single_period_problem.addConstraint(\n",
    "        y_i_j_L[i+1][0]\n",
    "        == 0\n",
    "    )\n",
    "\n",
    "# Local fleet constraints\n",
    "for l in range(L):\n",
    "    # constraint eq. 17.1 A == C\n",
    "    for i in range(len(C_D)):\n",
    "        single_period_problem.addConstraint(\n",
    "            xp.Sum( x_l_i_j[l][i+1][j] for j in range(len(C_D)+1))\n",
    "            == z_c_l[l][i]\n",
    "        )\n",
    "\n",
    "\n",
    "    # constraint eq. 17.2 B == C\n",
    "    for i in range(len(C_D)):\n",
    "        single_period_problem.addConstraint(\n",
    "            xp.Sum( x_l_i_j[l][j][i+1] for j in range(len(C_D)+1))\n",
    "            == z_c_l[l][i]\n",
    "        )\n",
    "\n",
    "    # constraint eq. 17.3 A == B\n",
    "    for i in range(len(C_D)):\n",
    "        single_period_problem.addConstraint(\n",
    "            xp.Sum( x_l_i_j[l][i+1][j] for j in range(len(C_D)+1))\n",
    "            ==\n",
    "            xp.Sum( x_l_i_j[l][j][i+1] for j in range(len(C_D)+1))\n",
    "        )\n",
    "\n",
    "    # constraint eq. 18\n",
    "    single_period_problem.addConstraint(\n",
    "        xp.Sum( x_l_i_j[l][0][j+1] for j in range(len(C_D)))\n",
    "        - xp.Sum( x_l_i_j[l][j+1][0] for j in range(len(C_D)))\n",
    "        == 0\n",
    "    )\n",
    "\n",
    "    # constraint eq. 19\n",
    "    for i in range(len(C_D)):\n",
    "        single_period_problem.addConstraint(\n",
    "            xp.Sum( y_l_i_j[l][j][i+1] for j in range(1+len(C_D)))\n",
    "            - xp.Sum( y_l_i_j[l][i+1][j] for j in range(1+len(C_D)))\n",
    "            == q_CD[i]*z_c_l[l][i]\n",
    "        )\n",
    "\n",
    "    # constraint eq. 20\n",
    "    single_period_problem.addConstraint(\n",
    "        xp.Sum( y_l_i_j[l][j+1][0] for j in range(len(C_D)))\n",
    "        - xp.Sum( y_l_i_j[l][0][j+1] for j in range(len(C_D)))\n",
    "        == - xp.Sum( q_CD[i]*z_c_l[l][i] for i in range(len(C_D)))\n",
    "    )\n",
    "\n",
    "    # constraint eq. 21\n",
    "    for i in range(1 + len(C_D)):\n",
    "        for j in range(1 + len(C_D)):\n",
    "            single_period_problem.addConstraint(\n",
    "                y_l_i_j[l][i][j]\n",
    "                <= Q_l[l] * x_l_i_j[l][i][j]\n",
    "            )\n",
    "\n",
    "    # constraint eq. 22\n",
    "    for i in range(len(C_D)):\n",
    "        single_period_problem.addConstraint(\n",
    "            y_l_i_j[l][i+1][0]\n",
    "            == 0\n",
    "        )\n",
    "\n",
    "print(len(single_period_problem.getConstraint()))\n"
   ],
   "metadata": {
    "collapsed": false,
    "pycharm": {
     "name": "#%%\n"
    }
   }
  },
  {
   "cell_type": "markdown",
   "source": [
    "eq. 13 -> 82 constraints"
   ],
   "metadata": {
    "collapsed": false,
    "pycharm": {
     "name": "#%% md\n"
    }
   }
  },
  {
   "cell_type": "code",
   "execution_count": 27,
   "outputs": [
    {
     "name": "stdout",
     "output_type": "stream",
     "text": [
      "          Sk0        Sk1   Sk2\n",
      "L0   7.071068  12.500000  30.0\n",
      "W   20.615528  24.622145  15.0\n",
      "L1  18.027756  30.516389  25.0\n"
     ]
    }
   ],
   "source": [
    "print(compensation_matrix_cost)\n"
   ],
   "metadata": {
    "collapsed": false,
    "pycharm": {
     "name": "#%%\n"
    }
   }
  },
  {
   "cell_type": "code",
   "execution_count": 28,
   "outputs": [],
   "source": [
    "single_period_problem.setObjective(\n",
    "    xp.Sum( xp.Sum(supply_cost.values[i][j]*x_i_j_L[i][j]   for j in range(1+L) )  for i in range(1+L))+\n",
    "    xp.Sum( xp.Sum(compensation_matrix_cost_multidim[k][c] *w_c_k[c][k]  for c in range(len(S_k)))for k in range(len(C_L)))+\n",
    "    xp.Sum( xp.Sum(PF_delivery_cost.values[i][j]*x_i_j[i][j] for j in range(1+len(C_D) ) )for i in range(1+len(C_D))) +\n",
    "    xp.Sum( xp.Sum(xp.Sum(LF_delivery_cost_multidim[l][i][j]*x_l_i_j[l][i][j] for j in range(1+len(C_D)))for i in range(1+len(C_D)))for l in range(L))\n",
    "    ,sense=xp.minimize\n",
    "    )   #sense=minimise is the default value"
   ],
   "metadata": {
    "collapsed": false,
    "pycharm": {
     "name": "#%%\n"
    }
   }
  },
  {
   "cell_type": "code",
   "execution_count": 29,
   "outputs": [
    {
     "name": "stdout",
     "output_type": "stream",
     "text": [
      "FICO Xpress v8.13.5, Community, solve started 11:01:19, Jun 7, 2022\n",
      "Heap usage: 439KB (peak 459KB, 530KB system)\n",
      "Minimizing MILP noname using up to 4 threads, with these control settings:\n",
      "OUTPUTLOG = 1\n",
      "Original problem has:\n",
      "       220 rows          260 cols         1037 elements       260 globals\n",
      "Presolved problem has:\n",
      "        40 rows           62 cols          261 elements        62 globals\n",
      "LP relaxation tightened\n",
      "Presolve finished in 0 seconds\n",
      "Heap usage: 524KB (peak 704KB, 530KB system)\n",
      "\n",
      "Coefficient range                    original                 solved        \n",
      "  Coefficients   [min,max] : [ 1.00e+00,  7.00e+00] / [ 1.25e-01,  1.75e+00]\n",
      "  RHS and bounds [min,max] : [ 1.00e+00,  6.00e+00] / [ 1.00e+00,  7.00e+00]\n",
      "  Objective      [min,max] : [ 7.07e+00,  1.00e+05] / [ 3.46e-01,  1.84e+02]\n",
      "Autoscaling applied standard scaling\n",
      "\n",
      "Will try to keep branch and bound tree memory usage below 5.8GB\n",
      " *** Solution found:    99.505233   Time:   0    Heuristic: e ***\n",
      "Starting concurrent solve with dual (1 thread)\n",
      "\n",
      " Concurrent-Solve,   0s\n",
      "            Dual        \n",
      "    objective   dual inf\n",
      " D  83.069135   .0000000\n",
      "------- optimal --------\n",
      "Concurrent statistics:\n",
      "      Dual: 11 simplex iterations, 0.00s\n",
      "Optimal solution found\n",
      " \n",
      "   Its         Obj Value      S   Ninf  Nneg   Sum Dual Inf  Time\n",
      "    11         83.069135      D      0     0        .000000     0\n",
      "Dual solved problem\n",
      "  11 simplex iterations in 0.00 seconds at time 0\n",
      "\n",
      "Final objective                       : 8.306913452700582e+01\n",
      "  Max primal violation      (abs/rel) :       0.0 /       0.0\n",
      "  Max dual violation        (abs/rel) :       0.0 /       0.0\n",
      "  Max complementarity viol. (abs/rel) :       0.0 /       0.0\n",
      "\n",
      "Starting root cutting & heuristics\n",
      " \n",
      " Its Type    BestSoln    BestBound   Sols    Add    Del     Gap     GInf   Time\n",
      " *** Search completed ***\n",
      "Uncrunching matrix\n",
      "Final MIP objective                   : 9.950523271439113e+01\n",
      "Final MIP bound                       : 9.950522271439112e+01\n",
      "  Solution time / primaldual integral :         0s/ 100.000000%\n",
      "  Number of solutions found / nodes   :         1 /         1\n",
      "  Max primal violation      (abs/rel) :       0.0 /       0.0\n",
      "  Max integer violation     (abs    ) :       0.0\n",
      "\n",
      "\n",
      " Solution:\n",
      " [[-0.  0.  0.  0.  0.  0.]\n",
      " [-0. -0.  0. -0. -0. -0.]\n",
      " [-0.  0. -0.  0. -0. -0.]\n",
      " [-0.  0.  0. -0. -0. -0.]\n",
      " [-0.  0.  0.  0. -0.  0.]\n",
      " [-0.  0.  0.  0.  0. -0.]] \n",
      "\n",
      "\n",
      "\n",
      " Solution:\n",
      " [[-0.  1.  1.]\n",
      " [ 1. -0.  0.]\n",
      " [ 1.  0. -0.]] \n",
      "\n",
      "\n",
      "\n",
      " Solution:\n",
      " [[[-0.  0.  0.  0.  0.  0.]\n",
      "  [ 0. -0. -0. -0. -0. -0.]\n",
      "  [ 0. -0. -0. -0. -0. -0.]\n",
      "  [ 0. -0. -0. -0. -0. -0.]\n",
      "  [ 0. -0. -0. -0. -0. -0.]\n",
      "  [ 0. -0. -0. -0. -0. -0.]]\n",
      "\n",
      " [[-0.  0.  0.  0.  0.  0.]\n",
      "  [ 0. -0. -0. -0. -0. -0.]\n",
      "  [ 0. -0. -0. -0. -0. -0.]\n",
      "  [ 0. -0. -0. -0. -0. -0.]\n",
      "  [ 0. -0. -0. -0. -0. -0.]\n",
      "  [ 0. -0. -0. -0. -0. -0.]]] \n",
      "\n",
      "\n",
      "\n",
      " Solution:\n",
      " [[ 1. -0. -0.]\n",
      " [-0. -0. -0.]\n",
      " [-0. -0. -0.]] \n",
      "\n"
     ]
    }
   ],
   "source": [
    "single_period_problem.solve()\n",
    "\n",
    "x_i_j_sol = single_period_problem.getSolution(x_i_j)\n",
    "print(\"\\n\\n Solution:\\n\",x_i_j_sol, \"\\n\")\n",
    "x_i_j_L_sol = single_period_problem.getSolution(x_i_j_L)\n",
    "print(\"\\n\\n Solution:\\n\",x_i_j_L_sol, \"\\n\")\n",
    "x_l_i_j_sol = single_period_problem.getSolution(x_l_i_j)\n",
    "print(\"\\n\\n Solution:\\n\",x_l_i_j_sol, \"\\n\")\n",
    "w_c_k_sol = single_period_problem.getSolution(w_c_k)\n",
    "print(\"\\n\\n Solution:\\n\",w_c_k_sol, \"\\n\")"
   ],
   "metadata": {
    "collapsed": false,
    "pycharm": {
     "name": "#%%\n"
    }
   }
  },
  {
   "cell_type": "code",
   "execution_count": 30,
   "outputs": [
    {
     "name": "stdout",
     "output_type": "stream",
     "text": [
      "Objective val:  99.50523271439113\n",
      "[0. 0. 0. 0. 0.]\n",
      "[[-0. -0. -0. -0. -0.]\n",
      " [-0. -0. -0. -0. -0.]]\n",
      "[[1. 1.]]\n"
     ]
    }
   ],
   "source": [
    "print(\"Objective val: \",single_period_problem.getObjVal())\n",
    "print(single_period_problem.getSolution(z_c))\n",
    "print(single_period_problem.getSolution(z_c_l))\n",
    "print(single_period_problem.getSolution(z_l_L))\n"
   ],
   "metadata": {
    "collapsed": false,
    "pycharm": {
     "name": "#%%\n"
    }
   }
  }
 ],
 "metadata": {
  "kernelspec": {
   "display_name": "Python 3",
   "language": "python",
   "name": "python3"
  },
  "language_info": {
   "codemirror_mode": {
    "name": "ipython",
    "version": 2
   },
   "file_extension": ".py",
   "mimetype": "text/x-python",
   "name": "python",
   "nbconvert_exporter": "python",
   "pygments_lexer": "ipython2",
   "version": "2.7.6"
  }
 },
 "nbformat": 4,
 "nbformat_minor": 0
}