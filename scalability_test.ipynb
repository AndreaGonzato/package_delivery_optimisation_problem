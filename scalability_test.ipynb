{
 "cells": [
  {
   "cell_type": "code",
   "execution_count": 1,
   "metadata": {
    "collapsed": true,
    "pycharm": {
     "name": "#%%\n"
    }
   },
   "outputs": [],
   "source": [
    "from executor import *"
   ]
  },
  {
   "cell_type": "code",
   "execution_count": 2,
   "outputs": [
    {
     "name": "stdout",
     "output_type": "stream",
     "text": [
      "C:  10  L:  2\n",
      "Restricted license - for non-production use only - expires 2023-10-25\n",
      "status:  2 runtime:  0.049044132232666016 obj_val:  263.2799417781875\n",
      "C:  15  L:  3\n",
      "status:  2 runtime:  0.4239778518676758 obj_val:  371.4637819809859\n",
      "C:  20  L:  4\n"
     ]
    },
    {
     "ename": "GurobiError",
     "evalue": "Model too large for size-limited license; visit https://www.gurobi.com/free-trial for a full license",
     "output_type": "error",
     "traceback": [
      "\u001B[0;31m---------------------------------------------------------------------------\u001B[0m",
      "\u001B[0;31mGurobiError\u001B[0m                               Traceback (most recent call last)",
      "\u001B[0;32m/tmp/ipykernel_237151/3909193638.py\u001B[0m in \u001B[0;36m<module>\u001B[0;34m\u001B[0m\n\u001B[1;32m      3\u001B[0m     \u001B[0mL\u001B[0m \u001B[0;34m=\u001B[0m \u001B[0mcomplexity\u001B[0m \u001B[0;34m//\u001B[0m \u001B[0;36m5\u001B[0m\u001B[0;34m\u001B[0m\u001B[0;34m\u001B[0m\u001B[0m\n\u001B[1;32m      4\u001B[0m     \u001B[0mprint\u001B[0m\u001B[0;34m(\u001B[0m\u001B[0;34m\"C: \"\u001B[0m\u001B[0;34m,\u001B[0m\u001B[0mC\u001B[0m\u001B[0;34m,\u001B[0m \u001B[0;34m\" L: \"\u001B[0m\u001B[0;34m,\u001B[0m \u001B[0mL\u001B[0m\u001B[0;34m)\u001B[0m\u001B[0;34m\u001B[0m\u001B[0;34m\u001B[0m\u001B[0m\n\u001B[0;32m----> 5\u001B[0;31m     \u001B[0mstatus\u001B[0m\u001B[0;34m,\u001B[0m \u001B[0mruntime\u001B[0m\u001B[0;34m,\u001B[0m \u001B[0mobj_val\u001B[0m \u001B[0;34m=\u001B[0m \u001B[0mrun_experiment_gurobi\u001B[0m\u001B[0;34m(\u001B[0m\u001B[0mC\u001B[0m\u001B[0;34m,\u001B[0m \u001B[0mL\u001B[0m\u001B[0;34m,\u001B[0m \u001B[0mcustom_setup\u001B[0m\u001B[0;34m=\u001B[0m\u001B[0;32mFalse\u001B[0m\u001B[0;34m)\u001B[0m\u001B[0;34m\u001B[0m\u001B[0;34m\u001B[0m\u001B[0m\n\u001B[0m\u001B[1;32m      6\u001B[0m     \u001B[0mprint\u001B[0m\u001B[0;34m(\u001B[0m\u001B[0;34m\"status: \"\u001B[0m\u001B[0;34m,\u001B[0m\u001B[0mstatus\u001B[0m\u001B[0;34m,\u001B[0m \u001B[0;34m\"runtime: \"\u001B[0m\u001B[0;34m,\u001B[0m \u001B[0mruntime\u001B[0m\u001B[0;34m,\u001B[0m \u001B[0;34m\"obj_val: \"\u001B[0m\u001B[0;34m,\u001B[0m \u001B[0mobj_val\u001B[0m\u001B[0;34m)\u001B[0m\u001B[0;34m\u001B[0m\u001B[0;34m\u001B[0m\u001B[0m\n",
      "\u001B[0;32m~/code/python/DataSpell/package_delivery_optimisation_problem/executor.py\u001B[0m in \u001B[0;36mrun_experiment_gurobi\u001B[0;34m(C, L, custom_setup)\u001B[0m\n\u001B[1;32m    550\u001B[0m     )\n\u001B[1;32m    551\u001B[0m \u001B[0;34m\u001B[0m\u001B[0m\n\u001B[0;32m--> 552\u001B[0;31m     \u001B[0msingle_period_problem\u001B[0m\u001B[0;34m.\u001B[0m\u001B[0moptimize\u001B[0m\u001B[0;34m(\u001B[0m\u001B[0;34m)\u001B[0m \u001B[0;31m#equivalent to solve() for xpress\u001B[0m\u001B[0;34m\u001B[0m\u001B[0;34m\u001B[0m\u001B[0m\n\u001B[0m\u001B[1;32m    553\u001B[0m \u001B[0;34m\u001B[0m\u001B[0m\n\u001B[1;32m    554\u001B[0m     \u001B[0;32mreturn\u001B[0m \u001B[0msingle_period_problem\u001B[0m\u001B[0;34m.\u001B[0m\u001B[0mstatus\u001B[0m\u001B[0;34m,\u001B[0m \u001B[0msingle_period_problem\u001B[0m\u001B[0;34m.\u001B[0m\u001B[0mRuntime\u001B[0m\u001B[0;34m,\u001B[0m \u001B[0msingle_period_problem\u001B[0m\u001B[0;34m.\u001B[0m\u001B[0mObjVal\u001B[0m\u001B[0;34m\u001B[0m\u001B[0;34m\u001B[0m\u001B[0m\n",
      "\u001B[0;32msrc/gurobipy/model.pxi\u001B[0m in \u001B[0;36mgurobipy.Model.optimize\u001B[0;34m()\u001B[0m\n",
      "\u001B[0;31mGurobiError\u001B[0m: Model too large for size-limited license; visit https://www.gurobi.com/free-trial for a full license"
     ]
    }
   ],
   "source": [
    "for complexity in range(10, 21, 5):\n",
    "    C = complexity\n",
    "    L = complexity // 5\n",
    "    print(\"C: \",C, \" L: \", L)\n",
    "    status, runtime, obj_val = run_experiment_gurobi(C, L, custom_setup=False)\n",
    "    print(\"status: \",status, \"runtime: \", runtime, \"obj_val: \", obj_val)"
   ],
   "metadata": {
    "collapsed": false,
    "pycharm": {
     "name": "#%%\n"
    }
   }
  },
  {
   "cell_type": "markdown",
   "source": [
    "for from complexity = 10 to max 106 step with 10:\n",
    "    C = complexity\n",
    "    L = complexity / [15, 20]\n",
    "    run_experiment(C, L)\n",
    "\n",
    "\n",
    "input:\n",
    "C\n",
    "L\n",
    "custom_setup\n",
    "\n",
    "output:\n",
    "resolving_time\n",
    "solution_status = {feasible, infeasible}"
   ],
   "metadata": {
    "collapsed": false,
    "pycharm": {
     "name": "#%% md\n"
    }
   }
  }
 ],
 "metadata": {
  "kernelspec": {
   "display_name": "Python 3",
   "language": "python",
   "name": "python3"
  },
  "language_info": {
   "codemirror_mode": {
    "name": "ipython",
    "version": 2
   },
   "file_extension": ".py",
   "mimetype": "text/x-python",
   "name": "python",
   "nbconvert_exporter": "python",
   "pygments_lexer": "ipython2",
   "version": "2.7.6"
  }
 },
 "nbformat": 4,
 "nbformat_minor": 0
}